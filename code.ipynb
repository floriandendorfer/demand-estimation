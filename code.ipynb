{
  "nbformat": 4,
  "nbformat_minor": 0,
  "metadata": {
    "colab": {
      "provenance": [],
      "authorship_tag": "ABX9TyOf88dJDf26RvEEqnDmIkio",
      "include_colab_link": true
    },
    "kernelspec": {
      "name": "python3",
      "display_name": "Python 3"
    },
    "language_info": {
      "name": "python"
    }
  },
  "cells": [
    {
      "cell_type": "markdown",
      "metadata": {
        "id": "view-in-github",
        "colab_type": "text"
      },
      "source": [
        "<a href=\"https://colab.research.google.com/github/floriandendorfer/demand-estimation/blob/main/code.ipynb\" target=\"_parent\"><img src=\"https://colab.research.google.com/assets/colab-badge.svg\" alt=\"Open In Colab\"/></a>"
      ]
    },
    {
      "cell_type": "markdown",
      "source": [
        "## 1. PACKAGES"
      ],
      "metadata": {
        "id": "msfD80wBuAIe"
      }
    },
    {
      "cell_type": "code",
      "source": [
        "import numpy as np\n",
        "import pandas as pd\n",
        "import statsmodels.api as sm\n",
        "from statsmodels.sandbox.regression.gmm import IV2SLS\n",
        "import matplotlib.pyplot as plt\n",
        "from scipy import optimize\n",
        "import seaborn as sns\n",
        "from scipy.stats import norm"
      ],
      "metadata": {
        "id": "sXZtEQTSuBrD"
      },
      "execution_count": 1,
      "outputs": []
    },
    {
      "cell_type": "markdown",
      "source": [
        "\n",
        "\n",
        "---\n",
        "\n"
      ],
      "metadata": {
        "id": "F8UFDVgEyldC"
      }
    },
    {
      "cell_type": "markdown",
      "source": [
        "## 2. DATA"
      ],
      "metadata": {
        "id": "K734R5kpuLxd"
      }
    },
    {
      "cell_type": "code",
      "source": [
        "#!rm -rf demand-estimation\n",
        "!git clone https://github.com/floriandendorfer/demand-estimation.git\n",
        "data = pd.read_csv('demand-estimation/data1.csv',index_col=0)"
      ],
      "metadata": {
        "id": "svYXcpZSDiRe",
        "outputId": "a3f7cc8a-948c-4847-9233-438a93203b1a",
        "colab": {
          "base_uri": "https://localhost:8080/"
        }
      },
      "execution_count": 2,
      "outputs": [
        {
          "output_type": "stream",
          "name": "stdout",
          "text": [
            "Cloning into 'demand-estimation'...\n",
            "remote: Enumerating objects: 138, done.\u001b[K\n",
            "remote: Counting objects: 100% (25/25), done.\u001b[K\n",
            "remote: Compressing objects: 100% (9/9), done.\u001b[K\n",
            "remote: Total 138 (delta 19), reused 16 (delta 16), pack-reused 113 (from 1)\u001b[K\n",
            "Receiving objects: 100% (138/138), 60.41 MiB | 6.65 MiB/s, done.\n",
            "Resolving deltas: 100% (50/50), done.\n",
            "Updating files: 100% (7/7), done.\n"
          ]
        }
      ]
    },
    {
      "cell_type": "markdown",
      "source": [
        "\n",
        "\n",
        "---\n",
        "\n"
      ],
      "metadata": {
        "id": "083Gc7JTypQD"
      }
    },
    {
      "cell_type": "markdown",
      "source": [
        "## 3. FIRST LOOK AT THE DATA"
      ],
      "metadata": {
        "id": "EWBp3DYBp9fL"
      }
    },
    {
      "cell_type": "markdown",
      "source": [
        "### 3.1 VARIABLES"
      ],
      "metadata": {
        "id": "QflbNmqaYf0A"
      }
    },
    {
      "cell_type": "code",
      "source": [
        "print(data.columns)"
      ],
      "metadata": {
        "id": "Fq0TQKv1uey_",
        "colab": {
          "base_uri": "https://localhost:8080/"
        },
        "outputId": "80db8fed-3ec3-4b28-c9aa-3bd940958e7e"
      },
      "execution_count": 3,
      "outputs": [
        {
          "output_type": "stream",
          "name": "stdout",
          "text": [
            "Index(['county', 'Häagen-Dazs', 'price', 'fuel cost', 'sales', 'county size'], dtype='object')\n"
          ]
        }
      ]
    },
    {
      "cell_type": "markdown",
      "source": [
        "Each row contains sales information for an ice cream brand (i.e., Häagen-Dazs, Ben \\& Jerry's) and a geographic market (i.e., a county).\n",
        "\n",
        "*   `county` is the geopgrahpic market identifier ($t$ in the slides).\n",
        "*   `Häagen-Dazs` is 1 if the ice cream brand is Häagen-Dazs and 0 if the ice cream brand is Ben \\& Jerry's.\n",
        "*   `price` is the dollar price an ice cream serving of that brand is sold at.\n",
        "*   `fuel cost` is the dollar cost of transporting an ice cream serving.\n",
        "*   `sales` is the number of ice cream servings of that brand sold per week.\n",
        "*   `county size` is the number of *total* ice cream servings sold per week.\n"
      ],
      "metadata": {
        "id": "jChVzz3iqGsj"
      }
    },
    {
      "cell_type": "markdown",
      "source": [
        "### 3.2 DATA DESCRIPTION"
      ],
      "metadata": {
        "id": "fHfY_KtvjSHv"
      }
    },
    {
      "cell_type": "markdown",
      "source": [
        "Let's have a brief look at the data."
      ],
      "metadata": {
        "id": "6K9orgN5zBRH"
      }
    },
    {
      "cell_type": "code",
      "source": [
        "print(data.head(20))"
      ],
      "metadata": {
        "id": "PxEr4vNtzBjA",
        "colab": {
          "base_uri": "https://localhost:8080/"
        },
        "outputId": "e214ec7f-0449-4a25-e028-6f9bed92301f"
      },
      "execution_count": 4,
      "outputs": [
        {
          "output_type": "stream",
          "name": "stdout",
          "text": [
            "    county  Häagen-Dazs     price  fuel cost  sales  county size\n",
            "0        1            0  2.549066   0.432124     35          219\n",
            "1        1            1  2.070158   0.265596     14          219\n",
            "2        2            0  2.342645   0.255663     15          113\n",
            "3        2            1  2.255875   0.441644      5          113\n",
            "4        3            0  2.933863   0.634391     17          182\n",
            "5        3            1  2.417164   0.435701     11          182\n",
            "6        4            0  3.014971   0.928417      7          124\n",
            "7        4            1  2.438474   0.481903     11          124\n",
            "8        5            0  3.034538   0.433755     14          240\n",
            "9        5            1  2.538901   0.525668     17          240\n",
            "10       6            0  3.046907   0.999508      6          102\n",
            "11       6            1  2.157727   0.130153     11          102\n",
            "12       7            0  2.537953   0.676806     16          176\n",
            "13       7            1  2.097775   0.240460      4          176\n",
            "14       8            0  3.267357   1.022963     10          101\n",
            "15       8            1  2.475619   0.444197      4          101\n",
            "16       9            0  3.020327   0.472230      6          103\n",
            "17       9            1  2.709092   0.480667      4          103\n",
            "18      10            0  3.016464   0.874276     20          300\n",
            "19      10            1  1.787571   0.026437     16          300\n"
          ]
        }
      ]
    },
    {
      "cell_type": "markdown",
      "source": [
        "Pick your favorite county."
      ],
      "metadata": {
        "id": "b5qHdXxnfy_P"
      }
    },
    {
      "cell_type": "code",
      "source": [
        "t = 10"
      ],
      "metadata": {
        "id": "r7HXJKF-f3F6"
      },
      "execution_count": 5,
      "outputs": []
    },
    {
      "cell_type": "code",
      "source": [
        "print('In total,',data['county size'][t],'ice cream servings are sold in county',data['county'][t],'. As',data['sales'][t],' of them were ',np.where(data['Häagen-Dazs'][t] == 0, \"Ben & Jerry's\",\"Häagen-Dazs\"),\" ice cream, that brand's market share in this county is \",(100*data['sales'][t]/data['county size'][t]).round(2),'%. The price of a serving of', np.where(data['Häagen-Dazs'][t] == 0, \"Ben & Jerry's\",\"Häagen-Dazs\"),'ice cream in this county is $',data['price'][t].round(2),'.')"
      ],
      "metadata": {
        "id": "ShhmwBXYd4pn",
        "colab": {
          "base_uri": "https://localhost:8080/"
        },
        "outputId": "4419d657-fce8-419a-e6e0-761eb109b1bc"
      },
      "execution_count": 6,
      "outputs": [
        {
          "output_type": "stream",
          "name": "stdout",
          "text": [
            "In total, 102 ice cream servings are sold in county 6 . As 6  of them were  Ben & Jerry's  ice cream, that brand's market share in this county is  5.88 %. The price of a serving of Ben & Jerry's ice cream in this county is $ 3.05 .\n"
          ]
        }
      ]
    },
    {
      "cell_type": "code",
      "source": [
        "data.describe()"
      ],
      "metadata": {
        "id": "anqr1Qijs2Zt",
        "colab": {
          "base_uri": "https://localhost:8080/",
          "height": 338
        },
        "outputId": "88bed259-0ff1-4c84-d8ad-4986ee8c0424"
      },
      "execution_count": 7,
      "outputs": [
        {
          "output_type": "execute_result",
          "data": {
            "text/plain": [
              "           county  Häagen-Dazs       price   fuel cost       sales  \\\n",
              "count  400.000000   400.000000  400.000000  400.000000  400.000000   \n",
              "mean   100.500000     0.500000    2.476886    0.449150   15.897500   \n",
              "std     57.806609     0.500626    0.380067    0.237135   10.318827   \n",
              "min      1.000000     0.000000    1.566390   -0.206198    1.000000   \n",
              "25%     50.750000     0.000000    2.175106    0.276338    8.000000   \n",
              "50%    100.500000     0.500000    2.470965    0.445653   14.000000   \n",
              "75%    150.250000     1.000000    2.775499    0.618561   21.000000   \n",
              "max    200.000000     1.000000    3.374167    1.123239   58.000000   \n",
              "\n",
              "       county size  \n",
              "count   400.000000  \n",
              "mean    200.150000  \n",
              "std      59.676299  \n",
              "min     100.000000  \n",
              "25%     152.750000  \n",
              "50%     195.500000  \n",
              "75%     254.250000  \n",
              "max     300.000000  "
            ],
            "text/html": [
              "\n",
              "  <div id=\"df-e0274aa3-3071-4f20-8dbe-11312a518cfe\" class=\"colab-df-container\">\n",
              "    <div>\n",
              "<style scoped>\n",
              "    .dataframe tbody tr th:only-of-type {\n",
              "        vertical-align: middle;\n",
              "    }\n",
              "\n",
              "    .dataframe tbody tr th {\n",
              "        vertical-align: top;\n",
              "    }\n",
              "\n",
              "    .dataframe thead th {\n",
              "        text-align: right;\n",
              "    }\n",
              "</style>\n",
              "<table border=\"1\" class=\"dataframe\">\n",
              "  <thead>\n",
              "    <tr style=\"text-align: right;\">\n",
              "      <th></th>\n",
              "      <th>county</th>\n",
              "      <th>Häagen-Dazs</th>\n",
              "      <th>price</th>\n",
              "      <th>fuel cost</th>\n",
              "      <th>sales</th>\n",
              "      <th>county size</th>\n",
              "    </tr>\n",
              "  </thead>\n",
              "  <tbody>\n",
              "    <tr>\n",
              "      <th>count</th>\n",
              "      <td>400.000000</td>\n",
              "      <td>400.000000</td>\n",
              "      <td>400.000000</td>\n",
              "      <td>400.000000</td>\n",
              "      <td>400.000000</td>\n",
              "      <td>400.000000</td>\n",
              "    </tr>\n",
              "    <tr>\n",
              "      <th>mean</th>\n",
              "      <td>100.500000</td>\n",
              "      <td>0.500000</td>\n",
              "      <td>2.476886</td>\n",
              "      <td>0.449150</td>\n",
              "      <td>15.897500</td>\n",
              "      <td>200.150000</td>\n",
              "    </tr>\n",
              "    <tr>\n",
              "      <th>std</th>\n",
              "      <td>57.806609</td>\n",
              "      <td>0.500626</td>\n",
              "      <td>0.380067</td>\n",
              "      <td>0.237135</td>\n",
              "      <td>10.318827</td>\n",
              "      <td>59.676299</td>\n",
              "    </tr>\n",
              "    <tr>\n",
              "      <th>min</th>\n",
              "      <td>1.000000</td>\n",
              "      <td>0.000000</td>\n",
              "      <td>1.566390</td>\n",
              "      <td>-0.206198</td>\n",
              "      <td>1.000000</td>\n",
              "      <td>100.000000</td>\n",
              "    </tr>\n",
              "    <tr>\n",
              "      <th>25%</th>\n",
              "      <td>50.750000</td>\n",
              "      <td>0.000000</td>\n",
              "      <td>2.175106</td>\n",
              "      <td>0.276338</td>\n",
              "      <td>8.000000</td>\n",
              "      <td>152.750000</td>\n",
              "    </tr>\n",
              "    <tr>\n",
              "      <th>50%</th>\n",
              "      <td>100.500000</td>\n",
              "      <td>0.500000</td>\n",
              "      <td>2.470965</td>\n",
              "      <td>0.445653</td>\n",
              "      <td>14.000000</td>\n",
              "      <td>195.500000</td>\n",
              "    </tr>\n",
              "    <tr>\n",
              "      <th>75%</th>\n",
              "      <td>150.250000</td>\n",
              "      <td>1.000000</td>\n",
              "      <td>2.775499</td>\n",
              "      <td>0.618561</td>\n",
              "      <td>21.000000</td>\n",
              "      <td>254.250000</td>\n",
              "    </tr>\n",
              "    <tr>\n",
              "      <th>max</th>\n",
              "      <td>200.000000</td>\n",
              "      <td>1.000000</td>\n",
              "      <td>3.374167</td>\n",
              "      <td>1.123239</td>\n",
              "      <td>58.000000</td>\n",
              "      <td>300.000000</td>\n",
              "    </tr>\n",
              "  </tbody>\n",
              "</table>\n",
              "</div>\n",
              "    <div class=\"colab-df-buttons\">\n",
              "\n",
              "  <div class=\"colab-df-container\">\n",
              "    <button class=\"colab-df-convert\" onclick=\"convertToInteractive('df-e0274aa3-3071-4f20-8dbe-11312a518cfe')\"\n",
              "            title=\"Convert this dataframe to an interactive table.\"\n",
              "            style=\"display:none;\">\n",
              "\n",
              "  <svg xmlns=\"http://www.w3.org/2000/svg\" height=\"24px\" viewBox=\"0 -960 960 960\">\n",
              "    <path d=\"M120-120v-720h720v720H120Zm60-500h600v-160H180v160Zm220 220h160v-160H400v160Zm0 220h160v-160H400v160ZM180-400h160v-160H180v160Zm440 0h160v-160H620v160ZM180-180h160v-160H180v160Zm440 0h160v-160H620v160Z\"/>\n",
              "  </svg>\n",
              "    </button>\n",
              "\n",
              "  <style>\n",
              "    .colab-df-container {\n",
              "      display:flex;\n",
              "      gap: 12px;\n",
              "    }\n",
              "\n",
              "    .colab-df-convert {\n",
              "      background-color: #E8F0FE;\n",
              "      border: none;\n",
              "      border-radius: 50%;\n",
              "      cursor: pointer;\n",
              "      display: none;\n",
              "      fill: #1967D2;\n",
              "      height: 32px;\n",
              "      padding: 0 0 0 0;\n",
              "      width: 32px;\n",
              "    }\n",
              "\n",
              "    .colab-df-convert:hover {\n",
              "      background-color: #E2EBFA;\n",
              "      box-shadow: 0px 1px 2px rgba(60, 64, 67, 0.3), 0px 1px 3px 1px rgba(60, 64, 67, 0.15);\n",
              "      fill: #174EA6;\n",
              "    }\n",
              "\n",
              "    .colab-df-buttons div {\n",
              "      margin-bottom: 4px;\n",
              "    }\n",
              "\n",
              "    [theme=dark] .colab-df-convert {\n",
              "      background-color: #3B4455;\n",
              "      fill: #D2E3FC;\n",
              "    }\n",
              "\n",
              "    [theme=dark] .colab-df-convert:hover {\n",
              "      background-color: #434B5C;\n",
              "      box-shadow: 0px 1px 3px 1px rgba(0, 0, 0, 0.15);\n",
              "      filter: drop-shadow(0px 1px 2px rgba(0, 0, 0, 0.3));\n",
              "      fill: #FFFFFF;\n",
              "    }\n",
              "  </style>\n",
              "\n",
              "    <script>\n",
              "      const buttonEl =\n",
              "        document.querySelector('#df-e0274aa3-3071-4f20-8dbe-11312a518cfe button.colab-df-convert');\n",
              "      buttonEl.style.display =\n",
              "        google.colab.kernel.accessAllowed ? 'block' : 'none';\n",
              "\n",
              "      async function convertToInteractive(key) {\n",
              "        const element = document.querySelector('#df-e0274aa3-3071-4f20-8dbe-11312a518cfe');\n",
              "        const dataTable =\n",
              "          await google.colab.kernel.invokeFunction('convertToInteractive',\n",
              "                                                    [key], {});\n",
              "        if (!dataTable) return;\n",
              "\n",
              "        const docLinkHtml = 'Like what you see? Visit the ' +\n",
              "          '<a target=\"_blank\" href=https://colab.research.google.com/notebooks/data_table.ipynb>data table notebook</a>'\n",
              "          + ' to learn more about interactive tables.';\n",
              "        element.innerHTML = '';\n",
              "        dataTable['output_type'] = 'display_data';\n",
              "        await google.colab.output.renderOutput(dataTable, element);\n",
              "        const docLink = document.createElement('div');\n",
              "        docLink.innerHTML = docLinkHtml;\n",
              "        element.appendChild(docLink);\n",
              "      }\n",
              "    </script>\n",
              "  </div>\n",
              "\n",
              "\n",
              "<div id=\"df-d2bdf784-07a1-4a93-aa7e-70ed1651bd6a\">\n",
              "  <button class=\"colab-df-quickchart\" onclick=\"quickchart('df-d2bdf784-07a1-4a93-aa7e-70ed1651bd6a')\"\n",
              "            title=\"Suggest charts\"\n",
              "            style=\"display:none;\">\n",
              "\n",
              "<svg xmlns=\"http://www.w3.org/2000/svg\" height=\"24px\"viewBox=\"0 0 24 24\"\n",
              "     width=\"24px\">\n",
              "    <g>\n",
              "        <path d=\"M19 3H5c-1.1 0-2 .9-2 2v14c0 1.1.9 2 2 2h14c1.1 0 2-.9 2-2V5c0-1.1-.9-2-2-2zM9 17H7v-7h2v7zm4 0h-2V7h2v10zm4 0h-2v-4h2v4z\"/>\n",
              "    </g>\n",
              "</svg>\n",
              "  </button>\n",
              "\n",
              "<style>\n",
              "  .colab-df-quickchart {\n",
              "      --bg-color: #E8F0FE;\n",
              "      --fill-color: #1967D2;\n",
              "      --hover-bg-color: #E2EBFA;\n",
              "      --hover-fill-color: #174EA6;\n",
              "      --disabled-fill-color: #AAA;\n",
              "      --disabled-bg-color: #DDD;\n",
              "  }\n",
              "\n",
              "  [theme=dark] .colab-df-quickchart {\n",
              "      --bg-color: #3B4455;\n",
              "      --fill-color: #D2E3FC;\n",
              "      --hover-bg-color: #434B5C;\n",
              "      --hover-fill-color: #FFFFFF;\n",
              "      --disabled-bg-color: #3B4455;\n",
              "      --disabled-fill-color: #666;\n",
              "  }\n",
              "\n",
              "  .colab-df-quickchart {\n",
              "    background-color: var(--bg-color);\n",
              "    border: none;\n",
              "    border-radius: 50%;\n",
              "    cursor: pointer;\n",
              "    display: none;\n",
              "    fill: var(--fill-color);\n",
              "    height: 32px;\n",
              "    padding: 0;\n",
              "    width: 32px;\n",
              "  }\n",
              "\n",
              "  .colab-df-quickchart:hover {\n",
              "    background-color: var(--hover-bg-color);\n",
              "    box-shadow: 0 1px 2px rgba(60, 64, 67, 0.3), 0 1px 3px 1px rgba(60, 64, 67, 0.15);\n",
              "    fill: var(--button-hover-fill-color);\n",
              "  }\n",
              "\n",
              "  .colab-df-quickchart-complete:disabled,\n",
              "  .colab-df-quickchart-complete:disabled:hover {\n",
              "    background-color: var(--disabled-bg-color);\n",
              "    fill: var(--disabled-fill-color);\n",
              "    box-shadow: none;\n",
              "  }\n",
              "\n",
              "  .colab-df-spinner {\n",
              "    border: 2px solid var(--fill-color);\n",
              "    border-color: transparent;\n",
              "    border-bottom-color: var(--fill-color);\n",
              "    animation:\n",
              "      spin 1s steps(1) infinite;\n",
              "  }\n",
              "\n",
              "  @keyframes spin {\n",
              "    0% {\n",
              "      border-color: transparent;\n",
              "      border-bottom-color: var(--fill-color);\n",
              "      border-left-color: var(--fill-color);\n",
              "    }\n",
              "    20% {\n",
              "      border-color: transparent;\n",
              "      border-left-color: var(--fill-color);\n",
              "      border-top-color: var(--fill-color);\n",
              "    }\n",
              "    30% {\n",
              "      border-color: transparent;\n",
              "      border-left-color: var(--fill-color);\n",
              "      border-top-color: var(--fill-color);\n",
              "      border-right-color: var(--fill-color);\n",
              "    }\n",
              "    40% {\n",
              "      border-color: transparent;\n",
              "      border-right-color: var(--fill-color);\n",
              "      border-top-color: var(--fill-color);\n",
              "    }\n",
              "    60% {\n",
              "      border-color: transparent;\n",
              "      border-right-color: var(--fill-color);\n",
              "    }\n",
              "    80% {\n",
              "      border-color: transparent;\n",
              "      border-right-color: var(--fill-color);\n",
              "      border-bottom-color: var(--fill-color);\n",
              "    }\n",
              "    90% {\n",
              "      border-color: transparent;\n",
              "      border-bottom-color: var(--fill-color);\n",
              "    }\n",
              "  }\n",
              "</style>\n",
              "\n",
              "  <script>\n",
              "    async function quickchart(key) {\n",
              "      const quickchartButtonEl =\n",
              "        document.querySelector('#' + key + ' button');\n",
              "      quickchartButtonEl.disabled = true;  // To prevent multiple clicks.\n",
              "      quickchartButtonEl.classList.add('colab-df-spinner');\n",
              "      try {\n",
              "        const charts = await google.colab.kernel.invokeFunction(\n",
              "            'suggestCharts', [key], {});\n",
              "      } catch (error) {\n",
              "        console.error('Error during call to suggestCharts:', error);\n",
              "      }\n",
              "      quickchartButtonEl.classList.remove('colab-df-spinner');\n",
              "      quickchartButtonEl.classList.add('colab-df-quickchart-complete');\n",
              "    }\n",
              "    (() => {\n",
              "      let quickchartButtonEl =\n",
              "        document.querySelector('#df-d2bdf784-07a1-4a93-aa7e-70ed1651bd6a button');\n",
              "      quickchartButtonEl.style.display =\n",
              "        google.colab.kernel.accessAllowed ? 'block' : 'none';\n",
              "    })();\n",
              "  </script>\n",
              "</div>\n",
              "\n",
              "    </div>\n",
              "  </div>\n"
            ],
            "application/vnd.google.colaboratory.intrinsic+json": {
              "type": "dataframe",
              "summary": "{\n  \"name\": \"data\",\n  \"rows\": 8,\n  \"fields\": [\n    {\n      \"column\": \"county\",\n      \"properties\": {\n        \"dtype\": \"number\",\n        \"std\": 124.22899154147338,\n        \"min\": 1.0,\n        \"max\": 400.0,\n        \"num_unique_values\": 7,\n        \"samples\": [\n          400.0,\n          100.5,\n          150.25\n        ],\n        \"semantic_type\": \"\",\n        \"description\": \"\"\n      }\n    },\n    {\n      \"column\": \"H\\u00e4agen-Dazs\",\n      \"properties\": {\n        \"dtype\": \"number\",\n        \"std\": 141.2450536232193,\n        \"min\": 0.0,\n        \"max\": 400.0,\n        \"num_unique_values\": 5,\n        \"samples\": [\n          0.5,\n          1.0,\n          0.5006261743217588\n        ],\n        \"semantic_type\": \"\",\n        \"description\": \"\"\n      }\n    },\n    {\n      \"column\": \"price\",\n      \"properties\": {\n        \"dtype\": \"number\",\n        \"std\": 140.65550494762195,\n        \"min\": 0.38006701701614304,\n        \"max\": 400.0,\n        \"num_unique_values\": 8,\n        \"samples\": [\n          2.4768861501809094,\n          2.4709652682917715,\n          400.0\n        ],\n        \"semantic_type\": \"\",\n        \"description\": \"\"\n      }\n    },\n    {\n      \"column\": \"fuel cost\",\n      \"properties\": {\n        \"dtype\": \"number\",\n        \"std\": 141.27316434861825,\n        \"min\": -0.206198433050136,\n        \"max\": 400.0,\n        \"num_unique_values\": 8,\n        \"samples\": [\n          0.4491501615061141,\n          0.445652720071098,\n          400.0\n        ],\n        \"semantic_type\": \"\",\n        \"description\": \"\"\n      }\n    },\n    {\n      \"column\": \"sales\",\n      \"properties\": {\n        \"dtype\": \"number\",\n        \"std\": 136.04025018404883,\n        \"min\": 1.0,\n        \"max\": 400.0,\n        \"num_unique_values\": 8,\n        \"samples\": [\n          15.8975,\n          14.0,\n          400.0\n        ],\n        \"semantic_type\": \"\",\n        \"description\": \"\"\n      }\n    },\n    {\n      \"column\": \"county size\",\n      \"properties\": {\n        \"dtype\": \"number\",\n        \"std\": 109.8057165084479,\n        \"min\": 59.67629891027995,\n        \"max\": 400.0,\n        \"num_unique_values\": 8,\n        \"samples\": [\n          200.15,\n          195.5,\n          400.0\n        ],\n        \"semantic_type\": \"\",\n        \"description\": \"\"\n      }\n    }\n  ]\n}"
            }
          },
          "metadata": {},
          "execution_count": 7
        }
      ]
    },
    {
      "cell_type": "markdown",
      "source": [
        "\n",
        "1.   How many counties are there?\n",
        "2.   What is the average price per serving?\n",
        "2.   What is the average market size in the sample? What is the largest market size?\n",
        "3.   What is the median number of ice cream servings sold per county for a given brand?\n",
        "\n",
        "\n",
        "\n"
      ],
      "metadata": {
        "id": "DuQ-WY-Vth-n"
      }
    },
    {
      "cell_type": "markdown",
      "source": [
        "## 4. MARKET SHARES"
      ],
      "metadata": {
        "id": "pCUayJEMy8du"
      }
    },
    {
      "cell_type": "markdown",
      "source": [
        "### 4.1 COMPUTING MARKET SHARES"
      ],
      "metadata": {
        "id": "3fT8HqP2jc93"
      }
    },
    {
      "cell_type": "code",
      "source": [
        "data['s'] = data['sales']/data['county size']"
      ],
      "metadata": {
        "id": "rP2oev-ozF37"
      },
      "execution_count": 8,
      "outputs": []
    },
    {
      "cell_type": "markdown",
      "source": [
        "Calculate the market share of each firm (Häagen-Dazs, Ben & Jerry's) in each county based on the number of ice cream units sold.\n"
      ],
      "metadata": {
        "id": "x80C_G25zHhB"
      }
    },
    {
      "cell_type": "markdown",
      "source": [
        "### 4.2 COMPARING MARKET SHARES AND PRICES"
      ],
      "metadata": {
        "id": "_aIa7PcljihN"
      }
    },
    {
      "cell_type": "code",
      "source": [
        "data.groupby('Häagen-Dazs')[['price','s']].describe().loc[:, (slice(None), ['count', 'mean', 'std'])]"
      ],
      "metadata": {
        "id": "-E9-TnDovkq8",
        "colab": {
          "base_uri": "https://localhost:8080/",
          "height": 212
        },
        "outputId": "1715359b-77cf-4f06-b1df-0a78bc6d9655"
      },
      "execution_count": 9,
      "outputs": [
        {
          "output_type": "execute_result",
          "data": {
            "text/plain": [
              "             price                          s                    \n",
              "             count      mean       std  count      mean       std\n",
              "Häagen-Dazs                                                      \n",
              "0            200.0  2.769022  0.245062  200.0  0.103156  0.041946\n",
              "1            200.0  2.184750  0.240890  200.0  0.053775  0.026664"
            ],
            "text/html": [
              "\n",
              "  <div id=\"df-e006ff27-17f7-433f-a4b1-96f5fda7bf20\" class=\"colab-df-container\">\n",
              "    <div>\n",
              "<style scoped>\n",
              "    .dataframe tbody tr th:only-of-type {\n",
              "        vertical-align: middle;\n",
              "    }\n",
              "\n",
              "    .dataframe tbody tr th {\n",
              "        vertical-align: top;\n",
              "    }\n",
              "\n",
              "    .dataframe thead tr th {\n",
              "        text-align: left;\n",
              "    }\n",
              "\n",
              "    .dataframe thead tr:last-of-type th {\n",
              "        text-align: right;\n",
              "    }\n",
              "</style>\n",
              "<table border=\"1\" class=\"dataframe\">\n",
              "  <thead>\n",
              "    <tr>\n",
              "      <th></th>\n",
              "      <th colspan=\"3\" halign=\"left\">price</th>\n",
              "      <th colspan=\"3\" halign=\"left\">s</th>\n",
              "    </tr>\n",
              "    <tr>\n",
              "      <th></th>\n",
              "      <th>count</th>\n",
              "      <th>mean</th>\n",
              "      <th>std</th>\n",
              "      <th>count</th>\n",
              "      <th>mean</th>\n",
              "      <th>std</th>\n",
              "    </tr>\n",
              "    <tr>\n",
              "      <th>Häagen-Dazs</th>\n",
              "      <th></th>\n",
              "      <th></th>\n",
              "      <th></th>\n",
              "      <th></th>\n",
              "      <th></th>\n",
              "      <th></th>\n",
              "    </tr>\n",
              "  </thead>\n",
              "  <tbody>\n",
              "    <tr>\n",
              "      <th>0</th>\n",
              "      <td>200.0</td>\n",
              "      <td>2.769022</td>\n",
              "      <td>0.245062</td>\n",
              "      <td>200.0</td>\n",
              "      <td>0.103156</td>\n",
              "      <td>0.041946</td>\n",
              "    </tr>\n",
              "    <tr>\n",
              "      <th>1</th>\n",
              "      <td>200.0</td>\n",
              "      <td>2.184750</td>\n",
              "      <td>0.240890</td>\n",
              "      <td>200.0</td>\n",
              "      <td>0.053775</td>\n",
              "      <td>0.026664</td>\n",
              "    </tr>\n",
              "  </tbody>\n",
              "</table>\n",
              "</div>\n",
              "    <div class=\"colab-df-buttons\">\n",
              "\n",
              "  <div class=\"colab-df-container\">\n",
              "    <button class=\"colab-df-convert\" onclick=\"convertToInteractive('df-e006ff27-17f7-433f-a4b1-96f5fda7bf20')\"\n",
              "            title=\"Convert this dataframe to an interactive table.\"\n",
              "            style=\"display:none;\">\n",
              "\n",
              "  <svg xmlns=\"http://www.w3.org/2000/svg\" height=\"24px\" viewBox=\"0 -960 960 960\">\n",
              "    <path d=\"M120-120v-720h720v720H120Zm60-500h600v-160H180v160Zm220 220h160v-160H400v160Zm0 220h160v-160H400v160ZM180-400h160v-160H180v160Zm440 0h160v-160H620v160ZM180-180h160v-160H180v160Zm440 0h160v-160H620v160Z\"/>\n",
              "  </svg>\n",
              "    </button>\n",
              "\n",
              "  <style>\n",
              "    .colab-df-container {\n",
              "      display:flex;\n",
              "      gap: 12px;\n",
              "    }\n",
              "\n",
              "    .colab-df-convert {\n",
              "      background-color: #E8F0FE;\n",
              "      border: none;\n",
              "      border-radius: 50%;\n",
              "      cursor: pointer;\n",
              "      display: none;\n",
              "      fill: #1967D2;\n",
              "      height: 32px;\n",
              "      padding: 0 0 0 0;\n",
              "      width: 32px;\n",
              "    }\n",
              "\n",
              "    .colab-df-convert:hover {\n",
              "      background-color: #E2EBFA;\n",
              "      box-shadow: 0px 1px 2px rgba(60, 64, 67, 0.3), 0px 1px 3px 1px rgba(60, 64, 67, 0.15);\n",
              "      fill: #174EA6;\n",
              "    }\n",
              "\n",
              "    .colab-df-buttons div {\n",
              "      margin-bottom: 4px;\n",
              "    }\n",
              "\n",
              "    [theme=dark] .colab-df-convert {\n",
              "      background-color: #3B4455;\n",
              "      fill: #D2E3FC;\n",
              "    }\n",
              "\n",
              "    [theme=dark] .colab-df-convert:hover {\n",
              "      background-color: #434B5C;\n",
              "      box-shadow: 0px 1px 3px 1px rgba(0, 0, 0, 0.15);\n",
              "      filter: drop-shadow(0px 1px 2px rgba(0, 0, 0, 0.3));\n",
              "      fill: #FFFFFF;\n",
              "    }\n",
              "  </style>\n",
              "\n",
              "    <script>\n",
              "      const buttonEl =\n",
              "        document.querySelector('#df-e006ff27-17f7-433f-a4b1-96f5fda7bf20 button.colab-df-convert');\n",
              "      buttonEl.style.display =\n",
              "        google.colab.kernel.accessAllowed ? 'block' : 'none';\n",
              "\n",
              "      async function convertToInteractive(key) {\n",
              "        const element = document.querySelector('#df-e006ff27-17f7-433f-a4b1-96f5fda7bf20');\n",
              "        const dataTable =\n",
              "          await google.colab.kernel.invokeFunction('convertToInteractive',\n",
              "                                                    [key], {});\n",
              "        if (!dataTable) return;\n",
              "\n",
              "        const docLinkHtml = 'Like what you see? Visit the ' +\n",
              "          '<a target=\"_blank\" href=https://colab.research.google.com/notebooks/data_table.ipynb>data table notebook</a>'\n",
              "          + ' to learn more about interactive tables.';\n",
              "        element.innerHTML = '';\n",
              "        dataTable['output_type'] = 'display_data';\n",
              "        await google.colab.output.renderOutput(dataTable, element);\n",
              "        const docLink = document.createElement('div');\n",
              "        docLink.innerHTML = docLinkHtml;\n",
              "        element.appendChild(docLink);\n",
              "      }\n",
              "    </script>\n",
              "  </div>\n",
              "\n",
              "\n",
              "<div id=\"df-f8aec45f-8d53-4784-920d-9fa46fc4368f\">\n",
              "  <button class=\"colab-df-quickchart\" onclick=\"quickchart('df-f8aec45f-8d53-4784-920d-9fa46fc4368f')\"\n",
              "            title=\"Suggest charts\"\n",
              "            style=\"display:none;\">\n",
              "\n",
              "<svg xmlns=\"http://www.w3.org/2000/svg\" height=\"24px\"viewBox=\"0 0 24 24\"\n",
              "     width=\"24px\">\n",
              "    <g>\n",
              "        <path d=\"M19 3H5c-1.1 0-2 .9-2 2v14c0 1.1.9 2 2 2h14c1.1 0 2-.9 2-2V5c0-1.1-.9-2-2-2zM9 17H7v-7h2v7zm4 0h-2V7h2v10zm4 0h-2v-4h2v4z\"/>\n",
              "    </g>\n",
              "</svg>\n",
              "  </button>\n",
              "\n",
              "<style>\n",
              "  .colab-df-quickchart {\n",
              "      --bg-color: #E8F0FE;\n",
              "      --fill-color: #1967D2;\n",
              "      --hover-bg-color: #E2EBFA;\n",
              "      --hover-fill-color: #174EA6;\n",
              "      --disabled-fill-color: #AAA;\n",
              "      --disabled-bg-color: #DDD;\n",
              "  }\n",
              "\n",
              "  [theme=dark] .colab-df-quickchart {\n",
              "      --bg-color: #3B4455;\n",
              "      --fill-color: #D2E3FC;\n",
              "      --hover-bg-color: #434B5C;\n",
              "      --hover-fill-color: #FFFFFF;\n",
              "      --disabled-bg-color: #3B4455;\n",
              "      --disabled-fill-color: #666;\n",
              "  }\n",
              "\n",
              "  .colab-df-quickchart {\n",
              "    background-color: var(--bg-color);\n",
              "    border: none;\n",
              "    border-radius: 50%;\n",
              "    cursor: pointer;\n",
              "    display: none;\n",
              "    fill: var(--fill-color);\n",
              "    height: 32px;\n",
              "    padding: 0;\n",
              "    width: 32px;\n",
              "  }\n",
              "\n",
              "  .colab-df-quickchart:hover {\n",
              "    background-color: var(--hover-bg-color);\n",
              "    box-shadow: 0 1px 2px rgba(60, 64, 67, 0.3), 0 1px 3px 1px rgba(60, 64, 67, 0.15);\n",
              "    fill: var(--button-hover-fill-color);\n",
              "  }\n",
              "\n",
              "  .colab-df-quickchart-complete:disabled,\n",
              "  .colab-df-quickchart-complete:disabled:hover {\n",
              "    background-color: var(--disabled-bg-color);\n",
              "    fill: var(--disabled-fill-color);\n",
              "    box-shadow: none;\n",
              "  }\n",
              "\n",
              "  .colab-df-spinner {\n",
              "    border: 2px solid var(--fill-color);\n",
              "    border-color: transparent;\n",
              "    border-bottom-color: var(--fill-color);\n",
              "    animation:\n",
              "      spin 1s steps(1) infinite;\n",
              "  }\n",
              "\n",
              "  @keyframes spin {\n",
              "    0% {\n",
              "      border-color: transparent;\n",
              "      border-bottom-color: var(--fill-color);\n",
              "      border-left-color: var(--fill-color);\n",
              "    }\n",
              "    20% {\n",
              "      border-color: transparent;\n",
              "      border-left-color: var(--fill-color);\n",
              "      border-top-color: var(--fill-color);\n",
              "    }\n",
              "    30% {\n",
              "      border-color: transparent;\n",
              "      border-left-color: var(--fill-color);\n",
              "      border-top-color: var(--fill-color);\n",
              "      border-right-color: var(--fill-color);\n",
              "    }\n",
              "    40% {\n",
              "      border-color: transparent;\n",
              "      border-right-color: var(--fill-color);\n",
              "      border-top-color: var(--fill-color);\n",
              "    }\n",
              "    60% {\n",
              "      border-color: transparent;\n",
              "      border-right-color: var(--fill-color);\n",
              "    }\n",
              "    80% {\n",
              "      border-color: transparent;\n",
              "      border-right-color: var(--fill-color);\n",
              "      border-bottom-color: var(--fill-color);\n",
              "    }\n",
              "    90% {\n",
              "      border-color: transparent;\n",
              "      border-bottom-color: var(--fill-color);\n",
              "    }\n",
              "  }\n",
              "</style>\n",
              "\n",
              "  <script>\n",
              "    async function quickchart(key) {\n",
              "      const quickchartButtonEl =\n",
              "        document.querySelector('#' + key + ' button');\n",
              "      quickchartButtonEl.disabled = true;  // To prevent multiple clicks.\n",
              "      quickchartButtonEl.classList.add('colab-df-spinner');\n",
              "      try {\n",
              "        const charts = await google.colab.kernel.invokeFunction(\n",
              "            'suggestCharts', [key], {});\n",
              "      } catch (error) {\n",
              "        console.error('Error during call to suggestCharts:', error);\n",
              "      }\n",
              "      quickchartButtonEl.classList.remove('colab-df-spinner');\n",
              "      quickchartButtonEl.classList.add('colab-df-quickchart-complete');\n",
              "    }\n",
              "    (() => {\n",
              "      let quickchartButtonEl =\n",
              "        document.querySelector('#df-f8aec45f-8d53-4784-920d-9fa46fc4368f button');\n",
              "      quickchartButtonEl.style.display =\n",
              "        google.colab.kernel.accessAllowed ? 'block' : 'none';\n",
              "    })();\n",
              "  </script>\n",
              "</div>\n",
              "\n",
              "    </div>\n",
              "  </div>\n"
            ],
            "application/vnd.google.colaboratory.intrinsic+json": {
              "type": "dataframe",
              "summary": "{\n  \"name\": \"data\",\n  \"rows\": 2,\n  \"fields\": [\n    {\n      \"column\": [\n        \"H\\u00e4agen-Dazs\",\n        \"\"\n      ],\n      \"properties\": {\n        \"dtype\": \"number\",\n        \"std\": 0,\n        \"min\": 0,\n        \"max\": 1,\n        \"num_unique_values\": 2,\n        \"samples\": [\n          1,\n          0\n        ],\n        \"semantic_type\": \"\",\n        \"description\": \"\"\n      }\n    },\n    {\n      \"column\": [\n        \"price\",\n        \"count\"\n      ],\n      \"properties\": {\n        \"dtype\": \"number\",\n        \"std\": 0.0,\n        \"min\": 200.0,\n        \"max\": 200.0,\n        \"num_unique_values\": 1,\n        \"samples\": [\n          200.0\n        ],\n        \"semantic_type\": \"\",\n        \"description\": \"\"\n      }\n    },\n    {\n      \"column\": [\n        \"price\",\n        \"mean\"\n      ],\n      \"properties\": {\n        \"dtype\": \"number\",\n        \"std\": 0.41314251652564155,\n        \"min\": 2.1847502751491534,\n        \"max\": 2.7690220252126663,\n        \"num_unique_values\": 2,\n        \"samples\": [\n          2.1847502751491534\n        ],\n        \"semantic_type\": \"\",\n        \"description\": \"\"\n      }\n    },\n    {\n      \"column\": [\n        \"price\",\n        \"std\"\n      ],\n      \"properties\": {\n        \"dtype\": \"number\",\n        \"std\": 0.002949837205193808,\n        \"min\": 0.24089007087848252,\n        \"max\": 0.24506177066086035,\n        \"num_unique_values\": 2,\n        \"samples\": [\n          0.24089007087848252\n        ],\n        \"semantic_type\": \"\",\n        \"description\": \"\"\n      }\n    },\n    {\n      \"column\": [\n        \"s\",\n        \"count\"\n      ],\n      \"properties\": {\n        \"dtype\": \"number\",\n        \"std\": 0.0,\n        \"min\": 200.0,\n        \"max\": 200.0,\n        \"num_unique_values\": 1,\n        \"samples\": [\n          200.0\n        ],\n        \"semantic_type\": \"\",\n        \"description\": \"\"\n      }\n    },\n    {\n      \"column\": [\n        \"s\",\n        \"mean\"\n      ],\n      \"properties\": {\n        \"dtype\": \"number\",\n        \"std\": 0.03491732406306667,\n        \"min\": 0.05377527245157948,\n        \"max\": 0.10315582570334479,\n        \"num_unique_values\": 2,\n        \"samples\": [\n          0.05377527245157948\n        ],\n        \"semantic_type\": \"\",\n        \"description\": \"\"\n      }\n    },\n    {\n      \"column\": [\n        \"s\",\n        \"std\"\n      ],\n      \"properties\": {\n        \"dtype\": \"number\",\n        \"std\": 0.010806271842465381,\n        \"min\": 0.026663907189588738,\n        \"max\": 0.041946283387893774,\n        \"num_unique_values\": 2,\n        \"samples\": [\n          0.026663907189588738\n        ],\n        \"semantic_type\": \"\",\n        \"description\": \"\"\n      }\n    }\n  ]\n}"
            }
          },
          "metadata": {},
          "execution_count": 9
        }
      ]
    },
    {
      "cell_type": "markdown",
      "source": [
        "Compare Häagen-Dazs and Ben & Jerry's in terms of their market shares and prices across counties.\n",
        "\n",
        "1.   In how many counties is Häagen-Dazs ice cream sold? Ben \\& Jerry's?\n",
        "2.   Which ice cream brand is more expensive? Which one has the larger market share?\n",
        "3.   Which ice cream brand do you think consumers prefer?\n",
        "4.   For a given brand, do market shares vary across counties? If so, why do you think that is?\n",
        "\n",
        "\n",
        "---\n",
        "\n"
      ],
      "metadata": {
        "id": "z1L-PLU3wKSS"
      }
    },
    {
      "cell_type": "markdown",
      "source": [
        "### 4.3 EVALUATING MARKET CONCENTRATION"
      ],
      "metadata": {
        "id": "_DWTgnaiyZqj"
      }
    },
    {
      "cell_type": "markdown",
      "source": [
        "Häagen-Dazs and Ben \\& Jerry's are the only products in the market for 'super-premium' ice cream. Let's calculate the Hirschmann-Hifendahl Index (HHI) for county $t$:\n",
        "$$10000\\times\\frac{\\sum_{j\\in\\{H,B\\}}\\text{sales}_{jt}^2}{(\\sum_{j\\in\\{H,B\\}}\\text{sales}_{jt})^2}$$\n"
      ],
      "metadata": {
        "id": "kbMq2NQP0RIB"
      }
    },
    {
      "cell_type": "code",
      "source": [
        "hhi1 = 10000*data.groupby('county')['s'].apply(lambda x: ((x/x.sum())**2).sum())"
      ],
      "metadata": {
        "id": "N4_nuMlalVMa"
      },
      "execution_count": 10,
      "outputs": []
    },
    {
      "cell_type": "code",
      "source": [
        "print('The average county-level HHI is',hhi1.mean().astype(int),'.')"
      ],
      "metadata": {
        "id": "R_zWYz0qmL9L",
        "colab": {
          "base_uri": "https://localhost:8080/"
        },
        "outputId": "e8584f96-2ee4-4e1a-c512-ea0b529f56b0"
      },
      "execution_count": 11,
      "outputs": [
        {
          "output_type": "stream",
          "name": "stdout",
          "text": [
            "The average county-level HHI is 5913 .\n"
          ]
        }
      ]
    },
    {
      "cell_type": "markdown",
      "source": [
        "We could also report the HHI across counties:\n",
        "$$ 10000\\times \\frac{\\sum_{j\\in\\{H,B\\}}(\\sum_t \\text{sales}_{jt})^2}{(\\sum_{j\\in\\{H,B\\}}\\sum_t \\text{sales}_{jt})^2} $$"
      ],
      "metadata": {
        "id": "NmimY6xTarEP"
      }
    },
    {
      "cell_type": "code",
      "source": [
        "hhi2 = 10000*(data[data['Häagen-Dazs'] == 1]['sales'].sum()**2 + data[data['Häagen-Dazs'] == 0]['sales'].sum()**2)/(data[data['Häagen-Dazs'] == 1]['sales'].sum() + data[data['Häagen-Dazs'] == 0]['sales'].sum())**2\n"
      ],
      "metadata": {
        "id": "v0Bpe7wi0POS"
      },
      "execution_count": 12,
      "outputs": []
    },
    {
      "cell_type": "code",
      "source": [
        "print('The average HHI across counties is',hhi2.mean().astype(int),'.')"
      ],
      "metadata": {
        "id": "ZuubORBmpnp7",
        "colab": {
          "base_uri": "https://localhost:8080/"
        },
        "outputId": "8a5062e1-f292-435f-c74f-bf3370c6cfb4"
      },
      "execution_count": 13,
      "outputs": [
        {
          "output_type": "stream",
          "name": "stdout",
          "text": [
            "The average HHI across counties is 5488 .\n"
          ]
        }
      ]
    },
    {
      "cell_type": "markdown",
      "source": [
        "Is the market for 'super-premium' ice cream highly concentrated, moderately concentrated or unconcentrated?"
      ],
      "metadata": {
        "id": "sUbYBFip3i1L"
      }
    },
    {
      "cell_type": "markdown",
      "source": [
        "### 4.4 COMPUTING THE 'OUTSIDE OPTION' MARKET SHARE"
      ],
      "metadata": {
        "id": "yz7Rqdryz0AC"
      }
    },
    {
      "cell_type": "code",
      "source": [
        "data['s0'] = 1 - data.groupby(['county'])['s'].transform('sum')"
      ],
      "metadata": {
        "id": "XX7Feockz15o"
      },
      "execution_count": 14,
      "outputs": []
    },
    {
      "cell_type": "markdown",
      "source": [
        "Define the 'outside option' market share for each county. Here the 'outside good' is any ice cream sold other than Ben & Jerry's or Hägen-Dazs."
      ],
      "metadata": {
        "id": "pGE36O7EzPFs"
      }
    },
    {
      "cell_type": "markdown",
      "source": [
        "## 5. DEMAND ESTIMATION"
      ],
      "metadata": {
        "id": "BjIzsRkmCZhX"
      }
    },
    {
      "cell_type": "markdown",
      "source": [
        "### 5.1 TRANSFORMING THE DATA"
      ],
      "metadata": {
        "id": "Vu70i97XqPHI"
      }
    },
    {
      "cell_type": "markdown",
      "source": [
        "Transform the market shares to back out the **mean utilities**. The transformed market share is going to be the **dependent variable** in the regressions we run. Remember:\n",
        "$$ \\ln(s_{jt}) - \\ln(s_{0t}) = \\alpha p_{jt} + \\mathbf{x}_{jt}\\prime\\boldsymbol{ \\beta } + \\xi_{jt} $$"
      ],
      "metadata": {
        "id": "dOCgy2dk0R49"
      }
    },
    {
      "cell_type": "code",
      "source": [
        "Y = np.log(data['s']) - np.log(data['s0'])"
      ],
      "metadata": {
        "id": "QQAM_uIq1IfR"
      },
      "execution_count": 15,
      "outputs": []
    },
    {
      "cell_type": "markdown",
      "source": [
        "In the regression, the **independent variables** are going to be the price and the Häagen-Dazs dummy variable, plus a constant.\n",
        "$$ V_{jt} = \\beta_0 + \\beta_\\text{Häagen-Dazs}\\mathbf{1}(j = \\text{Häagen-Dazs}) + \\alpha p_{jt} + \\xi_{jt} $$"
      ],
      "metadata": {
        "id": "pGnehPLN1ccw"
      }
    },
    {
      "cell_type": "code",
      "source": [
        "X=sm.add_constant(data[['price','Häagen-Dazs']])"
      ],
      "metadata": {
        "id": "a6MMCZ9p2Fs1"
      },
      "execution_count": 16,
      "outputs": []
    },
    {
      "cell_type": "markdown",
      "source": [
        "### 5.2 OLS REGRESSION"
      ],
      "metadata": {
        "id": "ZjdHTwl3vMcA"
      }
    },
    {
      "cell_type": "code",
      "source": [
        "ols = sm.OLS(Y,X)\n",
        "ols_result = ols.fit(cov_type='HC3')\n",
        "ols_result.summary()"
      ],
      "metadata": {
        "id": "1Q0pR190031w",
        "colab": {
          "base_uri": "https://localhost:8080/",
          "height": 473
        },
        "outputId": "b6b1b72b-379e-46a8-b3a7-0deb88e625bc"
      },
      "execution_count": 17,
      "outputs": [
        {
          "output_type": "execute_result",
          "data": {
            "text/plain": [
              "<class 'statsmodels.iolib.summary.Summary'>\n",
              "\"\"\"\n",
              "                            OLS Regression Results                            \n",
              "==============================================================================\n",
              "Dep. Variable:                      y   R-squared:                       0.288\n",
              "Model:                            OLS   Adj. R-squared:                  0.284\n",
              "Method:                 Least Squares   F-statistic:                     81.94\n",
              "Date:                Tue, 08 Oct 2024   Prob (F-statistic):           1.62e-30\n",
              "Time:                        15:42:22   Log-Likelihood:                -332.07\n",
              "No. Observations:                 400   AIC:                             670.1\n",
              "Df Residuals:                     397   BIC:                             682.1\n",
              "Df Model:                           2                                         \n",
              "Covariance Type:                  HC3                                         \n",
              "===============================================================================\n",
              "                  coef    std err          z      P>|z|      [0.025      0.975]\n",
              "-------------------------------------------------------------------------------\n",
              "const          -1.5005      0.305     -4.918      0.000      -2.099      -0.902\n",
              "price          -0.2508      0.110     -2.278      0.023      -0.467      -0.035\n",
              "Häagen-Dazs    -0.8418      0.083    -10.187      0.000      -1.004      -0.680\n",
              "==============================================================================\n",
              "Omnibus:                       72.286   Durbin-Watson:                   1.902\n",
              "Prob(Omnibus):                  0.000   Jarque-Bera (JB):              154.644\n",
              "Skew:                          -0.947   Prob(JB):                     2.63e-34\n",
              "Kurtosis:                       5.385   Cond. No.                         34.1\n",
              "==============================================================================\n",
              "\n",
              "Notes:\n",
              "[1] Standard Errors are heteroscedasticity robust (HC3)\n",
              "\"\"\""
            ],
            "text/html": [
              "<table class=\"simpletable\">\n",
              "<caption>OLS Regression Results</caption>\n",
              "<tr>\n",
              "  <th>Dep. Variable:</th>            <td>y</td>        <th>  R-squared:         </th> <td>   0.288</td>\n",
              "</tr>\n",
              "<tr>\n",
              "  <th>Model:</th>                   <td>OLS</td>       <th>  Adj. R-squared:    </th> <td>   0.284</td>\n",
              "</tr>\n",
              "<tr>\n",
              "  <th>Method:</th>             <td>Least Squares</td>  <th>  F-statistic:       </th> <td>   81.94</td>\n",
              "</tr>\n",
              "<tr>\n",
              "  <th>Date:</th>             <td>Tue, 08 Oct 2024</td> <th>  Prob (F-statistic):</th> <td>1.62e-30</td>\n",
              "</tr>\n",
              "<tr>\n",
              "  <th>Time:</th>                 <td>15:42:22</td>     <th>  Log-Likelihood:    </th> <td> -332.07</td>\n",
              "</tr>\n",
              "<tr>\n",
              "  <th>No. Observations:</th>      <td>   400</td>      <th>  AIC:               </th> <td>   670.1</td>\n",
              "</tr>\n",
              "<tr>\n",
              "  <th>Df Residuals:</th>          <td>   397</td>      <th>  BIC:               </th> <td>   682.1</td>\n",
              "</tr>\n",
              "<tr>\n",
              "  <th>Df Model:</th>              <td>     2</td>      <th>                     </th>     <td> </td>   \n",
              "</tr>\n",
              "<tr>\n",
              "  <th>Covariance Type:</th>         <td>HC3</td>       <th>                     </th>     <td> </td>   \n",
              "</tr>\n",
              "</table>\n",
              "<table class=\"simpletable\">\n",
              "<tr>\n",
              "       <td></td>          <th>coef</th>     <th>std err</th>      <th>z</th>      <th>P>|z|</th>  <th>[0.025</th>    <th>0.975]</th>  \n",
              "</tr>\n",
              "<tr>\n",
              "  <th>const</th>       <td>   -1.5005</td> <td>    0.305</td> <td>   -4.918</td> <td> 0.000</td> <td>   -2.099</td> <td>   -0.902</td>\n",
              "</tr>\n",
              "<tr>\n",
              "  <th>price</th>       <td>   -0.2508</td> <td>    0.110</td> <td>   -2.278</td> <td> 0.023</td> <td>   -0.467</td> <td>   -0.035</td>\n",
              "</tr>\n",
              "<tr>\n",
              "  <th>Häagen-Dazs</th> <td>   -0.8418</td> <td>    0.083</td> <td>  -10.187</td> <td> 0.000</td> <td>   -1.004</td> <td>   -0.680</td>\n",
              "</tr>\n",
              "</table>\n",
              "<table class=\"simpletable\">\n",
              "<tr>\n",
              "  <th>Omnibus:</th>       <td>72.286</td> <th>  Durbin-Watson:     </th> <td>   1.902</td>\n",
              "</tr>\n",
              "<tr>\n",
              "  <th>Prob(Omnibus):</th> <td> 0.000</td> <th>  Jarque-Bera (JB):  </th> <td> 154.644</td>\n",
              "</tr>\n",
              "<tr>\n",
              "  <th>Skew:</th>          <td>-0.947</td> <th>  Prob(JB):          </th> <td>2.63e-34</td>\n",
              "</tr>\n",
              "<tr>\n",
              "  <th>Kurtosis:</th>      <td> 5.385</td> <th>  Cond. No.          </th> <td>    34.1</td>\n",
              "</tr>\n",
              "</table><br/><br/>Notes:<br/>[1] Standard Errors are heteroscedasticity robust (HC3)"
            ],
            "text/latex": "\\begin{center}\n\\begin{tabular}{lclc}\n\\toprule\n\\textbf{Dep. Variable:}    &        y         & \\textbf{  R-squared:         } &     0.288   \\\\\n\\textbf{Model:}            &       OLS        & \\textbf{  Adj. R-squared:    } &     0.284   \\\\\n\\textbf{Method:}           &  Least Squares   & \\textbf{  F-statistic:       } &     81.94   \\\\\n\\textbf{Date:}             & Tue, 08 Oct 2024 & \\textbf{  Prob (F-statistic):} &  1.62e-30   \\\\\n\\textbf{Time:}             &     15:42:22     & \\textbf{  Log-Likelihood:    } &   -332.07   \\\\\n\\textbf{No. Observations:} &         400      & \\textbf{  AIC:               } &     670.1   \\\\\n\\textbf{Df Residuals:}     &         397      & \\textbf{  BIC:               } &     682.1   \\\\\n\\textbf{Df Model:}         &           2      & \\textbf{                     } &             \\\\\n\\textbf{Covariance Type:}  &       HC3        & \\textbf{                     } &             \\\\\n\\bottomrule\n\\end{tabular}\n\\begin{tabular}{lcccccc}\n                     & \\textbf{coef} & \\textbf{std err} & \\textbf{z} & \\textbf{P$> |$z$|$} & \\textbf{[0.025} & \\textbf{0.975]}  \\\\\n\\midrule\n\\textbf{const}       &      -1.5005  &        0.305     &    -4.918  &         0.000        &       -2.099    &       -0.902     \\\\\n\\textbf{price}       &      -0.2508  &        0.110     &    -2.278  &         0.023        &       -0.467    &       -0.035     \\\\\n\\textbf{Häagen-Dazs} &      -0.8418  &        0.083     &   -10.187  &         0.000        &       -1.004    &       -0.680     \\\\\n\\bottomrule\n\\end{tabular}\n\\begin{tabular}{lclc}\n\\textbf{Omnibus:}       & 72.286 & \\textbf{  Durbin-Watson:     } &    1.902  \\\\\n\\textbf{Prob(Omnibus):} &  0.000 & \\textbf{  Jarque-Bera (JB):  } &  154.644  \\\\\n\\textbf{Skew:}          & -0.947 & \\textbf{  Prob(JB):          } & 2.63e-34  \\\\\n\\textbf{Kurtosis:}      &  5.385 & \\textbf{  Cond. No.          } &     34.1  \\\\\n\\bottomrule\n\\end{tabular}\n%\\caption{OLS Regression Results}\n\\end{center}\n\nNotes: \\newline\n [1] Standard Errors are heteroscedasticity robust (HC3)"
          },
          "metadata": {},
          "execution_count": 17
        }
      ]
    },
    {
      "cell_type": "markdown",
      "source": [
        "Let's interpret the estimation results.\n",
        "\n",
        "1.   All else equal, how much lower is the mean utility of consuming a unit of ice cream if the unit price increases by \\$1?\n",
        "2.   On average, which ice cream brand do consumers prefer?\n",
        "3.   What is the meaning of the constant? It is negative. Why do you think that is?\n",
        "4. What is the mean utility of consuming a unit of Ben & Jerry's ice cream if it is sold for \\$3?"
      ],
      "metadata": {
        "id": "1TR1MkwIDn9K"
      }
    },
    {
      "cell_type": "markdown",
      "source": [
        "### 5.3 ENDOGENEITY AND INSTRUMENTAL VARIABLE"
      ],
      "metadata": {
        "id": "wJcoGAz3FZq8"
      }
    },
    {
      "cell_type": "markdown",
      "source": [
        "Our estimate of the price coefficient is likely biased. The true coefficients are\n",
        "\n",
        "\\begin{align*}\n",
        "  \\beta_0 = & -0.44 \\\\\n",
        "  \\beta_{Häagen-Dazs} = & -1.07 \\\\\n",
        "  \\alpha = & -0.63\n",
        "\\end{align*}\n",
        "\n",
        "Why is that? Do you think the fuel price is a good **instrumental variable** for the unit price?"
      ],
      "metadata": {
        "id": "VrOnWYz6Gu96"
      }
    },
    {
      "cell_type": "code",
      "source": [
        "first_stage = sm.OLS(data['price'],sm.add_constant(data[['fuel cost','Häagen-Dazs']]))\n",
        "first_stage_result = first_stage.fit(cov_type='HC3')\n",
        "first_stage_result.summary()"
      ],
      "metadata": {
        "id": "bOqe9iwLGNaC",
        "colab": {
          "base_uri": "https://localhost:8080/",
          "height": 473
        },
        "outputId": "0d8cf440-d650-4e3b-c27f-045b161e1777"
      },
      "execution_count": 18,
      "outputs": [
        {
          "output_type": "execute_result",
          "data": {
            "text/plain": [
              "<class 'statsmodels.iolib.summary.Summary'>\n",
              "\"\"\"\n",
              "                            OLS Regression Results                            \n",
              "==============================================================================\n",
              "Dep. Variable:                  price   R-squared:                       0.859\n",
              "Model:                            OLS   Adj. R-squared:                  0.858\n",
              "Method:                 Least Squares   F-statistic:                     1192.\n",
              "Date:                Tue, 08 Oct 2024   Prob (F-statistic):          1.48e-168\n",
              "Time:                        15:42:22   Log-Likelihood:                 211.84\n",
              "No. Observations:                 400   AIC:                            -417.7\n",
              "Df Residuals:                     397   BIC:                            -405.7\n",
              "Df Model:                           2                                         \n",
              "Covariance Type:                  HC3                                         \n",
              "===============================================================================\n",
              "                  coef    std err          z      P>|z|      [0.025      0.975]\n",
              "-------------------------------------------------------------------------------\n",
              "const           2.1603      0.024     88.575      0.000       2.112       2.208\n",
              "fuel cost       1.0312      0.037     27.850      0.000       0.959       1.104\n",
              "Häagen-Dazs    -0.2931      0.018    -16.675      0.000      -0.328      -0.259\n",
              "==============================================================================\n",
              "Omnibus:                        0.757   Durbin-Watson:                   1.992\n",
              "Prob(Omnibus):                  0.685   Jarque-Bera (JB):                0.614\n",
              "Skew:                           0.090   Prob(JB):                        0.736\n",
              "Kurtosis:                       3.068   Cond. No.                         7.78\n",
              "==============================================================================\n",
              "\n",
              "Notes:\n",
              "[1] Standard Errors are heteroscedasticity robust (HC3)\n",
              "\"\"\""
            ],
            "text/html": [
              "<table class=\"simpletable\">\n",
              "<caption>OLS Regression Results</caption>\n",
              "<tr>\n",
              "  <th>Dep. Variable:</th>          <td>price</td>      <th>  R-squared:         </th> <td>   0.859</td> \n",
              "</tr>\n",
              "<tr>\n",
              "  <th>Model:</th>                   <td>OLS</td>       <th>  Adj. R-squared:    </th> <td>   0.858</td> \n",
              "</tr>\n",
              "<tr>\n",
              "  <th>Method:</th>             <td>Least Squares</td>  <th>  F-statistic:       </th> <td>   1192.</td> \n",
              "</tr>\n",
              "<tr>\n",
              "  <th>Date:</th>             <td>Tue, 08 Oct 2024</td> <th>  Prob (F-statistic):</th> <td>1.48e-168</td>\n",
              "</tr>\n",
              "<tr>\n",
              "  <th>Time:</th>                 <td>15:42:22</td>     <th>  Log-Likelihood:    </th> <td>  211.84</td> \n",
              "</tr>\n",
              "<tr>\n",
              "  <th>No. Observations:</th>      <td>   400</td>      <th>  AIC:               </th> <td>  -417.7</td> \n",
              "</tr>\n",
              "<tr>\n",
              "  <th>Df Residuals:</th>          <td>   397</td>      <th>  BIC:               </th> <td>  -405.7</td> \n",
              "</tr>\n",
              "<tr>\n",
              "  <th>Df Model:</th>              <td>     2</td>      <th>                     </th>     <td> </td>    \n",
              "</tr>\n",
              "<tr>\n",
              "  <th>Covariance Type:</th>         <td>HC3</td>       <th>                     </th>     <td> </td>    \n",
              "</tr>\n",
              "</table>\n",
              "<table class=\"simpletable\">\n",
              "<tr>\n",
              "       <td></td>          <th>coef</th>     <th>std err</th>      <th>z</th>      <th>P>|z|</th>  <th>[0.025</th>    <th>0.975]</th>  \n",
              "</tr>\n",
              "<tr>\n",
              "  <th>const</th>       <td>    2.1603</td> <td>    0.024</td> <td>   88.575</td> <td> 0.000</td> <td>    2.112</td> <td>    2.208</td>\n",
              "</tr>\n",
              "<tr>\n",
              "  <th>fuel cost</th>   <td>    1.0312</td> <td>    0.037</td> <td>   27.850</td> <td> 0.000</td> <td>    0.959</td> <td>    1.104</td>\n",
              "</tr>\n",
              "<tr>\n",
              "  <th>Häagen-Dazs</th> <td>   -0.2931</td> <td>    0.018</td> <td>  -16.675</td> <td> 0.000</td> <td>   -0.328</td> <td>   -0.259</td>\n",
              "</tr>\n",
              "</table>\n",
              "<table class=\"simpletable\">\n",
              "<tr>\n",
              "  <th>Omnibus:</th>       <td> 0.757</td> <th>  Durbin-Watson:     </th> <td>   1.992</td>\n",
              "</tr>\n",
              "<tr>\n",
              "  <th>Prob(Omnibus):</th> <td> 0.685</td> <th>  Jarque-Bera (JB):  </th> <td>   0.614</td>\n",
              "</tr>\n",
              "<tr>\n",
              "  <th>Skew:</th>          <td> 0.090</td> <th>  Prob(JB):          </th> <td>   0.736</td>\n",
              "</tr>\n",
              "<tr>\n",
              "  <th>Kurtosis:</th>      <td> 3.068</td> <th>  Cond. No.          </th> <td>    7.78</td>\n",
              "</tr>\n",
              "</table><br/><br/>Notes:<br/>[1] Standard Errors are heteroscedasticity robust (HC3)"
            ],
            "text/latex": "\\begin{center}\n\\begin{tabular}{lclc}\n\\toprule\n\\textbf{Dep. Variable:}    &      price       & \\textbf{  R-squared:         } &     0.859   \\\\\n\\textbf{Model:}            &       OLS        & \\textbf{  Adj. R-squared:    } &     0.858   \\\\\n\\textbf{Method:}           &  Least Squares   & \\textbf{  F-statistic:       } &     1192.   \\\\\n\\textbf{Date:}             & Tue, 08 Oct 2024 & \\textbf{  Prob (F-statistic):} & 1.48e-168   \\\\\n\\textbf{Time:}             &     15:42:22     & \\textbf{  Log-Likelihood:    } &    211.84   \\\\\n\\textbf{No. Observations:} &         400      & \\textbf{  AIC:               } &    -417.7   \\\\\n\\textbf{Df Residuals:}     &         397      & \\textbf{  BIC:               } &    -405.7   \\\\\n\\textbf{Df Model:}         &           2      & \\textbf{                     } &             \\\\\n\\textbf{Covariance Type:}  &       HC3        & \\textbf{                     } &             \\\\\n\\bottomrule\n\\end{tabular}\n\\begin{tabular}{lcccccc}\n                     & \\textbf{coef} & \\textbf{std err} & \\textbf{z} & \\textbf{P$> |$z$|$} & \\textbf{[0.025} & \\textbf{0.975]}  \\\\\n\\midrule\n\\textbf{const}       &       2.1603  &        0.024     &    88.575  &         0.000        &        2.112    &        2.208     \\\\\n\\textbf{fuel cost}   &       1.0312  &        0.037     &    27.850  &         0.000        &        0.959    &        1.104     \\\\\n\\textbf{Häagen-Dazs} &      -0.2931  &        0.018     &   -16.675  &         0.000        &       -0.328    &       -0.259     \\\\\n\\bottomrule\n\\end{tabular}\n\\begin{tabular}{lclc}\n\\textbf{Omnibus:}       &  0.757 & \\textbf{  Durbin-Watson:     } &    1.992  \\\\\n\\textbf{Prob(Omnibus):} &  0.685 & \\textbf{  Jarque-Bera (JB):  } &    0.614  \\\\\n\\textbf{Skew:}          &  0.090 & \\textbf{  Prob(JB):          } &    0.736  \\\\\n\\textbf{Kurtosis:}      &  3.068 & \\textbf{  Cond. No.          } &     7.78  \\\\\n\\bottomrule\n\\end{tabular}\n%\\caption{OLS Regression Results}\n\\end{center}\n\nNotes: \\newline\n [1] Standard Errors are heteroscedasticity robust (HC3)"
          },
          "metadata": {},
          "execution_count": 18
        }
      ]
    },
    {
      "cell_type": "markdown",
      "source": [
        "1. Are the estimates significantly different from zero in a statistical sense?\n",
        "2. According to our estimates, by how much does the unit price increase if the fuel cost increases by \\$1 (and everything else is unchanged)? Does this intuitively make sense?"
      ],
      "metadata": {
        "id": "IbAPQYZqHdlu"
      }
    },
    {
      "cell_type": "markdown",
      "source": [
        "We plot Häagen-Dazs market shares and unit prices and fit a line (left). We compare this to the results of a 2SLS regression with fuel price as the instrument (right)."
      ],
      "metadata": {
        "id": "f59Kto0TMK2Z"
      }
    },
    {
      "cell_type": "code",
      "source": [
        "figure, axis = plt.subplots(1, 2,sharex=True,sharey=True,figsize=(9,3))\n",
        "\n",
        "axis[0].scatter(data[data['Häagen-Dazs'] == 0]['price'],data[data['Häagen-Dazs'] == 0]['s']*100)\n",
        "b, a = np.polyfit(data[data['Häagen-Dazs'] == 0]['price'], data[data['Häagen-Dazs'] == 0]['s']*100, deg=1)\n",
        "axis[0].plot(np.linspace(data[data['Häagen-Dazs'] == 0]['price'].min(), data[data['Häagen-Dazs'] == 0]['price'].max(), num=80), a + b * np.linspace(data[data['Häagen-Dazs'] == 0]['price'].min(), data[data['Häagen-Dazs'] == 0]['price'].max(), num=80), color=\"red\", lw=2.5)\n",
        "axis[0].set_title('W/o instrument')\n",
        "\n",
        "axis[1].scatter(data[data['Häagen-Dazs'] == 0]['price'],data[data['Häagen-Dazs'] == 0]['s']*100)\n",
        "a,b = IV2SLS(data[data['Häagen-Dazs'] == 0]['s']*100, sm.add_constant(data[data['Häagen-Dazs'] == 0]['price']), instrument = sm.add_constant(data[data['Häagen-Dazs'] == 0]['fuel cost'])).fit().params\n",
        "axis[1].plot(np.linspace(data[data['Häagen-Dazs'] == 0]['price'].min(), data[data['Häagen-Dazs'] == 0]['price'].max(), num=80), a + b * np.linspace(data[data['Häagen-Dazs'] == 0]['price'].min(), data[data['Häagen-Dazs'] == 0]['price'].max(), num=80), color=\"red\", lw=2.5)\n",
        "axis[1].set_title('W/ instrument')\n",
        "\n",
        "figure.text(0.5, 0.04, 'price (in $)', ha='center')\n",
        "figure.text(0.04, 0.5, 'market share (in %)', va='center', rotation='vertical')\n",
        "plt.show()"
      ],
      "metadata": {
        "id": "GWIKLOzKFenx",
        "colab": {
          "base_uri": "https://localhost:8080/",
          "height": 314
        },
        "outputId": "6e77226e-3e1f-4f07-9999-7b0f1aaf4efd"
      },
      "execution_count": 19,
      "outputs": [
        {
          "output_type": "display_data",
          "data": {
            "text/plain": [
              "<Figure size 900x300 with 2 Axes>"
            ],
            "image/png": "[encoded data removed]"
          },
          "metadata": {}
        }
      ]
    },
    {
      "cell_type": "markdown",
      "source": [
        "Can you explain why the line on the right is steeper?"
      ],
      "metadata": {
        "id": "TWj3XudcM_0K"
      }
    },
    {
      "cell_type": "markdown",
      "source": [
        "### 5.4 2SLS REGRESSION"
      ],
      "metadata": {
        "id": "foNO8uuLwL5_"
      }
    },
    {
      "cell_type": "markdown",
      "source": [
        "Next, we re-estimate demand using the fuel cost to instrument the price of ice cream."
      ],
      "metadata": {
        "id": "rNA_CXFBJa03"
      }
    },
    {
      "cell_type": "code",
      "source": [
        "twosls = IV2SLS(np.log(data['s']) - np.log(data['s0']), sm.add_constant(data[['price','Häagen-Dazs']]), instrument = sm.add_constant(data[['fuel cost','Häagen-Dazs']]))\n",
        "twosls_result = twosls.fit()\n",
        "const, alpha, beta = twosls_result.params.round(2)\n",
        "twosls_result.summary()"
      ],
      "metadata": {
        "id": "p0GFjqbYGigV",
        "colab": {
          "base_uri": "https://localhost:8080/",
          "height": 404
        },
        "outputId": "1de94937-34b8-4c04-9e43-db1a3f0336f5"
      },
      "execution_count": 20,
      "outputs": [
        {
          "output_type": "execute_result",
          "data": {
            "text/plain": [
              "<class 'statsmodels.iolib.summary.Summary'>\n",
              "\"\"\"\n",
              "                          IV2SLS Regression Results                           \n",
              "==============================================================================\n",
              "Dep. Variable:                      y   R-squared:                       0.271\n",
              "Model:                         IV2SLS   Adj. R-squared:                  0.267\n",
              "Method:                     Two Stage   F-statistic:                     84.88\n",
              "                        Least Squares   Prob (F-statistic):           2.04e-31\n",
              "Date:                Tue, 08 Oct 2024                                         \n",
              "Time:                        15:42:24                                         \n",
              "No. Observations:                 400                                         \n",
              "Df Residuals:                     397                                         \n",
              "Df Model:                           2                                         \n",
              "===============================================================================\n",
              "                  coef    std err          t      P>|t|      [0.025      0.975]\n",
              "-------------------------------------------------------------------------------\n",
              "const          -0.5242      0.400     -1.310      0.191      -1.311       0.262\n",
              "price          -0.6034      0.144     -4.198      0.000      -0.886      -0.321\n",
              "Häagen-Dazs    -1.0478      0.101    -10.360      0.000      -1.247      -0.849\n",
              "==============================================================================\n",
              "Omnibus:                       65.151   Durbin-Watson:                   1.928\n",
              "Prob(Omnibus):                  0.000   Jarque-Bera (JB):              124.790\n",
              "Skew:                          -0.904   Prob(JB):                     7.98e-28\n",
              "Kurtosis:                       5.055   Cond. No.                         34.1\n",
              "==============================================================================\n",
              "\"\"\""
            ],
            "text/html": [
              "<table class=\"simpletable\">\n",
              "<caption>IV2SLS Regression Results</caption>\n",
              "<tr>\n",
              "  <th>Dep. Variable:</th>            <td>y</td>        <th>  R-squared:         </th> <td>   0.271</td>\n",
              "</tr>\n",
              "<tr>\n",
              "  <th>Model:</th>                 <td>IV2SLS</td>      <th>  Adj. R-squared:    </th> <td>   0.267</td>\n",
              "</tr>\n",
              "<tr>\n",
              "  <th>Method:</th>               <td>Two Stage</td>    <th>  F-statistic:       </th> <td>   84.88</td>\n",
              "</tr>\n",
              "<tr>\n",
              "  <th></th>                    <td>Least Squares</td>  <th>  Prob (F-statistic):</th> <td>2.04e-31</td>\n",
              "</tr>\n",
              "<tr>\n",
              "  <th>Date:</th>             <td>Tue, 08 Oct 2024</td> <th>                     </th>     <td> </td>   \n",
              "</tr>\n",
              "<tr>\n",
              "  <th>Time:</th>                 <td>15:42:24</td>     <th>                     </th>     <td> </td>   \n",
              "</tr>\n",
              "<tr>\n",
              "  <th>No. Observations:</th>      <td>   400</td>      <th>                     </th>     <td> </td>   \n",
              "</tr>\n",
              "<tr>\n",
              "  <th>Df Residuals:</th>          <td>   397</td>      <th>                     </th>     <td> </td>   \n",
              "</tr>\n",
              "<tr>\n",
              "  <th>Df Model:</th>              <td>     2</td>      <th>                     </th>     <td> </td>   \n",
              "</tr>\n",
              "</table>\n",
              "<table class=\"simpletable\">\n",
              "<tr>\n",
              "       <td></td>          <th>coef</th>     <th>std err</th>      <th>t</th>      <th>P>|t|</th>  <th>[0.025</th>    <th>0.975]</th>  \n",
              "</tr>\n",
              "<tr>\n",
              "  <th>const</th>       <td>   -0.5242</td> <td>    0.400</td> <td>   -1.310</td> <td> 0.191</td> <td>   -1.311</td> <td>    0.262</td>\n",
              "</tr>\n",
              "<tr>\n",
              "  <th>price</th>       <td>   -0.6034</td> <td>    0.144</td> <td>   -4.198</td> <td> 0.000</td> <td>   -0.886</td> <td>   -0.321</td>\n",
              "</tr>\n",
              "<tr>\n",
              "  <th>Häagen-Dazs</th> <td>   -1.0478</td> <td>    0.101</td> <td>  -10.360</td> <td> 0.000</td> <td>   -1.247</td> <td>   -0.849</td>\n",
              "</tr>\n",
              "</table>\n",
              "<table class=\"simpletable\">\n",
              "<tr>\n",
              "  <th>Omnibus:</th>       <td>65.151</td> <th>  Durbin-Watson:     </th> <td>   1.928</td>\n",
              "</tr>\n",
              "<tr>\n",
              "  <th>Prob(Omnibus):</th> <td> 0.000</td> <th>  Jarque-Bera (JB):  </th> <td> 124.790</td>\n",
              "</tr>\n",
              "<tr>\n",
              "  <th>Skew:</th>          <td>-0.904</td> <th>  Prob(JB):          </th> <td>7.98e-28</td>\n",
              "</tr>\n",
              "<tr>\n",
              "  <th>Kurtosis:</th>      <td> 5.055</td> <th>  Cond. No.          </th> <td>    34.1</td>\n",
              "</tr>\n",
              "</table>"
            ],
            "text/latex": "\\begin{center}\n\\begin{tabular}{lclc}\n\\toprule\n\\textbf{Dep. Variable:}    &        y         & \\textbf{  R-squared:         } &     0.271   \\\\\n\\textbf{Model:}            &      IV2SLS      & \\textbf{  Adj. R-squared:    } &     0.267   \\\\\n\\textbf{Method:}           &    Two Stage     & \\textbf{  F-statistic:       } &     84.88   \\\\\n\\textbf{}                  &  Least Squares   & \\textbf{  Prob (F-statistic):} &  2.04e-31   \\\\\n\\textbf{Date:}             & Tue, 08 Oct 2024 & \\textbf{                     } &             \\\\\n\\textbf{Time:}             &     15:42:24     & \\textbf{                     } &             \\\\\n\\textbf{No. Observations:} &         400      & \\textbf{                     } &             \\\\\n\\textbf{Df Residuals:}     &         397      & \\textbf{                     } &             \\\\\n\\textbf{Df Model:}         &           2      & \\textbf{                     } &             \\\\\n\\bottomrule\n\\end{tabular}\n\\begin{tabular}{lcccccc}\n                     & \\textbf{coef} & \\textbf{std err} & \\textbf{t} & \\textbf{P$> |$t$|$} & \\textbf{[0.025} & \\textbf{0.975]}  \\\\\n\\midrule\n\\textbf{const}       &      -0.5242  &        0.400     &    -1.310  &         0.191        &       -1.311    &        0.262     \\\\\n\\textbf{price}       &      -0.6034  &        0.144     &    -4.198  &         0.000        &       -0.886    &       -0.321     \\\\\n\\textbf{Häagen-Dazs} &      -1.0478  &        0.101     &   -10.360  &         0.000        &       -1.247    &       -0.849     \\\\\n\\bottomrule\n\\end{tabular}\n\\begin{tabular}{lclc}\n\\textbf{Omnibus:}       & 65.151 & \\textbf{  Durbin-Watson:     } &    1.928  \\\\\n\\textbf{Prob(Omnibus):} &  0.000 & \\textbf{  Jarque-Bera (JB):  } &  124.790  \\\\\n\\textbf{Skew:}          & -0.904 & \\textbf{  Prob(JB):          } & 7.98e-28  \\\\\n\\textbf{Kurtosis:}      &  5.055 & \\textbf{  Cond. No.          } &     34.1  \\\\\n\\bottomrule\n\\end{tabular}\n%\\caption{IV2SLS Regression Results}\n\\end{center}"
          },
          "metadata": {},
          "execution_count": 20
        }
      ]
    },
    {
      "cell_type": "markdown",
      "source": [
        "Compare the OLS and 2SLS price coefficients. Which one has a larger magnitude?"
      ],
      "metadata": {
        "id": "hQukDz7BOLV8"
      }
    },
    {
      "cell_type": "markdown",
      "source": [
        "## 6. BACKING OUT $c$ AND $\\xi$"
      ],
      "metadata": {
        "id": "5zJrHOD3hCeT"
      }
    },
    {
      "cell_type": "markdown",
      "source": [
        "### 6.1 MARGINAL COSTS"
      ],
      "metadata": {
        "id": "HN22Q9WL79TE"
      }
    },
    {
      "cell_type": "markdown",
      "source": [
        "Based on our estimates, we can back out the marginal costs of Häagen-Dazs' and Ben \\& Jerry's using the FOCs of their profit maximization problems. Recall:\n",
        "$$ \\frac{\\partial \\pi_{jt}(p_{jt}^*)}{\\partial p_{jt}} = \\alpha s_{jt}(1-s_{jt})(p_{jt}^* - c_{jt}) + s_{jt} = 0 $$\n",
        "$$ \\widehat c_{jt} = p_{jt}^* + \\frac{1}{\\widehat \\alpha(1-s_{jt})} $$"
      ],
      "metadata": {
        "id": "nfwHDydyhHXK"
      }
    },
    {
      "cell_type": "code",
      "source": [
        "C_hat = data['price'] + 1/(alpha*(1-data['s']))"
      ],
      "metadata": {
        "id": "Y5O0q6Uf6qUc"
      },
      "execution_count": 21,
      "outputs": []
    },
    {
      "cell_type": "code",
      "source": [
        "print('The average cost of supplying one unit of Häagen-Dazs ice-cream is $', C_hat[1::2].mean().round(2),'.')\n",
        "print('The average cost of supplying one unit of Ben & Jerry\\'s ice-cream is $', C_hat[0::2].mean().round(2),'.')"
      ],
      "metadata": {
        "id": "7mNY8doQhfMm",
        "colab": {
          "base_uri": "https://localhost:8080/"
        },
        "outputId": "de073942-193b-4f05-ada2-3a848f58ca7c"
      },
      "execution_count": 22,
      "outputs": [
        {
          "output_type": "stream",
          "name": "stdout",
          "text": [
            "The average cost of supplying one unit of Häagen-Dazs ice-cream is $ 0.42 .\n",
            "The average cost of supplying one unit of Ben & Jerry's ice-cream is $ 0.91 .\n"
          ]
        }
      ]
    },
    {
      "cell_type": "markdown",
      "source": [
        "The true marginal costs are \\$0.5 and \\$1 for Häagen-Dazs and Ben & Jerry's ice cream respectively."
      ],
      "metadata": {
        "id": "vYTmTUkyn08B"
      }
    },
    {
      "cell_type": "markdown",
      "source": [
        "### 6.2 UNOBSERVED DEMAND SHOCKS"
      ],
      "metadata": {
        "id": "YRBai68t8D0w"
      }
    },
    {
      "cell_type": "markdown",
      "source": [
        "Rearrange the regression equation.\n",
        "$$ \\widehat \\xi_{jt} = \\ln(s_{jt}) - \\ln(s_{0t}) - (\\widehat β_0+\\widehat \\beta_{Häagen-Dazs}\\textbf{1}(j=\\text{Häagen-Dazs})+\\widehat \\alpha p_{jt}) $$\n"
      ],
      "metadata": {
        "id": "RamJziET8aHy"
      }
    },
    {
      "cell_type": "code",
      "source": [
        "Xi_hat = Y - (const + beta*data['Häagen-Dazs'] + alpha*data['price'])"
      ],
      "metadata": {
        "id": "f4t1hhtK8ZgT"
      },
      "execution_count": 23,
      "outputs": []
    },
    {
      "cell_type": "code",
      "source": [
        "sns.kdeplot(Xi_hat)\n",
        "plt.xlabel(r'$\\widehat \\xi_{hat}$')\n",
        "plt.ylabel('density')\n",
        "plt.xlim(-4,+4)\n",
        "plt.show()"
      ],
      "metadata": {
        "id": "H145yRdN9yAm",
        "colab": {
          "base_uri": "https://localhost:8080/",
          "height": 54
        },
        "outputId": "c1a2b7a8-5b82-43ea-cf47-319c85027b91"
      },
      "execution_count": 24,
      "outputs": [
        {
          "output_type": "display_data",
          "data": {
            "text/plain": [
              "<Figure size 640x480 with 1 Axes>"
            ],
            "image/png": "[encoded data removed]"
          },
          "metadata": {}
        }
      ]
    },
    {
      "cell_type": "markdown",
      "source": [
        "## 7. COMPUTING A COUNTERFACTUAL EQUILIBRIUM"
      ],
      "metadata": {
        "id": "oJONSer8cWQ8"
      }
    },
    {
      "cell_type": "markdown",
      "source": [
        "Suppose we want to find out how much Häagen-Dazs's profit would change if sold ice cream as good as Ben \\& Jerry's (i.e., if the Häagen-Dazs coefficient was zero) assuming its marginal cost did not change."
      ],
      "metadata": {
        "id": "thkRHwxkcgSD"
      }
    },
    {
      "cell_type": "markdown",
      "source": [
        "First, we calculate the variable profit using the data."
      ],
      "metadata": {
        "id": "tqdeIu3YqhJW"
      }
    },
    {
      "cell_type": "code",
      "source": [
        "pi_0 = ((data[data['Häagen-Dazs'] == 1]['sales'])*(data[data['Häagen-Dazs'] == 1]['price'] - C_hat[1::2])).sum()\n",
        "print('Häagen-Dazs\\'s variable profit in the current equilibrium are $',pi_0.astype(int),'.')"
      ],
      "metadata": {
        "id": "8lr3jJ2hhBle",
        "colab": {
          "base_uri": "https://localhost:8080/"
        },
        "outputId": "0ef212df-7ee6-41cc-b4cc-1fec123ae27d"
      },
      "execution_count": 25,
      "outputs": [
        {
          "output_type": "stream",
          "name": "stdout",
          "text": [
            "Häagen-Dazs's variable profit in the current equilibrium are $ 3908 .\n"
          ]
        }
      ]
    },
    {
      "cell_type": "markdown",
      "source": [
        "To find the new prices (and market shares) we need to find the new Nash equilibrium. That is, we need to find the set of prices that satisfy firms' FOCs."
      ],
      "metadata": {
        "id": "i0LSogN8sILb"
      }
    },
    {
      "cell_type": "code",
      "source": [
        "def foc(P,C,Xi,params):\n",
        "    const,alpha,beta = params\n",
        "    return alpha*s(P,Xi,params)*(1-s(P,Xi,params))*(P-C) + s(P,Xi,params)"
      ],
      "metadata": {
        "id": "KeB1q_U3sTe5"
      },
      "execution_count": 26,
      "outputs": []
    },
    {
      "cell_type": "markdown",
      "source": [
        "\n",
        "To calculate `foc` we have to write functions that calculate market shares (`s`) which in turn depend on the mean utilities (`V`).\n",
        "\n"
      ],
      "metadata": {
        "id": "DCNEJdT8tNRu"
      }
    },
    {
      "cell_type": "code",
      "source": [
        "def s(P,Xi,params):\n",
        "    return np.exp(V(P,Xi,params))/(1 + np.exp(V(P,Xi,params)).sum())\n",
        "\n",
        "def V(P,Xi,params):\n",
        "    const,alpha,beta = params\n",
        "    return const + alpha*np.array(P) + beta*np.array([0,1]) + Xi"
      ],
      "metadata": {
        "id": "S-SF9Baftx5e"
      },
      "execution_count": 27,
      "outputs": []
    },
    {
      "cell_type": "markdown",
      "source": [
        "Let's use our 2SLS estimates (except that we set the Häagen-Dazs coefficient to zero) and the marginal costs that we have calculated to calculate the new prices `P_new`."
      ],
      "metadata": {
        "id": "nAwBw3QDuGW-"
      }
    },
    {
      "cell_type": "code",
      "source": [
        "P_new = []\n",
        "s_new = []\n",
        "for t in range(1,401,2):\n",
        "  res = optimize.root(foc,[0,0],args=(C_hat[t-1:t+1],Xi_hat[t-1:t+1],[const,alpha,0]))\n",
        "  print('Root found?',res.success)\n",
        "  P_new = np.append(P_new,res.x)\n",
        "  s_new = np.append(s_new,s(res.x,Xi_hat[t-1:t+1],[const,alpha,0]))"
      ],
      "metadata": {
        "id": "MEzN1KJrBO6r",
        "colab": {
          "base_uri": "https://localhost:8080/"
        },
        "outputId": "44c6ab25-a152-402e-8510-8eac0a5c4ed7"
      },
      "execution_count": 28,
      "outputs": [
        {
          "output_type": "stream",
          "name": "stdout",
          "text": [
            "Root found? True\n",
            "Root found? True\n",
            "Root found? True\n",
            "Root found? True\n",
            "Root found? True\n",
            "Root found? True\n",
            "Root found? True\n",
            "Root found? True\n",
            "Root found? True\n",
            "Root found? True\n",
            "Root found? True\n",
            "Root found? True\n",
            "Root found? True\n",
            "Root found? True\n",
            "Root found? True\n",
            "Root found? True\n",
            "Root found? True\n",
            "Root found? True\n",
            "Root found? True\n",
            "Root found? True\n",
            "Root found? True\n",
            "Root found? True\n",
            "Root found? True\n",
            "Root found? True\n",
            "Root found? True\n",
            "Root found? True\n",
            "Root found? True\n",
            "Root found? True\n",
            "Root found? True\n",
            "Root found? True\n",
            "Root found? True\n",
            "Root found? True\n",
            "Root found? True\n",
            "Root found? True\n",
            "Root found? True\n",
            "Root found? True\n",
            "Root found? True\n",
            "Root found? True\n",
            "Root found? True\n",
            "Root found? True\n",
            "Root found? True\n",
            "Root found? True\n",
            "Root found? True\n",
            "Root found? True\n",
            "Root found? True\n",
            "Root found? True\n",
            "Root found? True\n",
            "Root found? True\n",
            "Root found? True\n",
            "Root found? True\n",
            "Root found? True\n",
            "Root found? True\n",
            "Root found? True\n",
            "Root found? True\n",
            "Root found? True\n",
            "Root found? True\n",
            "Root found? True\n",
            "Root found? True\n",
            "Root found? True\n",
            "Root found? True\n",
            "Root found? True\n",
            "Root found? True\n",
            "Root found? True\n",
            "Root found? True\n",
            "Root found? True\n",
            "Root found? True\n",
            "Root found? True\n",
            "Root found? True\n",
            "Root found? True\n",
            "Root found? True\n",
            "Root found? True\n",
            "Root found? True\n",
            "Root found? True\n",
            "Root found? True\n",
            "Root found? True\n",
            "Root found? True\n",
            "Root found? True\n",
            "Root found? True\n",
            "Root found? True\n",
            "Root found? True\n",
            "Root found? True\n",
            "Root found? True\n",
            "Root found? True\n",
            "Root found? True\n",
            "Root found? True\n",
            "Root found? True\n",
            "Root found? True\n",
            "Root found? True\n",
            "Root found? True\n",
            "Root found? True\n",
            "Root found? True\n",
            "Root found? True\n",
            "Root found? True\n",
            "Root found? True\n",
            "Root found? True\n",
            "Root found? True\n",
            "Root found? True\n",
            "Root found? True\n",
            "Root found? True\n",
            "Root found? True\n",
            "Root found? True\n",
            "Root found? True\n",
            "Root found? True\n",
            "Root found? True\n",
            "Root found? True\n",
            "Root found? True\n",
            "Root found? True\n",
            "Root found? True\n",
            "Root found? True\n",
            "Root found? True\n",
            "Root found? True\n",
            "Root found? True\n",
            "Root found? True\n",
            "Root found? True\n",
            "Root found? True\n",
            "Root found? True\n",
            "Root found? True\n",
            "Root found? True\n",
            "Root found? True\n",
            "Root found? True\n",
            "Root found? True\n",
            "Root found? True\n",
            "Root found? True\n",
            "Root found? True\n",
            "Root found? True\n",
            "Root found? True\n",
            "Root found? True\n",
            "Root found? True\n",
            "Root found? True\n",
            "Root found? True\n",
            "Root found? True\n",
            "Root found? True\n",
            "Root found? True\n",
            "Root found? True\n",
            "Root found? True\n",
            "Root found? True\n",
            "Root found? True\n",
            "Root found? True\n",
            "Root found? True\n",
            "Root found? True\n",
            "Root found? True\n",
            "Root found? True\n",
            "Root found? True\n",
            "Root found? True\n",
            "Root found? True\n",
            "Root found? True\n",
            "Root found? True\n",
            "Root found? True\n",
            "Root found? True\n",
            "Root found? True\n",
            "Root found? True\n",
            "Root found? True\n",
            "Root found? True\n",
            "Root found? True\n",
            "Root found? True\n",
            "Root found? True\n",
            "Root found? True\n",
            "Root found? True\n",
            "Root found? True\n",
            "Root found? True\n",
            "Root found? True\n",
            "Root found? True\n",
            "Root found? True\n",
            "Root found? True\n",
            "Root found? True\n",
            "Root found? True\n",
            "Root found? True\n",
            "Root found? True\n",
            "Root found? True\n",
            "Root found? True\n",
            "Root found? True\n",
            "Root found? True\n",
            "Root found? True\n",
            "Root found? True\n",
            "Root found? True\n",
            "Root found? True\n",
            "Root found? True\n",
            "Root found? True\n",
            "Root found? True\n",
            "Root found? True\n",
            "Root found? True\n",
            "Root found? True\n",
            "Root found? True\n",
            "Root found? True\n",
            "Root found? True\n",
            "Root found? True\n",
            "Root found? True\n",
            "Root found? True\n",
            "Root found? True\n",
            "Root found? True\n",
            "Root found? True\n",
            "Root found? True\n",
            "Root found? True\n",
            "Root found? True\n",
            "Root found? True\n",
            "Root found? True\n",
            "Root found? True\n",
            "Root found? True\n",
            "Root found? True\n",
            "Root found? True\n"
          ]
        }
      ]
    },
    {
      "cell_type": "code",
      "source": [
        "print('The new Häagen-Dazs average unit price is $',round(P_new[0::2].mean(),2),', and the new average Ben & Jerry\\'s unit price is $',round(P_new[1::2].mean(),2),'.')\n",
        "print('The new average Häagen-Dazs market share is',round(100*s_new[0::2].mean(),2),'%. Ben & Jerry\\'s average market share is',100*round(s_new[1::2].mean(),2),'%.')"
      ],
      "metadata": {
        "id": "5bOAo0FOutQ3",
        "colab": {
          "base_uri": "https://localhost:8080/"
        },
        "outputId": "92ea1598-0dcb-4261-d11b-2f67df3e5803"
      },
      "execution_count": 29,
      "outputs": [
        {
          "output_type": "stream",
          "name": "stdout",
          "text": [
            "The new Häagen-Dazs average unit price is $ 2.75 , and the new average Ben & Jerry's unit price is $ 2.33 .\n",
            "The new average Häagen-Dazs market share is 9.63 %. Ben & Jerry's average market share is 13.0 %.\n"
          ]
        }
      ]
    },
    {
      "cell_type": "markdown",
      "source": [
        "We find that the prices and market shares of Häagen-Dazs is now on average larger than Ben & Jerry's. Can you explain why?"
      ],
      "metadata": {
        "id": "qAakhg65wi_2"
      }
    },
    {
      "cell_type": "markdown",
      "source": [
        "Next, we calculate Häagen-Dazs new (variable) profit."
      ],
      "metadata": {
        "id": "yfi_MdW-xzr2"
      }
    },
    {
      "cell_type": "code",
      "source": [
        "pi_1 = (data[data['Häagen-Dazs'] == 1]['county size']*s_new[1::2]*(P_new[1::2] - C_hat[1::2])).sum()\n",
        "print('Häagen-Dazs\\'s variable profit in the new equilibrium are $',pi_1.astype(int),'.')\n",
        "print('Häagen-Dazs would benefit by $',(pi_1-pi_0).astype(int),' if its ice cream was as good as Ben \\& Jerry\\'s.')\n"
      ],
      "metadata": {
        "id": "OvHT-xoUv1em",
        "colab": {
          "base_uri": "https://localhost:8080/"
        },
        "outputId": "bac1fd12-e6d2-4343-fb31-374a6d16d032"
      },
      "execution_count": 30,
      "outputs": [
        {
          "output_type": "stream",
          "name": "stdout",
          "text": [
            "Häagen-Dazs's variable profit in the new equilibrium are $ 9987 .\n",
            "Häagen-Dazs would benefit by $ 6079  if its ice cream was as good as Ben \\& Jerry's.\n"
          ]
        }
      ]
    },
    {
      "cell_type": "markdown",
      "source": [
        "## 8. RANDOM PRICE COEFFICIENT"
      ],
      "metadata": {
        "id": "I_oQMC3-aTHY"
      }
    },
    {
      "cell_type": "markdown",
      "source": [
        "First, we load a new dataset."
      ],
      "metadata": {
        "id": "6dTeD8olaZAb"
      }
    },
    {
      "cell_type": "code",
      "source": [
        "product_data = pd.read_csv('demand-estimation/data2.csv',index_col=0)\n",
        "product_data.head(5)"
      ],
      "metadata": {
        "id": "557aoS71bCMi",
        "outputId": "7a5531ee-8f6a-4892-fc02-c948eadfc71d",
        "colab": {
          "base_uri": "https://localhost:8080/",
          "height": 256
        }
      },
      "execution_count": 31,
      "outputs": [
        {
          "output_type": "execute_result",
          "data": {
            "text/plain": [
              "   market_ids         x  prices  demand_instruments0  demand_instruments1  \\\n",
              "0           1  3.225358    1.69             1.014285            -0.114614   \n",
              "1           1  7.415832    1.70             1.031247             0.030593   \n",
              "2           1  9.625434    1.69             1.068576            -0.003409   \n",
              "3           1  9.027434    1.63             1.033163            -0.059961   \n",
              "4           1  9.650833    1.68             0.991623            -0.020081   \n",
              "\n",
              "   consumer1  consumer2  consumer3  consumer4  consumer5  ...  consumer992  \\\n",
              "0   0.021793   0.044596   0.020649   0.020364   0.029973  ...     0.026201   \n",
              "1   0.008919   0.013294   0.007976   0.011842   0.013164  ...     0.005047   \n",
              "2   0.004425   0.005375   0.008619   0.006713   0.009200  ...     0.003913   \n",
              "3   0.005991   0.011971   0.009603   0.013924   0.023747  ...     0.002447   \n",
              "4   0.005285   0.006735   0.004403   0.004511   0.010878  ...     0.008141   \n",
              "\n",
              "   consumer993  consumer994  consumer995  consumer996  consumer997  \\\n",
              "0     0.019195     0.011970     0.024273     0.018254     0.013732   \n",
              "1     0.009023     0.012564     0.005896     0.004940     0.008294   \n",
              "2     0.003446     0.006518     0.009397     0.007003     0.005884   \n",
              "3     0.005874     0.006916     0.006502     0.008055     0.008141   \n",
              "4     0.004187     0.006065     0.013867     0.005642     0.001954   \n",
              "\n",
              "   consumer998  consumer999  consumer1000    shares  \n",
              "0     0.028446     0.042245      0.025001  0.023051  \n",
              "1     0.015124     0.015306      0.013464  0.011460  \n",
              "2     0.004696     0.003538      0.006251  0.007210  \n",
              "3     0.018533     0.007217      0.007654  0.008592  \n",
              "4     0.009350     0.004793      0.003912  0.006916  \n",
              "\n",
              "[5 rows x 1006 columns]"
            ],
            "text/html": [
              "\n",
              "  <div id=\"df-7ca42517-432f-4883-b709-8d98d68f210f\" class=\"colab-df-container\">\n",
              "    <div>\n",
              "<style scoped>\n",
              "    .dataframe tbody tr th:only-of-type {\n",
              "        vertical-align: middle;\n",
              "    }\n",
              "\n",
              "    .dataframe tbody tr th {\n",
              "        vertical-align: top;\n",
              "    }\n",
              "\n",
              "    .dataframe thead th {\n",
              "        text-align: right;\n",
              "    }\n",
              "</style>\n",
              "<table border=\"1\" class=\"dataframe\">\n",
              "  <thead>\n",
              "    <tr style=\"text-align: right;\">\n",
              "      <th></th>\n",
              "      <th>market_ids</th>\n",
              "      <th>x</th>\n",
              "      <th>prices</th>\n",
              "      <th>demand_instruments0</th>\n",
              "      <th>demand_instruments1</th>\n",
              "      <th>consumer1</th>\n",
              "      <th>consumer2</th>\n",
              "      <th>consumer3</th>\n",
              "      <th>consumer4</th>\n",
              "      <th>consumer5</th>\n",
              "      <th>...</th>\n",
              "      <th>consumer992</th>\n",
              "      <th>consumer993</th>\n",
              "      <th>consumer994</th>\n",
              "      <th>consumer995</th>\n",
              "      <th>consumer996</th>\n",
              "      <th>consumer997</th>\n",
              "      <th>consumer998</th>\n",
              "      <th>consumer999</th>\n",
              "      <th>consumer1000</th>\n",
              "      <th>shares</th>\n",
              "    </tr>\n",
              "  </thead>\n",
              "  <tbody>\n",
              "    <tr>\n",
              "      <th>0</th>\n",
              "      <td>1</td>\n",
              "      <td>3.225358</td>\n",
              "      <td>1.69</td>\n",
              "      <td>1.014285</td>\n",
              "      <td>-0.114614</td>\n",
              "      <td>0.021793</td>\n",
              "      <td>0.044596</td>\n",
              "      <td>0.020649</td>\n",
              "      <td>0.020364</td>\n",
              "      <td>0.029973</td>\n",
              "      <td>...</td>\n",
              "      <td>0.026201</td>\n",
              "      <td>0.019195</td>\n",
              "      <td>0.011970</td>\n",
              "      <td>0.024273</td>\n",
              "      <td>0.018254</td>\n",
              "      <td>0.013732</td>\n",
              "      <td>0.028446</td>\n",
              "      <td>0.042245</td>\n",
              "      <td>0.025001</td>\n",
              "      <td>0.023051</td>\n",
              "    </tr>\n",
              "    <tr>\n",
              "      <th>1</th>\n",
              "      <td>1</td>\n",
              "      <td>7.415832</td>\n",
              "      <td>1.70</td>\n",
              "      <td>1.031247</td>\n",
              "      <td>0.030593</td>\n",
              "      <td>0.008919</td>\n",
              "      <td>0.013294</td>\n",
              "      <td>0.007976</td>\n",
              "      <td>0.011842</td>\n",
              "      <td>0.013164</td>\n",
              "      <td>...</td>\n",
              "      <td>0.005047</td>\n",
              "      <td>0.009023</td>\n",
              "      <td>0.012564</td>\n",
              "      <td>0.005896</td>\n",
              "      <td>0.004940</td>\n",
              "      <td>0.008294</td>\n",
              "      <td>0.015124</td>\n",
              "      <td>0.015306</td>\n",
              "      <td>0.013464</td>\n",
              "      <td>0.011460</td>\n",
              "    </tr>\n",
              "    <tr>\n",
              "      <th>2</th>\n",
              "      <td>1</td>\n",
              "      <td>9.625434</td>\n",
              "      <td>1.69</td>\n",
              "      <td>1.068576</td>\n",
              "      <td>-0.003409</td>\n",
              "      <td>0.004425</td>\n",
              "      <td>0.005375</td>\n",
              "      <td>0.008619</td>\n",
              "      <td>0.006713</td>\n",
              "      <td>0.009200</td>\n",
              "      <td>...</td>\n",
              "      <td>0.003913</td>\n",
              "      <td>0.003446</td>\n",
              "      <td>0.006518</td>\n",
              "      <td>0.009397</td>\n",
              "      <td>0.007003</td>\n",
              "      <td>0.005884</td>\n",
              "      <td>0.004696</td>\n",
              "      <td>0.003538</td>\n",
              "      <td>0.006251</td>\n",
              "      <td>0.007210</td>\n",
              "    </tr>\n",
              "    <tr>\n",
              "      <th>3</th>\n",
              "      <td>1</td>\n",
              "      <td>9.027434</td>\n",
              "      <td>1.63</td>\n",
              "      <td>1.033163</td>\n",
              "      <td>-0.059961</td>\n",
              "      <td>0.005991</td>\n",
              "      <td>0.011971</td>\n",
              "      <td>0.009603</td>\n",
              "      <td>0.013924</td>\n",
              "      <td>0.023747</td>\n",
              "      <td>...</td>\n",
              "      <td>0.002447</td>\n",
              "      <td>0.005874</td>\n",
              "      <td>0.006916</td>\n",
              "      <td>0.006502</td>\n",
              "      <td>0.008055</td>\n",
              "      <td>0.008141</td>\n",
              "      <td>0.018533</td>\n",
              "      <td>0.007217</td>\n",
              "      <td>0.007654</td>\n",
              "      <td>0.008592</td>\n",
              "    </tr>\n",
              "    <tr>\n",
              "      <th>4</th>\n",
              "      <td>1</td>\n",
              "      <td>9.650833</td>\n",
              "      <td>1.68</td>\n",
              "      <td>0.991623</td>\n",
              "      <td>-0.020081</td>\n",
              "      <td>0.005285</td>\n",
              "      <td>0.006735</td>\n",
              "      <td>0.004403</td>\n",
              "      <td>0.004511</td>\n",
              "      <td>0.010878</td>\n",
              "      <td>...</td>\n",
              "      <td>0.008141</td>\n",
              "      <td>0.004187</td>\n",
              "      <td>0.006065</td>\n",
              "      <td>0.013867</td>\n",
              "      <td>0.005642</td>\n",
              "      <td>0.001954</td>\n",
              "      <td>0.009350</td>\n",
              "      <td>0.004793</td>\n",
              "      <td>0.003912</td>\n",
              "      <td>0.006916</td>\n",
              "    </tr>\n",
              "  </tbody>\n",
              "</table>\n",
              "<p>5 rows × 1006 columns</p>\n",
              "</div>\n",
              "    <div class=\"colab-df-buttons\">\n",
              "\n",
              "  <div class=\"colab-df-container\">\n",
              "    <button class=\"colab-df-convert\" onclick=\"convertToInteractive('df-7ca42517-432f-4883-b709-8d98d68f210f')\"\n",
              "            title=\"Convert this dataframe to an interactive table.\"\n",
              "            style=\"display:none;\">\n",
              "\n",
              "  <svg xmlns=\"http://www.w3.org/2000/svg\" height=\"24px\" viewBox=\"0 -960 960 960\">\n",
              "    <path d=\"M120-120v-720h720v720H120Zm60-500h600v-160H180v160Zm220 220h160v-160H400v160Zm0 220h160v-160H400v160ZM180-400h160v-160H180v160Zm440 0h160v-160H620v160ZM180-180h160v-160H180v160Zm440 0h160v-160H620v160Z\"/>\n",
              "  </svg>\n",
              "    </button>\n",
              "\n",
              "  <style>\n",
              "    .colab-df-container {\n",
              "      display:flex;\n",
              "      gap: 12px;\n",
              "    }\n",
              "\n",
              "    .colab-df-convert {\n",
              "      background-color: #E8F0FE;\n",
              "      border: none;\n",
              "      border-radius: 50%;\n",
              "      cursor: pointer;\n",
              "      display: none;\n",
              "      fill: #1967D2;\n",
              "      height: 32px;\n",
              "      padding: 0 0 0 0;\n",
              "      width: 32px;\n",
              "    }\n",
              "\n",
              "    .colab-df-convert:hover {\n",
              "      background-color: #E2EBFA;\n",
              "      box-shadow: 0px 1px 2px rgba(60, 64, 67, 0.3), 0px 1px 3px 1px rgba(60, 64, 67, 0.15);\n",
              "      fill: #174EA6;\n",
              "    }\n",
              "\n",
              "    .colab-df-buttons div {\n",
              "      margin-bottom: 4px;\n",
              "    }\n",
              "\n",
              "    [theme=dark] .colab-df-convert {\n",
              "      background-color: #3B4455;\n",
              "      fill: #D2E3FC;\n",
              "    }\n",
              "\n",
              "    [theme=dark] .colab-df-convert:hover {\n",
              "      background-color: #434B5C;\n",
              "      box-shadow: 0px 1px 3px 1px rgba(0, 0, 0, 0.15);\n",
              "      filter: drop-shadow(0px 1px 2px rgba(0, 0, 0, 0.3));\n",
              "      fill: #FFFFFF;\n",
              "    }\n",
              "  </style>\n",
              "\n",
              "    <script>\n",
              "      const buttonEl =\n",
              "        document.querySelector('#df-7ca42517-432f-4883-b709-8d98d68f210f button.colab-df-convert');\n",
              "      buttonEl.style.display =\n",
              "        google.colab.kernel.accessAllowed ? 'block' : 'none';\n",
              "\n",
              "      async function convertToInteractive(key) {\n",
              "        const element = document.querySelector('#df-7ca42517-432f-4883-b709-8d98d68f210f');\n",
              "        const dataTable =\n",
              "          await google.colab.kernel.invokeFunction('convertToInteractive',\n",
              "                                                    [key], {});\n",
              "        if (!dataTable) return;\n",
              "\n",
              "        const docLinkHtml = 'Like what you see? Visit the ' +\n",
              "          '<a target=\"_blank\" href=https://colab.research.google.com/notebooks/data_table.ipynb>data table notebook</a>'\n",
              "          + ' to learn more about interactive tables.';\n",
              "        element.innerHTML = '';\n",
              "        dataTable['output_type'] = 'display_data';\n",
              "        await google.colab.output.renderOutput(dataTable, element);\n",
              "        const docLink = document.createElement('div');\n",
              "        docLink.innerHTML = docLinkHtml;\n",
              "        element.appendChild(docLink);\n",
              "      }\n",
              "    </script>\n",
              "  </div>\n",
              "\n",
              "\n",
              "<div id=\"df-969854b6-f832-4703-b549-cde788a4d99b\">\n",
              "  <button class=\"colab-df-quickchart\" onclick=\"quickchart('df-969854b6-f832-4703-b549-cde788a4d99b')\"\n",
              "            title=\"Suggest charts\"\n",
              "            style=\"display:none;\">\n",
              "\n",
              "<svg xmlns=\"http://www.w3.org/2000/svg\" height=\"24px\"viewBox=\"0 0 24 24\"\n",
              "     width=\"24px\">\n",
              "    <g>\n",
              "        <path d=\"M19 3H5c-1.1 0-2 .9-2 2v14c0 1.1.9 2 2 2h14c1.1 0 2-.9 2-2V5c0-1.1-.9-2-2-2zM9 17H7v-7h2v7zm4 0h-2V7h2v10zm4 0h-2v-4h2v4z\"/>\n",
              "    </g>\n",
              "</svg>\n",
              "  </button>\n",
              "\n",
              "<style>\n",
              "  .colab-df-quickchart {\n",
              "      --bg-color: #E8F0FE;\n",
              "      --fill-color: #1967D2;\n",
              "      --hover-bg-color: #E2EBFA;\n",
              "      --hover-fill-color: #174EA6;\n",
              "      --disabled-fill-color: #AAA;\n",
              "      --disabled-bg-color: #DDD;\n",
              "  }\n",
              "\n",
              "  [theme=dark] .colab-df-quickchart {\n",
              "      --bg-color: #3B4455;\n",
              "      --fill-color: #D2E3FC;\n",
              "      --hover-bg-color: #434B5C;\n",
              "      --hover-fill-color: #FFFFFF;\n",
              "      --disabled-bg-color: #3B4455;\n",
              "      --disabled-fill-color: #666;\n",
              "  }\n",
              "\n",
              "  .colab-df-quickchart {\n",
              "    background-color: var(--bg-color);\n",
              "    border: none;\n",
              "    border-radius: 50%;\n",
              "    cursor: pointer;\n",
              "    display: none;\n",
              "    fill: var(--fill-color);\n",
              "    height: 32px;\n",
              "    padding: 0;\n",
              "    width: 32px;\n",
              "  }\n",
              "\n",
              "  .colab-df-quickchart:hover {\n",
              "    background-color: var(--hover-bg-color);\n",
              "    box-shadow: 0 1px 2px rgba(60, 64, 67, 0.3), 0 1px 3px 1px rgba(60, 64, 67, 0.15);\n",
              "    fill: var(--button-hover-fill-color);\n",
              "  }\n",
              "\n",
              "  .colab-df-quickchart-complete:disabled,\n",
              "  .colab-df-quickchart-complete:disabled:hover {\n",
              "    background-color: var(--disabled-bg-color);\n",
              "    fill: var(--disabled-fill-color);\n",
              "    box-shadow: none;\n",
              "  }\n",
              "\n",
              "  .colab-df-spinner {\n",
              "    border: 2px solid var(--fill-color);\n",
              "    border-color: transparent;\n",
              "    border-bottom-color: var(--fill-color);\n",
              "    animation:\n",
              "      spin 1s steps(1) infinite;\n",
              "  }\n",
              "\n",
              "  @keyframes spin {\n",
              "    0% {\n",
              "      border-color: transparent;\n",
              "      border-bottom-color: var(--fill-color);\n",
              "      border-left-color: var(--fill-color);\n",
              "    }\n",
              "    20% {\n",
              "      border-color: transparent;\n",
              "      border-left-color: var(--fill-color);\n",
              "      border-top-color: var(--fill-color);\n",
              "    }\n",
              "    30% {\n",
              "      border-color: transparent;\n",
              "      border-left-color: var(--fill-color);\n",
              "      border-top-color: var(--fill-color);\n",
              "      border-right-color: var(--fill-color);\n",
              "    }\n",
              "    40% {\n",
              "      border-color: transparent;\n",
              "      border-right-color: var(--fill-color);\n",
              "      border-top-color: var(--fill-color);\n",
              "    }\n",
              "    60% {\n",
              "      border-color: transparent;\n",
              "      border-right-color: var(--fill-color);\n",
              "    }\n",
              "    80% {\n",
              "      border-color: transparent;\n",
              "      border-right-color: var(--fill-color);\n",
              "      border-bottom-color: var(--fill-color);\n",
              "    }\n",
              "    90% {\n",
              "      border-color: transparent;\n",
              "      border-bottom-color: var(--fill-color);\n",
              "    }\n",
              "  }\n",
              "</style>\n",
              "\n",
              "  <script>\n",
              "    async function quickchart(key) {\n",
              "      const quickchartButtonEl =\n",
              "        document.querySelector('#' + key + ' button');\n",
              "      quickchartButtonEl.disabled = true;  // To prevent multiple clicks.\n",
              "      quickchartButtonEl.classList.add('colab-df-spinner');\n",
              "      try {\n",
              "        const charts = await google.colab.kernel.invokeFunction(\n",
              "            'suggestCharts', [key], {});\n",
              "      } catch (error) {\n",
              "        console.error('Error during call to suggestCharts:', error);\n",
              "      }\n",
              "      quickchartButtonEl.classList.remove('colab-df-spinner');\n",
              "      quickchartButtonEl.classList.add('colab-df-quickchart-complete');\n",
              "    }\n",
              "    (() => {\n",
              "      let quickchartButtonEl =\n",
              "        document.querySelector('#df-969854b6-f832-4703-b549-cde788a4d99b button');\n",
              "      quickchartButtonEl.style.display =\n",
              "        google.colab.kernel.accessAllowed ? 'block' : 'none';\n",
              "    })();\n",
              "  </script>\n",
              "</div>\n",
              "\n",
              "    </div>\n",
              "  </div>\n"
            ],
            "application/vnd.google.colaboratory.intrinsic+json": {
              "type": "dataframe",
              "variable_name": "product_data"
            }
          },
          "metadata": {},
          "execution_count": 31
        }
      ]
    },
    {
      "cell_type": "markdown",
      "source": [
        "We want to estimate demand using the following utility specification:\n",
        "$$ u_{ijt} = \\beta_0 + \\beta x_{jt} + \\alpha_i p_{jt} + \\xi_{jt} + \\epsilon_{ijt}, \\ \\text{ where } \\ \\alpha_i\\sim N(\\alpha,\\sigma^2)$$\n",
        "To estimate the demand coefficients we use the `pyblp` package."
      ],
      "metadata": {
        "id": "XiOnY8CXarHg"
      }
    },
    {
      "cell_type": "code",
      "source": [
        "!pip install pyblp\n",
        "import pyblp"
      ],
      "metadata": {
        "id": "adIS7K-mcujM",
        "colab": {
          "base_uri": "https://localhost:8080/"
        },
        "outputId": "8f59bd81-b044-4d95-b505-3c5dc2be7936"
      },
      "execution_count": 33,
      "outputs": [
        {
          "output_type": "stream",
          "name": "stdout",
          "text": [
            "Collecting pyblp\n",
            "  Downloading pyblp-1.1.0-py3-none-any.whl.metadata (8.5 kB)\n",
            "Requirement already satisfied: numpy>=1.17.0 in /usr/local/lib/python3.10/dist-packages (from pyblp) (1.26.4)\n",
            "Requirement already satisfied: patsy>=0.5.1 in /usr/local/lib/python3.10/dist-packages (from pyblp) (0.5.6)\n",
            "Collecting pyhdfe>=0.1.0 (from pyblp)\n",
            "  Downloading pyhdfe-0.2.0-py3-none-any.whl.metadata (4.0 kB)\n",
            "Requirement already satisfied: scipy>=1.2.0 in /usr/local/lib/python3.10/dist-packages (from pyblp) (1.13.1)\n",
            "Requirement already satisfied: sympy>=1.1.0 in /usr/local/lib/python3.10/dist-packages (from pyblp) (1.13.3)\n",
            "Requirement already satisfied: six in /usr/local/lib/python3.10/dist-packages (from patsy>=0.5.1->pyblp) (1.16.0)\n",
            "Requirement already satisfied: mpmath<1.4,>=1.1.0 in /usr/local/lib/python3.10/dist-packages (from sympy>=1.1.0->pyblp) (1.3.0)\n",
            "Downloading pyblp-1.1.0-py3-none-any.whl (2.0 MB)\n",
            "\u001b[2K   \u001b[90m━━━━━━━━━━━━━━━━━━━━━━━━━━━━━━━━━━━━━━━━\u001b[0m \u001b[32m2.0/2.0 MB\u001b[0m \u001b[31m23.0 MB/s\u001b[0m eta \u001b[36m0:00:00\u001b[0m\n",
            "\u001b[?25hDownloading pyhdfe-0.2.0-py3-none-any.whl (19 kB)\n",
            "Installing collected packages: pyhdfe, pyblp\n",
            "Successfully installed pyblp-1.1.0 pyhdfe-0.2.0\n"
          ]
        }
      ]
    },
    {
      "cell_type": "markdown",
      "source": [
        "Next, we specify the model. We tell `pyblp` that $\\beta_0,\\beta,$ and $\\alpha$ are the 'linear' coefficients ($X_2$)."
      ],
      "metadata": {
        "id": "N6Gyjw-wdGBl"
      }
    },
    {
      "cell_type": "code",
      "source": [
        "X1_formulation = pyblp.Formulation('1 + prices + x')"
      ],
      "metadata": {
        "id": "TPMdnypIdVE0"
      },
      "execution_count": 34,
      "outputs": []
    },
    {
      "cell_type": "markdown",
      "source": [
        "We specify that $\\alpha_i$ is a **random coefficient**."
      ],
      "metadata": {
        "id": "9nYJeXTzdWlj"
      }
    },
    {
      "cell_type": "code",
      "source": [
        "X2_formulation = pyblp.Formulation('0 + prices')"
      ],
      "metadata": {
        "id": "ieRRSz-hdWJ9"
      },
      "execution_count": 35,
      "outputs": []
    },
    {
      "cell_type": "markdown",
      "source": [
        "We specify how `pyblp` integrates numerically and what algorithm to use to solve the problem."
      ],
      "metadata": {
        "id": "QXqx7Yr6gCTf"
      }
    },
    {
      "cell_type": "code",
      "source": [
        "product_formulations = (X1_formulation, X2_formulation)\n",
        "integration = pyblp.Integration('halton', size=1000, specification_options={'seed': 0})\n",
        "bfgs = pyblp.Optimization('bfgs')\n",
        "problem = pyblp.Problem(product_formulations, product_data, integration=integration)"
      ],
      "metadata": {
        "id": "p8d3VTZgeNnP",
        "outputId": "f7516535-b368-468e-8fd2-322f0c0a4663",
        "colab": {
          "base_uri": "https://localhost:8080/"
        }
      },
      "execution_count": 36,
      "outputs": [
        {
          "output_type": "stream",
          "name": "stdout",
          "text": [
            "Initializing the problem ...\n",
            "Initialized the problem after 00:00:00.\n",
            "\n",
            "Dimensions:\n",
            "===================================\n",
            " T    N      I      K1    K2    MD \n",
            "---  ----  ------  ----  ----  ----\n",
            "100  5000  100000   3     1     4  \n",
            "===================================\n",
            "\n",
            "Formulations:\n",
            "==================================================\n",
            "       Column Indices:           0       1      2 \n",
            "-----------------------------  ------  ------  ---\n",
            " X1: Linear Characteristics      1     prices   x \n",
            "X2: Nonlinear Characteristics  prices             \n",
            "==================================================\n"
          ]
        }
      ]
    },
    {
      "cell_type": "markdown",
      "source": [
        "We ask `pyblp` to estimate the model."
      ],
      "metadata": {
        "id": "0_A7gujzg4NJ"
      }
    },
    {
      "cell_type": "code",
      "source": [
        "results = problem.solve(sigma=1.0, optimization=bfgs)\n",
        "beta0_hat,alpha_hat,beta1_hat = results.beta.flatten()\n",
        "sigma_hat = results.sigma[0,0]\n",
        "results"
      ],
      "metadata": {
        "id": "9sxYbr8ebu4W",
        "outputId": "86482e64-7d38-468a-896c-48ae9417cac7",
        "colab": {
          "base_uri": "https://localhost:8080/"
        }
      },
      "execution_count": 37,
      "outputs": [
        {
          "output_type": "stream",
          "name": "stdout",
          "text": [
            "Solving the problem ...\n",
            "\n",
            "Nonlinear Coefficient Initial Values:\n",
            "=====================\n",
            "Sigma:     prices    \n",
            "------  -------------\n",
            "prices  +1.000000E+00\n",
            "=====================\n",
            "Starting optimization ...\n",
            "\n",
            "GMM   Computation  Optimization   Objective   Fixed Point  Contraction  Clipped    Objective      Objective      Gradient                  \n",
            "Step     Time       Iterations   Evaluations  Iterations   Evaluations  Shares       Value       Improvement       Norm           Theta    \n",
            "----  -----------  ------------  -----------  -----------  -----------  -------  -------------  -------------  -------------  -------------\n",
            " 1     00:00:12         0             1           891         2779         0     +6.255667E+00                 +1.458570E-01  +1.000000E+00\n",
            " 1     00:00:13         0             2           800         2520         0     +6.236636E+00  +1.903114E-02  +1.144122E-01  +8.541430E-01\n",
            " 1     00:00:04         1             3           726         2329         0     +6.211808E+00  +2.482843E-02  +3.442086E-02  +5.181395E-01\n",
            " 1     00:00:06         2             4           732         2318         0     +6.208667E+00  +3.140465E-03  +1.123876E-02  +3.735548E-01\n",
            " 1     00:00:04         3             5           722         2269         0     +6.208122E+00  +5.446651E-04  +4.788619E-03  +3.034597E-01\n",
            " 1     00:00:04         4             6           679         2148         0     +6.207959E+00  +1.635910E-04  +1.711486E-03  +2.514207E-01\n",
            " 1     00:00:06         5             7           650         2055         0     +6.207928E+00  +3.128450E-05  +5.029224E-04  +2.224768E-01\n",
            " 1     00:00:03         6             8           637         2017         0     +6.207924E+00  +3.510779E-06  +8.800960E-05  +2.104324E-01\n",
            " 1     00:00:03         7             9           631         2002         0     +6.207924E+00  +1.196815E-07  +6.019952E-06  +2.078776E-01\n",
            "\n",
            "Optimization completed after 00:00:55.\n",
            "Computing the Hessian and and updating the weighting matrix ...\n",
            "Computed results after 00:00:14.\n",
            "\n",
            "Problem Results Summary:\n",
            "============================================================================\n",
            "GMM     Objective      Gradient                    Clipped  Weighting Matrix\n",
            "Step      Value          Norm          Hessian     Shares   Condition Number\n",
            "----  -------------  -------------  -------------  -------  ----------------\n",
            " 1    +6.207924E+00  +6.019952E-06  +5.959923E-02     0      +1.442520E+04  \n",
            "============================================================================\n",
            "\n",
            "Starting optimization ...\n",
            "\n",
            "GMM   Computation  Optimization   Objective   Fixed Point  Contraction  Clipped    Objective      Objective      Gradient                  \n",
            "Step     Time       Iterations   Evaluations  Iterations   Evaluations  Shares       Value       Improvement       Norm           Theta    \n",
            "----  -----------  ------------  -----------  -----------  -----------  -------  -------------  -------------  -------------  -------------\n",
            " 2     00:00:01         0             1            0           100         0     +1.635147E+03                 +1.584995E-03  +2.078776E-01\n",
            " 2     00:00:03         0             2           500         1600         0     +1.635147E+03                 +1.154469E-02  +2.062926E-01\n",
            " 2     00:00:05         0             3           500         1600         0     +1.635147E+03  +1.507610E-07  +6.932022E-07  +2.076875E-01\n",
            "\n",
            "Optimization completed after 00:00:09.\n",
            "Computing the Hessian and estimating standard errors ...\n",
            "Computed results after 00:00:08.\n",
            "\n",
            "Problem Results Summary:\n",
            "===============================================================================================\n",
            "GMM     Objective      Gradient                    Clipped  Weighting Matrix  Covariance Matrix\n",
            "Step      Value          Norm          Hessian     Shares   Condition Number  Condition Number \n",
            "----  -------------  -------------  -------------  -------  ----------------  -----------------\n",
            " 2    +1.635147E+03  +6.932022E-07  +7.293082E+00     0      +1.417413E+04      +3.451118E+16  \n",
            "===============================================================================================\n",
            "\n",
            "Cumulative Statistics:\n",
            "===========================================================================\n",
            "Computation  Optimizer  Optimization   Objective   Fixed Point  Contraction\n",
            "   Time      Converged   Iterations   Evaluations  Iterations   Evaluations\n",
            "-----------  ---------  ------------  -----------  -----------  -----------\n",
            " 00:01:26       Yes          9            14          8599         27339   \n",
            "===========================================================================\n",
            "\n",
            "Nonlinear Coefficient Estimates (Robust SEs in Parentheses):\n",
            "=======================\n",
            "Sigma:      prices     \n",
            "------  ---------------\n",
            "prices   +2.076875E-01 \n",
            "        (+1.496855E-02)\n",
            "=======================\n",
            "\n",
            "Beta Estimates (Robust SEs in Parentheses):\n",
            "=================================================\n",
            "       1             prices              x       \n",
            "---------------  ---------------  ---------------\n",
            " +2.572001E+00    -1.502797E+00    -1.991210E-01 \n",
            "(+2.591219E-02)  (+1.994828E-02)  (+2.499219E-04)\n",
            "=================================================\n"
          ]
        },
        {
          "output_type": "execute_result",
          "data": {
            "text/plain": [
              "Problem Results Summary:\n",
              "===============================================================================================\n",
              "GMM     Objective      Gradient                    Clipped  Weighting Matrix  Covariance Matrix\n",
              "Step      Value          Norm          Hessian     Shares   Condition Number  Condition Number \n",
              "----  -------------  -------------  -------------  -------  ----------------  -----------------\n",
              " 2    +1.635147E+03  +6.932022E-07  +7.293082E+00     0      +1.417413E+04      +3.451118E+16  \n",
              "===============================================================================================\n",
              "\n",
              "Cumulative Statistics:\n",
              "===========================================================================\n",
              "Computation  Optimizer  Optimization   Objective   Fixed Point  Contraction\n",
              "   Time      Converged   Iterations   Evaluations  Iterations   Evaluations\n",
              "-----------  ---------  ------------  -----------  -----------  -----------\n",
              " 00:01:26       Yes          9            14          8599         27339   \n",
              "===========================================================================\n",
              "\n",
              "Nonlinear Coefficient Estimates (Robust SEs in Parentheses):\n",
              "=======================\n",
              "Sigma:      prices     \n",
              "------  ---------------\n",
              "prices   +2.076875E-01 \n",
              "        (+1.496855E-02)\n",
              "=======================\n",
              "\n",
              "Beta Estimates (Robust SEs in Parentheses):\n",
              "=================================================\n",
              "       1             prices              x       \n",
              "---------------  ---------------  ---------------\n",
              " +2.572001E+00    -1.502797E+00    -1.991210E-01 \n",
              "(+2.591219E-02)  (+1.994828E-02)  (+2.499219E-04)\n",
              "================================================="
            ]
          },
          "metadata": {},
          "execution_count": 37
        }
      ]
    },
    {
      "cell_type": "markdown",
      "source": [
        "The estimates are pretty accurate. The true coefficients are:\n",
        "\n",
        "\\begin{align*}\n",
        "  \\beta_0 = & 2.6 \\\\\n",
        "  \\alpha = & -1.6 \\\\\n",
        "  \\beta_x = & -0.3 \\\\\n",
        "  \\sigma = & 0.25\n",
        "\\end{align*}"
      ],
      "metadata": {
        "id": "ITSAW4ee0KTu"
      }
    },
    {
      "cell_type": "markdown",
      "source": [],
      "metadata": {
        "id": "LKXvHW7H07K8"
      }
    },
    {
      "cell_type": "code",
      "source": [
        "ai = np.linspace(alpha_hat - 4*sigma_hat, alpha_hat + 4*sigma_hat, 1000)\n",
        "pdf = norm.pdf(ai, alpha_hat, sigma_hat)\n",
        "plt.figure(figsize=(8, 4.5))\n",
        "plt.plot(ai, pdf, label=f'Normal PDF\\nMean: {alpha_hat}, SD: {sigma_hat}')\n",
        "plt.xlabel(r'$a_i$')\n",
        "plt.ylabel('probability density')\n",
        "plt.show()"
      ],
      "metadata": {
        "colab": {
          "base_uri": "https://localhost:8080/",
          "height": 429
        },
        "id": "sK-jt2x41Ura",
        "outputId": "3a9e1f04-445d-40ef-ed0a-639d9921759f"
      },
      "execution_count": 47,
      "outputs": [
        {
          "output_type": "display_data",
          "data": {
            "text/plain": [
              "<Figure size 800x450 with 1 Axes>"
            ],
            "image/png": "[encoded data removed]"
          },
          "metadata": {}
        }
      ]
    }
  ]
}