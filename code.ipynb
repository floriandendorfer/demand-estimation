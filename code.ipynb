{
  "nbformat": 4,
  "nbformat_minor": 0,
  "metadata": {
    "colab": {
      "provenance": [],
      "authorship_tag": "ABX9TyNkj+xhMggqIwEMgzF4LMvp",
      "include_colab_link": true
    },
    "kernelspec": {
      "name": "python3",
      "display_name": "Python 3"
    },
    "language_info": {
      "name": "python"
    }
  },
  "cells": [
    {
      "cell_type": "markdown",
      "metadata": {
        "id": "view-in-github",
        "colab_type": "text"
      },
      "source": [
        "<a href=\"https://colab.research.google.com/github/floriandendorfer/demand-estimation/blob/main/code.ipynb\" target=\"_parent\"><img src=\"https://colab.research.google.com/assets/colab-badge.svg\" alt=\"Open In Colab\"/></a>"
      ]
    },
    {
      "cell_type": "markdown",
      "source": [
        "## 1. PACKAGES"
      ],
      "metadata": {
        "id": "msfD80wBuAIe"
      }
    },
    {
      "cell_type": "code",
      "source": [
        "import numpy as np\n",
        "import pandas as pd\n",
        "import statsmodels.api as sm\n",
        "from statsmodels.sandbox.regression.gmm import IV2SLS\n",
        "import matplotlib.pyplot as plt\n",
        "from scipy import optimize\n",
        "import seaborn as sns"
      ],
      "metadata": {
        "id": "sXZtEQTSuBrD"
      },
      "execution_count": 30,
      "outputs": []
    },
    {
      "cell_type": "markdown",
      "source": [
        "\n",
        "\n",
        "---\n",
        "\n"
      ],
      "metadata": {
        "id": "F8UFDVgEyldC"
      }
    },
    {
      "cell_type": "markdown",
      "source": [
        "## 2. DATA"
      ],
      "metadata": {
        "id": "K734R5kpuLxd"
      }
    },
    {
      "cell_type": "code",
      "source": [
        "#!rm -rf demand-estimation\n",
        "!git clone https://github.com/floriandendorfer/demand-estimation.git\n",
        "data = pd.read_csv('demand-estimation/data1.csv',index_col=0)"
      ],
      "metadata": {
        "id": "svYXcpZSDiRe",
        "outputId": "ef60a79b-9ccd-4a46-c220-eca9317e5f05",
        "colab": {
          "base_uri": "https://localhost:8080/"
        }
      },
      "execution_count": 31,
      "outputs": [
        {
          "output_type": "stream",
          "name": "stdout",
          "text": [
            "fatal: destination path 'demand-estimation' already exists and is not an empty directory.\n"
          ]
        }
      ]
    },
    {
      "cell_type": "markdown",
      "source": [
        "\n",
        "\n",
        "---\n",
        "\n"
      ],
      "metadata": {
        "id": "083Gc7JTypQD"
      }
    },
    {
      "cell_type": "markdown",
      "source": [
        "## 3. FIRST LOOK AT THE DATA"
      ],
      "metadata": {
        "id": "EWBp3DYBp9fL"
      }
    },
    {
      "cell_type": "markdown",
      "source": [
        "### 3.1 VARIABLES"
      ],
      "metadata": {
        "id": "QflbNmqaYf0A"
      }
    },
    {
      "cell_type": "code",
      "source": [
        "print(data.columns)"
      ],
      "metadata": {
        "id": "Fq0TQKv1uey_"
      },
      "execution_count": null,
      "outputs": []
    },
    {
      "cell_type": "markdown",
      "source": [
        "Each row contains sales information for an ice cream brand (i.e., Häagen-Dazs, Ben \\& Jerry's) and a geographic market (i.e., a county).\n",
        "\n",
        "*   `county` is the geopgrahpic market identifier ($t$ in the slides).\n",
        "*   `Häagen-Dazs` is 1 if the ice cream brand is Häagen-Dazs and 0 if the ice cream brand is Ben \\& Jerry's.\n",
        "*   `price` is the dollar price an ice cream serving of that brand is sold at.\n",
        "*   `fuel cost` is the dollar cost of transporting an ice cream serving.\n",
        "*   `sales` is the number of ice cream servings of that brand sold per week.\n",
        "*   `county size` is the number of *total* ice cream servings sold per week.\n"
      ],
      "metadata": {
        "id": "jChVzz3iqGsj"
      }
    },
    {
      "cell_type": "markdown",
      "source": [
        "### 3.2 DATA DESCRIPTION"
      ],
      "metadata": {
        "id": "fHfY_KtvjSHv"
      }
    },
    {
      "cell_type": "markdown",
      "source": [
        "Let's have a brief look at the data."
      ],
      "metadata": {
        "id": "6K9orgN5zBRH"
      }
    },
    {
      "cell_type": "code",
      "source": [
        "print(data.head(20))"
      ],
      "metadata": {
        "id": "PxEr4vNtzBjA"
      },
      "execution_count": null,
      "outputs": []
    },
    {
      "cell_type": "markdown",
      "source": [
        "Pick your favorite county."
      ],
      "metadata": {
        "id": "b5qHdXxnfy_P"
      }
    },
    {
      "cell_type": "code",
      "source": [
        "t = 10"
      ],
      "metadata": {
        "id": "r7HXJKF-f3F6"
      },
      "execution_count": null,
      "outputs": []
    },
    {
      "cell_type": "code",
      "source": [
        "print('In total,',data['county size'][t],'ice cream servings are sold in county',data['county'][t],'. As',data['sales'][t],' of them were ',np.where(data['Häagen-Dazs'][t] == 0, \"Ben & Jerry's\",\"Häagen-Dazs\"),\" ice cream, that brand's market share in this county is \",(100*data['sales'][t]/data['county size'][t]).round(2),'%. The price of a serving of', np.where(data['Häagen-Dazs'][t] == 0, \"Ben & Jerry's\",\"Häagen-Dazs\"),'ice cream in this county is $',data['price'][t].round(2),'.')"
      ],
      "metadata": {
        "id": "ShhmwBXYd4pn"
      },
      "execution_count": null,
      "outputs": []
    },
    {
      "cell_type": "code",
      "source": [
        "data.describe()"
      ],
      "metadata": {
        "id": "anqr1Qijs2Zt"
      },
      "execution_count": null,
      "outputs": []
    },
    {
      "cell_type": "markdown",
      "source": [
        "\n",
        "1.   How many counties are there?\n",
        "2.   What is the average price per serving?\n",
        "2.   What is the average market size in the sample? What is the largest market size?\n",
        "3.   What is the median number of ice cream servings sold per county for a given brand?\n",
        "\n",
        "\n",
        "\n"
      ],
      "metadata": {
        "id": "DuQ-WY-Vth-n"
      }
    },
    {
      "cell_type": "markdown",
      "source": [
        "## 4. MARKET SHARES"
      ],
      "metadata": {
        "id": "pCUayJEMy8du"
      }
    },
    {
      "cell_type": "markdown",
      "source": [
        "### 4.1 COMPUTING MARKET SHARES"
      ],
      "metadata": {
        "id": "3fT8HqP2jc93"
      }
    },
    {
      "cell_type": "code",
      "source": [
        "data['s'] = data['sales']/data['county size']"
      ],
      "metadata": {
        "id": "rP2oev-ozF37"
      },
      "execution_count": null,
      "outputs": []
    },
    {
      "cell_type": "markdown",
      "source": [
        "Calculate the market share of each firm (Häagen-Dazs, Ben & Jerry's) in each county based on the number of ice cream units sold.\n"
      ],
      "metadata": {
        "id": "x80C_G25zHhB"
      }
    },
    {
      "cell_type": "markdown",
      "source": [
        "### 4.2 COMPARING MARKET SHARES AND PRICES"
      ],
      "metadata": {
        "id": "_aIa7PcljihN"
      }
    },
    {
      "cell_type": "code",
      "source": [
        "data.groupby('Häagen-Dazs')[['price','s']].describe().loc[:, (slice(None), ['count', 'mean', 'std'])]"
      ],
      "metadata": {
        "id": "-E9-TnDovkq8"
      },
      "execution_count": null,
      "outputs": []
    },
    {
      "cell_type": "markdown",
      "source": [
        "Compare Häagen-Dazs and Ben & Jerry's in terms of their market shares and prices across counties.\n",
        "\n",
        "1.   In how many counties is Häagen-Dazs ice cream sold? Ben \\& Jerry's?\n",
        "2.   Which ice cream brand is more expensive? Which one has the larger market share?\n",
        "3.   Which ice cream brand do you think consumers prefer?\n",
        "4.   For a given brand, do market shares vary across counties? If so, why do you think that is?\n",
        "\n",
        "\n",
        "---\n",
        "\n"
      ],
      "metadata": {
        "id": "z1L-PLU3wKSS"
      }
    },
    {
      "cell_type": "markdown",
      "source": [
        "### 4.3 EVALUATING MARKET CONCENTRATION"
      ],
      "metadata": {
        "id": "_DWTgnaiyZqj"
      }
    },
    {
      "cell_type": "markdown",
      "source": [
        "Häagen-Dazs and Ben \\& Jerry's are the only products in the market for 'super-premium' ice cream. Let's calculate the Hirschmann-Hifendahl Index (HHI) for county $t$:\n",
        "$$10000\\times\\frac{\\sum_{j\\in\\{H,B\\}}\\text{sales}_{jt}^2}{(\\sum_{j\\in\\{H,B\\}}\\text{sales}_{jt})^2}$$\n"
      ],
      "metadata": {
        "id": "kbMq2NQP0RIB"
      }
    },
    {
      "cell_type": "code",
      "source": [
        "hhi1 = 10000*data.groupby('county')['s'].apply(lambda x: ((x/x.sum())**2).sum())"
      ],
      "metadata": {
        "id": "N4_nuMlalVMa"
      },
      "execution_count": null,
      "outputs": []
    },
    {
      "cell_type": "code",
      "source": [
        "print('The average county-level HHI is',hhi1.mean().astype(int),'.')"
      ],
      "metadata": {
        "id": "R_zWYz0qmL9L"
      },
      "execution_count": null,
      "outputs": []
    },
    {
      "cell_type": "markdown",
      "source": [
        "We could also report the HHI across counties:\n",
        "$$ 10000\\times \\frac{\\sum_{j\\in\\{H,B\\}}(\\sum_t \\text{sales}_{jt})^2}{(\\sum_{j\\in\\{H,B\\}}\\sum_t \\text{sales}_{jt})^2} $$"
      ],
      "metadata": {
        "id": "NmimY6xTarEP"
      }
    },
    {
      "cell_type": "code",
      "source": [
        "hhi2 = 10000*(data[data['Häagen-Dazs'] == 1]['sales'].sum()**2 + data[data['Häagen-Dazs'] == 0]['sales'].sum()**2)/(data[data['Häagen-Dazs'] == 1]['sales'].sum() + data[data['Häagen-Dazs'] == 0]['sales'].sum())**2\n"
      ],
      "metadata": {
        "id": "v0Bpe7wi0POS"
      },
      "execution_count": null,
      "outputs": []
    },
    {
      "cell_type": "code",
      "source": [
        "print('The average HHI across counties is',hhi2.mean().astype(int),'.')"
      ],
      "metadata": {
        "id": "ZuubORBmpnp7"
      },
      "execution_count": null,
      "outputs": []
    },
    {
      "cell_type": "markdown",
      "source": [
        "Is the market for 'super-premium' ice cream highly concentrated, moderately concentrated or unconcentrated?"
      ],
      "metadata": {
        "id": "sUbYBFip3i1L"
      }
    },
    {
      "cell_type": "markdown",
      "source": [
        "### 4.4 COMPUTING THE 'OUTSIDE OPTION' MARKET SHARE"
      ],
      "metadata": {
        "id": "yz7Rqdryz0AC"
      }
    },
    {
      "cell_type": "code",
      "source": [
        "data['s0'] = 1 - data.groupby(['county'])['s'].transform('sum')"
      ],
      "metadata": {
        "id": "XX7Feockz15o"
      },
      "execution_count": null,
      "outputs": []
    },
    {
      "cell_type": "markdown",
      "source": [
        "Define the 'outside option' market share for each county. Here the 'outside good' is any ice cream sold other than Ben & Jerry's or Hägen-Dazs."
      ],
      "metadata": {
        "id": "pGE36O7EzPFs"
      }
    },
    {
      "cell_type": "markdown",
      "source": [
        "## 5. DEMAND ESTIMATION"
      ],
      "metadata": {
        "id": "BjIzsRkmCZhX"
      }
    },
    {
      "cell_type": "markdown",
      "source": [
        "### 5.1 TRANSFORMING THE DATA"
      ],
      "metadata": {
        "id": "Vu70i97XqPHI"
      }
    },
    {
      "cell_type": "markdown",
      "source": [
        "Transform the market shares to back out the **mean utilities**. The transformed market share is going to be the **dependent variable** in the regressions we run. Remember:\n",
        "$$ \\ln(s_{jt}) - \\ln(s_{0t}) = \\alpha p_{jt} + \\mathbf{x}_{jt}\\prime\\boldsymbol{ \\beta } + \\xi_{jt} $$"
      ],
      "metadata": {
        "id": "dOCgy2dk0R49"
      }
    },
    {
      "cell_type": "code",
      "source": [
        "Y = np.log(data['s']) - np.log(data['s0'])"
      ],
      "metadata": {
        "id": "QQAM_uIq1IfR"
      },
      "execution_count": null,
      "outputs": []
    },
    {
      "cell_type": "markdown",
      "source": [
        "In the regression, the **independent variables** are going to be the price and the Häagen-Dazs dummy variable, plus a constant.\n",
        "$$ V_{jt} = \\beta_0 + \\beta_\\text{Häagen-Dazs}\\mathbf{1}(j = \\text{Häagen-Dazs}) + \\alpha p_{jt} + \\xi_{jt} $$"
      ],
      "metadata": {
        "id": "pGnehPLN1ccw"
      }
    },
    {
      "cell_type": "code",
      "source": [
        "X=sm.add_constant(data[['price','Häagen-Dazs']])"
      ],
      "metadata": {
        "id": "a6MMCZ9p2Fs1"
      },
      "execution_count": null,
      "outputs": []
    },
    {
      "cell_type": "markdown",
      "source": [
        "### 5.2 OLS REGRESSION"
      ],
      "metadata": {
        "id": "ZjdHTwl3vMcA"
      }
    },
    {
      "cell_type": "code",
      "source": [
        "ols = sm.OLS(Y,X)\n",
        "ols_result = ols.fit(cov_type='HC3')\n",
        "ols_result.summary()"
      ],
      "metadata": {
        "id": "1Q0pR190031w"
      },
      "execution_count": null,
      "outputs": []
    },
    {
      "cell_type": "markdown",
      "source": [
        "Let's interpret the estimation results.\n",
        "\n",
        "1.   All else equal, how much lower is the mean utility of consuming a unit of ice cream if the unit price increases by \\$1?\n",
        "2.   On average, which ice cream brand do consumers prefer?\n",
        "3.   What is the meaning of the constant? It is negative. Why do you think that is?\n",
        "4. What is the mean utility of consuming a unit of Ben & Jerry's ice cream if it is sold for \\$3?"
      ],
      "metadata": {
        "id": "1TR1MkwIDn9K"
      }
    },
    {
      "cell_type": "markdown",
      "source": [
        "### 5.3 ENDOGENEITY AND INSTRUMENTAL VARIABLE"
      ],
      "metadata": {
        "id": "wJcoGAz3FZq8"
      }
    },
    {
      "cell_type": "markdown",
      "source": [
        "Our estimate of the price coefficient is likely biased. The true coefficients are\n",
        "\n",
        "\\begin{align*}\n",
        "  \\beta_0 = & -0.44 \\\\\n",
        "  \\beta_{Häagen-Dazs} = & -1.07 \\\\\n",
        "  \\alpha = & -0.63\n",
        "\\end{align*}\n",
        "\n",
        "Why is that? Do you think the fuel price is a good **instrumental variable** for the unit price?"
      ],
      "metadata": {
        "id": "VrOnWYz6Gu96"
      }
    },
    {
      "cell_type": "code",
      "source": [
        "first_stage = sm.OLS(data['price'],sm.add_constant(data[['fuel cost','Häagen-Dazs']]))\n",
        "first_stage_result = first_stage.fit(cov_type='HC3')\n",
        "first_stage_result.summary()"
      ],
      "metadata": {
        "id": "bOqe9iwLGNaC"
      },
      "execution_count": null,
      "outputs": []
    },
    {
      "cell_type": "markdown",
      "source": [
        "1. Are the estimates significantly different from zero in a statistical sense?\n",
        "2. According to our estimates, by how much does the unit price increase if the fuel cost increases by \\$1 (and everything else is unchanged)? Does this intuitively make sense?"
      ],
      "metadata": {
        "id": "IbAPQYZqHdlu"
      }
    },
    {
      "cell_type": "markdown",
      "source": [
        "We plot Häagen-Dazs market shares and unit prices and fit a line (left). We compare this to the results of a 2SLS regression with fuel price as the instrument (right)."
      ],
      "metadata": {
        "id": "f59Kto0TMK2Z"
      }
    },
    {
      "cell_type": "code",
      "source": [
        "figure, axis = plt.subplots(1, 2,sharex=True,sharey=True,figsize=(9,3))\n",
        "\n",
        "axis[0].scatter(data[data['Häagen-Dazs'] == 0]['price'],data[data['Häagen-Dazs'] == 0]['s']*100)\n",
        "b, a = np.polyfit(data[data['Häagen-Dazs'] == 0]['price'], data[data['Häagen-Dazs'] == 0]['s']*100, deg=1)\n",
        "axis[0].plot(np.linspace(data[data['Häagen-Dazs'] == 0]['price'].min(), data[data['Häagen-Dazs'] == 0]['price'].max(), num=80), a + b * np.linspace(data[data['Häagen-Dazs'] == 0]['price'].min(), data[data['Häagen-Dazs'] == 0]['price'].max(), num=80), color=\"red\", lw=2.5)\n",
        "axis[0].set_title('W/o instrument')\n",
        "\n",
        "axis[1].scatter(data[data['Häagen-Dazs'] == 0]['price'],data[data['Häagen-Dazs'] == 0]['s']*100)\n",
        "a,b = IV2SLS(data[data['Häagen-Dazs'] == 0]['s']*100, sm.add_constant(data[data['Häagen-Dazs'] == 0]['price']), instrument = sm.add_constant(data[data['Häagen-Dazs'] == 0]['fuel cost'])).fit().params\n",
        "axis[1].plot(np.linspace(data[data['Häagen-Dazs'] == 0]['price'].min(), data[data['Häagen-Dazs'] == 0]['price'].max(), num=80), a + b * np.linspace(data[data['Häagen-Dazs'] == 0]['price'].min(), data[data['Häagen-Dazs'] == 0]['price'].max(), num=80), color=\"red\", lw=2.5)\n",
        "axis[1].set_title('W/ instrument')\n",
        "\n",
        "figure.text(0.5, 0.04, 'price (in $)', ha='center')\n",
        "figure.text(0.04, 0.5, 'market share (in %)', va='center', rotation='vertical')\n",
        "plt.show()"
      ],
      "metadata": {
        "id": "GWIKLOzKFenx"
      },
      "execution_count": null,
      "outputs": []
    },
    {
      "cell_type": "markdown",
      "source": [
        "Can you explain why the line on the right is steeper?"
      ],
      "metadata": {
        "id": "TWj3XudcM_0K"
      }
    },
    {
      "cell_type": "markdown",
      "source": [
        "### 5.4 2SLS REGRESSION"
      ],
      "metadata": {
        "id": "foNO8uuLwL5_"
      }
    },
    {
      "cell_type": "markdown",
      "source": [
        "Next, we re-estimate demand using the fuel cost to instrument the price of ice cream."
      ],
      "metadata": {
        "id": "rNA_CXFBJa03"
      }
    },
    {
      "cell_type": "code",
      "source": [
        "twosls = IV2SLS(np.log(data['s']) - np.log(data['s0']), sm.add_constant(data[['price','Häagen-Dazs']]), instrument = sm.add_constant(data[['fuel cost','Häagen-Dazs']]))\n",
        "twosls_result = twosls.fit()\n",
        "const, alpha, beta = twosls_result.params.round(2)\n",
        "twosls_result.summary()"
      ],
      "metadata": {
        "id": "p0GFjqbYGigV"
      },
      "execution_count": null,
      "outputs": []
    },
    {
      "cell_type": "markdown",
      "source": [
        "Compare the OLS and 2SLS price coefficients. Which one has a larger magnitude?"
      ],
      "metadata": {
        "id": "hQukDz7BOLV8"
      }
    },
    {
      "cell_type": "markdown",
      "source": [
        "## 6. BACKING OUT $c$ AND $\\xi$"
      ],
      "metadata": {
        "id": "5zJrHOD3hCeT"
      }
    },
    {
      "cell_type": "markdown",
      "source": [
        "### 6.1 MARGINAL COSTS"
      ],
      "metadata": {
        "id": "HN22Q9WL79TE"
      }
    },
    {
      "cell_type": "markdown",
      "source": [
        "Based on our estimates, we can back out the marginal costs of Häagen-Dazs' and Ben \\& Jerry's using the FOCs of their profit maximization problems. Recall:\n",
        "$$ \\frac{\\partial \\pi_{jt}(p_{jt}^*)}{\\partial p_{jt}} = \\alpha s_{jt}(1-s_{jt})(p_{jt}^* - c_{jt}) + s_{jt} = 0 $$\n",
        "$$ \\widehat c_{jt} = p_{jt}^* + \\frac{1}{\\widehat \\alpha(1-s_{jt})} $$"
      ],
      "metadata": {
        "id": "nfwHDydyhHXK"
      }
    },
    {
      "cell_type": "code",
      "source": [
        "C_hat = data['price'] + 1/(alpha*(1-data['s']))"
      ],
      "metadata": {
        "id": "Y5O0q6Uf6qUc"
      },
      "execution_count": null,
      "outputs": []
    },
    {
      "cell_type": "code",
      "source": [
        "print('The average cost of supplying one unit of Häagen-Dazs ice-cream is $', C_hat[1::2].mean().round(2),'.')\n",
        "print('The average cost of supplying one unit of Ben & Jerry\\'s ice-cream is $', C_hat[0::2].mean().round(2),'.')"
      ],
      "metadata": {
        "id": "7mNY8doQhfMm"
      },
      "execution_count": null,
      "outputs": []
    },
    {
      "cell_type": "markdown",
      "source": [
        "The true marginal costs are \\$0.5 and \\$1 for Häagen-Dazs and Ben & Jerry's ice cream respectively."
      ],
      "metadata": {
        "id": "vYTmTUkyn08B"
      }
    },
    {
      "cell_type": "markdown",
      "source": [
        "### 6.2 UNOBSERVED DEMAND SHOCKS"
      ],
      "metadata": {
        "id": "YRBai68t8D0w"
      }
    },
    {
      "cell_type": "markdown",
      "source": [
        "Rearrange the regression equation.\n",
        "$$ \\widehat \\xi_{jt} = \\ln(s_{jt}) - \\ln(s_{0t}) - (\\widehat β_0+\\widehat \\beta_{Häagen-Dazs}\\textbf{1}(j=\\text{Häagen-Dazs})+\\widehat \\alpha p_{jt}) $$\n"
      ],
      "metadata": {
        "id": "RamJziET8aHy"
      }
    },
    {
      "cell_type": "code",
      "source": [
        "Xi_hat = Y - (const + beta*data['Häagen-Dazs'] + alpha*data['price'])"
      ],
      "metadata": {
        "id": "f4t1hhtK8ZgT"
      },
      "execution_count": null,
      "outputs": []
    },
    {
      "cell_type": "code",
      "source": [
        "sns.kdeplot(Xi_hat)\n",
        "plt.xlabel(r'$\\widehat \\xi_{hat}$')\n",
        "plt.ylabel('density')\n",
        "plt.xlim(-4,+4)\n",
        "plt.show()"
      ],
      "metadata": {
        "id": "H145yRdN9yAm"
      },
      "execution_count": null,
      "outputs": []
    },
    {
      "cell_type": "markdown",
      "source": [
        "## 7. COMPUTING A COUNTERFACTUAL EQUILIBRIUM"
      ],
      "metadata": {
        "id": "oJONSer8cWQ8"
      }
    },
    {
      "cell_type": "markdown",
      "source": [
        "Suppose we want to find out how much Häagen-Dazs's profit would change if sold ice cream as good as Ben \\& Jerry's (i.e., if the Häagen-Dazs coefficient was zero) assuming its marginal cost did not change."
      ],
      "metadata": {
        "id": "thkRHwxkcgSD"
      }
    },
    {
      "cell_type": "markdown",
      "source": [
        "First, we calculate the variable profit using the data."
      ],
      "metadata": {
        "id": "tqdeIu3YqhJW"
      }
    },
    {
      "cell_type": "code",
      "source": [
        "pi_0 = ((data[data['Häagen-Dazs'] == 1]['sales'])*(data[data['Häagen-Dazs'] == 1]['price'] - C_hat[1::2])).sum()\n",
        "print('Häagen-Dazs\\'s variable profit in the current equilibrium are $',pi_0.astype(int),'.')"
      ],
      "metadata": {
        "id": "8lr3jJ2hhBle"
      },
      "execution_count": null,
      "outputs": []
    },
    {
      "cell_type": "markdown",
      "source": [
        "To find the new prices (and market shares) we need to find the new Nash equilibrium. That is, we need to find the set of prices that satisfy firms' FOCs."
      ],
      "metadata": {
        "id": "i0LSogN8sILb"
      }
    },
    {
      "cell_type": "code",
      "source": [
        "def foc(P,C,Xi,params):\n",
        "    const,alpha,beta = params\n",
        "    return alpha*s(P,Xi,params)*(1-s(P,Xi,params))*(P-C) + s(P,Xi,params)"
      ],
      "metadata": {
        "id": "KeB1q_U3sTe5"
      },
      "execution_count": null,
      "outputs": []
    },
    {
      "cell_type": "markdown",
      "source": [
        "\n",
        "To calculate `foc` we have to write functions that calculate market shares (`s`) which in turn depend on the mean utilities (`V`).\n",
        "\n"
      ],
      "metadata": {
        "id": "DCNEJdT8tNRu"
      }
    },
    {
      "cell_type": "code",
      "source": [
        "def s(P,Xi,params):\n",
        "    return np.exp(V(P,Xi,params))/(1 + np.exp(V(P,Xi,params)).sum())\n",
        "\n",
        "def V(P,Xi,params):\n",
        "    const,alpha,beta = params\n",
        "    return const + alpha*np.array(P) + beta*np.array([0,1]) + Xi"
      ],
      "metadata": {
        "id": "S-SF9Baftx5e"
      },
      "execution_count": null,
      "outputs": []
    },
    {
      "cell_type": "markdown",
      "source": [
        "Let's use our 2SLS estimates (except that we set the Häagen-Dazs coefficient to zero) and the marginal costs that we have calculated to calculate the new prices `P_new`."
      ],
      "metadata": {
        "id": "nAwBw3QDuGW-"
      }
    },
    {
      "cell_type": "code",
      "source": [
        "P_new = []\n",
        "s_new = []\n",
        "for t in range(1,401,2):\n",
        "  res = optimize.root(foc,[0,0],args=(C_hat[t-1:t+1],Xi_hat[t-1:t+1],[const,alpha,0]))\n",
        "  print('Root found?',res.success)\n",
        "  P_new = np.append(P_new,res.x)\n",
        "  s_new = np.append(s_new,s(res.x,Xi_hat[t-1:t+1],[const,alpha,0]))"
      ],
      "metadata": {
        "id": "MEzN1KJrBO6r"
      },
      "execution_count": null,
      "outputs": []
    },
    {
      "cell_type": "code",
      "source": [
        "print('The new Häagen-Dazs average unit price is $',round(P_new[0::2].mean(),2),', and the new average Ben & Jerry\\'s unit price is $',round(P_new[1::2].mean(),2),'.')\n",
        "print('The new average Häagen-Dazs market share is',round(100*s_new[0::2].mean(),2),'%. Ben & Jerry\\'s average market share is',100*round(s_new[1::2].mean(),2),'%.')"
      ],
      "metadata": {
        "id": "5bOAo0FOutQ3"
      },
      "execution_count": null,
      "outputs": []
    },
    {
      "cell_type": "markdown",
      "source": [
        "We find that the prices and market shares of Häagen-Dazs is now on average larger than Ben & Jerry's. Can you explain why?"
      ],
      "metadata": {
        "id": "qAakhg65wi_2"
      }
    },
    {
      "cell_type": "markdown",
      "source": [
        "Next, we calculate Häagen-Dazs new (variable) profit."
      ],
      "metadata": {
        "id": "yfi_MdW-xzr2"
      }
    },
    {
      "cell_type": "code",
      "source": [
        "pi_1 = (data[data['Häagen-Dazs'] == 1]['county size']*s_new[1::2]*(P_new[1::2] - C_hat[1::2])).sum()\n",
        "print('Häagen-Dazs\\'s variable profit in the new equilibrium are $',pi_1.astype(int),'.')\n",
        "print('Häagen-Dazs would benefit by $',(pi_1-pi_0).astype(int),' if its ice cream was as good as Ben \\& Jerry\\'s.')\n"
      ],
      "metadata": {
        "id": "OvHT-xoUv1em"
      },
      "execution_count": null,
      "outputs": []
    },
    {
      "cell_type": "markdown",
      "source": [
        "## 8. RANDOM PRICE COEFFICIENT"
      ],
      "metadata": {
        "id": "I_oQMC3-aTHY"
      }
    },
    {
      "cell_type": "markdown",
      "source": [
        "First, we load a new dataset."
      ],
      "metadata": {
        "id": "6dTeD8olaZAb"
      }
    },
    {
      "cell_type": "code",
      "source": [
        "product_data = pd.read_csv('demand-estimation/data2.csv',index_col=0)\n",
        "product_data.head(5)"
      ],
      "metadata": {
        "id": "557aoS71bCMi",
        "outputId": "15de9e94-7926-4794-c0b6-44702716e40a",
        "colab": {
          "base_uri": "https://localhost:8080/",
          "height": 255
        }
      },
      "execution_count": 33,
      "outputs": [
        {
          "output_type": "execute_result",
          "data": {
            "text/plain": [
              "   market_ids  prod_char  prices  demand_instruments0  demand_instruments1  \\\n",
              "0           1   5.931966    1.68             1.030320             0.027588   \n",
              "1           1   2.965075    1.78             1.087043             0.034510   \n",
              "2           1   1.469586    1.79             1.117546             0.002097   \n",
              "3           1   8.267921    1.68             0.985143            -0.002857   \n",
              "4           1   4.370035    1.73             1.054808             0.106722   \n",
              "\n",
              "   consumer1  consumer2  consumer3  consumer4  consumer5  ...  consumer992  \\\n",
              "0   0.007480   0.007287   0.005418   0.004801   0.010159  ...     0.016646   \n",
              "1   0.027774   0.019812   0.016037   0.013932   0.009761  ...     0.019806   \n",
              "2   0.023468   0.024597   0.011335   0.032306   0.029193  ...     0.050676   \n",
              "3   0.008778   0.002612   0.003157   0.004409   0.001991  ...     0.004391   \n",
              "4   0.008098   0.021341   0.025056   0.011532   0.012357  ...     0.006132   \n",
              "\n",
              "   consumer993  consumer994  consumer995  consumer996  consumer997  \\\n",
              "0     0.007673     0.004412     0.010079     0.013898     0.007877   \n",
              "1     0.026125     0.067008     0.011697     0.022097     0.019796   \n",
              "2     0.028746     0.017033     0.058030     0.029752     0.014138   \n",
              "3     0.006756     0.003521     0.007104     0.005316     0.003249   \n",
              "4     0.009427     0.015082     0.019154     0.008058     0.010305   \n",
              "\n",
              "   consumer998  consumer999  consumer1000    shares  \n",
              "0     0.009242     0.008859      0.016122  0.009717  \n",
              "1     0.011129     0.011352      0.023787  0.021098  \n",
              "2     0.027435     0.016186      0.028552  0.031106  \n",
              "3     0.006513     0.003448      0.004943  0.004760  \n",
              "4     0.016832     0.014940      0.016270  0.015759  \n",
              "\n",
              "[5 rows x 1006 columns]"
            ],
            "text/html": [
              "\n",
              "  <div id=\"df-c9e6ee48-b037-49b3-a930-eebf7f34ff17\" class=\"colab-df-container\">\n",
              "    <div>\n",
              "<style scoped>\n",
              "    .dataframe tbody tr th:only-of-type {\n",
              "        vertical-align: middle;\n",
              "    }\n",
              "\n",
              "    .dataframe tbody tr th {\n",
              "        vertical-align: top;\n",
              "    }\n",
              "\n",
              "    .dataframe thead th {\n",
              "        text-align: right;\n",
              "    }\n",
              "</style>\n",
              "<table border=\"1\" class=\"dataframe\">\n",
              "  <thead>\n",
              "    <tr style=\"text-align: right;\">\n",
              "      <th></th>\n",
              "      <th>market_ids</th>\n",
              "      <th>prod_char</th>\n",
              "      <th>prices</th>\n",
              "      <th>demand_instruments0</th>\n",
              "      <th>demand_instruments1</th>\n",
              "      <th>consumer1</th>\n",
              "      <th>consumer2</th>\n",
              "      <th>consumer3</th>\n",
              "      <th>consumer4</th>\n",
              "      <th>consumer5</th>\n",
              "      <th>...</th>\n",
              "      <th>consumer992</th>\n",
              "      <th>consumer993</th>\n",
              "      <th>consumer994</th>\n",
              "      <th>consumer995</th>\n",
              "      <th>consumer996</th>\n",
              "      <th>consumer997</th>\n",
              "      <th>consumer998</th>\n",
              "      <th>consumer999</th>\n",
              "      <th>consumer1000</th>\n",
              "      <th>shares</th>\n",
              "    </tr>\n",
              "  </thead>\n",
              "  <tbody>\n",
              "    <tr>\n",
              "      <th>0</th>\n",
              "      <td>1</td>\n",
              "      <td>5.931966</td>\n",
              "      <td>1.68</td>\n",
              "      <td>1.030320</td>\n",
              "      <td>0.027588</td>\n",
              "      <td>0.007480</td>\n",
              "      <td>0.007287</td>\n",
              "      <td>0.005418</td>\n",
              "      <td>0.004801</td>\n",
              "      <td>0.010159</td>\n",
              "      <td>...</td>\n",
              "      <td>0.016646</td>\n",
              "      <td>0.007673</td>\n",
              "      <td>0.004412</td>\n",
              "      <td>0.010079</td>\n",
              "      <td>0.013898</td>\n",
              "      <td>0.007877</td>\n",
              "      <td>0.009242</td>\n",
              "      <td>0.008859</td>\n",
              "      <td>0.016122</td>\n",
              "      <td>0.009717</td>\n",
              "    </tr>\n",
              "    <tr>\n",
              "      <th>1</th>\n",
              "      <td>1</td>\n",
              "      <td>2.965075</td>\n",
              "      <td>1.78</td>\n",
              "      <td>1.087043</td>\n",
              "      <td>0.034510</td>\n",
              "      <td>0.027774</td>\n",
              "      <td>0.019812</td>\n",
              "      <td>0.016037</td>\n",
              "      <td>0.013932</td>\n",
              "      <td>0.009761</td>\n",
              "      <td>...</td>\n",
              "      <td>0.019806</td>\n",
              "      <td>0.026125</td>\n",
              "      <td>0.067008</td>\n",
              "      <td>0.011697</td>\n",
              "      <td>0.022097</td>\n",
              "      <td>0.019796</td>\n",
              "      <td>0.011129</td>\n",
              "      <td>0.011352</td>\n",
              "      <td>0.023787</td>\n",
              "      <td>0.021098</td>\n",
              "    </tr>\n",
              "    <tr>\n",
              "      <th>2</th>\n",
              "      <td>1</td>\n",
              "      <td>1.469586</td>\n",
              "      <td>1.79</td>\n",
              "      <td>1.117546</td>\n",
              "      <td>0.002097</td>\n",
              "      <td>0.023468</td>\n",
              "      <td>0.024597</td>\n",
              "      <td>0.011335</td>\n",
              "      <td>0.032306</td>\n",
              "      <td>0.029193</td>\n",
              "      <td>...</td>\n",
              "      <td>0.050676</td>\n",
              "      <td>0.028746</td>\n",
              "      <td>0.017033</td>\n",
              "      <td>0.058030</td>\n",
              "      <td>0.029752</td>\n",
              "      <td>0.014138</td>\n",
              "      <td>0.027435</td>\n",
              "      <td>0.016186</td>\n",
              "      <td>0.028552</td>\n",
              "      <td>0.031106</td>\n",
              "    </tr>\n",
              "    <tr>\n",
              "      <th>3</th>\n",
              "      <td>1</td>\n",
              "      <td>8.267921</td>\n",
              "      <td>1.68</td>\n",
              "      <td>0.985143</td>\n",
              "      <td>-0.002857</td>\n",
              "      <td>0.008778</td>\n",
              "      <td>0.002612</td>\n",
              "      <td>0.003157</td>\n",
              "      <td>0.004409</td>\n",
              "      <td>0.001991</td>\n",
              "      <td>...</td>\n",
              "      <td>0.004391</td>\n",
              "      <td>0.006756</td>\n",
              "      <td>0.003521</td>\n",
              "      <td>0.007104</td>\n",
              "      <td>0.005316</td>\n",
              "      <td>0.003249</td>\n",
              "      <td>0.006513</td>\n",
              "      <td>0.003448</td>\n",
              "      <td>0.004943</td>\n",
              "      <td>0.004760</td>\n",
              "    </tr>\n",
              "    <tr>\n",
              "      <th>4</th>\n",
              "      <td>1</td>\n",
              "      <td>4.370035</td>\n",
              "      <td>1.73</td>\n",
              "      <td>1.054808</td>\n",
              "      <td>0.106722</td>\n",
              "      <td>0.008098</td>\n",
              "      <td>0.021341</td>\n",
              "      <td>0.025056</td>\n",
              "      <td>0.011532</td>\n",
              "      <td>0.012357</td>\n",
              "      <td>...</td>\n",
              "      <td>0.006132</td>\n",
              "      <td>0.009427</td>\n",
              "      <td>0.015082</td>\n",
              "      <td>0.019154</td>\n",
              "      <td>0.008058</td>\n",
              "      <td>0.010305</td>\n",
              "      <td>0.016832</td>\n",
              "      <td>0.014940</td>\n",
              "      <td>0.016270</td>\n",
              "      <td>0.015759</td>\n",
              "    </tr>\n",
              "  </tbody>\n",
              "</table>\n",
              "<p>5 rows × 1006 columns</p>\n",
              "</div>\n",
              "    <div class=\"colab-df-buttons\">\n",
              "\n",
              "  <div class=\"colab-df-container\">\n",
              "    <button class=\"colab-df-convert\" onclick=\"convertToInteractive('df-c9e6ee48-b037-49b3-a930-eebf7f34ff17')\"\n",
              "            title=\"Convert this dataframe to an interactive table.\"\n",
              "            style=\"display:none;\">\n",
              "\n",
              "  <svg xmlns=\"http://www.w3.org/2000/svg\" height=\"24px\" viewBox=\"0 -960 960 960\">\n",
              "    <path d=\"M120-120v-720h720v720H120Zm60-500h600v-160H180v160Zm220 220h160v-160H400v160Zm0 220h160v-160H400v160ZM180-400h160v-160H180v160Zm440 0h160v-160H620v160ZM180-180h160v-160H180v160Zm440 0h160v-160H620v160Z\"/>\n",
              "  </svg>\n",
              "    </button>\n",
              "\n",
              "  <style>\n",
              "    .colab-df-container {\n",
              "      display:flex;\n",
              "      gap: 12px;\n",
              "    }\n",
              "\n",
              "    .colab-df-convert {\n",
              "      background-color: #E8F0FE;\n",
              "      border: none;\n",
              "      border-radius: 50%;\n",
              "      cursor: pointer;\n",
              "      display: none;\n",
              "      fill: #1967D2;\n",
              "      height: 32px;\n",
              "      padding: 0 0 0 0;\n",
              "      width: 32px;\n",
              "    }\n",
              "\n",
              "    .colab-df-convert:hover {\n",
              "      background-color: #E2EBFA;\n",
              "      box-shadow: 0px 1px 2px rgba(60, 64, 67, 0.3), 0px 1px 3px 1px rgba(60, 64, 67, 0.15);\n",
              "      fill: #174EA6;\n",
              "    }\n",
              "\n",
              "    .colab-df-buttons div {\n",
              "      margin-bottom: 4px;\n",
              "    }\n",
              "\n",
              "    [theme=dark] .colab-df-convert {\n",
              "      background-color: #3B4455;\n",
              "      fill: #D2E3FC;\n",
              "    }\n",
              "\n",
              "    [theme=dark] .colab-df-convert:hover {\n",
              "      background-color: #434B5C;\n",
              "      box-shadow: 0px 1px 3px 1px rgba(0, 0, 0, 0.15);\n",
              "      filter: drop-shadow(0px 1px 2px rgba(0, 0, 0, 0.3));\n",
              "      fill: #FFFFFF;\n",
              "    }\n",
              "  </style>\n",
              "\n",
              "    <script>\n",
              "      const buttonEl =\n",
              "        document.querySelector('#df-c9e6ee48-b037-49b3-a930-eebf7f34ff17 button.colab-df-convert');\n",
              "      buttonEl.style.display =\n",
              "        google.colab.kernel.accessAllowed ? 'block' : 'none';\n",
              "\n",
              "      async function convertToInteractive(key) {\n",
              "        const element = document.querySelector('#df-c9e6ee48-b037-49b3-a930-eebf7f34ff17');\n",
              "        const dataTable =\n",
              "          await google.colab.kernel.invokeFunction('convertToInteractive',\n",
              "                                                    [key], {});\n",
              "        if (!dataTable) return;\n",
              "\n",
              "        const docLinkHtml = 'Like what you see? Visit the ' +\n",
              "          '<a target=\"_blank\" href=https://colab.research.google.com/notebooks/data_table.ipynb>data table notebook</a>'\n",
              "          + ' to learn more about interactive tables.';\n",
              "        element.innerHTML = '';\n",
              "        dataTable['output_type'] = 'display_data';\n",
              "        await google.colab.output.renderOutput(dataTable, element);\n",
              "        const docLink = document.createElement('div');\n",
              "        docLink.innerHTML = docLinkHtml;\n",
              "        element.appendChild(docLink);\n",
              "      }\n",
              "    </script>\n",
              "  </div>\n",
              "\n",
              "\n",
              "<div id=\"df-1fd1de02-6940-4068-9d2c-cd30ff9b1b68\">\n",
              "  <button class=\"colab-df-quickchart\" onclick=\"quickchart('df-1fd1de02-6940-4068-9d2c-cd30ff9b1b68')\"\n",
              "            title=\"Suggest charts\"\n",
              "            style=\"display:none;\">\n",
              "\n",
              "<svg xmlns=\"http://www.w3.org/2000/svg\" height=\"24px\"viewBox=\"0 0 24 24\"\n",
              "     width=\"24px\">\n",
              "    <g>\n",
              "        <path d=\"M19 3H5c-1.1 0-2 .9-2 2v14c0 1.1.9 2 2 2h14c1.1 0 2-.9 2-2V5c0-1.1-.9-2-2-2zM9 17H7v-7h2v7zm4 0h-2V7h2v10zm4 0h-2v-4h2v4z\"/>\n",
              "    </g>\n",
              "</svg>\n",
              "  </button>\n",
              "\n",
              "<style>\n",
              "  .colab-df-quickchart {\n",
              "      --bg-color: #E8F0FE;\n",
              "      --fill-color: #1967D2;\n",
              "      --hover-bg-color: #E2EBFA;\n",
              "      --hover-fill-color: #174EA6;\n",
              "      --disabled-fill-color: #AAA;\n",
              "      --disabled-bg-color: #DDD;\n",
              "  }\n",
              "\n",
              "  [theme=dark] .colab-df-quickchart {\n",
              "      --bg-color: #3B4455;\n",
              "      --fill-color: #D2E3FC;\n",
              "      --hover-bg-color: #434B5C;\n",
              "      --hover-fill-color: #FFFFFF;\n",
              "      --disabled-bg-color: #3B4455;\n",
              "      --disabled-fill-color: #666;\n",
              "  }\n",
              "\n",
              "  .colab-df-quickchart {\n",
              "    background-color: var(--bg-color);\n",
              "    border: none;\n",
              "    border-radius: 50%;\n",
              "    cursor: pointer;\n",
              "    display: none;\n",
              "    fill: var(--fill-color);\n",
              "    height: 32px;\n",
              "    padding: 0;\n",
              "    width: 32px;\n",
              "  }\n",
              "\n",
              "  .colab-df-quickchart:hover {\n",
              "    background-color: var(--hover-bg-color);\n",
              "    box-shadow: 0 1px 2px rgba(60, 64, 67, 0.3), 0 1px 3px 1px rgba(60, 64, 67, 0.15);\n",
              "    fill: var(--button-hover-fill-color);\n",
              "  }\n",
              "\n",
              "  .colab-df-quickchart-complete:disabled,\n",
              "  .colab-df-quickchart-complete:disabled:hover {\n",
              "    background-color: var(--disabled-bg-color);\n",
              "    fill: var(--disabled-fill-color);\n",
              "    box-shadow: none;\n",
              "  }\n",
              "\n",
              "  .colab-df-spinner {\n",
              "    border: 2px solid var(--fill-color);\n",
              "    border-color: transparent;\n",
              "    border-bottom-color: var(--fill-color);\n",
              "    animation:\n",
              "      spin 1s steps(1) infinite;\n",
              "  }\n",
              "\n",
              "  @keyframes spin {\n",
              "    0% {\n",
              "      border-color: transparent;\n",
              "      border-bottom-color: var(--fill-color);\n",
              "      border-left-color: var(--fill-color);\n",
              "    }\n",
              "    20% {\n",
              "      border-color: transparent;\n",
              "      border-left-color: var(--fill-color);\n",
              "      border-top-color: var(--fill-color);\n",
              "    }\n",
              "    30% {\n",
              "      border-color: transparent;\n",
              "      border-left-color: var(--fill-color);\n",
              "      border-top-color: var(--fill-color);\n",
              "      border-right-color: var(--fill-color);\n",
              "    }\n",
              "    40% {\n",
              "      border-color: transparent;\n",
              "      border-right-color: var(--fill-color);\n",
              "      border-top-color: var(--fill-color);\n",
              "    }\n",
              "    60% {\n",
              "      border-color: transparent;\n",
              "      border-right-color: var(--fill-color);\n",
              "    }\n",
              "    80% {\n",
              "      border-color: transparent;\n",
              "      border-right-color: var(--fill-color);\n",
              "      border-bottom-color: var(--fill-color);\n",
              "    }\n",
              "    90% {\n",
              "      border-color: transparent;\n",
              "      border-bottom-color: var(--fill-color);\n",
              "    }\n",
              "  }\n",
              "</style>\n",
              "\n",
              "  <script>\n",
              "    async function quickchart(key) {\n",
              "      const quickchartButtonEl =\n",
              "        document.querySelector('#' + key + ' button');\n",
              "      quickchartButtonEl.disabled = true;  // To prevent multiple clicks.\n",
              "      quickchartButtonEl.classList.add('colab-df-spinner');\n",
              "      try {\n",
              "        const charts = await google.colab.kernel.invokeFunction(\n",
              "            'suggestCharts', [key], {});\n",
              "      } catch (error) {\n",
              "        console.error('Error during call to suggestCharts:', error);\n",
              "      }\n",
              "      quickchartButtonEl.classList.remove('colab-df-spinner');\n",
              "      quickchartButtonEl.classList.add('colab-df-quickchart-complete');\n",
              "    }\n",
              "    (() => {\n",
              "      let quickchartButtonEl =\n",
              "        document.querySelector('#df-1fd1de02-6940-4068-9d2c-cd30ff9b1b68 button');\n",
              "      quickchartButtonEl.style.display =\n",
              "        google.colab.kernel.accessAllowed ? 'block' : 'none';\n",
              "    })();\n",
              "  </script>\n",
              "</div>\n",
              "\n",
              "    </div>\n",
              "  </div>\n"
            ],
            "application/vnd.google.colaboratory.intrinsic+json": {
              "type": "dataframe",
              "variable_name": "product_data"
            }
          },
          "metadata": {},
          "execution_count": 33
        }
      ]
    },
    {
      "cell_type": "markdown",
      "source": [
        "We want to estimate demand using the following utility specification:\n",
        "$$ u_{ijt} = \\beta_0 + \\beta x_{jt} + \\alpha_i p_{jt} + \\xi_{jt} + \\epsilon_{ijt}, \\ \\text{ where } \\ \\alpha_i\\sim N(\\alpha,\\sigma^2)$$\n",
        "To estimate the demand coefficients we use the `pyblp` package."
      ],
      "metadata": {
        "id": "XiOnY8CXarHg"
      }
    },
    {
      "cell_type": "code",
      "source": [
        "#!pip install pyblp\n",
        "import pyblp"
      ],
      "metadata": {
        "id": "adIS7K-mcujM"
      },
      "execution_count": 14,
      "outputs": []
    },
    {
      "cell_type": "markdown",
      "source": [
        "Next, we specify the model. We tell `pyblp` that $\\beta_0,\\beta,$ and $\\alpha$ are the 'linear' coefficients ($X_2$)."
      ],
      "metadata": {
        "id": "N6Gyjw-wdGBl"
      }
    },
    {
      "cell_type": "code",
      "source": [
        "X1_formulation = pyblp.Formulation('1 + prices + x')"
      ],
      "metadata": {
        "id": "TPMdnypIdVE0"
      },
      "execution_count": 20,
      "outputs": []
    },
    {
      "cell_type": "markdown",
      "source": [
        "We specify that $\\alpha_i$ is a **random coefficient**."
      ],
      "metadata": {
        "id": "9nYJeXTzdWlj"
      }
    },
    {
      "cell_type": "code",
      "source": [
        "X2_formulation = pyblp.Formulation('0 + prices')"
      ],
      "metadata": {
        "id": "ieRRSz-hdWJ9"
      },
      "execution_count": 21,
      "outputs": []
    },
    {
      "cell_type": "markdown",
      "source": [
        "We specify how `pyblp` integrates numerically and what algorithm to use to solve the problem."
      ],
      "metadata": {
        "id": "QXqx7Yr6gCTf"
      }
    },
    {
      "cell_type": "code",
      "source": [
        "product_formulations = (X1_formulation, X2_formulation)\n",
        "integration = pyblp.Integration('halton', size=1000, specification_options={'seed': 0})\n",
        "bfgs = pyblp.Optimization('bfgs')\n",
        "problem = pyblp.Problem(product_formulations, product_data, integration=integration)"
      ],
      "metadata": {
        "id": "p8d3VTZgeNnP",
        "outputId": "df9065aa-9c0a-4d00-8cdc-f962b6f5f788",
        "colab": {
          "base_uri": "https://localhost:8080/",
          "height": 698
        }
      },
      "execution_count": 32,
      "outputs": [
        {
          "output_type": "stream",
          "name": "stdout",
          "text": [
            "Initializing the problem ...\n"
          ]
        },
        {
          "output_type": "error",
          "ename": "PatsyError",
          "evalue": "Failed to load data for 'x' because of the above exception.\n    1 + prices + x\n    ^^^^^^^^^^^^^^",
          "traceback": [
            "\u001b[0;31m---------------------------------------------------------------------------\u001b[0m",
            "\u001b[0;31mKeyError\u001b[0m                                  Traceback (most recent call last)",
            "\u001b[0;32m/usr/local/lib/python3.10/dist-packages/pandas/core/indexes/base.py\u001b[0m in \u001b[0;36mget_loc\u001b[0;34m(self, key)\u001b[0m\n\u001b[1;32m   3804\u001b[0m         \u001b[0;32mtry\u001b[0m\u001b[0;34m:\u001b[0m\u001b[0;34m\u001b[0m\u001b[0;34m\u001b[0m\u001b[0m\n\u001b[0;32m-> 3805\u001b[0;31m             \u001b[0;32mreturn\u001b[0m \u001b[0mself\u001b[0m\u001b[0;34m.\u001b[0m\u001b[0m_engine\u001b[0m\u001b[0;34m.\u001b[0m\u001b[0mget_loc\u001b[0m\u001b[0;34m(\u001b[0m\u001b[0mcasted_key\u001b[0m\u001b[0;34m)\u001b[0m\u001b[0;34m\u001b[0m\u001b[0;34m\u001b[0m\u001b[0m\n\u001b[0m\u001b[1;32m   3806\u001b[0m         \u001b[0;32mexcept\u001b[0m \u001b[0mKeyError\u001b[0m \u001b[0;32mas\u001b[0m \u001b[0merr\u001b[0m\u001b[0;34m:\u001b[0m\u001b[0;34m\u001b[0m\u001b[0;34m\u001b[0m\u001b[0m\n",
            "\u001b[0;32mindex.pyx\u001b[0m in \u001b[0;36mpandas._libs.index.IndexEngine.get_loc\u001b[0;34m()\u001b[0m\n",
            "\u001b[0;32mindex.pyx\u001b[0m in \u001b[0;36mpandas._libs.index.IndexEngine.get_loc\u001b[0;34m()\u001b[0m\n",
            "\u001b[0;32mpandas/_libs/hashtable_class_helper.pxi\u001b[0m in \u001b[0;36mpandas._libs.hashtable.PyObjectHashTable.get_item\u001b[0;34m()\u001b[0m\n",
            "\u001b[0;32mpandas/_libs/hashtable_class_helper.pxi\u001b[0m in \u001b[0;36mpandas._libs.hashtable.PyObjectHashTable.get_item\u001b[0;34m()\u001b[0m\n",
            "\u001b[0;31mKeyError\u001b[0m: 'x'",
            "\nThe above exception was the direct cause of the following exception:\n",
            "\u001b[0;31mKeyError\u001b[0m                                  Traceback (most recent call last)",
            "\u001b[0;32m/usr/local/lib/python3.10/dist-packages/pyblp/configurations/formulation.py\u001b[0m in \u001b[0;36m_build_matrix\u001b[0;34m(self, data, fallback_index, ignore_na)\u001b[0m\n\u001b[1;32m    179\u001b[0m             \u001b[0;32mtry\u001b[0m\u001b[0;34m:\u001b[0m\u001b[0;34m\u001b[0m\u001b[0;34m\u001b[0m\u001b[0m\n\u001b[0;32m--> 180\u001b[0;31m                 \u001b[0mdata_mapping\u001b[0m\u001b[0;34m[\u001b[0m\u001b[0mname\u001b[0m\u001b[0;34m]\u001b[0m \u001b[0;34m=\u001b[0m \u001b[0mnp\u001b[0m\u001b[0;34m.\u001b[0m\u001b[0masarray\u001b[0m\u001b[0;34m(\u001b[0m\u001b[0mdata\u001b[0m\u001b[0;34m[\u001b[0m\u001b[0mname\u001b[0m\u001b[0;34m]\u001b[0m\u001b[0;34m)\u001b[0m\u001b[0;34m.\u001b[0m\u001b[0mflatten\u001b[0m\u001b[0;34m(\u001b[0m\u001b[0;34m)\u001b[0m\u001b[0;34m\u001b[0m\u001b[0;34m\u001b[0m\u001b[0m\n\u001b[0m\u001b[1;32m    181\u001b[0m             \u001b[0;32mexcept\u001b[0m \u001b[0mException\u001b[0m \u001b[0;32mas\u001b[0m \u001b[0mexception\u001b[0m\u001b[0;34m:\u001b[0m\u001b[0;34m\u001b[0m\u001b[0;34m\u001b[0m\u001b[0m\n",
            "\u001b[0;32m/usr/local/lib/python3.10/dist-packages/pandas/core/frame.py\u001b[0m in \u001b[0;36m__getitem__\u001b[0;34m(self, key)\u001b[0m\n\u001b[1;32m   4101\u001b[0m                 \u001b[0;32mreturn\u001b[0m \u001b[0mself\u001b[0m\u001b[0;34m.\u001b[0m\u001b[0m_getitem_multilevel\u001b[0m\u001b[0;34m(\u001b[0m\u001b[0mkey\u001b[0m\u001b[0;34m)\u001b[0m\u001b[0;34m\u001b[0m\u001b[0;34m\u001b[0m\u001b[0m\n\u001b[0;32m-> 4102\u001b[0;31m             \u001b[0mindexer\u001b[0m \u001b[0;34m=\u001b[0m \u001b[0mself\u001b[0m\u001b[0;34m.\u001b[0m\u001b[0mcolumns\u001b[0m\u001b[0;34m.\u001b[0m\u001b[0mget_loc\u001b[0m\u001b[0;34m(\u001b[0m\u001b[0mkey\u001b[0m\u001b[0;34m)\u001b[0m\u001b[0;34m\u001b[0m\u001b[0;34m\u001b[0m\u001b[0m\n\u001b[0m\u001b[1;32m   4103\u001b[0m             \u001b[0;32mif\u001b[0m \u001b[0mis_integer\u001b[0m\u001b[0;34m(\u001b[0m\u001b[0mindexer\u001b[0m\u001b[0;34m)\u001b[0m\u001b[0;34m:\u001b[0m\u001b[0;34m\u001b[0m\u001b[0;34m\u001b[0m\u001b[0m\n",
            "\u001b[0;32m/usr/local/lib/python3.10/dist-packages/pandas/core/indexes/base.py\u001b[0m in \u001b[0;36mget_loc\u001b[0;34m(self, key)\u001b[0m\n\u001b[1;32m   3811\u001b[0m                 \u001b[0;32mraise\u001b[0m \u001b[0mInvalidIndexError\u001b[0m\u001b[0;34m(\u001b[0m\u001b[0mkey\u001b[0m\u001b[0;34m)\u001b[0m\u001b[0;34m\u001b[0m\u001b[0;34m\u001b[0m\u001b[0m\n\u001b[0;32m-> 3812\u001b[0;31m             \u001b[0;32mraise\u001b[0m \u001b[0mKeyError\u001b[0m\u001b[0;34m(\u001b[0m\u001b[0mkey\u001b[0m\u001b[0;34m)\u001b[0m \u001b[0;32mfrom\u001b[0m \u001b[0merr\u001b[0m\u001b[0;34m\u001b[0m\u001b[0;34m\u001b[0m\u001b[0m\n\u001b[0m\u001b[1;32m   3813\u001b[0m         \u001b[0;32mexcept\u001b[0m \u001b[0mTypeError\u001b[0m\u001b[0;34m:\u001b[0m\u001b[0;34m\u001b[0m\u001b[0;34m\u001b[0m\u001b[0m\n",
            "\u001b[0;31mKeyError\u001b[0m: 'x'",
            "\nThe above exception was the direct cause of the following exception:\n",
            "\u001b[0;31mPatsyError\u001b[0m                                Traceback (most recent call last)",
            "\u001b[0;32m<ipython-input-32-62bbba7ea51e>\u001b[0m in \u001b[0;36m<cell line: 4>\u001b[0;34m()\u001b[0m\n\u001b[1;32m      2\u001b[0m \u001b[0mintegration\u001b[0m \u001b[0;34m=\u001b[0m \u001b[0mpyblp\u001b[0m\u001b[0;34m.\u001b[0m\u001b[0mIntegration\u001b[0m\u001b[0;34m(\u001b[0m\u001b[0;34m'halton'\u001b[0m\u001b[0;34m,\u001b[0m \u001b[0msize\u001b[0m\u001b[0;34m=\u001b[0m\u001b[0;36m1000\u001b[0m\u001b[0;34m,\u001b[0m \u001b[0mspecification_options\u001b[0m\u001b[0;34m=\u001b[0m\u001b[0;34m{\u001b[0m\u001b[0;34m'seed'\u001b[0m\u001b[0;34m:\u001b[0m \u001b[0;36m0\u001b[0m\u001b[0;34m}\u001b[0m\u001b[0;34m)\u001b[0m\u001b[0;34m\u001b[0m\u001b[0;34m\u001b[0m\u001b[0m\n\u001b[1;32m      3\u001b[0m \u001b[0mbfgs\u001b[0m \u001b[0;34m=\u001b[0m \u001b[0mpyblp\u001b[0m\u001b[0;34m.\u001b[0m\u001b[0mOptimization\u001b[0m\u001b[0;34m(\u001b[0m\u001b[0;34m'bfgs'\u001b[0m\u001b[0;34m)\u001b[0m\u001b[0;34m\u001b[0m\u001b[0;34m\u001b[0m\u001b[0m\n\u001b[0;32m----> 4\u001b[0;31m \u001b[0mproblem\u001b[0m \u001b[0;34m=\u001b[0m \u001b[0mpyblp\u001b[0m\u001b[0;34m.\u001b[0m\u001b[0mProblem\u001b[0m\u001b[0;34m(\u001b[0m\u001b[0mproduct_formulations\u001b[0m\u001b[0;34m,\u001b[0m \u001b[0mproduct_data\u001b[0m\u001b[0;34m,\u001b[0m \u001b[0mintegration\u001b[0m\u001b[0;34m=\u001b[0m\u001b[0mintegration\u001b[0m\u001b[0;34m)\u001b[0m\u001b[0;34m\u001b[0m\u001b[0;34m\u001b[0m\u001b[0m\n\u001b[0m",
            "\u001b[0;32m/usr/local/lib/python3.10/dist-packages/pyblp/economies/problem.py\u001b[0m in \u001b[0;36m__init__\u001b[0;34m(self, product_formulations, product_data, agent_formulation, agent_data, integration, rc_types, epsilon_scale, costs_type, add_exogenous)\u001b[0m\n\u001b[1;32m   1611\u001b[0m \u001b[0;34m\u001b[0m\u001b[0m\n\u001b[1;32m   1612\u001b[0m         \u001b[0;31m# initialize the underlying economy with structured product and agent data\u001b[0m\u001b[0;34m\u001b[0m\u001b[0;34m\u001b[0m\u001b[0m\n\u001b[0;32m-> 1613\u001b[0;31m         \u001b[0mproducts\u001b[0m \u001b[0;34m=\u001b[0m \u001b[0mProducts\u001b[0m\u001b[0;34m(\u001b[0m\u001b[0mproduct_formulations\u001b[0m\u001b[0;34m,\u001b[0m \u001b[0mproduct_data\u001b[0m\u001b[0;34m,\u001b[0m \u001b[0madd_exogenous\u001b[0m\u001b[0;34m=\u001b[0m\u001b[0madd_exogenous\u001b[0m\u001b[0;34m)\u001b[0m\u001b[0;34m\u001b[0m\u001b[0;34m\u001b[0m\u001b[0m\n\u001b[0m\u001b[1;32m   1614\u001b[0m         \u001b[0magents\u001b[0m \u001b[0;34m=\u001b[0m \u001b[0mAgents\u001b[0m\u001b[0;34m(\u001b[0m\u001b[0mproducts\u001b[0m\u001b[0;34m,\u001b[0m \u001b[0magent_formulation\u001b[0m\u001b[0;34m,\u001b[0m \u001b[0magent_data\u001b[0m\u001b[0;34m,\u001b[0m \u001b[0mintegration\u001b[0m\u001b[0;34m)\u001b[0m\u001b[0;34m\u001b[0m\u001b[0;34m\u001b[0m\u001b[0m\n\u001b[1;32m   1615\u001b[0m         \u001b[0msuper\u001b[0m\u001b[0;34m(\u001b[0m\u001b[0;34m)\u001b[0m\u001b[0;34m.\u001b[0m\u001b[0m__init__\u001b[0m\u001b[0;34m(\u001b[0m\u001b[0mproduct_formulations\u001b[0m\u001b[0;34m,\u001b[0m \u001b[0magent_formulation\u001b[0m\u001b[0;34m,\u001b[0m \u001b[0mproducts\u001b[0m\u001b[0;34m,\u001b[0m \u001b[0magents\u001b[0m\u001b[0;34m,\u001b[0m \u001b[0mrc_types\u001b[0m\u001b[0;34m,\u001b[0m \u001b[0mepsilon_scale\u001b[0m\u001b[0;34m,\u001b[0m \u001b[0mcosts_type\u001b[0m\u001b[0;34m)\u001b[0m\u001b[0;34m\u001b[0m\u001b[0;34m\u001b[0m\u001b[0m\n",
            "\u001b[0;32m/usr/local/lib/python3.10/dist-packages/pyblp/primitives.py\u001b[0m in \u001b[0;36m__new__\u001b[0;34m(cls, product_formulations, product_data, instruments, add_exogenous)\u001b[0m\n\u001b[1;32m     94\u001b[0m \u001b[0;34m\u001b[0m\u001b[0m\n\u001b[1;32m     95\u001b[0m         \u001b[0;31m# build X1\u001b[0m\u001b[0;34m\u001b[0m\u001b[0;34m\u001b[0m\u001b[0m\n\u001b[0;32m---> 96\u001b[0;31m         \u001b[0mX1\u001b[0m\u001b[0;34m,\u001b[0m \u001b[0mX1_formulations\u001b[0m\u001b[0;34m,\u001b[0m \u001b[0mX1_data\u001b[0m \u001b[0;34m=\u001b[0m \u001b[0mproduct_formulations\u001b[0m\u001b[0;34m[\u001b[0m\u001b[0;36m0\u001b[0m\u001b[0;34m]\u001b[0m\u001b[0;34m.\u001b[0m\u001b[0m_build_matrix\u001b[0m\u001b[0;34m(\u001b[0m\u001b[0mproduct_data\u001b[0m\u001b[0;34m)\u001b[0m\u001b[0;34m\u001b[0m\u001b[0;34m\u001b[0m\u001b[0m\n\u001b[0m\u001b[1;32m     97\u001b[0m         \u001b[0;32mif\u001b[0m \u001b[0;34m'shares'\u001b[0m \u001b[0;32min\u001b[0m \u001b[0mX1_data\u001b[0m\u001b[0;34m:\u001b[0m\u001b[0;34m\u001b[0m\u001b[0;34m\u001b[0m\u001b[0m\n\u001b[1;32m     98\u001b[0m             \u001b[0;32mraise\u001b[0m \u001b[0mNameError\u001b[0m\u001b[0;34m(\u001b[0m\u001b[0;34m\"shares cannot be included in the formulation for X1.\"\u001b[0m\u001b[0;34m)\u001b[0m\u001b[0;34m\u001b[0m\u001b[0;34m\u001b[0m\u001b[0m\n",
            "\u001b[0;32m/usr/local/lib/python3.10/dist-packages/pyblp/configurations/formulation.py\u001b[0m in \u001b[0;36m_build_matrix\u001b[0;34m(self, data, fallback_index, ignore_na)\u001b[0m\n\u001b[1;32m    192\u001b[0m                     \u001b[0morigin\u001b[0m \u001b[0;34m=\u001b[0m \u001b[0mpatsy\u001b[0m\u001b[0;34m.\u001b[0m\u001b[0morigin\u001b[0m\u001b[0;34m.\u001b[0m\u001b[0mOrigin\u001b[0m\u001b[0;34m(\u001b[0m\u001b[0mself\u001b[0m\u001b[0;34m.\u001b[0m\u001b[0m_formula\u001b[0m\u001b[0;34m,\u001b[0m \u001b[0;36m0\u001b[0m\u001b[0;34m,\u001b[0m \u001b[0mlen\u001b[0m\u001b[0;34m(\u001b[0m\u001b[0mself\u001b[0m\u001b[0;34m.\u001b[0m\u001b[0m_formula\u001b[0m\u001b[0;34m)\u001b[0m\u001b[0;34m)\u001b[0m\u001b[0;34m\u001b[0m\u001b[0;34m\u001b[0m\u001b[0m\n\u001b[1;32m    193\u001b[0m                     \u001b[0mmessage\u001b[0m \u001b[0;34m=\u001b[0m \u001b[0;34mf\"Failed to load data for '{name}' because of the above exception.\"\u001b[0m\u001b[0;34m\u001b[0m\u001b[0;34m\u001b[0m\u001b[0m\n\u001b[0;32m--> 194\u001b[0;31m                     \u001b[0;32mraise\u001b[0m \u001b[0mpatsy\u001b[0m\u001b[0;34m.\u001b[0m\u001b[0mPatsyError\u001b[0m\u001b[0;34m(\u001b[0m\u001b[0mmessage\u001b[0m\u001b[0;34m,\u001b[0m \u001b[0morigin\u001b[0m\u001b[0;34m)\u001b[0m \u001b[0;32mfrom\u001b[0m \u001b[0mexception\u001b[0m\u001b[0;34m\u001b[0m\u001b[0;34m\u001b[0m\u001b[0m\n\u001b[0m\u001b[1;32m    195\u001b[0m \u001b[0;34m\u001b[0m\u001b[0m\n\u001b[1;32m    196\u001b[0m         \u001b[0;31m# always have at least one column to represent the size of the data\u001b[0m\u001b[0;34m\u001b[0m\u001b[0;34m\u001b[0m\u001b[0m\n",
            "\u001b[0;31mPatsyError\u001b[0m: Failed to load data for 'x' because of the above exception.\n    1 + prices + x\n    ^^^^^^^^^^^^^^"
          ]
        }
      ]
    },
    {
      "cell_type": "markdown",
      "source": [
        "We ask `pyblp` to estimate the model."
      ],
      "metadata": {
        "id": "0_A7gujzg4NJ"
      }
    },
    {
      "cell_type": "code",
      "source": [
        "results = problem.solve(sigma=1.0, optimization=bfgs)\n",
        "beta0_hat,alpha_hat,beta1_hat = results.beta.flatten()\n",
        "sigma_hat = results.sigma[0,0]\n",
        "results"
      ],
      "metadata": {
        "id": "9sxYbr8ebu4W",
        "outputId": "cac8d3d6-9fce-4fc0-9021-51ea6676d328",
        "colab": {
          "base_uri": "https://localhost:8080/",
          "height": 698
        }
      },
      "execution_count": 18,
      "outputs": [
        {
          "output_type": "stream",
          "name": "stdout",
          "text": [
            "Initializing the problem ...\n"
          ]
        },
        {
          "output_type": "error",
          "ename": "PatsyError",
          "evalue": "Failed to load data for 'x' because of the above exception.\n    1 + prices + x\n    ^^^^^^^^^^^^^^",
          "traceback": [
            "\u001b[0;31m---------------------------------------------------------------------------\u001b[0m",
            "\u001b[0;31mKeyError\u001b[0m                                  Traceback (most recent call last)",
            "\u001b[0;32m/usr/local/lib/python3.10/dist-packages/pandas/core/indexes/base.py\u001b[0m in \u001b[0;36mget_loc\u001b[0;34m(self, key)\u001b[0m\n\u001b[1;32m   3804\u001b[0m         \u001b[0;32mtry\u001b[0m\u001b[0;34m:\u001b[0m\u001b[0;34m\u001b[0m\u001b[0;34m\u001b[0m\u001b[0m\n\u001b[0;32m-> 3805\u001b[0;31m             \u001b[0;32mreturn\u001b[0m \u001b[0mself\u001b[0m\u001b[0;34m.\u001b[0m\u001b[0m_engine\u001b[0m\u001b[0;34m.\u001b[0m\u001b[0mget_loc\u001b[0m\u001b[0;34m(\u001b[0m\u001b[0mcasted_key\u001b[0m\u001b[0;34m)\u001b[0m\u001b[0;34m\u001b[0m\u001b[0;34m\u001b[0m\u001b[0m\n\u001b[0m\u001b[1;32m   3806\u001b[0m         \u001b[0;32mexcept\u001b[0m \u001b[0mKeyError\u001b[0m \u001b[0;32mas\u001b[0m \u001b[0merr\u001b[0m\u001b[0;34m:\u001b[0m\u001b[0;34m\u001b[0m\u001b[0;34m\u001b[0m\u001b[0m\n",
            "\u001b[0;32mindex.pyx\u001b[0m in \u001b[0;36mpandas._libs.index.IndexEngine.get_loc\u001b[0;34m()\u001b[0m\n",
            "\u001b[0;32mindex.pyx\u001b[0m in \u001b[0;36mpandas._libs.index.IndexEngine.get_loc\u001b[0;34m()\u001b[0m\n",
            "\u001b[0;32mpandas/_libs/hashtable_class_helper.pxi\u001b[0m in \u001b[0;36mpandas._libs.hashtable.PyObjectHashTable.get_item\u001b[0;34m()\u001b[0m\n",
            "\u001b[0;32mpandas/_libs/hashtable_class_helper.pxi\u001b[0m in \u001b[0;36mpandas._libs.hashtable.PyObjectHashTable.get_item\u001b[0;34m()\u001b[0m\n",
            "\u001b[0;31mKeyError\u001b[0m: 'x'",
            "\nThe above exception was the direct cause of the following exception:\n",
            "\u001b[0;31mKeyError\u001b[0m                                  Traceback (most recent call last)",
            "\u001b[0;32m/usr/local/lib/python3.10/dist-packages/pyblp/configurations/formulation.py\u001b[0m in \u001b[0;36m_build_matrix\u001b[0;34m(self, data, fallback_index, ignore_na)\u001b[0m\n\u001b[1;32m    179\u001b[0m             \u001b[0;32mtry\u001b[0m\u001b[0;34m:\u001b[0m\u001b[0;34m\u001b[0m\u001b[0;34m\u001b[0m\u001b[0m\n\u001b[0;32m--> 180\u001b[0;31m                 \u001b[0mdata_mapping\u001b[0m\u001b[0;34m[\u001b[0m\u001b[0mname\u001b[0m\u001b[0;34m]\u001b[0m \u001b[0;34m=\u001b[0m \u001b[0mnp\u001b[0m\u001b[0;34m.\u001b[0m\u001b[0masarray\u001b[0m\u001b[0;34m(\u001b[0m\u001b[0mdata\u001b[0m\u001b[0;34m[\u001b[0m\u001b[0mname\u001b[0m\u001b[0;34m]\u001b[0m\u001b[0;34m)\u001b[0m\u001b[0;34m.\u001b[0m\u001b[0mflatten\u001b[0m\u001b[0;34m(\u001b[0m\u001b[0;34m)\u001b[0m\u001b[0;34m\u001b[0m\u001b[0;34m\u001b[0m\u001b[0m\n\u001b[0m\u001b[1;32m    181\u001b[0m             \u001b[0;32mexcept\u001b[0m \u001b[0mException\u001b[0m \u001b[0;32mas\u001b[0m \u001b[0mexception\u001b[0m\u001b[0;34m:\u001b[0m\u001b[0;34m\u001b[0m\u001b[0;34m\u001b[0m\u001b[0m\n",
            "\u001b[0;32m/usr/local/lib/python3.10/dist-packages/pandas/core/frame.py\u001b[0m in \u001b[0;36m__getitem__\u001b[0;34m(self, key)\u001b[0m\n\u001b[1;32m   4101\u001b[0m                 \u001b[0;32mreturn\u001b[0m \u001b[0mself\u001b[0m\u001b[0;34m.\u001b[0m\u001b[0m_getitem_multilevel\u001b[0m\u001b[0;34m(\u001b[0m\u001b[0mkey\u001b[0m\u001b[0;34m)\u001b[0m\u001b[0;34m\u001b[0m\u001b[0;34m\u001b[0m\u001b[0m\n\u001b[0;32m-> 4102\u001b[0;31m             \u001b[0mindexer\u001b[0m \u001b[0;34m=\u001b[0m \u001b[0mself\u001b[0m\u001b[0;34m.\u001b[0m\u001b[0mcolumns\u001b[0m\u001b[0;34m.\u001b[0m\u001b[0mget_loc\u001b[0m\u001b[0;34m(\u001b[0m\u001b[0mkey\u001b[0m\u001b[0;34m)\u001b[0m\u001b[0;34m\u001b[0m\u001b[0;34m\u001b[0m\u001b[0m\n\u001b[0m\u001b[1;32m   4103\u001b[0m             \u001b[0;32mif\u001b[0m \u001b[0mis_integer\u001b[0m\u001b[0;34m(\u001b[0m\u001b[0mindexer\u001b[0m\u001b[0;34m)\u001b[0m\u001b[0;34m:\u001b[0m\u001b[0;34m\u001b[0m\u001b[0;34m\u001b[0m\u001b[0m\n",
            "\u001b[0;32m/usr/local/lib/python3.10/dist-packages/pandas/core/indexes/base.py\u001b[0m in \u001b[0;36mget_loc\u001b[0;34m(self, key)\u001b[0m\n\u001b[1;32m   3811\u001b[0m                 \u001b[0;32mraise\u001b[0m \u001b[0mInvalidIndexError\u001b[0m\u001b[0;34m(\u001b[0m\u001b[0mkey\u001b[0m\u001b[0;34m)\u001b[0m\u001b[0;34m\u001b[0m\u001b[0;34m\u001b[0m\u001b[0m\n\u001b[0;32m-> 3812\u001b[0;31m             \u001b[0;32mraise\u001b[0m \u001b[0mKeyError\u001b[0m\u001b[0;34m(\u001b[0m\u001b[0mkey\u001b[0m\u001b[0;34m)\u001b[0m \u001b[0;32mfrom\u001b[0m \u001b[0merr\u001b[0m\u001b[0;34m\u001b[0m\u001b[0;34m\u001b[0m\u001b[0m\n\u001b[0m\u001b[1;32m   3813\u001b[0m         \u001b[0;32mexcept\u001b[0m \u001b[0mTypeError\u001b[0m\u001b[0;34m:\u001b[0m\u001b[0;34m\u001b[0m\u001b[0;34m\u001b[0m\u001b[0m\n",
            "\u001b[0;31mKeyError\u001b[0m: 'x'",
            "\nThe above exception was the direct cause of the following exception:\n",
            "\u001b[0;31mPatsyError\u001b[0m                                Traceback (most recent call last)",
            "\u001b[0;32m<ipython-input-18-804e230de0e9>\u001b[0m in \u001b[0;36m<cell line: 4>\u001b[0;34m()\u001b[0m\n\u001b[1;32m      2\u001b[0m \u001b[0mintegration\u001b[0m \u001b[0;34m=\u001b[0m \u001b[0mpyblp\u001b[0m\u001b[0;34m.\u001b[0m\u001b[0mIntegration\u001b[0m\u001b[0;34m(\u001b[0m\u001b[0;34m'halton'\u001b[0m\u001b[0;34m,\u001b[0m \u001b[0msize\u001b[0m\u001b[0;34m=\u001b[0m\u001b[0;36m1000\u001b[0m\u001b[0;34m,\u001b[0m \u001b[0mspecification_options\u001b[0m\u001b[0;34m=\u001b[0m\u001b[0;34m{\u001b[0m\u001b[0;34m'seed'\u001b[0m\u001b[0;34m:\u001b[0m \u001b[0;36m0\u001b[0m\u001b[0;34m}\u001b[0m\u001b[0;34m)\u001b[0m\u001b[0;34m\u001b[0m\u001b[0;34m\u001b[0m\u001b[0m\n\u001b[1;32m      3\u001b[0m \u001b[0mbfgs\u001b[0m \u001b[0;34m=\u001b[0m \u001b[0mpyblp\u001b[0m\u001b[0;34m.\u001b[0m\u001b[0mOptimization\u001b[0m\u001b[0;34m(\u001b[0m\u001b[0;34m'bfgs'\u001b[0m\u001b[0;34m)\u001b[0m\u001b[0;34m\u001b[0m\u001b[0;34m\u001b[0m\u001b[0m\n\u001b[0;32m----> 4\u001b[0;31m \u001b[0mproblem\u001b[0m \u001b[0;34m=\u001b[0m \u001b[0mpyblp\u001b[0m\u001b[0;34m.\u001b[0m\u001b[0mProblem\u001b[0m\u001b[0;34m(\u001b[0m\u001b[0mproduct_formulations\u001b[0m\u001b[0;34m,\u001b[0m \u001b[0mproduct_data\u001b[0m\u001b[0;34m,\u001b[0m \u001b[0mintegration\u001b[0m\u001b[0;34m=\u001b[0m\u001b[0mintegration\u001b[0m\u001b[0;34m)\u001b[0m\u001b[0;34m\u001b[0m\u001b[0;34m\u001b[0m\u001b[0m\n\u001b[0m\u001b[1;32m      5\u001b[0m \u001b[0mresults\u001b[0m \u001b[0;34m=\u001b[0m \u001b[0mproblem\u001b[0m\u001b[0;34m.\u001b[0m\u001b[0msolve\u001b[0m\u001b[0;34m(\u001b[0m\u001b[0msigma\u001b[0m\u001b[0;34m=\u001b[0m\u001b[0;36m1.0\u001b[0m\u001b[0;34m,\u001b[0m \u001b[0moptimization\u001b[0m\u001b[0;34m=\u001b[0m\u001b[0mbfgs\u001b[0m\u001b[0;34m)\u001b[0m\u001b[0;34m\u001b[0m\u001b[0;34m\u001b[0m\u001b[0m\n\u001b[1;32m      6\u001b[0m \u001b[0mbeta0_hat\u001b[0m\u001b[0;34m,\u001b[0m\u001b[0malpha_hat\u001b[0m\u001b[0;34m,\u001b[0m\u001b[0mbeta1_hat\u001b[0m \u001b[0;34m=\u001b[0m \u001b[0mresults\u001b[0m\u001b[0;34m.\u001b[0m\u001b[0mbeta\u001b[0m\u001b[0;34m.\u001b[0m\u001b[0mflatten\u001b[0m\u001b[0;34m(\u001b[0m\u001b[0;34m)\u001b[0m\u001b[0;34m\u001b[0m\u001b[0;34m\u001b[0m\u001b[0m\n",
            "\u001b[0;32m/usr/local/lib/python3.10/dist-packages/pyblp/economies/problem.py\u001b[0m in \u001b[0;36m__init__\u001b[0;34m(self, product_formulations, product_data, agent_formulation, agent_data, integration, rc_types, epsilon_scale, costs_type, add_exogenous)\u001b[0m\n\u001b[1;32m   1611\u001b[0m \u001b[0;34m\u001b[0m\u001b[0m\n\u001b[1;32m   1612\u001b[0m         \u001b[0;31m# initialize the underlying economy with structured product and agent data\u001b[0m\u001b[0;34m\u001b[0m\u001b[0;34m\u001b[0m\u001b[0m\n\u001b[0;32m-> 1613\u001b[0;31m         \u001b[0mproducts\u001b[0m \u001b[0;34m=\u001b[0m \u001b[0mProducts\u001b[0m\u001b[0;34m(\u001b[0m\u001b[0mproduct_formulations\u001b[0m\u001b[0;34m,\u001b[0m \u001b[0mproduct_data\u001b[0m\u001b[0;34m,\u001b[0m \u001b[0madd_exogenous\u001b[0m\u001b[0;34m=\u001b[0m\u001b[0madd_exogenous\u001b[0m\u001b[0;34m)\u001b[0m\u001b[0;34m\u001b[0m\u001b[0;34m\u001b[0m\u001b[0m\n\u001b[0m\u001b[1;32m   1614\u001b[0m         \u001b[0magents\u001b[0m \u001b[0;34m=\u001b[0m \u001b[0mAgents\u001b[0m\u001b[0;34m(\u001b[0m\u001b[0mproducts\u001b[0m\u001b[0;34m,\u001b[0m \u001b[0magent_formulation\u001b[0m\u001b[0;34m,\u001b[0m \u001b[0magent_data\u001b[0m\u001b[0;34m,\u001b[0m \u001b[0mintegration\u001b[0m\u001b[0;34m)\u001b[0m\u001b[0;34m\u001b[0m\u001b[0;34m\u001b[0m\u001b[0m\n\u001b[1;32m   1615\u001b[0m         \u001b[0msuper\u001b[0m\u001b[0;34m(\u001b[0m\u001b[0;34m)\u001b[0m\u001b[0;34m.\u001b[0m\u001b[0m__init__\u001b[0m\u001b[0;34m(\u001b[0m\u001b[0mproduct_formulations\u001b[0m\u001b[0;34m,\u001b[0m \u001b[0magent_formulation\u001b[0m\u001b[0;34m,\u001b[0m \u001b[0mproducts\u001b[0m\u001b[0;34m,\u001b[0m \u001b[0magents\u001b[0m\u001b[0;34m,\u001b[0m \u001b[0mrc_types\u001b[0m\u001b[0;34m,\u001b[0m \u001b[0mepsilon_scale\u001b[0m\u001b[0;34m,\u001b[0m \u001b[0mcosts_type\u001b[0m\u001b[0;34m)\u001b[0m\u001b[0;34m\u001b[0m\u001b[0;34m\u001b[0m\u001b[0m\n",
            "\u001b[0;32m/usr/local/lib/python3.10/dist-packages/pyblp/primitives.py\u001b[0m in \u001b[0;36m__new__\u001b[0;34m(cls, product_formulations, product_data, instruments, add_exogenous)\u001b[0m\n\u001b[1;32m     94\u001b[0m \u001b[0;34m\u001b[0m\u001b[0m\n\u001b[1;32m     95\u001b[0m         \u001b[0;31m# build X1\u001b[0m\u001b[0;34m\u001b[0m\u001b[0;34m\u001b[0m\u001b[0m\n\u001b[0;32m---> 96\u001b[0;31m         \u001b[0mX1\u001b[0m\u001b[0;34m,\u001b[0m \u001b[0mX1_formulations\u001b[0m\u001b[0;34m,\u001b[0m \u001b[0mX1_data\u001b[0m \u001b[0;34m=\u001b[0m \u001b[0mproduct_formulations\u001b[0m\u001b[0;34m[\u001b[0m\u001b[0;36m0\u001b[0m\u001b[0;34m]\u001b[0m\u001b[0;34m.\u001b[0m\u001b[0m_build_matrix\u001b[0m\u001b[0;34m(\u001b[0m\u001b[0mproduct_data\u001b[0m\u001b[0;34m)\u001b[0m\u001b[0;34m\u001b[0m\u001b[0;34m\u001b[0m\u001b[0m\n\u001b[0m\u001b[1;32m     97\u001b[0m         \u001b[0;32mif\u001b[0m \u001b[0;34m'shares'\u001b[0m \u001b[0;32min\u001b[0m \u001b[0mX1_data\u001b[0m\u001b[0;34m:\u001b[0m\u001b[0;34m\u001b[0m\u001b[0;34m\u001b[0m\u001b[0m\n\u001b[1;32m     98\u001b[0m             \u001b[0;32mraise\u001b[0m \u001b[0mNameError\u001b[0m\u001b[0;34m(\u001b[0m\u001b[0;34m\"shares cannot be included in the formulation for X1.\"\u001b[0m\u001b[0;34m)\u001b[0m\u001b[0;34m\u001b[0m\u001b[0;34m\u001b[0m\u001b[0m\n",
            "\u001b[0;32m/usr/local/lib/python3.10/dist-packages/pyblp/configurations/formulation.py\u001b[0m in \u001b[0;36m_build_matrix\u001b[0;34m(self, data, fallback_index, ignore_na)\u001b[0m\n\u001b[1;32m    192\u001b[0m                     \u001b[0morigin\u001b[0m \u001b[0;34m=\u001b[0m \u001b[0mpatsy\u001b[0m\u001b[0;34m.\u001b[0m\u001b[0morigin\u001b[0m\u001b[0;34m.\u001b[0m\u001b[0mOrigin\u001b[0m\u001b[0;34m(\u001b[0m\u001b[0mself\u001b[0m\u001b[0;34m.\u001b[0m\u001b[0m_formula\u001b[0m\u001b[0;34m,\u001b[0m \u001b[0;36m0\u001b[0m\u001b[0;34m,\u001b[0m \u001b[0mlen\u001b[0m\u001b[0;34m(\u001b[0m\u001b[0mself\u001b[0m\u001b[0;34m.\u001b[0m\u001b[0m_formula\u001b[0m\u001b[0;34m)\u001b[0m\u001b[0;34m)\u001b[0m\u001b[0;34m\u001b[0m\u001b[0;34m\u001b[0m\u001b[0m\n\u001b[1;32m    193\u001b[0m                     \u001b[0mmessage\u001b[0m \u001b[0;34m=\u001b[0m \u001b[0;34mf\"Failed to load data for '{name}' because of the above exception.\"\u001b[0m\u001b[0;34m\u001b[0m\u001b[0;34m\u001b[0m\u001b[0m\n\u001b[0;32m--> 194\u001b[0;31m                     \u001b[0;32mraise\u001b[0m \u001b[0mpatsy\u001b[0m\u001b[0;34m.\u001b[0m\u001b[0mPatsyError\u001b[0m\u001b[0;34m(\u001b[0m\u001b[0mmessage\u001b[0m\u001b[0;34m,\u001b[0m \u001b[0morigin\u001b[0m\u001b[0;34m)\u001b[0m \u001b[0;32mfrom\u001b[0m \u001b[0mexception\u001b[0m\u001b[0;34m\u001b[0m\u001b[0;34m\u001b[0m\u001b[0m\n\u001b[0m\u001b[1;32m    195\u001b[0m \u001b[0;34m\u001b[0m\u001b[0m\n\u001b[1;32m    196\u001b[0m         \u001b[0;31m# always have at least one column to represent the size of the data\u001b[0m\u001b[0;34m\u001b[0m\u001b[0;34m\u001b[0m\u001b[0m\n",
            "\u001b[0;31mPatsyError\u001b[0m: Failed to load data for 'x' because of the above exception.\n    1 + prices + x\n    ^^^^^^^^^^^^^^"
          ]
        }
      ]
    }
  ]
}