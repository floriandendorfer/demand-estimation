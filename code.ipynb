{
  "nbformat": 4,
  "nbformat_minor": 0,
  "metadata": {
    "colab": {
      "provenance": [],
      "authorship_tag": "ABX9TyMpKmMHnbI+d6qrt1ke7yZp",
      "include_colab_link": true
    },
    "kernelspec": {
      "name": "python3",
      "display_name": "Python 3"
    },
    "language_info": {
      "name": "python"
    }
  },
  "cells": [
    {
      "cell_type": "markdown",
      "metadata": {
        "id": "view-in-github",
        "colab_type": "text"
      },
      "source": [
        "<a href=\"https://colab.research.google.com/github/floriandendorfer/demand-estimation/blob/main/code.ipynb\" target=\"_parent\"><img src=\"https://colab.research.google.com/assets/colab-badge.svg\" alt=\"Open In Colab\"/></a>"
      ]
    },
    {
      "cell_type": "markdown",
      "source": [
        "## 1. PACKAGES"
      ],
      "metadata": {
        "id": "msfD80wBuAIe"
      }
    },
    {
      "cell_type": "code",
      "source": [
        "import numpy as np\n",
        "import pandas as pd\n",
        "import statsmodels.api as sm\n",
        "from statsmodels.sandbox.regression.gmm import IV2SLS\n",
        "import matplotlib.pyplot as plt\n",
        "from scipy import optimize\n",
        "import seaborn as sns"
      ],
      "metadata": {
        "id": "sXZtEQTSuBrD"
      },
      "execution_count": 101,
      "outputs": []
    },
    {
      "cell_type": "markdown",
      "source": [
        "\n",
        "\n",
        "---\n",
        "\n"
      ],
      "metadata": {
        "id": "F8UFDVgEyldC"
      }
    },
    {
      "cell_type": "markdown",
      "source": [
        "## 2. DATA"
      ],
      "metadata": {
        "id": "K734R5kpuLxd"
      }
    },
    {
      "cell_type": "code",
      "source": [
        "#!rm -rf demand-estimation\n",
        "!git clone https://github.com/floriandendorfer/demand-estimation.git\n",
        "data = pd.read_csv('demand-estimation/data1.csv',index_col=0)"
      ],
      "metadata": {
        "id": "svYXcpZSDiRe",
        "colab": {
          "base_uri": "https://localhost:8080/"
        },
        "outputId": "9bbc4732-cb35-4044-fb01-2a8846166df0"
      },
      "execution_count": 103,
      "outputs": [
        {
          "output_type": "stream",
          "name": "stdout",
          "text": [
            "Cloning into 'demand-estimation'...\n",
            "remote: Enumerating objects: 115, done.\u001b[K\n",
            "remote: Counting objects: 100% (115/115), done.\u001b[K\n",
            "remote: Compressing objects: 100% (102/102), done.\u001b[K\n",
            "remote: Total 115 (delta 39), reused 44 (delta 10), pack-reused 0 (from 0)\u001b[K\n",
            "Receiving objects: 100% (115/115), 165.09 KiB | 4.86 MiB/s, done.\n",
            "Resolving deltas: 100% (39/39), done.\n"
          ]
        }
      ]
    },
    {
      "cell_type": "markdown",
      "source": [
        "\n",
        "\n",
        "---\n",
        "\n"
      ],
      "metadata": {
        "id": "083Gc7JTypQD"
      }
    },
    {
      "cell_type": "markdown",
      "source": [
        "## 3. FIRST LOOK AT THE DATA"
      ],
      "metadata": {
        "id": "EWBp3DYBp9fL"
      }
    },
    {
      "cell_type": "markdown",
      "source": [
        "### 3.1 VARIABLES"
      ],
      "metadata": {
        "id": "QflbNmqaYf0A"
      }
    },
    {
      "cell_type": "code",
      "source": [
        "print(data.columns)"
      ],
      "metadata": {
        "id": "Fq0TQKv1uey_",
        "colab": {
          "base_uri": "https://localhost:8080/"
        },
        "outputId": "74977d1e-8af9-4a3d-d437-c7ee591442fb"
      },
      "execution_count": 104,
      "outputs": [
        {
          "output_type": "stream",
          "name": "stdout",
          "text": [
            "Index(['county', 'Häagen-Dazs', 'price', 'fuel cost', 'sales', 'county size'], dtype='object')\n"
          ]
        }
      ]
    },
    {
      "cell_type": "markdown",
      "source": [
        "Each row contains sales information for an ice cream brand (i.e., Häagen-Dazs, Ben \\& Jerry's) and a geographic market (i.e., a county).\n",
        "\n",
        "*   `county` is the market identifier ($t$ in the slides).\n",
        "*   `Häagen-Dazs` is 1 if the ice cream brand is Häagen-Dazs and 0 if the ice cream brand is Ben \\& Jerry's.\n",
        "*   `price` is the dollar price an ice cream serving of that brand is sold at.\n",
        "*   `fuel cost` is the dollar cost of transporting an ice cream serving.\n",
        "*   `sales` is the number of ice cream servings of that brand sold per week.\n",
        "*   `county size` is the number of *total* ice cream servings sold per week.\n"
      ],
      "metadata": {
        "id": "jChVzz3iqGsj"
      }
    },
    {
      "cell_type": "markdown",
      "source": [
        "### 3.2 DATA DESCRIPTION"
      ],
      "metadata": {
        "id": "fHfY_KtvjSHv"
      }
    },
    {
      "cell_type": "markdown",
      "source": [
        "Let's have a brief look at the data."
      ],
      "metadata": {
        "id": "6K9orgN5zBRH"
      }
    },
    {
      "cell_type": "code",
      "source": [
        "print(data.head(20))"
      ],
      "metadata": {
        "id": "PxEr4vNtzBjA",
        "outputId": "63f19a3b-521c-4119-c338-96d9bf4c7403",
        "colab": {
          "base_uri": "https://localhost:8080/"
        }
      },
      "execution_count": 105,
      "outputs": [
        {
          "output_type": "stream",
          "name": "stdout",
          "text": [
            "    county  Häagen-Dazs     price  fuel cost  sales  county size\n",
            "0        1            0  2.549066   0.432124     35          219\n",
            "1        1            1  2.070158   0.265596     14          219\n",
            "2        2            0  2.342645   0.255663     15          113\n",
            "3        2            1  2.255875   0.441644      5          113\n",
            "4        3            0  2.933863   0.634391     17          182\n",
            "5        3            1  2.417164   0.435701     11          182\n",
            "6        4            0  3.014971   0.928417      7          124\n",
            "7        4            1  2.438474   0.481903     11          124\n",
            "8        5            0  3.034538   0.433755     14          240\n",
            "9        5            1  2.538901   0.525668     17          240\n",
            "10       6            0  3.046907   0.999508      6          102\n",
            "11       6            1  2.157727   0.130153     11          102\n",
            "12       7            0  2.537953   0.676806     16          176\n",
            "13       7            1  2.097775   0.240460      4          176\n",
            "14       8            0  3.267357   1.022963     10          101\n",
            "15       8            1  2.475619   0.444197      4          101\n",
            "16       9            0  3.020327   0.472230      6          103\n",
            "17       9            1  2.709092   0.480667      4          103\n",
            "18      10            0  3.016464   0.874276     20          300\n",
            "19      10            1  1.787571   0.026437     16          300\n"
          ]
        }
      ]
    },
    {
      "cell_type": "markdown",
      "source": [
        "Pick your favorite county."
      ],
      "metadata": {
        "id": "b5qHdXxnfy_P"
      }
    },
    {
      "cell_type": "code",
      "source": [
        "t = 10"
      ],
      "metadata": {
        "id": "r7HXJKF-f3F6"
      },
      "execution_count": 106,
      "outputs": []
    },
    {
      "cell_type": "code",
      "source": [
        "print('In total,',data['county size'][t],'ice cream servings are sold in county',data['county'][t],'. As',data['sales'][t],' of them were ',np.where(data['Häagen-Dazs'][t] == 0, \"Ben & Jerry's\",\"Häagen-Dazs\"),\" ice cream, that brand's market share in this county is \",(100*data['sales'][t]/data['county size'][t]).round(2),'%. The price of a serving of', np.where(data['Häagen-Dazs'][t] == 0, \"Ben & Jerry's\",\"Häagen-Dazs\"),'ice cream in this county is $',data['price'][t].round(2),'.')"
      ],
      "metadata": {
        "colab": {
          "base_uri": "https://localhost:8080/"
        },
        "id": "ShhmwBXYd4pn",
        "outputId": "049113c8-c02b-4fe3-ebe9-315155e0bc6b"
      },
      "execution_count": 107,
      "outputs": [
        {
          "output_type": "stream",
          "name": "stdout",
          "text": [
            "In total, 102 ice cream servings are sold in county 6 . As 6  of them were  Ben & Jerry's  ice cream, that brand's market share in this county is  5.88 %. The price of a serving of Ben & Jerry's ice cream in this county is $ 3.05 .\n"
          ]
        }
      ]
    },
    {
      "cell_type": "code",
      "source": [
        "data.describe()"
      ],
      "metadata": {
        "colab": {
          "base_uri": "https://localhost:8080/",
          "height": 338
        },
        "id": "anqr1Qijs2Zt",
        "outputId": "9864544d-e13a-4408-8fe6-07ceac6f5cf5"
      },
      "execution_count": 108,
      "outputs": [
        {
          "output_type": "execute_result",
          "data": {
            "text/plain": [
              "           county  Häagen-Dazs       price   fuel cost       sales  \\\n",
              "count  400.000000   400.000000  400.000000  400.000000  400.000000   \n",
              "mean   100.500000     0.500000    2.476886    0.449150   15.897500   \n",
              "std     57.806609     0.500626    0.380067    0.237135   10.318827   \n",
              "min      1.000000     0.000000    1.566390   -0.206198    1.000000   \n",
              "25%     50.750000     0.000000    2.175106    0.276338    8.000000   \n",
              "50%    100.500000     0.500000    2.470965    0.445653   14.000000   \n",
              "75%    150.250000     1.000000    2.775499    0.618561   21.000000   \n",
              "max    200.000000     1.000000    3.374167    1.123239   58.000000   \n",
              "\n",
              "       county size  \n",
              "count   400.000000  \n",
              "mean    200.150000  \n",
              "std      59.676299  \n",
              "min     100.000000  \n",
              "25%     152.750000  \n",
              "50%     195.500000  \n",
              "75%     254.250000  \n",
              "max     300.000000  "
            ],
            "text/html": [
              "\n",
              "  <div id=\"df-7cab1763-fa56-42a5-958d-23a20519d05f\" class=\"colab-df-container\">\n",
              "    <div>\n",
              "<style scoped>\n",
              "    .dataframe tbody tr th:only-of-type {\n",
              "        vertical-align: middle;\n",
              "    }\n",
              "\n",
              "    .dataframe tbody tr th {\n",
              "        vertical-align: top;\n",
              "    }\n",
              "\n",
              "    .dataframe thead th {\n",
              "        text-align: right;\n",
              "    }\n",
              "</style>\n",
              "<table border=\"1\" class=\"dataframe\">\n",
              "  <thead>\n",
              "    <tr style=\"text-align: right;\">\n",
              "      <th></th>\n",
              "      <th>county</th>\n",
              "      <th>Häagen-Dazs</th>\n",
              "      <th>price</th>\n",
              "      <th>fuel cost</th>\n",
              "      <th>sales</th>\n",
              "      <th>county size</th>\n",
              "    </tr>\n",
              "  </thead>\n",
              "  <tbody>\n",
              "    <tr>\n",
              "      <th>count</th>\n",
              "      <td>400.000000</td>\n",
              "      <td>400.000000</td>\n",
              "      <td>400.000000</td>\n",
              "      <td>400.000000</td>\n",
              "      <td>400.000000</td>\n",
              "      <td>400.000000</td>\n",
              "    </tr>\n",
              "    <tr>\n",
              "      <th>mean</th>\n",
              "      <td>100.500000</td>\n",
              "      <td>0.500000</td>\n",
              "      <td>2.476886</td>\n",
              "      <td>0.449150</td>\n",
              "      <td>15.897500</td>\n",
              "      <td>200.150000</td>\n",
              "    </tr>\n",
              "    <tr>\n",
              "      <th>std</th>\n",
              "      <td>57.806609</td>\n",
              "      <td>0.500626</td>\n",
              "      <td>0.380067</td>\n",
              "      <td>0.237135</td>\n",
              "      <td>10.318827</td>\n",
              "      <td>59.676299</td>\n",
              "    </tr>\n",
              "    <tr>\n",
              "      <th>min</th>\n",
              "      <td>1.000000</td>\n",
              "      <td>0.000000</td>\n",
              "      <td>1.566390</td>\n",
              "      <td>-0.206198</td>\n",
              "      <td>1.000000</td>\n",
              "      <td>100.000000</td>\n",
              "    </tr>\n",
              "    <tr>\n",
              "      <th>25%</th>\n",
              "      <td>50.750000</td>\n",
              "      <td>0.000000</td>\n",
              "      <td>2.175106</td>\n",
              "      <td>0.276338</td>\n",
              "      <td>8.000000</td>\n",
              "      <td>152.750000</td>\n",
              "    </tr>\n",
              "    <tr>\n",
              "      <th>50%</th>\n",
              "      <td>100.500000</td>\n",
              "      <td>0.500000</td>\n",
              "      <td>2.470965</td>\n",
              "      <td>0.445653</td>\n",
              "      <td>14.000000</td>\n",
              "      <td>195.500000</td>\n",
              "    </tr>\n",
              "    <tr>\n",
              "      <th>75%</th>\n",
              "      <td>150.250000</td>\n",
              "      <td>1.000000</td>\n",
              "      <td>2.775499</td>\n",
              "      <td>0.618561</td>\n",
              "      <td>21.000000</td>\n",
              "      <td>254.250000</td>\n",
              "    </tr>\n",
              "    <tr>\n",
              "      <th>max</th>\n",
              "      <td>200.000000</td>\n",
              "      <td>1.000000</td>\n",
              "      <td>3.374167</td>\n",
              "      <td>1.123239</td>\n",
              "      <td>58.000000</td>\n",
              "      <td>300.000000</td>\n",
              "    </tr>\n",
              "  </tbody>\n",
              "</table>\n",
              "</div>\n",
              "    <div class=\"colab-df-buttons\">\n",
              "\n",
              "  <div class=\"colab-df-container\">\n",
              "    <button class=\"colab-df-convert\" onclick=\"convertToInteractive('df-7cab1763-fa56-42a5-958d-23a20519d05f')\"\n",
              "            title=\"Convert this dataframe to an interactive table.\"\n",
              "            style=\"display:none;\">\n",
              "\n",
              "  <svg xmlns=\"http://www.w3.org/2000/svg\" height=\"24px\" viewBox=\"0 -960 960 960\">\n",
              "    <path d=\"M120-120v-720h720v720H120Zm60-500h600v-160H180v160Zm220 220h160v-160H400v160Zm0 220h160v-160H400v160ZM180-400h160v-160H180v160Zm440 0h160v-160H620v160ZM180-180h160v-160H180v160Zm440 0h160v-160H620v160Z\"/>\n",
              "  </svg>\n",
              "    </button>\n",
              "\n",
              "  <style>\n",
              "    .colab-df-container {\n",
              "      display:flex;\n",
              "      gap: 12px;\n",
              "    }\n",
              "\n",
              "    .colab-df-convert {\n",
              "      background-color: #E8F0FE;\n",
              "      border: none;\n",
              "      border-radius: 50%;\n",
              "      cursor: pointer;\n",
              "      display: none;\n",
              "      fill: #1967D2;\n",
              "      height: 32px;\n",
              "      padding: 0 0 0 0;\n",
              "      width: 32px;\n",
              "    }\n",
              "\n",
              "    .colab-df-convert:hover {\n",
              "      background-color: #E2EBFA;\n",
              "      box-shadow: 0px 1px 2px rgba(60, 64, 67, 0.3), 0px 1px 3px 1px rgba(60, 64, 67, 0.15);\n",
              "      fill: #174EA6;\n",
              "    }\n",
              "\n",
              "    .colab-df-buttons div {\n",
              "      margin-bottom: 4px;\n",
              "    }\n",
              "\n",
              "    [theme=dark] .colab-df-convert {\n",
              "      background-color: #3B4455;\n",
              "      fill: #D2E3FC;\n",
              "    }\n",
              "\n",
              "    [theme=dark] .colab-df-convert:hover {\n",
              "      background-color: #434B5C;\n",
              "      box-shadow: 0px 1px 3px 1px rgba(0, 0, 0, 0.15);\n",
              "      filter: drop-shadow(0px 1px 2px rgba(0, 0, 0, 0.3));\n",
              "      fill: #FFFFFF;\n",
              "    }\n",
              "  </style>\n",
              "\n",
              "    <script>\n",
              "      const buttonEl =\n",
              "        document.querySelector('#df-7cab1763-fa56-42a5-958d-23a20519d05f button.colab-df-convert');\n",
              "      buttonEl.style.display =\n",
              "        google.colab.kernel.accessAllowed ? 'block' : 'none';\n",
              "\n",
              "      async function convertToInteractive(key) {\n",
              "        const element = document.querySelector('#df-7cab1763-fa56-42a5-958d-23a20519d05f');\n",
              "        const dataTable =\n",
              "          await google.colab.kernel.invokeFunction('convertToInteractive',\n",
              "                                                    [key], {});\n",
              "        if (!dataTable) return;\n",
              "\n",
              "        const docLinkHtml = 'Like what you see? Visit the ' +\n",
              "          '<a target=\"_blank\" href=https://colab.research.google.com/notebooks/data_table.ipynb>data table notebook</a>'\n",
              "          + ' to learn more about interactive tables.';\n",
              "        element.innerHTML = '';\n",
              "        dataTable['output_type'] = 'display_data';\n",
              "        await google.colab.output.renderOutput(dataTable, element);\n",
              "        const docLink = document.createElement('div');\n",
              "        docLink.innerHTML = docLinkHtml;\n",
              "        element.appendChild(docLink);\n",
              "      }\n",
              "    </script>\n",
              "  </div>\n",
              "\n",
              "\n",
              "<div id=\"df-93b98d97-ce9a-404b-bd24-f2eb52de5c54\">\n",
              "  <button class=\"colab-df-quickchart\" onclick=\"quickchart('df-93b98d97-ce9a-404b-bd24-f2eb52de5c54')\"\n",
              "            title=\"Suggest charts\"\n",
              "            style=\"display:none;\">\n",
              "\n",
              "<svg xmlns=\"http://www.w3.org/2000/svg\" height=\"24px\"viewBox=\"0 0 24 24\"\n",
              "     width=\"24px\">\n",
              "    <g>\n",
              "        <path d=\"M19 3H5c-1.1 0-2 .9-2 2v14c0 1.1.9 2 2 2h14c1.1 0 2-.9 2-2V5c0-1.1-.9-2-2-2zM9 17H7v-7h2v7zm4 0h-2V7h2v10zm4 0h-2v-4h2v4z\"/>\n",
              "    </g>\n",
              "</svg>\n",
              "  </button>\n",
              "\n",
              "<style>\n",
              "  .colab-df-quickchart {\n",
              "      --bg-color: #E8F0FE;\n",
              "      --fill-color: #1967D2;\n",
              "      --hover-bg-color: #E2EBFA;\n",
              "      --hover-fill-color: #174EA6;\n",
              "      --disabled-fill-color: #AAA;\n",
              "      --disabled-bg-color: #DDD;\n",
              "  }\n",
              "\n",
              "  [theme=dark] .colab-df-quickchart {\n",
              "      --bg-color: #3B4455;\n",
              "      --fill-color: #D2E3FC;\n",
              "      --hover-bg-color: #434B5C;\n",
              "      --hover-fill-color: #FFFFFF;\n",
              "      --disabled-bg-color: #3B4455;\n",
              "      --disabled-fill-color: #666;\n",
              "  }\n",
              "\n",
              "  .colab-df-quickchart {\n",
              "    background-color: var(--bg-color);\n",
              "    border: none;\n",
              "    border-radius: 50%;\n",
              "    cursor: pointer;\n",
              "    display: none;\n",
              "    fill: var(--fill-color);\n",
              "    height: 32px;\n",
              "    padding: 0;\n",
              "    width: 32px;\n",
              "  }\n",
              "\n",
              "  .colab-df-quickchart:hover {\n",
              "    background-color: var(--hover-bg-color);\n",
              "    box-shadow: 0 1px 2px rgba(60, 64, 67, 0.3), 0 1px 3px 1px rgba(60, 64, 67, 0.15);\n",
              "    fill: var(--button-hover-fill-color);\n",
              "  }\n",
              "\n",
              "  .colab-df-quickchart-complete:disabled,\n",
              "  .colab-df-quickchart-complete:disabled:hover {\n",
              "    background-color: var(--disabled-bg-color);\n",
              "    fill: var(--disabled-fill-color);\n",
              "    box-shadow: none;\n",
              "  }\n",
              "\n",
              "  .colab-df-spinner {\n",
              "    border: 2px solid var(--fill-color);\n",
              "    border-color: transparent;\n",
              "    border-bottom-color: var(--fill-color);\n",
              "    animation:\n",
              "      spin 1s steps(1) infinite;\n",
              "  }\n",
              "\n",
              "  @keyframes spin {\n",
              "    0% {\n",
              "      border-color: transparent;\n",
              "      border-bottom-color: var(--fill-color);\n",
              "      border-left-color: var(--fill-color);\n",
              "    }\n",
              "    20% {\n",
              "      border-color: transparent;\n",
              "      border-left-color: var(--fill-color);\n",
              "      border-top-color: var(--fill-color);\n",
              "    }\n",
              "    30% {\n",
              "      border-color: transparent;\n",
              "      border-left-color: var(--fill-color);\n",
              "      border-top-color: var(--fill-color);\n",
              "      border-right-color: var(--fill-color);\n",
              "    }\n",
              "    40% {\n",
              "      border-color: transparent;\n",
              "      border-right-color: var(--fill-color);\n",
              "      border-top-color: var(--fill-color);\n",
              "    }\n",
              "    60% {\n",
              "      border-color: transparent;\n",
              "      border-right-color: var(--fill-color);\n",
              "    }\n",
              "    80% {\n",
              "      border-color: transparent;\n",
              "      border-right-color: var(--fill-color);\n",
              "      border-bottom-color: var(--fill-color);\n",
              "    }\n",
              "    90% {\n",
              "      border-color: transparent;\n",
              "      border-bottom-color: var(--fill-color);\n",
              "    }\n",
              "  }\n",
              "</style>\n",
              "\n",
              "  <script>\n",
              "    async function quickchart(key) {\n",
              "      const quickchartButtonEl =\n",
              "        document.querySelector('#' + key + ' button');\n",
              "      quickchartButtonEl.disabled = true;  // To prevent multiple clicks.\n",
              "      quickchartButtonEl.classList.add('colab-df-spinner');\n",
              "      try {\n",
              "        const charts = await google.colab.kernel.invokeFunction(\n",
              "            'suggestCharts', [key], {});\n",
              "      } catch (error) {\n",
              "        console.error('Error during call to suggestCharts:', error);\n",
              "      }\n",
              "      quickchartButtonEl.classList.remove('colab-df-spinner');\n",
              "      quickchartButtonEl.classList.add('colab-df-quickchart-complete');\n",
              "    }\n",
              "    (() => {\n",
              "      let quickchartButtonEl =\n",
              "        document.querySelector('#df-93b98d97-ce9a-404b-bd24-f2eb52de5c54 button');\n",
              "      quickchartButtonEl.style.display =\n",
              "        google.colab.kernel.accessAllowed ? 'block' : 'none';\n",
              "    })();\n",
              "  </script>\n",
              "</div>\n",
              "\n",
              "    </div>\n",
              "  </div>\n"
            ],
            "application/vnd.google.colaboratory.intrinsic+json": {
              "type": "dataframe",
              "summary": "{\n  \"name\": \"data\",\n  \"rows\": 8,\n  \"fields\": [\n    {\n      \"column\": \"county\",\n      \"properties\": {\n        \"dtype\": \"number\",\n        \"std\": 124.22899154147336,\n        \"min\": 1.0,\n        \"max\": 400.0,\n        \"num_unique_values\": 7,\n        \"samples\": [\n          400.0,\n          100.5,\n          150.25\n        ],\n        \"semantic_type\": \"\",\n        \"description\": \"\"\n      }\n    },\n    {\n      \"column\": \"H\\u00e4agen-Dazs\",\n      \"properties\": {\n        \"dtype\": \"number\",\n        \"std\": 141.2450536232193,\n        \"min\": 0.0,\n        \"max\": 400.0,\n        \"num_unique_values\": 5,\n        \"samples\": [\n          0.5,\n          1.0,\n          0.5006261743217588\n        ],\n        \"semantic_type\": \"\",\n        \"description\": \"\"\n      }\n    },\n    {\n      \"column\": \"price\",\n      \"properties\": {\n        \"dtype\": \"number\",\n        \"std\": 140.65550494762195,\n        \"min\": 0.3800670170161429,\n        \"max\": 400.0,\n        \"num_unique_values\": 8,\n        \"samples\": [\n          2.4768861501809094,\n          2.4709652682917715,\n          400.0\n        ],\n        \"semantic_type\": \"\",\n        \"description\": \"\"\n      }\n    },\n    {\n      \"column\": \"fuel cost\",\n      \"properties\": {\n        \"dtype\": \"number\",\n        \"std\": 141.27316434861822,\n        \"min\": -0.206198433050136,\n        \"max\": 400.0,\n        \"num_unique_values\": 8,\n        \"samples\": [\n          0.4491501615061141,\n          0.445652720071098,\n          400.0\n        ],\n        \"semantic_type\": \"\",\n        \"description\": \"\"\n      }\n    },\n    {\n      \"column\": \"sales\",\n      \"properties\": {\n        \"dtype\": \"number\",\n        \"std\": 136.04025018404883,\n        \"min\": 1.0,\n        \"max\": 400.0,\n        \"num_unique_values\": 8,\n        \"samples\": [\n          15.8975,\n          14.0,\n          400.0\n        ],\n        \"semantic_type\": \"\",\n        \"description\": \"\"\n      }\n    },\n    {\n      \"column\": \"county size\",\n      \"properties\": {\n        \"dtype\": \"number\",\n        \"std\": 109.8057165084479,\n        \"min\": 59.67629891027989,\n        \"max\": 400.0,\n        \"num_unique_values\": 8,\n        \"samples\": [\n          200.15,\n          195.5,\n          400.0\n        ],\n        \"semantic_type\": \"\",\n        \"description\": \"\"\n      }\n    }\n  ]\n}"
            }
          },
          "metadata": {},
          "execution_count": 108
        }
      ]
    },
    {
      "cell_type": "markdown",
      "source": [
        "\n",
        "1.   How many counties are there?\n",
        "2.   What is the average price per serving?\n",
        "2.   What is the average market size in the sample? What is the largest market size?\n",
        "3.   What is the median number of ice cream servings sold per county?\n",
        "\n",
        "\n",
        "\n"
      ],
      "metadata": {
        "id": "DuQ-WY-Vth-n"
      }
    },
    {
      "cell_type": "markdown",
      "source": [
        "## 4. MARKET SHARES"
      ],
      "metadata": {
        "id": "pCUayJEMy8du"
      }
    },
    {
      "cell_type": "markdown",
      "source": [
        "### 4.1 COMPUTING MARKET SHARES"
      ],
      "metadata": {
        "id": "3fT8HqP2jc93"
      }
    },
    {
      "cell_type": "code",
      "source": [
        "data['s'] = data['sales']/data['county size']"
      ],
      "metadata": {
        "id": "rP2oev-ozF37"
      },
      "execution_count": 109,
      "outputs": []
    },
    {
      "cell_type": "markdown",
      "source": [
        "Calculate the market share of each firm (Häagen-Dazs, Ben & Jerry's) in each county based on the number of ice cream units sold.\n"
      ],
      "metadata": {
        "id": "x80C_G25zHhB"
      }
    },
    {
      "cell_type": "markdown",
      "source": [
        "### 4.2 COMPARING MARKET SHARES AND PRICES"
      ],
      "metadata": {
        "id": "_aIa7PcljihN"
      }
    },
    {
      "cell_type": "code",
      "source": [
        "data.groupby('Häagen-Dazs')[['price','s']].describe().loc[:, (slice(None), ['count', 'mean', 'std'])]"
      ],
      "metadata": {
        "colab": {
          "base_uri": "https://localhost:8080/",
          "height": 212
        },
        "id": "-E9-TnDovkq8",
        "outputId": "2818ecce-dc8a-4408-a2bd-9b15cde72c2e"
      },
      "execution_count": 110,
      "outputs": [
        {
          "output_type": "execute_result",
          "data": {
            "text/plain": [
              "             price                          s                    \n",
              "             count      mean       std  count      mean       std\n",
              "Häagen-Dazs                                                      \n",
              "0            200.0  2.769022  0.245062  200.0  0.103156  0.041946\n",
              "1            200.0  2.184750  0.240890  200.0  0.053775  0.026664"
            ],
            "text/html": [
              "\n",
              "  <div id=\"df-5edfcac7-06c4-4bf3-842a-699b308a4c3b\" class=\"colab-df-container\">\n",
              "    <div>\n",
              "<style scoped>\n",
              "    .dataframe tbody tr th:only-of-type {\n",
              "        vertical-align: middle;\n",
              "    }\n",
              "\n",
              "    .dataframe tbody tr th {\n",
              "        vertical-align: top;\n",
              "    }\n",
              "\n",
              "    .dataframe thead tr th {\n",
              "        text-align: left;\n",
              "    }\n",
              "\n",
              "    .dataframe thead tr:last-of-type th {\n",
              "        text-align: right;\n",
              "    }\n",
              "</style>\n",
              "<table border=\"1\" class=\"dataframe\">\n",
              "  <thead>\n",
              "    <tr>\n",
              "      <th></th>\n",
              "      <th colspan=\"3\" halign=\"left\">price</th>\n",
              "      <th colspan=\"3\" halign=\"left\">s</th>\n",
              "    </tr>\n",
              "    <tr>\n",
              "      <th></th>\n",
              "      <th>count</th>\n",
              "      <th>mean</th>\n",
              "      <th>std</th>\n",
              "      <th>count</th>\n",
              "      <th>mean</th>\n",
              "      <th>std</th>\n",
              "    </tr>\n",
              "    <tr>\n",
              "      <th>Häagen-Dazs</th>\n",
              "      <th></th>\n",
              "      <th></th>\n",
              "      <th></th>\n",
              "      <th></th>\n",
              "      <th></th>\n",
              "      <th></th>\n",
              "    </tr>\n",
              "  </thead>\n",
              "  <tbody>\n",
              "    <tr>\n",
              "      <th>0</th>\n",
              "      <td>200.0</td>\n",
              "      <td>2.769022</td>\n",
              "      <td>0.245062</td>\n",
              "      <td>200.0</td>\n",
              "      <td>0.103156</td>\n",
              "      <td>0.041946</td>\n",
              "    </tr>\n",
              "    <tr>\n",
              "      <th>1</th>\n",
              "      <td>200.0</td>\n",
              "      <td>2.184750</td>\n",
              "      <td>0.240890</td>\n",
              "      <td>200.0</td>\n",
              "      <td>0.053775</td>\n",
              "      <td>0.026664</td>\n",
              "    </tr>\n",
              "  </tbody>\n",
              "</table>\n",
              "</div>\n",
              "    <div class=\"colab-df-buttons\">\n",
              "\n",
              "  <div class=\"colab-df-container\">\n",
              "    <button class=\"colab-df-convert\" onclick=\"convertToInteractive('df-5edfcac7-06c4-4bf3-842a-699b308a4c3b')\"\n",
              "            title=\"Convert this dataframe to an interactive table.\"\n",
              "            style=\"display:none;\">\n",
              "\n",
              "  <svg xmlns=\"http://www.w3.org/2000/svg\" height=\"24px\" viewBox=\"0 -960 960 960\">\n",
              "    <path d=\"M120-120v-720h720v720H120Zm60-500h600v-160H180v160Zm220 220h160v-160H400v160Zm0 220h160v-160H400v160ZM180-400h160v-160H180v160Zm440 0h160v-160H620v160ZM180-180h160v-160H180v160Zm440 0h160v-160H620v160Z\"/>\n",
              "  </svg>\n",
              "    </button>\n",
              "\n",
              "  <style>\n",
              "    .colab-df-container {\n",
              "      display:flex;\n",
              "      gap: 12px;\n",
              "    }\n",
              "\n",
              "    .colab-df-convert {\n",
              "      background-color: #E8F0FE;\n",
              "      border: none;\n",
              "      border-radius: 50%;\n",
              "      cursor: pointer;\n",
              "      display: none;\n",
              "      fill: #1967D2;\n",
              "      height: 32px;\n",
              "      padding: 0 0 0 0;\n",
              "      width: 32px;\n",
              "    }\n",
              "\n",
              "    .colab-df-convert:hover {\n",
              "      background-color: #E2EBFA;\n",
              "      box-shadow: 0px 1px 2px rgba(60, 64, 67, 0.3), 0px 1px 3px 1px rgba(60, 64, 67, 0.15);\n",
              "      fill: #174EA6;\n",
              "    }\n",
              "\n",
              "    .colab-df-buttons div {\n",
              "      margin-bottom: 4px;\n",
              "    }\n",
              "\n",
              "    [theme=dark] .colab-df-convert {\n",
              "      background-color: #3B4455;\n",
              "      fill: #D2E3FC;\n",
              "    }\n",
              "\n",
              "    [theme=dark] .colab-df-convert:hover {\n",
              "      background-color: #434B5C;\n",
              "      box-shadow: 0px 1px 3px 1px rgba(0, 0, 0, 0.15);\n",
              "      filter: drop-shadow(0px 1px 2px rgba(0, 0, 0, 0.3));\n",
              "      fill: #FFFFFF;\n",
              "    }\n",
              "  </style>\n",
              "\n",
              "    <script>\n",
              "      const buttonEl =\n",
              "        document.querySelector('#df-5edfcac7-06c4-4bf3-842a-699b308a4c3b button.colab-df-convert');\n",
              "      buttonEl.style.display =\n",
              "        google.colab.kernel.accessAllowed ? 'block' : 'none';\n",
              "\n",
              "      async function convertToInteractive(key) {\n",
              "        const element = document.querySelector('#df-5edfcac7-06c4-4bf3-842a-699b308a4c3b');\n",
              "        const dataTable =\n",
              "          await google.colab.kernel.invokeFunction('convertToInteractive',\n",
              "                                                    [key], {});\n",
              "        if (!dataTable) return;\n",
              "\n",
              "        const docLinkHtml = 'Like what you see? Visit the ' +\n",
              "          '<a target=\"_blank\" href=https://colab.research.google.com/notebooks/data_table.ipynb>data table notebook</a>'\n",
              "          + ' to learn more about interactive tables.';\n",
              "        element.innerHTML = '';\n",
              "        dataTable['output_type'] = 'display_data';\n",
              "        await google.colab.output.renderOutput(dataTable, element);\n",
              "        const docLink = document.createElement('div');\n",
              "        docLink.innerHTML = docLinkHtml;\n",
              "        element.appendChild(docLink);\n",
              "      }\n",
              "    </script>\n",
              "  </div>\n",
              "\n",
              "\n",
              "<div id=\"df-eae36a73-784b-43d2-9211-12411d9b314d\">\n",
              "  <button class=\"colab-df-quickchart\" onclick=\"quickchart('df-eae36a73-784b-43d2-9211-12411d9b314d')\"\n",
              "            title=\"Suggest charts\"\n",
              "            style=\"display:none;\">\n",
              "\n",
              "<svg xmlns=\"http://www.w3.org/2000/svg\" height=\"24px\"viewBox=\"0 0 24 24\"\n",
              "     width=\"24px\">\n",
              "    <g>\n",
              "        <path d=\"M19 3H5c-1.1 0-2 .9-2 2v14c0 1.1.9 2 2 2h14c1.1 0 2-.9 2-2V5c0-1.1-.9-2-2-2zM9 17H7v-7h2v7zm4 0h-2V7h2v10zm4 0h-2v-4h2v4z\"/>\n",
              "    </g>\n",
              "</svg>\n",
              "  </button>\n",
              "\n",
              "<style>\n",
              "  .colab-df-quickchart {\n",
              "      --bg-color: #E8F0FE;\n",
              "      --fill-color: #1967D2;\n",
              "      --hover-bg-color: #E2EBFA;\n",
              "      --hover-fill-color: #174EA6;\n",
              "      --disabled-fill-color: #AAA;\n",
              "      --disabled-bg-color: #DDD;\n",
              "  }\n",
              "\n",
              "  [theme=dark] .colab-df-quickchart {\n",
              "      --bg-color: #3B4455;\n",
              "      --fill-color: #D2E3FC;\n",
              "      --hover-bg-color: #434B5C;\n",
              "      --hover-fill-color: #FFFFFF;\n",
              "      --disabled-bg-color: #3B4455;\n",
              "      --disabled-fill-color: #666;\n",
              "  }\n",
              "\n",
              "  .colab-df-quickchart {\n",
              "    background-color: var(--bg-color);\n",
              "    border: none;\n",
              "    border-radius: 50%;\n",
              "    cursor: pointer;\n",
              "    display: none;\n",
              "    fill: var(--fill-color);\n",
              "    height: 32px;\n",
              "    padding: 0;\n",
              "    width: 32px;\n",
              "  }\n",
              "\n",
              "  .colab-df-quickchart:hover {\n",
              "    background-color: var(--hover-bg-color);\n",
              "    box-shadow: 0 1px 2px rgba(60, 64, 67, 0.3), 0 1px 3px 1px rgba(60, 64, 67, 0.15);\n",
              "    fill: var(--button-hover-fill-color);\n",
              "  }\n",
              "\n",
              "  .colab-df-quickchart-complete:disabled,\n",
              "  .colab-df-quickchart-complete:disabled:hover {\n",
              "    background-color: var(--disabled-bg-color);\n",
              "    fill: var(--disabled-fill-color);\n",
              "    box-shadow: none;\n",
              "  }\n",
              "\n",
              "  .colab-df-spinner {\n",
              "    border: 2px solid var(--fill-color);\n",
              "    border-color: transparent;\n",
              "    border-bottom-color: var(--fill-color);\n",
              "    animation:\n",
              "      spin 1s steps(1) infinite;\n",
              "  }\n",
              "\n",
              "  @keyframes spin {\n",
              "    0% {\n",
              "      border-color: transparent;\n",
              "      border-bottom-color: var(--fill-color);\n",
              "      border-left-color: var(--fill-color);\n",
              "    }\n",
              "    20% {\n",
              "      border-color: transparent;\n",
              "      border-left-color: var(--fill-color);\n",
              "      border-top-color: var(--fill-color);\n",
              "    }\n",
              "    30% {\n",
              "      border-color: transparent;\n",
              "      border-left-color: var(--fill-color);\n",
              "      border-top-color: var(--fill-color);\n",
              "      border-right-color: var(--fill-color);\n",
              "    }\n",
              "    40% {\n",
              "      border-color: transparent;\n",
              "      border-right-color: var(--fill-color);\n",
              "      border-top-color: var(--fill-color);\n",
              "    }\n",
              "    60% {\n",
              "      border-color: transparent;\n",
              "      border-right-color: var(--fill-color);\n",
              "    }\n",
              "    80% {\n",
              "      border-color: transparent;\n",
              "      border-right-color: var(--fill-color);\n",
              "      border-bottom-color: var(--fill-color);\n",
              "    }\n",
              "    90% {\n",
              "      border-color: transparent;\n",
              "      border-bottom-color: var(--fill-color);\n",
              "    }\n",
              "  }\n",
              "</style>\n",
              "\n",
              "  <script>\n",
              "    async function quickchart(key) {\n",
              "      const quickchartButtonEl =\n",
              "        document.querySelector('#' + key + ' button');\n",
              "      quickchartButtonEl.disabled = true;  // To prevent multiple clicks.\n",
              "      quickchartButtonEl.classList.add('colab-df-spinner');\n",
              "      try {\n",
              "        const charts = await google.colab.kernel.invokeFunction(\n",
              "            'suggestCharts', [key], {});\n",
              "      } catch (error) {\n",
              "        console.error('Error during call to suggestCharts:', error);\n",
              "      }\n",
              "      quickchartButtonEl.classList.remove('colab-df-spinner');\n",
              "      quickchartButtonEl.classList.add('colab-df-quickchart-complete');\n",
              "    }\n",
              "    (() => {\n",
              "      let quickchartButtonEl =\n",
              "        document.querySelector('#df-eae36a73-784b-43d2-9211-12411d9b314d button');\n",
              "      quickchartButtonEl.style.display =\n",
              "        google.colab.kernel.accessAllowed ? 'block' : 'none';\n",
              "    })();\n",
              "  </script>\n",
              "</div>\n",
              "\n",
              "    </div>\n",
              "  </div>\n"
            ],
            "application/vnd.google.colaboratory.intrinsic+json": {
              "type": "dataframe",
              "summary": "{\n  \"name\": \"data\",\n  \"rows\": 2,\n  \"fields\": [\n    {\n      \"column\": [\n        \"H\\u00e4agen-Dazs\",\n        \"\"\n      ],\n      \"properties\": {\n        \"dtype\": \"number\",\n        \"std\": 0,\n        \"min\": 0,\n        \"max\": 1,\n        \"num_unique_values\": 2,\n        \"samples\": [\n          1,\n          0\n        ],\n        \"semantic_type\": \"\",\n        \"description\": \"\"\n      }\n    },\n    {\n      \"column\": [\n        \"price\",\n        \"count\"\n      ],\n      \"properties\": {\n        \"dtype\": \"number\",\n        \"std\": 0.0,\n        \"min\": 200.0,\n        \"max\": 200.0,\n        \"num_unique_values\": 1,\n        \"samples\": [\n          200.0\n        ],\n        \"semantic_type\": \"\",\n        \"description\": \"\"\n      }\n    },\n    {\n      \"column\": [\n        \"price\",\n        \"mean\"\n      ],\n      \"properties\": {\n        \"dtype\": \"number\",\n        \"std\": 0.41314251652564155,\n        \"min\": 2.1847502751491534,\n        \"max\": 2.7690220252126663,\n        \"num_unique_values\": 2,\n        \"samples\": [\n          2.1847502751491534\n        ],\n        \"semantic_type\": \"\",\n        \"description\": \"\"\n      }\n    },\n    {\n      \"column\": [\n        \"price\",\n        \"std\"\n      ],\n      \"properties\": {\n        \"dtype\": \"number\",\n        \"std\": 0.002949837205193867,\n        \"min\": 0.2408900708784825,\n        \"max\": 0.2450617706608604,\n        \"num_unique_values\": 2,\n        \"samples\": [\n          0.2408900708784825\n        ],\n        \"semantic_type\": \"\",\n        \"description\": \"\"\n      }\n    },\n    {\n      \"column\": [\n        \"s\",\n        \"count\"\n      ],\n      \"properties\": {\n        \"dtype\": \"number\",\n        \"std\": 0.0,\n        \"min\": 200.0,\n        \"max\": 200.0,\n        \"num_unique_values\": 1,\n        \"samples\": [\n          200.0\n        ],\n        \"semantic_type\": \"\",\n        \"description\": \"\"\n      }\n    },\n    {\n      \"column\": [\n        \"s\",\n        \"mean\"\n      ],\n      \"properties\": {\n        \"dtype\": \"number\",\n        \"std\": 0.03491732406306667,\n        \"min\": 0.05377527245157948,\n        \"max\": 0.10315582570334479,\n        \"num_unique_values\": 2,\n        \"samples\": [\n          0.05377527245157948\n        ],\n        \"semantic_type\": \"\",\n        \"description\": \"\"\n      }\n    },\n    {\n      \"column\": [\n        \"s\",\n        \"std\"\n      ],\n      \"properties\": {\n        \"dtype\": \"number\",\n        \"std\": 0.010806271842465392,\n        \"min\": 0.026663907189588738,\n        \"max\": 0.04194628338789379,\n        \"num_unique_values\": 2,\n        \"samples\": [\n          0.026663907189588738\n        ],\n        \"semantic_type\": \"\",\n        \"description\": \"\"\n      }\n    }\n  ]\n}"
            }
          },
          "metadata": {},
          "execution_count": 110
        }
      ]
    },
    {
      "cell_type": "markdown",
      "source": [
        "Compare Häagen-Dazs and Ben & Jerry's in terms of their market shares and prices across counties.\n",
        "\n",
        "1.   In how many counties is Häagen-Dazs ice cream sold? Ben \\& Jerry's?\n",
        "2.   Which ice cream brand is more expensive? Which one has the larger market share?\n",
        "3.   Which ice cream brand do you think consumers prefer?\n",
        "4.   For a given brand, do market shares vary across counties? If so, why do you think that is?\n",
        "\n",
        "\n",
        "---\n",
        "\n"
      ],
      "metadata": {
        "id": "z1L-PLU3wKSS"
      }
    },
    {
      "cell_type": "markdown",
      "source": [
        "### 4.3 EVALUATING MARKET CONCENTRATION"
      ],
      "metadata": {
        "id": "_DWTgnaiyZqj"
      }
    },
    {
      "cell_type": "markdown",
      "source": [
        "Häagen-Dazs and Ben \\& Jerry's are the only products in the market for 'super-premium' ice cream. Let's calculate the Hirschmann-Hifendahl Index (HHI) for county $t$:\n",
        "$$10000\\times\\sum_{j\\in\\{H,B\\}}s_{jt}^2$$\n"
      ],
      "metadata": {
        "id": "kbMq2NQP0RIB"
      }
    },
    {
      "cell_type": "code",
      "source": [
        "hhi1 = 10000*data.groupby('county')['s'].apply(lambda x: ((x/x.sum())**2).sum())"
      ],
      "metadata": {
        "id": "N4_nuMlalVMa"
      },
      "execution_count": 111,
      "outputs": []
    },
    {
      "cell_type": "code",
      "source": [
        "print('The average county-level HHI is',hhi1.mean().astype(int),'.')"
      ],
      "metadata": {
        "colab": {
          "base_uri": "https://localhost:8080/"
        },
        "id": "R_zWYz0qmL9L",
        "outputId": "206954ed-30e9-46fc-a061-fcfdad997ef9"
      },
      "execution_count": 112,
      "outputs": [
        {
          "output_type": "stream",
          "name": "stdout",
          "text": [
            "The average county-level HHI is 5913 .\n"
          ]
        }
      ]
    },
    {
      "cell_type": "markdown",
      "source": [
        "We could also report the HHI across counties:\n",
        "$$ 10000\\times \\frac{\\sum_{j\\in\\{H,B\\}}(\\sum_t \\text{sales}_{jt})^2}{(\\sum_{j\\in\\{H,B\\}}\\sum_t \\text{sales}_{jt})^2} $$"
      ],
      "metadata": {
        "id": "NmimY6xTarEP"
      }
    },
    {
      "cell_type": "code",
      "source": [
        "hhi2 = 10000*(data[data['Häagen-Dazs'] == 1]['sales'].sum()**2 + data[data['Häagen-Dazs'] == 0]['sales'].sum()**2)/(data[data['Häagen-Dazs'] == 1]['sales'].sum() + data[data['Häagen-Dazs'] == 0]['sales'].sum())**2\n"
      ],
      "metadata": {
        "id": "v0Bpe7wi0POS"
      },
      "execution_count": 113,
      "outputs": []
    },
    {
      "cell_type": "code",
      "source": [
        "print('The average HHI across counties is',hhi2.mean().astype(int),'.')"
      ],
      "metadata": {
        "id": "ZuubORBmpnp7",
        "outputId": "0eafba2f-59ce-4326-c8ba-28ecdc40d898",
        "colab": {
          "base_uri": "https://localhost:8080/"
        }
      },
      "execution_count": 114,
      "outputs": [
        {
          "output_type": "stream",
          "name": "stdout",
          "text": [
            "The average HHI across counties is 5488 .\n"
          ]
        }
      ]
    },
    {
      "cell_type": "markdown",
      "source": [
        "Is the market for 'super-premium' ice cream highly concentrated, moderately concentrated or unconcentrated?"
      ],
      "metadata": {
        "id": "sUbYBFip3i1L"
      }
    },
    {
      "cell_type": "markdown",
      "source": [
        "### 4.4 COMPUTING THE 'OUTSIDE OPTION' MARKET SHARE"
      ],
      "metadata": {
        "id": "yz7Rqdryz0AC"
      }
    },
    {
      "cell_type": "code",
      "source": [
        "data['s0'] = 1 - data.groupby(['county'])['s'].transform('sum')"
      ],
      "metadata": {
        "id": "XX7Feockz15o"
      },
      "execution_count": 115,
      "outputs": []
    },
    {
      "cell_type": "markdown",
      "source": [
        "Define the 'outside option' market share for each county. Here the 'outside good' is any ice cream sold other than Ben & Jerry's or Hägen-Dazs."
      ],
      "metadata": {
        "id": "pGE36O7EzPFs"
      }
    },
    {
      "cell_type": "markdown",
      "source": [
        "## 5. DEMAND ESTIMATION"
      ],
      "metadata": {
        "id": "BjIzsRkmCZhX"
      }
    },
    {
      "cell_type": "markdown",
      "source": [
        "### 5.1 TRANSFORMING THE DATA"
      ],
      "metadata": {
        "id": "Vu70i97XqPHI"
      }
    },
    {
      "cell_type": "markdown",
      "source": [
        "Transform the market shares to back out the **mean utilities**. The transformed market share is going to be the **dependent variable** in the regressions we run. Remember:\n",
        "$$ \\ln(s_{jt}) - \\ln(s_{0t}) = \\alpha p_{jt} + \\mathbf{x}_{jt}\\boldsymbol{ \\beta } + \\xi_{jt} $$"
      ],
      "metadata": {
        "id": "dOCgy2dk0R49"
      }
    },
    {
      "cell_type": "code",
      "source": [
        "Y = np.log(data['s']) - np.log(data['s0'])"
      ],
      "metadata": {
        "id": "QQAM_uIq1IfR"
      },
      "execution_count": 116,
      "outputs": []
    },
    {
      "cell_type": "markdown",
      "source": [
        "In the regression, the **independent variables** are going to be the price and the Häagen-Dazs dummy variable, plus a constant.\n",
        "$$ V_{jt} = \\beta_0 + \\beta_\\text{Häagen-Dazs}\\mathbf{1}(j = \\text{Häagen-Dazs}) + \\alpha p_{jt} + \\xi_{jt} $$"
      ],
      "metadata": {
        "id": "pGnehPLN1ccw"
      }
    },
    {
      "cell_type": "code",
      "source": [
        "X=sm.add_constant(data[['price','Häagen-Dazs']])"
      ],
      "metadata": {
        "id": "a6MMCZ9p2Fs1"
      },
      "execution_count": 117,
      "outputs": []
    },
    {
      "cell_type": "markdown",
      "source": [
        "### 5.2 OLS REGRESSION"
      ],
      "metadata": {
        "id": "ZjdHTwl3vMcA"
      }
    },
    {
      "cell_type": "code",
      "source": [
        "ols = sm.OLS(Y,X)\n",
        "ols_result = ols.fit(cov_type='HC3')\n",
        "ols_result.summary()"
      ],
      "metadata": {
        "id": "1Q0pR190031w",
        "outputId": "e8bd554f-6854-4746-f4a3-72a5d0810886",
        "colab": {
          "base_uri": "https://localhost:8080/",
          "height": 473
        }
      },
      "execution_count": 118,
      "outputs": [
        {
          "output_type": "execute_result",
          "data": {
            "text/plain": [
              "<class 'statsmodels.iolib.summary.Summary'>\n",
              "\"\"\"\n",
              "                            OLS Regression Results                            \n",
              "==============================================================================\n",
              "Dep. Variable:                      y   R-squared:                       0.288\n",
              "Model:                            OLS   Adj. R-squared:                  0.284\n",
              "Method:                 Least Squares   F-statistic:                     81.94\n",
              "Date:                Thu, 19 Sep 2024   Prob (F-statistic):           1.62e-30\n",
              "Time:                        15:25:44   Log-Likelihood:                -332.07\n",
              "No. Observations:                 400   AIC:                             670.1\n",
              "Df Residuals:                     397   BIC:                             682.1\n",
              "Df Model:                           2                                         \n",
              "Covariance Type:                  HC3                                         \n",
              "===============================================================================\n",
              "                  coef    std err          z      P>|z|      [0.025      0.975]\n",
              "-------------------------------------------------------------------------------\n",
              "const          -1.5005      0.305     -4.918      0.000      -2.099      -0.902\n",
              "price          -0.2508      0.110     -2.278      0.023      -0.467      -0.035\n",
              "Häagen-Dazs    -0.8418      0.083    -10.187      0.000      -1.004      -0.680\n",
              "==============================================================================\n",
              "Omnibus:                       72.286   Durbin-Watson:                   1.902\n",
              "Prob(Omnibus):                  0.000   Jarque-Bera (JB):              154.644\n",
              "Skew:                          -0.947   Prob(JB):                     2.63e-34\n",
              "Kurtosis:                       5.385   Cond. No.                         34.1\n",
              "==============================================================================\n",
              "\n",
              "Notes:\n",
              "[1] Standard Errors are heteroscedasticity robust (HC3)\n",
              "\"\"\""
            ],
            "text/html": [
              "<table class=\"simpletable\">\n",
              "<caption>OLS Regression Results</caption>\n",
              "<tr>\n",
              "  <th>Dep. Variable:</th>            <td>y</td>        <th>  R-squared:         </th> <td>   0.288</td>\n",
              "</tr>\n",
              "<tr>\n",
              "  <th>Model:</th>                   <td>OLS</td>       <th>  Adj. R-squared:    </th> <td>   0.284</td>\n",
              "</tr>\n",
              "<tr>\n",
              "  <th>Method:</th>             <td>Least Squares</td>  <th>  F-statistic:       </th> <td>   81.94</td>\n",
              "</tr>\n",
              "<tr>\n",
              "  <th>Date:</th>             <td>Thu, 19 Sep 2024</td> <th>  Prob (F-statistic):</th> <td>1.62e-30</td>\n",
              "</tr>\n",
              "<tr>\n",
              "  <th>Time:</th>                 <td>15:25:44</td>     <th>  Log-Likelihood:    </th> <td> -332.07</td>\n",
              "</tr>\n",
              "<tr>\n",
              "  <th>No. Observations:</th>      <td>   400</td>      <th>  AIC:               </th> <td>   670.1</td>\n",
              "</tr>\n",
              "<tr>\n",
              "  <th>Df Residuals:</th>          <td>   397</td>      <th>  BIC:               </th> <td>   682.1</td>\n",
              "</tr>\n",
              "<tr>\n",
              "  <th>Df Model:</th>              <td>     2</td>      <th>                     </th>     <td> </td>   \n",
              "</tr>\n",
              "<tr>\n",
              "  <th>Covariance Type:</th>         <td>HC3</td>       <th>                     </th>     <td> </td>   \n",
              "</tr>\n",
              "</table>\n",
              "<table class=\"simpletable\">\n",
              "<tr>\n",
              "       <td></td>          <th>coef</th>     <th>std err</th>      <th>z</th>      <th>P>|z|</th>  <th>[0.025</th>    <th>0.975]</th>  \n",
              "</tr>\n",
              "<tr>\n",
              "  <th>const</th>       <td>   -1.5005</td> <td>    0.305</td> <td>   -4.918</td> <td> 0.000</td> <td>   -2.099</td> <td>   -0.902</td>\n",
              "</tr>\n",
              "<tr>\n",
              "  <th>price</th>       <td>   -0.2508</td> <td>    0.110</td> <td>   -2.278</td> <td> 0.023</td> <td>   -0.467</td> <td>   -0.035</td>\n",
              "</tr>\n",
              "<tr>\n",
              "  <th>Häagen-Dazs</th> <td>   -0.8418</td> <td>    0.083</td> <td>  -10.187</td> <td> 0.000</td> <td>   -1.004</td> <td>   -0.680</td>\n",
              "</tr>\n",
              "</table>\n",
              "<table class=\"simpletable\">\n",
              "<tr>\n",
              "  <th>Omnibus:</th>       <td>72.286</td> <th>  Durbin-Watson:     </th> <td>   1.902</td>\n",
              "</tr>\n",
              "<tr>\n",
              "  <th>Prob(Omnibus):</th> <td> 0.000</td> <th>  Jarque-Bera (JB):  </th> <td> 154.644</td>\n",
              "</tr>\n",
              "<tr>\n",
              "  <th>Skew:</th>          <td>-0.947</td> <th>  Prob(JB):          </th> <td>2.63e-34</td>\n",
              "</tr>\n",
              "<tr>\n",
              "  <th>Kurtosis:</th>      <td> 5.385</td> <th>  Cond. No.          </th> <td>    34.1</td>\n",
              "</tr>\n",
              "</table><br/><br/>Notes:<br/>[1] Standard Errors are heteroscedasticity robust (HC3)"
            ],
            "text/latex": "\\begin{center}\n\\begin{tabular}{lclc}\n\\toprule\n\\textbf{Dep. Variable:}    &        y         & \\textbf{  R-squared:         } &     0.288   \\\\\n\\textbf{Model:}            &       OLS        & \\textbf{  Adj. R-squared:    } &     0.284   \\\\\n\\textbf{Method:}           &  Least Squares   & \\textbf{  F-statistic:       } &     81.94   \\\\\n\\textbf{Date:}             & Thu, 19 Sep 2024 & \\textbf{  Prob (F-statistic):} &  1.62e-30   \\\\\n\\textbf{Time:}             &     15:25:44     & \\textbf{  Log-Likelihood:    } &   -332.07   \\\\\n\\textbf{No. Observations:} &         400      & \\textbf{  AIC:               } &     670.1   \\\\\n\\textbf{Df Residuals:}     &         397      & \\textbf{  BIC:               } &     682.1   \\\\\n\\textbf{Df Model:}         &           2      & \\textbf{                     } &             \\\\\n\\textbf{Covariance Type:}  &       HC3        & \\textbf{                     } &             \\\\\n\\bottomrule\n\\end{tabular}\n\\begin{tabular}{lcccccc}\n                     & \\textbf{coef} & \\textbf{std err} & \\textbf{z} & \\textbf{P$> |$z$|$} & \\textbf{[0.025} & \\textbf{0.975]}  \\\\\n\\midrule\n\\textbf{const}       &      -1.5005  &        0.305     &    -4.918  &         0.000        &       -2.099    &       -0.902     \\\\\n\\textbf{price}       &      -0.2508  &        0.110     &    -2.278  &         0.023        &       -0.467    &       -0.035     \\\\\n\\textbf{Häagen-Dazs} &      -0.8418  &        0.083     &   -10.187  &         0.000        &       -1.004    &       -0.680     \\\\\n\\bottomrule\n\\end{tabular}\n\\begin{tabular}{lclc}\n\\textbf{Omnibus:}       & 72.286 & \\textbf{  Durbin-Watson:     } &    1.902  \\\\\n\\textbf{Prob(Omnibus):} &  0.000 & \\textbf{  Jarque-Bera (JB):  } &  154.644  \\\\\n\\textbf{Skew:}          & -0.947 & \\textbf{  Prob(JB):          } & 2.63e-34  \\\\\n\\textbf{Kurtosis:}      &  5.385 & \\textbf{  Cond. No.          } &     34.1  \\\\\n\\bottomrule\n\\end{tabular}\n%\\caption{OLS Regression Results}\n\\end{center}\n\nNotes: \\newline\n [1] Standard Errors are heteroscedasticity robust (HC3)"
          },
          "metadata": {},
          "execution_count": 118
        }
      ]
    },
    {
      "cell_type": "markdown",
      "source": [
        "Let's interpret the estimation results.\n",
        "\n",
        "1.   All else equal, how much lower is the mean utility of consuming a unit of ice cream if the unit price increases by \\$1?\n",
        "2.   On average, which ice cream brand do consumers prefer?\n",
        "3.   What is the meaning of the constant? It is negative. Why do you think that is?\n",
        "4. What is the mean utility of consuming a unit of Ben & Jerry's ice cream if it is sold for \\$3?"
      ],
      "metadata": {
        "id": "1TR1MkwIDn9K"
      }
    },
    {
      "cell_type": "markdown",
      "source": [
        "### 5.3 ENDOGENEITY AND INSTRUMENTAL VARIABLE"
      ],
      "metadata": {
        "id": "wJcoGAz3FZq8"
      }
    },
    {
      "cell_type": "markdown",
      "source": [
        "Our estimate of the price coefficient is likely biased. The true coefficients are\n",
        "\n",
        "\\begin{align*}\n",
        "  \\beta_0 = & -0.44 \\\\\n",
        "  \\beta_{Häagen-Dazs} = & -1.07 \\\\\n",
        "  \\alpha = & -0.63\n",
        "\\end{align*}\n",
        "\n",
        "Why is that? Do you think the fuel price is a good **instrumental variable** for the unit price?"
      ],
      "metadata": {
        "id": "VrOnWYz6Gu96"
      }
    },
    {
      "cell_type": "code",
      "source": [
        "first_stage = sm.OLS(data['price'],sm.add_constant(data[['fuel cost','Häagen-Dazs']]))\n",
        "first_stage_result = first_stage.fit(cov_type='HC3')\n",
        "first_stage_result.summary()"
      ],
      "metadata": {
        "id": "bOqe9iwLGNaC",
        "outputId": "13deb240-332b-4104-f03d-2c17ef3eb73e",
        "colab": {
          "base_uri": "https://localhost:8080/",
          "height": 473
        }
      },
      "execution_count": 119,
      "outputs": [
        {
          "output_type": "execute_result",
          "data": {
            "text/plain": [
              "<class 'statsmodels.iolib.summary.Summary'>\n",
              "\"\"\"\n",
              "                            OLS Regression Results                            \n",
              "==============================================================================\n",
              "Dep. Variable:                  price   R-squared:                       0.859\n",
              "Model:                            OLS   Adj. R-squared:                  0.858\n",
              "Method:                 Least Squares   F-statistic:                     1192.\n",
              "Date:                Thu, 19 Sep 2024   Prob (F-statistic):          1.48e-168\n",
              "Time:                        15:25:57   Log-Likelihood:                 211.84\n",
              "No. Observations:                 400   AIC:                            -417.7\n",
              "Df Residuals:                     397   BIC:                            -405.7\n",
              "Df Model:                           2                                         \n",
              "Covariance Type:                  HC3                                         \n",
              "===============================================================================\n",
              "                  coef    std err          z      P>|z|      [0.025      0.975]\n",
              "-------------------------------------------------------------------------------\n",
              "const           2.1603      0.024     88.575      0.000       2.112       2.208\n",
              "fuel cost       1.0312      0.037     27.850      0.000       0.959       1.104\n",
              "Häagen-Dazs    -0.2931      0.018    -16.675      0.000      -0.328      -0.259\n",
              "==============================================================================\n",
              "Omnibus:                        0.757   Durbin-Watson:                   1.992\n",
              "Prob(Omnibus):                  0.685   Jarque-Bera (JB):                0.614\n",
              "Skew:                           0.090   Prob(JB):                        0.736\n",
              "Kurtosis:                       3.068   Cond. No.                         7.78\n",
              "==============================================================================\n",
              "\n",
              "Notes:\n",
              "[1] Standard Errors are heteroscedasticity robust (HC3)\n",
              "\"\"\""
            ],
            "text/html": [
              "<table class=\"simpletable\">\n",
              "<caption>OLS Regression Results</caption>\n",
              "<tr>\n",
              "  <th>Dep. Variable:</th>          <td>price</td>      <th>  R-squared:         </th> <td>   0.859</td> \n",
              "</tr>\n",
              "<tr>\n",
              "  <th>Model:</th>                   <td>OLS</td>       <th>  Adj. R-squared:    </th> <td>   0.858</td> \n",
              "</tr>\n",
              "<tr>\n",
              "  <th>Method:</th>             <td>Least Squares</td>  <th>  F-statistic:       </th> <td>   1192.</td> \n",
              "</tr>\n",
              "<tr>\n",
              "  <th>Date:</th>             <td>Thu, 19 Sep 2024</td> <th>  Prob (F-statistic):</th> <td>1.48e-168</td>\n",
              "</tr>\n",
              "<tr>\n",
              "  <th>Time:</th>                 <td>15:25:57</td>     <th>  Log-Likelihood:    </th> <td>  211.84</td> \n",
              "</tr>\n",
              "<tr>\n",
              "  <th>No. Observations:</th>      <td>   400</td>      <th>  AIC:               </th> <td>  -417.7</td> \n",
              "</tr>\n",
              "<tr>\n",
              "  <th>Df Residuals:</th>          <td>   397</td>      <th>  BIC:               </th> <td>  -405.7</td> \n",
              "</tr>\n",
              "<tr>\n",
              "  <th>Df Model:</th>              <td>     2</td>      <th>                     </th>     <td> </td>    \n",
              "</tr>\n",
              "<tr>\n",
              "  <th>Covariance Type:</th>         <td>HC3</td>       <th>                     </th>     <td> </td>    \n",
              "</tr>\n",
              "</table>\n",
              "<table class=\"simpletable\">\n",
              "<tr>\n",
              "       <td></td>          <th>coef</th>     <th>std err</th>      <th>z</th>      <th>P>|z|</th>  <th>[0.025</th>    <th>0.975]</th>  \n",
              "</tr>\n",
              "<tr>\n",
              "  <th>const</th>       <td>    2.1603</td> <td>    0.024</td> <td>   88.575</td> <td> 0.000</td> <td>    2.112</td> <td>    2.208</td>\n",
              "</tr>\n",
              "<tr>\n",
              "  <th>fuel cost</th>   <td>    1.0312</td> <td>    0.037</td> <td>   27.850</td> <td> 0.000</td> <td>    0.959</td> <td>    1.104</td>\n",
              "</tr>\n",
              "<tr>\n",
              "  <th>Häagen-Dazs</th> <td>   -0.2931</td> <td>    0.018</td> <td>  -16.675</td> <td> 0.000</td> <td>   -0.328</td> <td>   -0.259</td>\n",
              "</tr>\n",
              "</table>\n",
              "<table class=\"simpletable\">\n",
              "<tr>\n",
              "  <th>Omnibus:</th>       <td> 0.757</td> <th>  Durbin-Watson:     </th> <td>   1.992</td>\n",
              "</tr>\n",
              "<tr>\n",
              "  <th>Prob(Omnibus):</th> <td> 0.685</td> <th>  Jarque-Bera (JB):  </th> <td>   0.614</td>\n",
              "</tr>\n",
              "<tr>\n",
              "  <th>Skew:</th>          <td> 0.090</td> <th>  Prob(JB):          </th> <td>   0.736</td>\n",
              "</tr>\n",
              "<tr>\n",
              "  <th>Kurtosis:</th>      <td> 3.068</td> <th>  Cond. No.          </th> <td>    7.78</td>\n",
              "</tr>\n",
              "</table><br/><br/>Notes:<br/>[1] Standard Errors are heteroscedasticity robust (HC3)"
            ],
            "text/latex": "\\begin{center}\n\\begin{tabular}{lclc}\n\\toprule\n\\textbf{Dep. Variable:}    &      price       & \\textbf{  R-squared:         } &     0.859   \\\\\n\\textbf{Model:}            &       OLS        & \\textbf{  Adj. R-squared:    } &     0.858   \\\\\n\\textbf{Method:}           &  Least Squares   & \\textbf{  F-statistic:       } &     1192.   \\\\\n\\textbf{Date:}             & Thu, 19 Sep 2024 & \\textbf{  Prob (F-statistic):} & 1.48e-168   \\\\\n\\textbf{Time:}             &     15:25:57     & \\textbf{  Log-Likelihood:    } &    211.84   \\\\\n\\textbf{No. Observations:} &         400      & \\textbf{  AIC:               } &    -417.7   \\\\\n\\textbf{Df Residuals:}     &         397      & \\textbf{  BIC:               } &    -405.7   \\\\\n\\textbf{Df Model:}         &           2      & \\textbf{                     } &             \\\\\n\\textbf{Covariance Type:}  &       HC3        & \\textbf{                     } &             \\\\\n\\bottomrule\n\\end{tabular}\n\\begin{tabular}{lcccccc}\n                     & \\textbf{coef} & \\textbf{std err} & \\textbf{z} & \\textbf{P$> |$z$|$} & \\textbf{[0.025} & \\textbf{0.975]}  \\\\\n\\midrule\n\\textbf{const}       &       2.1603  &        0.024     &    88.575  &         0.000        &        2.112    &        2.208     \\\\\n\\textbf{fuel cost}   &       1.0312  &        0.037     &    27.850  &         0.000        &        0.959    &        1.104     \\\\\n\\textbf{Häagen-Dazs} &      -0.2931  &        0.018     &   -16.675  &         0.000        &       -0.328    &       -0.259     \\\\\n\\bottomrule\n\\end{tabular}\n\\begin{tabular}{lclc}\n\\textbf{Omnibus:}       &  0.757 & \\textbf{  Durbin-Watson:     } &    1.992  \\\\\n\\textbf{Prob(Omnibus):} &  0.685 & \\textbf{  Jarque-Bera (JB):  } &    0.614  \\\\\n\\textbf{Skew:}          &  0.090 & \\textbf{  Prob(JB):          } &    0.736  \\\\\n\\textbf{Kurtosis:}      &  3.068 & \\textbf{  Cond. No.          } &     7.78  \\\\\n\\bottomrule\n\\end{tabular}\n%\\caption{OLS Regression Results}\n\\end{center}\n\nNotes: \\newline\n [1] Standard Errors are heteroscedasticity robust (HC3)"
          },
          "metadata": {},
          "execution_count": 119
        }
      ]
    },
    {
      "cell_type": "markdown",
      "source": [
        "1. Are the estimates significantly different from zero in a statistical sense?\n",
        "2. According to our estimates, by how much does the unit price increase if the fuel cost increases by \\$1 (and everything else is unchanged)? Does this intuitively make sense?"
      ],
      "metadata": {
        "id": "IbAPQYZqHdlu"
      }
    },
    {
      "cell_type": "markdown",
      "source": [
        "We plot Häagen-Dazs market shares and unit prices and fit a line (left). We compare this to the results of a 2SLS regression with fuel price as the instrument (right)."
      ],
      "metadata": {
        "id": "f59Kto0TMK2Z"
      }
    },
    {
      "cell_type": "code",
      "source": [
        "figure, axis = plt.subplots(1, 2,sharex=True,sharey=True,figsize=(9,3))\n",
        "\n",
        "axis[0].scatter(data[data['Häagen-Dazs'] == 0]['price'],data[data['Häagen-Dazs'] == 0]['s']*100)\n",
        "b, a = np.polyfit(data[data['Häagen-Dazs'] == 0]['price'], data[data['Häagen-Dazs'] == 0]['s']*100, deg=1)\n",
        "axis[0].plot(np.linspace(data[data['Häagen-Dazs'] == 0]['price'].min(), data[data['Häagen-Dazs'] == 0]['price'].max(), num=80), a + b * np.linspace(data[data['Häagen-Dazs'] == 0]['price'].min(), data[data['Häagen-Dazs'] == 0]['price'].max(), num=80), color=\"red\", lw=2.5)\n",
        "axis[0].set_title('W/o instrument')\n",
        "\n",
        "axis[1].scatter(data[data['Häagen-Dazs'] == 0]['price'],data[data['Häagen-Dazs'] == 0]['s']*100)\n",
        "a,b = IV2SLS(data[data['Häagen-Dazs'] == 0]['s']*100, sm.add_constant(data[data['Häagen-Dazs'] == 0]['price']), instrument = sm.add_constant(data[data['Häagen-Dazs'] == 0]['fuel cost'])).fit().params\n",
        "axis[1].plot(np.linspace(data[data['Häagen-Dazs'] == 0]['price'].min(), data[data['Häagen-Dazs'] == 0]['price'].max(), num=80), a + b * np.linspace(data[data['Häagen-Dazs'] == 0]['price'].min(), data[data['Häagen-Dazs'] == 0]['price'].max(), num=80), color=\"red\", lw=2.5)\n",
        "axis[1].set_title('W/ instrument')\n",
        "\n",
        "figure.text(0.5, 0.04, 'price (in $)', ha='center')\n",
        "figure.text(0.04, 0.5, 'market share (in %)', va='center', rotation='vertical')\n",
        "plt.show()"
      ],
      "metadata": {
        "id": "GWIKLOzKFenx",
        "outputId": "908a25e2-6107-4331-dd73-c5a558043f01",
        "colab": {
          "base_uri": "https://localhost:8080/",
          "height": 314
        }
      },
      "execution_count": 120,
      "outputs": [
        {
          "output_type": "display_data",
          "data": {
            "text/plain": [
              "<Figure size 900x300 with 2 Axes>"
            ],
            "image/png": "[encoded data removed]"
          },
          "metadata": {}
        }
      ]
    },
    {
      "cell_type": "markdown",
      "source": [
        "Can you explain why the line on the right is steeper?"
      ],
      "metadata": {
        "id": "TWj3XudcM_0K"
      }
    },
    {
      "cell_type": "markdown",
      "source": [
        "### 5.4 2SLS REGRESSION"
      ],
      "metadata": {
        "id": "foNO8uuLwL5_"
      }
    },
    {
      "cell_type": "markdown",
      "source": [
        "Next, we re-estimate demand using the fuel cost to instrument the price of ice cream."
      ],
      "metadata": {
        "id": "rNA_CXFBJa03"
      }
    },
    {
      "cell_type": "code",
      "source": [
        "twosls = IV2SLS(np.log(data['s']) - np.log(data['s0']), sm.add_constant(data[['price','Häagen-Dazs']]), instrument = sm.add_constant(data[['fuel cost','Häagen-Dazs']]))\n",
        "twosls_result = twosls.fit()\n",
        "const, alpha, beta = twosls_result.params.round(2)\n",
        "twosls_result.summary()"
      ],
      "metadata": {
        "id": "p0GFjqbYGigV",
        "outputId": "974b161b-657f-4d4d-dd4f-4fc2155dac80",
        "colab": {
          "base_uri": "https://localhost:8080/",
          "height": 404
        }
      },
      "execution_count": 122,
      "outputs": [
        {
          "output_type": "execute_result",
          "data": {
            "text/plain": [
              "<class 'statsmodels.iolib.summary.Summary'>\n",
              "\"\"\"\n",
              "                          IV2SLS Regression Results                           \n",
              "==============================================================================\n",
              "Dep. Variable:                      y   R-squared:                       0.271\n",
              "Model:                         IV2SLS   Adj. R-squared:                  0.267\n",
              "Method:                     Two Stage   F-statistic:                     84.88\n",
              "                        Least Squares   Prob (F-statistic):           2.04e-31\n",
              "Date:                Thu, 19 Sep 2024                                         \n",
              "Time:                        15:27:12                                         \n",
              "No. Observations:                 400                                         \n",
              "Df Residuals:                     397                                         \n",
              "Df Model:                           2                                         \n",
              "===============================================================================\n",
              "                  coef    std err          t      P>|t|      [0.025      0.975]\n",
              "-------------------------------------------------------------------------------\n",
              "const          -0.5242      0.400     -1.310      0.191      -1.311       0.262\n",
              "price          -0.6034      0.144     -4.198      0.000      -0.886      -0.321\n",
              "Häagen-Dazs    -1.0478      0.101    -10.360      0.000      -1.247      -0.849\n",
              "==============================================================================\n",
              "Omnibus:                       65.151   Durbin-Watson:                   1.928\n",
              "Prob(Omnibus):                  0.000   Jarque-Bera (JB):              124.790\n",
              "Skew:                          -0.904   Prob(JB):                     7.98e-28\n",
              "Kurtosis:                       5.055   Cond. No.                         34.1\n",
              "==============================================================================\n",
              "\"\"\""
            ],
            "text/html": [
              "<table class=\"simpletable\">\n",
              "<caption>IV2SLS Regression Results</caption>\n",
              "<tr>\n",
              "  <th>Dep. Variable:</th>            <td>y</td>        <th>  R-squared:         </th> <td>   0.271</td>\n",
              "</tr>\n",
              "<tr>\n",
              "  <th>Model:</th>                 <td>IV2SLS</td>      <th>  Adj. R-squared:    </th> <td>   0.267</td>\n",
              "</tr>\n",
              "<tr>\n",
              "  <th>Method:</th>               <td>Two Stage</td>    <th>  F-statistic:       </th> <td>   84.88</td>\n",
              "</tr>\n",
              "<tr>\n",
              "  <th></th>                    <td>Least Squares</td>  <th>  Prob (F-statistic):</th> <td>2.04e-31</td>\n",
              "</tr>\n",
              "<tr>\n",
              "  <th>Date:</th>             <td>Thu, 19 Sep 2024</td> <th>                     </th>     <td> </td>   \n",
              "</tr>\n",
              "<tr>\n",
              "  <th>Time:</th>                 <td>15:27:12</td>     <th>                     </th>     <td> </td>   \n",
              "</tr>\n",
              "<tr>\n",
              "  <th>No. Observations:</th>      <td>   400</td>      <th>                     </th>     <td> </td>   \n",
              "</tr>\n",
              "<tr>\n",
              "  <th>Df Residuals:</th>          <td>   397</td>      <th>                     </th>     <td> </td>   \n",
              "</tr>\n",
              "<tr>\n",
              "  <th>Df Model:</th>              <td>     2</td>      <th>                     </th>     <td> </td>   \n",
              "</tr>\n",
              "</table>\n",
              "<table class=\"simpletable\">\n",
              "<tr>\n",
              "       <td></td>          <th>coef</th>     <th>std err</th>      <th>t</th>      <th>P>|t|</th>  <th>[0.025</th>    <th>0.975]</th>  \n",
              "</tr>\n",
              "<tr>\n",
              "  <th>const</th>       <td>   -0.5242</td> <td>    0.400</td> <td>   -1.310</td> <td> 0.191</td> <td>   -1.311</td> <td>    0.262</td>\n",
              "</tr>\n",
              "<tr>\n",
              "  <th>price</th>       <td>   -0.6034</td> <td>    0.144</td> <td>   -4.198</td> <td> 0.000</td> <td>   -0.886</td> <td>   -0.321</td>\n",
              "</tr>\n",
              "<tr>\n",
              "  <th>Häagen-Dazs</th> <td>   -1.0478</td> <td>    0.101</td> <td>  -10.360</td> <td> 0.000</td> <td>   -1.247</td> <td>   -0.849</td>\n",
              "</tr>\n",
              "</table>\n",
              "<table class=\"simpletable\">\n",
              "<tr>\n",
              "  <th>Omnibus:</th>       <td>65.151</td> <th>  Durbin-Watson:     </th> <td>   1.928</td>\n",
              "</tr>\n",
              "<tr>\n",
              "  <th>Prob(Omnibus):</th> <td> 0.000</td> <th>  Jarque-Bera (JB):  </th> <td> 124.790</td>\n",
              "</tr>\n",
              "<tr>\n",
              "  <th>Skew:</th>          <td>-0.904</td> <th>  Prob(JB):          </th> <td>7.98e-28</td>\n",
              "</tr>\n",
              "<tr>\n",
              "  <th>Kurtosis:</th>      <td> 5.055</td> <th>  Cond. No.          </th> <td>    34.1</td>\n",
              "</tr>\n",
              "</table>"
            ],
            "text/latex": "\\begin{center}\n\\begin{tabular}{lclc}\n\\toprule\n\\textbf{Dep. Variable:}    &        y         & \\textbf{  R-squared:         } &     0.271   \\\\\n\\textbf{Model:}            &      IV2SLS      & \\textbf{  Adj. R-squared:    } &     0.267   \\\\\n\\textbf{Method:}           &    Two Stage     & \\textbf{  F-statistic:       } &     84.88   \\\\\n\\textbf{}                  &  Least Squares   & \\textbf{  Prob (F-statistic):} &  2.04e-31   \\\\\n\\textbf{Date:}             & Thu, 19 Sep 2024 & \\textbf{                     } &             \\\\\n\\textbf{Time:}             &     15:27:12     & \\textbf{                     } &             \\\\\n\\textbf{No. Observations:} &         400      & \\textbf{                     } &             \\\\\n\\textbf{Df Residuals:}     &         397      & \\textbf{                     } &             \\\\\n\\textbf{Df Model:}         &           2      & \\textbf{                     } &             \\\\\n\\bottomrule\n\\end{tabular}\n\\begin{tabular}{lcccccc}\n                     & \\textbf{coef} & \\textbf{std err} & \\textbf{t} & \\textbf{P$> |$t$|$} & \\textbf{[0.025} & \\textbf{0.975]}  \\\\\n\\midrule\n\\textbf{const}       &      -0.5242  &        0.400     &    -1.310  &         0.191        &       -1.311    &        0.262     \\\\\n\\textbf{price}       &      -0.6034  &        0.144     &    -4.198  &         0.000        &       -0.886    &       -0.321     \\\\\n\\textbf{Häagen-Dazs} &      -1.0478  &        0.101     &   -10.360  &         0.000        &       -1.247    &       -0.849     \\\\\n\\bottomrule\n\\end{tabular}\n\\begin{tabular}{lclc}\n\\textbf{Omnibus:}       & 65.151 & \\textbf{  Durbin-Watson:     } &    1.928  \\\\\n\\textbf{Prob(Omnibus):} &  0.000 & \\textbf{  Jarque-Bera (JB):  } &  124.790  \\\\\n\\textbf{Skew:}          & -0.904 & \\textbf{  Prob(JB):          } & 7.98e-28  \\\\\n\\textbf{Kurtosis:}      &  5.055 & \\textbf{  Cond. No.          } &     34.1  \\\\\n\\bottomrule\n\\end{tabular}\n%\\caption{IV2SLS Regression Results}\n\\end{center}"
          },
          "metadata": {},
          "execution_count": 122
        }
      ]
    },
    {
      "cell_type": "markdown",
      "source": [
        "Compare the OLS and 2SLS price coefficients. Which one has a larger magnitude?"
      ],
      "metadata": {
        "id": "hQukDz7BOLV8"
      }
    },
    {
      "cell_type": "markdown",
      "source": [
        "## 6. BACKING OUT $c$ AND $\\xi$"
      ],
      "metadata": {
        "id": "5zJrHOD3hCeT"
      }
    },
    {
      "cell_type": "markdown",
      "source": [
        "### 6.1 MARGINAL COSTS"
      ],
      "metadata": {
        "id": "HN22Q9WL79TE"
      }
    },
    {
      "cell_type": "markdown",
      "source": [
        "Based on our estimates, we can back out the marginal costs of Häagen-Dazs' and Ben \\& Jerry's using the FOCs of their profit maximization problems. Recall:\n",
        "$$ \\frac{\\partial \\pi_{jt}(p_{jt}^*)}{\\partial p_{jt}} = \\alpha s_{jt}(1-s_{jt})(p_{jt}^* - c_{jt}) + s_{jt} = 0 $$\n",
        "$$ \\widehat c_{jt} = p_{jt}^* + \\frac{1}{\\widehat \\alpha(1-s_{jt})} $$"
      ],
      "metadata": {
        "id": "nfwHDydyhHXK"
      }
    },
    {
      "cell_type": "code",
      "source": [
        "data['c_hat'] = data['price'] + 1/(alpha*(1-data['s']))"
      ],
      "metadata": {
        "id": "Y5O0q6Uf6qUc"
      },
      "execution_count": 127,
      "outputs": []
    },
    {
      "cell_type": "code",
      "source": [
        "print('The average cost of supplying one unit of Häagen-Dazs ice-cream is $', data[(data['Häagen-Dazs'] == 1)]['c_hat'].mean().round(2),'.')\n",
        "print('The average cost of supplying one unit of Ben & Jerry\\'s ice-cream is $', data[(data['Häagen-Dazs'] == 0)]['c_hat'].mean().round(2),'.')"
      ],
      "metadata": {
        "colab": {
          "base_uri": "https://localhost:8080/"
        },
        "id": "7mNY8doQhfMm",
        "outputId": "9827b74d-1d71-4e07-835e-46f421823245"
      },
      "execution_count": 128,
      "outputs": [
        {
          "output_type": "stream",
          "name": "stdout",
          "text": [
            "The average cost of supplying one unit of Häagen-Dazs ice-cream is 0.42 $.\n",
            "The average cost of supplying one unit of Ben & Jerry's ice-cream is 0.91 $.\n"
          ]
        }
      ]
    },
    {
      "cell_type": "markdown",
      "source": [
        "The true marginal costs are \\$0.5 and \\$1 for Häagen-Dazs and Ben & Jerry's ice cream respectively."
      ],
      "metadata": {
        "id": "vYTmTUkyn08B"
      }
    },
    {
      "cell_type": "markdown",
      "source": [
        "### 6.2 UNOBSERVED DEMAND SHOCKS"
      ],
      "metadata": {
        "id": "YRBai68t8D0w"
      }
    },
    {
      "cell_type": "markdown",
      "source": [
        "Rearrange the regression equation.\n",
        "$$ \\widehat \\xi_{jt} = \\ln(s_{jt}) - \\ln(s_{0t}) - (\\widehat β_0+\\widehat \\beta_{Häagen-Dazs}\\textbf{1}(j=\\text{Häagen-Dazs})+\\widehat \\alpha p_{jt}) $$\n"
      ],
      "metadata": {
        "id": "RamJziET8aHy"
      }
    },
    {
      "cell_type": "code",
      "source": [
        "data['xi_hat'] = Y - (const + beta*data['Häagen-Dazs'] + alpha*data['price'])"
      ],
      "metadata": {
        "id": "f4t1hhtK8ZgT"
      },
      "execution_count": 130,
      "outputs": []
    },
    {
      "cell_type": "code",
      "source": [
        "sns.kdeplot(data['xi_hat'])\n",
        "plt.xlabel(r'$\\widehat \\xi_{hat}$')\n",
        "plt.ylabel('density')\n",
        "plt.xlim(-4,+4)\n",
        "plt.show()"
      ],
      "metadata": {
        "id": "H145yRdN9yAm",
        "outputId": "9bd6136a-94a5-46a5-c502-00315e2c05e0",
        "colab": {
          "base_uri": "https://localhost:8080/",
          "height": 466
        }
      },
      "execution_count": 146,
      "outputs": [
        {
          "output_type": "display_data",
          "data": {
            "text/plain": [
              "<Figure size 640x480 with 1 Axes>"
            ],
            "image/png": "[encoded data removed]"
          },
          "metadata": {}
        }
      ]
    },
    {
      "cell_type": "markdown",
      "source": [
        "## 7. COMPUTING A COUNTERFACTUAL EQUILIBRIUM"
      ],
      "metadata": {
        "id": "oJONSer8cWQ8"
      }
    },
    {
      "cell_type": "markdown",
      "source": [
        "Suppose we want to find out how much Häagen-Dazs's profit would change if sold ice cream as good as Ben \\& Jerry's (i.e., if the Häagen-Dazs coefficient was zero) assuming its marginal cost did not change."
      ],
      "metadata": {
        "id": "thkRHwxkcgSD"
      }
    },
    {
      "cell_type": "markdown",
      "source": [
        "First, we calculate the variable profit using the data."
      ],
      "metadata": {
        "id": "tqdeIu3YqhJW"
      }
    },
    {
      "cell_type": "code",
      "source": [
        "pi_0 = ((data[data['Häagen-Dazs'] == 1]['sales'])*(data[data['Häagen-Dazs'] == 1]['price'] - data[data['Häagen-Dazs'] == 1]['c_hat'])).sum()\n",
        "print('Häagen-Dazs\\'s variable profit in the current equilibrium are $',pi_0.astype(int),'.')"
      ],
      "metadata": {
        "colab": {
          "base_uri": "https://localhost:8080/"
        },
        "id": "8lr3jJ2hhBle",
        "outputId": "e1bb8913-e7d5-446f-cedd-e80d41f45770"
      },
      "execution_count": 148,
      "outputs": [
        {
          "output_type": "stream",
          "name": "stdout",
          "text": [
            "Häagen-Dazs's variable profit in the current equilibrium are $ 3908 .\n"
          ]
        }
      ]
    },
    {
      "cell_type": "markdown",
      "source": [
        "To find the new prices (and market shares) we need to find the new Nash equilibrium. That is, we need to find the set of prices that satisfy firms' FOCs."
      ],
      "metadata": {
        "id": "i0LSogN8sILb"
      }
    },
    {
      "cell_type": "code",
      "source": [
        "def foc(P,C,params):\n",
        "    const,alpha,beta = params\n",
        "    return alpha*s(P,params)*(1-s(P,params))*(P-C) + s(P,params)"
      ],
      "metadata": {
        "id": "KeB1q_U3sTe5"
      },
      "execution_count": null,
      "outputs": []
    },
    {
      "cell_type": "markdown",
      "source": [
        "\n",
        "To calculate `foc` we have to write functions that calculate market shares (`s`) which in turn depend on the mean utilities (`V`).\n",
        "\n"
      ],
      "metadata": {
        "id": "DCNEJdT8tNRu"
      }
    },
    {
      "cell_type": "code",
      "source": [
        "def s(P,params):\n",
        "    return np.exp(V(P,params))/(1 + np.exp(V(P,params)))\n",
        "\n",
        "def V(P,params):\n",
        "    const,alpha,beta = params\n",
        "    return const + alpha*np.array(P) + beta*np.array([0,1])"
      ],
      "metadata": {
        "id": "S-SF9Baftx5e"
      },
      "execution_count": null,
      "outputs": []
    },
    {
      "cell_type": "markdown",
      "source": [
        "Let's use our 2SLS estimates (except that we set the Häagen-Dazs coefficient to zero) and the marginal costs that we have calculated to calculate the new prices `P_new`."
      ],
      "metadata": {
        "id": "nAwBw3QDuGW-"
      }
    },
    {
      "cell_type": "code",
      "source": [
        "res = optimize.root(foc,[0,0],args=(C_hat,[const,alpha,0]))\n",
        "print('Root found?',res.success)\n",
        "P_new = res.x\n",
        "s_new = s(P_new,[const,alpha,0])\n",
        "print('The new Häagen-Dazs unit price is $',round(P_new[0],2),', and the new Ben & Jerry\\'s unit price is $',round(P_new[1],2),'.')\n",
        "print('The new Häagen-Dazs market share is',round(100*s_new[0],0),'%. Ben & Jerry\\'s market share is',100*round(s_new[1],2),'%.')"
      ],
      "metadata": {
        "colab": {
          "base_uri": "https://localhost:8080/"
        },
        "id": "5bOAo0FOutQ3",
        "outputId": "7f6cdcdf-98d6-47a2-c697-53c4d60cd943"
      },
      "execution_count": null,
      "outputs": [
        {
          "output_type": "stream",
          "name": "stdout",
          "text": [
            "Root found? True\n",
            "The new Häagen-Dazs unit price is $ 2.53 , and the new Ben & Jerry's unit price is $ 2.49 .\n",
            "The new Häagen-Dazs market share is 13.0 %. Ben & Jerry's market share is 13.0 %.\n"
          ]
        }
      ]
    },
    {
      "cell_type": "markdown",
      "source": [
        "We find that the prices and market shares of Häagen-Dazs and Ben & Jerry's are roughly the same. Can you explain why?"
      ],
      "metadata": {
        "id": "qAakhg65wi_2"
      }
    },
    {
      "cell_type": "markdown",
      "source": [
        "Next, we calculate Häagen-Dazs new (variable) profit."
      ],
      "metadata": {
        "id": "yfi_MdW-xzr2"
      }
    },
    {
      "cell_type": "code",
      "source": [
        "pi_1 = (data[data['Häagen-Dazs'] == 1]['county size']*s_new[0]*(P_new[0] - C_hat[0])).sum()\n",
        "print('Häagen-Dazs\\'s variable profit in the new equilibrium are $',pi_1.astype(int),'.')\n",
        "print('Häagen-Dazs would benefit by $',(pi_1-pi_0).astype(int),' if its ice cream was as good as Ben \\& Jerry\\'s.')\n"
      ],
      "metadata": {
        "colab": {
          "base_uri": "https://localhost:8080/"
        },
        "id": "OvHT-xoUv1em",
        "outputId": "0e65d5d8-c999-43e9-8f8c-10d70a3eba7d"
      },
      "execution_count": null,
      "outputs": [
        {
          "output_type": "stream",
          "name": "stdout",
          "text": [
            "Häagen-Dazs's variable profit in the new equilibrium are $ 7321 .\n",
            "Häagen-Dazs would benefit by $ 4969  if its ice cream was as good as Ben \\& Jerry's.\n"
          ]
        }
      ]
    }
  ]
}