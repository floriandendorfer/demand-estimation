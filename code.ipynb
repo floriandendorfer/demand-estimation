{
  "nbformat": 4,
  "nbformat_minor": 0,
  "metadata": {
    "colab": {
      "provenance": [],
      "authorship_tag": "ABX9TyOdSa3o/0F3btKj5DlhPItK",
      "include_colab_link": true
    },
    "kernelspec": {
      "name": "python3",
      "display_name": "Python 3"
    },
    "language_info": {
      "name": "python"
    }
  },
  "cells": [
    {
      "cell_type": "markdown",
      "metadata": {
        "id": "view-in-github",
        "colab_type": "text"
      },
      "source": [
        "<a href=\"https://colab.research.google.com/github/floriandendorfer/demand-estimation/blob/main/code.ipynb\" target=\"_parent\"><img src=\"https://colab.research.google.com/assets/colab-badge.svg\" alt=\"Open In Colab\"/></a>"
      ]
    },
    {
      "cell_type": "markdown",
      "source": [
        "## 1. PACKAGES"
      ],
      "metadata": {
        "id": "msfD80wBuAIe"
      }
    },
    {
      "cell_type": "code",
      "source": [
        "import numpy as np\n",
        "import pandas as pd\n",
        "import statsmodels.api as sm\n",
        "from statsmodels.sandbox.regression.gmm import IV2SLS\n",
        "import matplotlib.pyplot as plt\n",
        "from scipy import optimize\n",
        "import seaborn as sns\n",
        "from scipy.stats import norm"
      ],
      "metadata": {
        "id": "sXZtEQTSuBrD"
      },
      "execution_count": null,
      "outputs": []
    },
    {
      "cell_type": "markdown",
      "source": [
        "\n",
        "\n",
        "---\n",
        "\n"
      ],
      "metadata": {
        "id": "F8UFDVgEyldC"
      }
    },
    {
      "cell_type": "markdown",
      "source": [
        "## 2. DATA"
      ],
      "metadata": {
        "id": "K734R5kpuLxd"
      }
    },
    {
      "cell_type": "code",
      "source": [
        "#!rm -rf demand-estimation\n",
        "!git clone https://github.com/floriandendorfer/demand-estimation.git\n",
        "data = pd.read_csv('demand-estimation/data1.csv',index_col=0)"
      ],
      "metadata": {
        "id": "svYXcpZSDiRe"
      },
      "execution_count": null,
      "outputs": []
    },
    {
      "cell_type": "markdown",
      "source": [
        "\n",
        "\n",
        "---\n",
        "\n"
      ],
      "metadata": {
        "id": "083Gc7JTypQD"
      }
    },
    {
      "cell_type": "markdown",
      "source": [
        "## 3. FIRST LOOK AT THE DATA"
      ],
      "metadata": {
        "id": "EWBp3DYBp9fL"
      }
    },
    {
      "cell_type": "markdown",
      "source": [
        "### 3.1 VARIABLES"
      ],
      "metadata": {
        "id": "QflbNmqaYf0A"
      }
    },
    {
      "cell_type": "code",
      "source": [
        "print(data.columns)"
      ],
      "metadata": {
        "id": "Fq0TQKv1uey_"
      },
      "execution_count": null,
      "outputs": []
    },
    {
      "cell_type": "markdown",
      "source": [
        "Each row contains sales information for an ice cream brand (i.e., Häagen-Dazs, Ben \\& Jerry's) and a geographic market (i.e., a county).\n",
        "\n",
        "*   `county` is the geopgrahpic market identifier ($t$ in the slides).\n",
        "*   `Häagen-Dazs` is 1 if the ice cream brand is Häagen-Dazs and 0 if the ice cream brand is Ben \\& Jerry's.\n",
        "*   `price` is the dollar price an ice cream serving of that brand is sold at.\n",
        "*   `fuel cost` is the dollar cost of transporting an ice cream serving.\n",
        "*   `sales` is the number of ice cream servings of that brand sold per week.\n",
        "*   `county size` is the number of *total* ice cream servings sold per week.\n"
      ],
      "metadata": {
        "id": "jChVzz3iqGsj"
      }
    },
    {
      "cell_type": "markdown",
      "source": [
        "### 3.2 DATA DESCRIPTION"
      ],
      "metadata": {
        "id": "fHfY_KtvjSHv"
      }
    },
    {
      "cell_type": "markdown",
      "source": [
        "Let's have a brief look at the data."
      ],
      "metadata": {
        "id": "6K9orgN5zBRH"
      }
    },
    {
      "cell_type": "code",
      "source": [
        "print(data.head(20))"
      ],
      "metadata": {
        "id": "PxEr4vNtzBjA"
      },
      "execution_count": null,
      "outputs": []
    },
    {
      "cell_type": "markdown",
      "source": [
        "Pick your favorite county."
      ],
      "metadata": {
        "id": "b5qHdXxnfy_P"
      }
    },
    {
      "cell_type": "code",
      "source": [
        "t = 10"
      ],
      "metadata": {
        "id": "r7HXJKF-f3F6"
      },
      "execution_count": null,
      "outputs": []
    },
    {
      "cell_type": "code",
      "source": [
        "print('In total,',data['county size'][t],'ice cream servings are sold in county',data['county'][t],'. As',data['sales'][t],' of them were ',np.where(data['Häagen-Dazs'][t] == 0, \"Ben & Jerry's\",\"Häagen-Dazs\"),\" ice cream, that brand's market share in this county is \",(100*data['sales'][t]/data['county size'][t]).round(2),'%. The price of a serving of', np.where(data['Häagen-Dazs'][t] == 0, \"Ben & Jerry's\",\"Häagen-Dazs\"),'ice cream in this county is $',data['price'][t].round(2),'.')"
      ],
      "metadata": {
        "id": "ShhmwBXYd4pn"
      },
      "execution_count": null,
      "outputs": []
    },
    {
      "cell_type": "code",
      "source": [
        "data.describe()"
      ],
      "metadata": {
        "id": "anqr1Qijs2Zt"
      },
      "execution_count": null,
      "outputs": []
    },
    {
      "cell_type": "markdown",
      "source": [
        "\n",
        "1.   How many counties are there?\n",
        "2.   What is the average price per serving?\n",
        "2.   What is the average market size in the sample? What is the largest market size?\n",
        "3.   What is the median number of ice cream servings sold per county for a given brand?\n",
        "\n",
        "\n",
        "\n"
      ],
      "metadata": {
        "id": "DuQ-WY-Vth-n"
      }
    },
    {
      "cell_type": "markdown",
      "source": [
        "## 4. MARKET SHARES"
      ],
      "metadata": {
        "id": "pCUayJEMy8du"
      }
    },
    {
      "cell_type": "markdown",
      "source": [
        "### 4.1 COMPUTING MARKET SHARES"
      ],
      "metadata": {
        "id": "3fT8HqP2jc93"
      }
    },
    {
      "cell_type": "code",
      "source": [
        "data['s'] = data['sales']/data['county size']"
      ],
      "metadata": {
        "id": "rP2oev-ozF37"
      },
      "execution_count": null,
      "outputs": []
    },
    {
      "cell_type": "markdown",
      "source": [
        "Calculate the market share of each firm (Häagen-Dazs, Ben & Jerry's) in each county based on the number of ice cream units sold.\n"
      ],
      "metadata": {
        "id": "x80C_G25zHhB"
      }
    },
    {
      "cell_type": "markdown",
      "source": [
        "### 4.2 COMPARING MARKET SHARES AND PRICES"
      ],
      "metadata": {
        "id": "_aIa7PcljihN"
      }
    },
    {
      "cell_type": "code",
      "source": [
        "data.groupby('Häagen-Dazs')[['price','s']].describe().loc[:, (slice(None), ['count', 'mean', 'std'])]"
      ],
      "metadata": {
        "id": "-E9-TnDovkq8"
      },
      "execution_count": null,
      "outputs": []
    },
    {
      "cell_type": "markdown",
      "source": [
        "Compare Häagen-Dazs and Ben & Jerry's in terms of their market shares and prices across counties.\n",
        "\n",
        "1.   In how many counties is Häagen-Dazs ice cream sold? Ben \\& Jerry's?\n",
        "2.   Which ice cream brand is more expensive? Which one has the larger market share?\n",
        "3.   Which ice cream brand do you think consumers prefer?\n",
        "4.   For a given brand, do market shares vary across counties? If so, why do you think that is?\n",
        "\n",
        "\n",
        "---\n",
        "\n"
      ],
      "metadata": {
        "id": "z1L-PLU3wKSS"
      }
    },
    {
      "cell_type": "markdown",
      "source": [
        "### 4.3 EVALUATING MARKET CONCENTRATION"
      ],
      "metadata": {
        "id": "_DWTgnaiyZqj"
      }
    },
    {
      "cell_type": "markdown",
      "source": [
        "Häagen-Dazs and Ben \\& Jerry's are the only products in the market for 'super-premium' ice cream. Let's calculate the Hirschmann-Hifendahl Index (HHI) for county $t$:\n",
        "$$10000\\times\\frac{\\sum_{j\\in\\{H,B\\}}\\text{sales}_{jt}^2}{(\\sum_{j\\in\\{H,B\\}}\\text{sales}_{jt})^2}$$\n"
      ],
      "metadata": {
        "id": "kbMq2NQP0RIB"
      }
    },
    {
      "cell_type": "code",
      "source": [
        "hhi1 = 10000*data.groupby('county')['s'].apply(lambda x: ((x/x.sum())**2).sum())"
      ],
      "metadata": {
        "id": "N4_nuMlalVMa"
      },
      "execution_count": null,
      "outputs": []
    },
    {
      "cell_type": "code",
      "source": [
        "print('The average county-level HHI is',hhi1.mean().astype(int),'.')"
      ],
      "metadata": {
        "id": "R_zWYz0qmL9L"
      },
      "execution_count": null,
      "outputs": []
    },
    {
      "cell_type": "markdown",
      "source": [
        "We could also report the HHI across counties:\n",
        "$$ 10000\\times \\frac{\\sum_{j\\in\\{H,B\\}}(\\sum_t \\text{sales}_{jt})^2}{(\\sum_{j\\in\\{H,B\\}}\\sum_t \\text{sales}_{jt})^2} $$"
      ],
      "metadata": {
        "id": "NmimY6xTarEP"
      }
    },
    {
      "cell_type": "code",
      "source": [
        "hhi2 = 10000*(data[data['Häagen-Dazs'] == 1]['sales'].sum()**2 + data[data['Häagen-Dazs'] == 0]['sales'].sum()**2)/(data[data['Häagen-Dazs'] == 1]['sales'].sum() + data[data['Häagen-Dazs'] == 0]['sales'].sum())**2\n"
      ],
      "metadata": {
        "id": "v0Bpe7wi0POS"
      },
      "execution_count": null,
      "outputs": []
    },
    {
      "cell_type": "code",
      "source": [
        "print('The average HHI across counties is',hhi2.mean().astype(int),'.')"
      ],
      "metadata": {
        "id": "ZuubORBmpnp7"
      },
      "execution_count": null,
      "outputs": []
    },
    {
      "cell_type": "markdown",
      "source": [
        "Is the market for 'super-premium' ice cream highly concentrated, moderately concentrated or unconcentrated?"
      ],
      "metadata": {
        "id": "sUbYBFip3i1L"
      }
    },
    {
      "cell_type": "markdown",
      "source": [
        "### 4.4 COMPUTING THE 'OUTSIDE OPTION' MARKET SHARE"
      ],
      "metadata": {
        "id": "yz7Rqdryz0AC"
      }
    },
    {
      "cell_type": "code",
      "source": [
        "data['s0'] = 1 - data.groupby(['county'])['s'].transform('sum')"
      ],
      "metadata": {
        "id": "XX7Feockz15o"
      },
      "execution_count": null,
      "outputs": []
    },
    {
      "cell_type": "markdown",
      "source": [
        "Define the 'outside option' market share for each county. Here the 'outside good' is any ice cream sold other than Ben & Jerry's or Hägen-Dazs."
      ],
      "metadata": {
        "id": "pGE36O7EzPFs"
      }
    },
    {
      "cell_type": "markdown",
      "source": [
        "## 5. DEMAND ESTIMATION"
      ],
      "metadata": {
        "id": "BjIzsRkmCZhX"
      }
    },
    {
      "cell_type": "markdown",
      "source": [
        "### 5.1 TRANSFORMING THE DATA"
      ],
      "metadata": {
        "id": "Vu70i97XqPHI"
      }
    },
    {
      "cell_type": "markdown",
      "source": [
        "Transform the market shares to back out the **mean utilities**. The transformed market share is going to be the **dependent variable** in the regressions we run. Remember:\n",
        "$$ \\ln(s_{jt}) - \\ln(s_{0t}) = \\alpha p_{jt} + \\mathbf{x}_{jt}\\prime\\boldsymbol{ \\beta } + \\xi_{jt} $$"
      ],
      "metadata": {
        "id": "dOCgy2dk0R49"
      }
    },
    {
      "cell_type": "code",
      "source": [
        "Y = np.log(data['s']) - np.log(data['s0'])"
      ],
      "metadata": {
        "id": "QQAM_uIq1IfR"
      },
      "execution_count": null,
      "outputs": []
    },
    {
      "cell_type": "markdown",
      "source": [
        "In the regression, the **independent variables** are going to be the price and the Häagen-Dazs dummy variable, plus a constant.\n",
        "$$ V_{jt} = \\beta_0 + \\beta_\\text{Häagen-Dazs}\\mathbf{1}(j = \\text{Häagen-Dazs}) + \\alpha p_{jt} + \\xi_{jt} $$"
      ],
      "metadata": {
        "id": "pGnehPLN1ccw"
      }
    },
    {
      "cell_type": "code",
      "source": [
        "X=sm.add_constant(data[['price','Häagen-Dazs']])"
      ],
      "metadata": {
        "id": "a6MMCZ9p2Fs1"
      },
      "execution_count": null,
      "outputs": []
    },
    {
      "cell_type": "markdown",
      "source": [
        "### 5.2 OLS REGRESSION"
      ],
      "metadata": {
        "id": "ZjdHTwl3vMcA"
      }
    },
    {
      "cell_type": "code",
      "source": [
        "ols = sm.OLS(Y,X)\n",
        "ols_result = ols.fit(cov_type='HC3')\n",
        "ols_result.summary()"
      ],
      "metadata": {
        "id": "1Q0pR190031w"
      },
      "execution_count": null,
      "outputs": []
    },
    {
      "cell_type": "markdown",
      "source": [
        "Let's interpret the estimation results.\n",
        "\n",
        "1.   All else equal, how much lower is the mean utility of consuming a unit of ice cream if the unit price increases by \\$1?\n",
        "2.   On average, which ice cream brand do consumers prefer?\n",
        "3.   What is the meaning of the constant? It is negative. Why do you think that is?\n",
        "4. What is the mean utility of consuming a unit of Ben & Jerry's ice cream if it is sold for \\$3?"
      ],
      "metadata": {
        "id": "1TR1MkwIDn9K"
      }
    },
    {
      "cell_type": "markdown",
      "source": [
        "### 5.3 ENDOGENEITY AND INSTRUMENTAL VARIABLE"
      ],
      "metadata": {
        "id": "wJcoGAz3FZq8"
      }
    },
    {
      "cell_type": "markdown",
      "source": [
        "Our estimate of the price coefficient is likely biased. The true coefficients are\n",
        "\n",
        "\\begin{align*}\n",
        "  \\beta_0 = & -0.44 \\\\\n",
        "  \\beta_{Häagen-Dazs} = & -1.07 \\\\\n",
        "  \\alpha = & -0.63\n",
        "\\end{align*}\n",
        "\n",
        "Why is that? Do you think the fuel price is a good **instrumental variable** for the unit price?"
      ],
      "metadata": {
        "id": "VrOnWYz6Gu96"
      }
    },
    {
      "cell_type": "code",
      "source": [
        "first_stage = sm.OLS(data['price'],sm.add_constant(data[['fuel cost','Häagen-Dazs']]))\n",
        "first_stage_result = first_stage.fit(cov_type='HC3')\n",
        "first_stage_result.summary()"
      ],
      "metadata": {
        "id": "bOqe9iwLGNaC"
      },
      "execution_count": null,
      "outputs": []
    },
    {
      "cell_type": "markdown",
      "source": [
        "1. Are the estimates significantly different from zero in a statistical sense?\n",
        "2. According to our estimates, by how much does the unit price increase if the fuel cost increases by \\$1 (and everything else is unchanged)? Does this intuitively make sense?"
      ],
      "metadata": {
        "id": "IbAPQYZqHdlu"
      }
    },
    {
      "cell_type": "markdown",
      "source": [
        "We plot Häagen-Dazs market shares and unit prices and fit a line (left). We compare this to the results of a 2SLS regression with fuel price as the instrument (right)."
      ],
      "metadata": {
        "id": "f59Kto0TMK2Z"
      }
    },
    {
      "cell_type": "code",
      "source": [
        "figure, axis = plt.subplots(1, 2,sharex=True,sharey=True,figsize=(9,3))\n",
        "\n",
        "axis[0].scatter(data[data['Häagen-Dazs'] == 0]['price'],data[data['Häagen-Dazs'] == 0]['s']*100)\n",
        "b, a = np.polyfit(data[data['Häagen-Dazs'] == 0]['price'], data[data['Häagen-Dazs'] == 0]['s']*100, deg=1)\n",
        "axis[0].plot(np.linspace(data[data['Häagen-Dazs'] == 0]['price'].min(), data[data['Häagen-Dazs'] == 0]['price'].max(), num=80), a + b * np.linspace(data[data['Häagen-Dazs'] == 0]['price'].min(), data[data['Häagen-Dazs'] == 0]['price'].max(), num=80), color=\"red\", lw=2.5)\n",
        "axis[0].set_title('W/o instrument')\n",
        "\n",
        "axis[1].scatter(data[data['Häagen-Dazs'] == 0]['price'],data[data['Häagen-Dazs'] == 0]['s']*100)\n",
        "a,b = IV2SLS(data[data['Häagen-Dazs'] == 0]['s']*100, sm.add_constant(data[data['Häagen-Dazs'] == 0]['price']), instrument = sm.add_constant(data[data['Häagen-Dazs'] == 0]['fuel cost'])).fit().params\n",
        "axis[1].plot(np.linspace(data[data['Häagen-Dazs'] == 0]['price'].min(), data[data['Häagen-Dazs'] == 0]['price'].max(), num=80), a + b * np.linspace(data[data['Häagen-Dazs'] == 0]['price'].min(), data[data['Häagen-Dazs'] == 0]['price'].max(), num=80), color=\"red\", lw=2.5)\n",
        "axis[1].set_title('W/ instrument')\n",
        "\n",
        "figure.text(0.5, 0.04, 'price (in $)', ha='center')\n",
        "figure.text(0.04, 0.5, 'market share (in %)', va='center', rotation='vertical')\n",
        "plt.show()"
      ],
      "metadata": {
        "id": "GWIKLOzKFenx"
      },
      "execution_count": null,
      "outputs": []
    },
    {
      "cell_type": "markdown",
      "source": [
        "Can you explain why the line on the right is steeper?"
      ],
      "metadata": {
        "id": "TWj3XudcM_0K"
      }
    },
    {
      "cell_type": "markdown",
      "source": [
        "### 5.4 2SLS REGRESSION"
      ],
      "metadata": {
        "id": "foNO8uuLwL5_"
      }
    },
    {
      "cell_type": "markdown",
      "source": [
        "Next, we re-estimate demand using the fuel cost to instrument the price of ice cream."
      ],
      "metadata": {
        "id": "rNA_CXFBJa03"
      }
    },
    {
      "cell_type": "code",
      "source": [
        "twosls = IV2SLS(np.log(data['s']) - np.log(data['s0']), sm.add_constant(data[['price','Häagen-Dazs']]), instrument = sm.add_constant(data[['fuel cost','Häagen-Dazs']]))\n",
        "twosls_result = twosls.fit()\n",
        "const, alpha, beta = twosls_result.params.round(2)\n",
        "twosls_result.summary()"
      ],
      "metadata": {
        "id": "p0GFjqbYGigV"
      },
      "execution_count": null,
      "outputs": []
    },
    {
      "cell_type": "markdown",
      "source": [
        "Compare the OLS and 2SLS price coefficients. Which one has a larger magnitude?"
      ],
      "metadata": {
        "id": "hQukDz7BOLV8"
      }
    },
    {
      "cell_type": "markdown",
      "source": [
        "## 6. BACKING OUT $c$ AND $\\xi$"
      ],
      "metadata": {
        "id": "5zJrHOD3hCeT"
      }
    },
    {
      "cell_type": "markdown",
      "source": [
        "### 6.1 MARGINAL COSTS"
      ],
      "metadata": {
        "id": "HN22Q9WL79TE"
      }
    },
    {
      "cell_type": "markdown",
      "source": [
        "Based on our estimates, we can back out the marginal costs of Häagen-Dazs' and Ben \\& Jerry's using the FOCs of their profit maximization problems. Recall:\n",
        "$$ \\frac{\\partial \\pi_{jt}(p_{jt}^*)}{\\partial p_{jt}} = \\alpha s_{jt}(1-s_{jt})(p_{jt}^* - c_{jt}) + s_{jt} = 0 $$\n",
        "$$ \\widehat c_{jt} = p_{jt}^* + \\frac{1}{\\widehat \\alpha(1-s_{jt})} $$"
      ],
      "metadata": {
        "id": "nfwHDydyhHXK"
      }
    },
    {
      "cell_type": "code",
      "source": [
        "C_hat = data['price'] + 1/(alpha*(1-data['s']))"
      ],
      "metadata": {
        "id": "Y5O0q6Uf6qUc"
      },
      "execution_count": null,
      "outputs": []
    },
    {
      "cell_type": "code",
      "source": [
        "print('The average cost of supplying one unit of Häagen-Dazs ice-cream is $', C_hat[1::2].mean().round(2),'.')\n",
        "print('The average cost of supplying one unit of Ben & Jerry\\'s ice-cream is $', C_hat[0::2].mean().round(2),'.')"
      ],
      "metadata": {
        "id": "7mNY8doQhfMm"
      },
      "execution_count": null,
      "outputs": []
    },
    {
      "cell_type": "markdown",
      "source": [
        "The true marginal costs are \\$0.5 and \\$1 for Häagen-Dazs and Ben & Jerry's ice cream respectively."
      ],
      "metadata": {
        "id": "vYTmTUkyn08B"
      }
    },
    {
      "cell_type": "markdown",
      "source": [
        "### 6.2 UNOBSERVED DEMAND SHOCKS"
      ],
      "metadata": {
        "id": "YRBai68t8D0w"
      }
    },
    {
      "cell_type": "markdown",
      "source": [
        "Rearrange the regression equation.\n",
        "$$ \\widehat \\xi_{jt} = \\ln(s_{jt}) - \\ln(s_{0t}) - (\\widehat β_0+\\widehat \\beta_{Häagen-Dazs}\\textbf{1}(j=\\text{Häagen-Dazs})+\\widehat \\alpha p_{jt}) $$\n"
      ],
      "metadata": {
        "id": "RamJziET8aHy"
      }
    },
    {
      "cell_type": "code",
      "source": [
        "Xi_hat = Y - (const + beta*data['Häagen-Dazs'] + alpha*data['price'])"
      ],
      "metadata": {
        "id": "f4t1hhtK8ZgT"
      },
      "execution_count": null,
      "outputs": []
    },
    {
      "cell_type": "code",
      "source": [
        "sns.kdeplot(Xi_hat)\n",
        "plt.xlabel(r'$\\widehat \\xi_{hat}$')\n",
        "plt.ylabel('density')\n",
        "plt.xlim(-4,+4)\n",
        "plt.show()"
      ],
      "metadata": {
        "id": "H145yRdN9yAm"
      },
      "execution_count": null,
      "outputs": []
    },
    {
      "cell_type": "markdown",
      "source": [
        "## 7. COMPUTING A COUNTERFACTUAL EQUILIBRIUM"
      ],
      "metadata": {
        "id": "oJONSer8cWQ8"
      }
    },
    {
      "cell_type": "markdown",
      "source": [
        "Suppose we want to find out how much Häagen-Dazs's profit would change if sold ice cream as good as Ben \\& Jerry's (i.e., if the Häagen-Dazs coefficient was zero) assuming its marginal cost did not change."
      ],
      "metadata": {
        "id": "thkRHwxkcgSD"
      }
    },
    {
      "cell_type": "markdown",
      "source": [
        "First, we calculate the variable profit using the data."
      ],
      "metadata": {
        "id": "tqdeIu3YqhJW"
      }
    },
    {
      "cell_type": "code",
      "source": [
        "pi_0 = ((data[data['Häagen-Dazs'] == 1]['sales'])*(data[data['Häagen-Dazs'] == 1]['price'] - C_hat[1::2])).sum()\n",
        "print('Häagen-Dazs\\'s variable profit in the current equilibrium are $',pi_0.astype(int),'.')"
      ],
      "metadata": {
        "id": "8lr3jJ2hhBle"
      },
      "execution_count": null,
      "outputs": []
    },
    {
      "cell_type": "markdown",
      "source": [
        "To find the new prices (and market shares) we need to find the new Nash equilibrium. That is, we need to find the set of prices that satisfy firms' FOCs."
      ],
      "metadata": {
        "id": "i0LSogN8sILb"
      }
    },
    {
      "cell_type": "code",
      "source": [
        "def foc(P,C,Xi,params):\n",
        "    const,alpha,beta = params\n",
        "    return alpha*s(P,Xi,params)*(1-s(P,Xi,params))*(P-C) + s(P,Xi,params)"
      ],
      "metadata": {
        "id": "KeB1q_U3sTe5"
      },
      "execution_count": null,
      "outputs": []
    },
    {
      "cell_type": "markdown",
      "source": [
        "\n",
        "To calculate `foc` we have to write functions that calculate market shares (`s`) which in turn depend on the mean utilities (`V`).\n",
        "\n"
      ],
      "metadata": {
        "id": "DCNEJdT8tNRu"
      }
    },
    {
      "cell_type": "code",
      "source": [
        "def s(P,Xi,params):\n",
        "    return np.exp(V(P,Xi,params))/(1 + np.exp(V(P,Xi,params)).sum())\n",
        "\n",
        "def V(P,Xi,params):\n",
        "    const,alpha,beta = params\n",
        "    return const + alpha*np.array(P) + beta*np.array([0,1]) + Xi"
      ],
      "metadata": {
        "id": "S-SF9Baftx5e"
      },
      "execution_count": null,
      "outputs": []
    },
    {
      "cell_type": "markdown",
      "source": [
        "Let's use our 2SLS estimates (except that we set the Häagen-Dazs coefficient to zero) and the marginal costs that we have calculated to calculate the new prices `P_new`."
      ],
      "metadata": {
        "id": "nAwBw3QDuGW-"
      }
    },
    {
      "cell_type": "code",
      "source": [
        "P_new = []\n",
        "s_new = []\n",
        "for t in range(1,401,2):\n",
        "  res = optimize.root(foc,[0,0],args=(C_hat[t-1:t+1],Xi_hat[t-1:t+1],[const,alpha,0]))\n",
        "  print('Root found?',res.success)\n",
        "  P_new = np.append(P_new,res.x)\n",
        "  s_new = np.append(s_new,s(res.x,Xi_hat[t-1:t+1],[const,alpha,0]))"
      ],
      "metadata": {
        "id": "MEzN1KJrBO6r"
      },
      "execution_count": null,
      "outputs": []
    },
    {
      "cell_type": "code",
      "source": [
        "print('The new Häagen-Dazs average unit price is $',round(P_new[0::2].mean(),2),', and the new average Ben & Jerry\\'s unit price is $',round(P_new[1::2].mean(),2),'.')\n",
        "print('The new average Häagen-Dazs market share is',round(100*s_new[0::2].mean(),2),'%. Ben & Jerry\\'s average market share is',100*round(s_new[1::2].mean(),2),'%.')"
      ],
      "metadata": {
        "id": "5bOAo0FOutQ3"
      },
      "execution_count": null,
      "outputs": []
    },
    {
      "cell_type": "markdown",
      "source": [
        "We find that the prices and market shares of Häagen-Dazs is now on average larger than Ben & Jerry's. Can you explain why?"
      ],
      "metadata": {
        "id": "qAakhg65wi_2"
      }
    },
    {
      "cell_type": "markdown",
      "source": [
        "Next, we calculate Häagen-Dazs new (variable) profit."
      ],
      "metadata": {
        "id": "yfi_MdW-xzr2"
      }
    },
    {
      "cell_type": "code",
      "source": [
        "pi_1 = (data[data['Häagen-Dazs'] == 1]['county size']*s_new[1::2]*(P_new[1::2] - C_hat[1::2])).sum()\n",
        "print('Häagen-Dazs\\'s variable profit in the new equilibrium are $',pi_1.astype(int),'.')\n",
        "print('Häagen-Dazs would benefit by $',(pi_1-pi_0).astype(int),' if its ice cream was as good as Ben \\& Jerry\\'s.')\n"
      ],
      "metadata": {
        "id": "OvHT-xoUv1em"
      },
      "execution_count": null,
      "outputs": []
    },
    {
      "cell_type": "markdown",
      "source": [
        "## 8. RANDOM PRICE COEFFICIENT"
      ],
      "metadata": {
        "id": "I_oQMC3-aTHY"
      }
    },
    {
      "cell_type": "markdown",
      "source": [
        "First, we load a new dataset."
      ],
      "metadata": {
        "id": "6dTeD8olaZAb"
      }
    },
    {
      "cell_type": "code",
      "source": [
        "product_data = pd.read_csv('demand-estimation/data2.csv',index_col=0)\n",
        "product_data.head(5)"
      ],
      "metadata": {
        "id": "557aoS71bCMi"
      },
      "execution_count": null,
      "outputs": []
    },
    {
      "cell_type": "markdown",
      "source": [
        "We want to estimate demand using the following utility specification:\n",
        "$$ u_{ijt} = \\beta_0 + \\beta x_{jt} + \\alpha_i p_{jt} + \\xi_{jt} + \\epsilon_{ijt}, \\ \\text{ where } \\ \\alpha_i\\sim N(\\alpha,\\sigma^2)$$\n",
        "To estimate the demand coefficients we use the `pyblp` package."
      ],
      "metadata": {
        "id": "XiOnY8CXarHg"
      }
    },
    {
      "cell_type": "code",
      "source": [
        "!pip install pyblp\n",
        "import pyblp"
      ],
      "metadata": {
        "id": "adIS7K-mcujM"
      },
      "execution_count": null,
      "outputs": []
    },
    {
      "cell_type": "markdown",
      "source": [
        "Next, we specify the model. We tell `pyblp` that $\\beta_0,\\beta,$ and $\\alpha$ are the 'linear' coefficients ($X_2$)."
      ],
      "metadata": {
        "id": "N6Gyjw-wdGBl"
      }
    },
    {
      "cell_type": "code",
      "source": [
        "X1_formulation = pyblp.Formulation('1 + prices + x')"
      ],
      "metadata": {
        "id": "TPMdnypIdVE0"
      },
      "execution_count": null,
      "outputs": []
    },
    {
      "cell_type": "markdown",
      "source": [
        "We specify that $\\alpha_i$ is a **random coefficient**."
      ],
      "metadata": {
        "id": "9nYJeXTzdWlj"
      }
    },
    {
      "cell_type": "code",
      "source": [
        "X2_formulation = pyblp.Formulation('0 + prices')"
      ],
      "metadata": {
        "id": "ieRRSz-hdWJ9"
      },
      "execution_count": null,
      "outputs": []
    },
    {
      "cell_type": "markdown",
      "source": [
        "We specify how `pyblp` integrates numerically and what algorithm to use to solve the problem."
      ],
      "metadata": {
        "id": "QXqx7Yr6gCTf"
      }
    },
    {
      "cell_type": "code",
      "source": [
        "product_formulations = (X1_formulation, X2_formulation)\n",
        "integration = pyblp.Integration('halton', size=1000, specification_options={'seed': 0})\n",
        "bfgs = pyblp.Optimization('bfgs')\n",
        "problem = pyblp.Problem(product_formulations, product_data, integration=integration)"
      ],
      "metadata": {
        "id": "p8d3VTZgeNnP"
      },
      "execution_count": null,
      "outputs": []
    },
    {
      "cell_type": "markdown",
      "source": [
        "We ask `pyblp` to estimate the model."
      ],
      "metadata": {
        "id": "0_A7gujzg4NJ"
      }
    },
    {
      "cell_type": "code",
      "source": [
        "results = problem.solve(sigma=1.0, optimization=bfgs)\n",
        "beta0_hat,alpha_hat,beta1_hat = results.beta.flatten()\n",
        "sigma_hat = results.sigma[0,0]\n",
        "results"
      ],
      "metadata": {
        "id": "9sxYbr8ebu4W"
      },
      "execution_count": null,
      "outputs": []
    },
    {
      "cell_type": "markdown",
      "source": [
        "The estimates are pretty accurate. The true coefficients are:\n",
        "\n",
        "\\begin{align*}\n",
        "  \\beta_0 = & 2.6 \\\\\n",
        "  \\alpha = & -1.6 \\\\\n",
        "  \\beta_x = & -0.3 \\\\\n",
        "  \\sigma = & 0.25\n",
        "\\end{align*}"
      ],
      "metadata": {
        "id": "ITSAW4ee0KTu"
      }
    },
    {
      "cell_type": "code",
      "source": [
        "ai = np.linspace(alpha_hat - 4*sigma_hat, alpha_hat + 4*sigma_hat, 1000)\n",
        "pdf = norm.pdf(ai, alpha_hat, sigma_hat)\n",
        "plt.figure(figsize=(8, 4.5))\n",
        "plt.plot(ai, pdf, label=f'Normal PDF\\nMean: {alpha_hat}, SD: {sigma_hat}')\n",
        "plt.xlabel(r'$a_i$')\n",
        "plt.ylabel('probability density')\n",
        "plt.show()"
      ],
      "metadata": {
        "id": "sK-jt2x41Ura"
      },
      "execution_count": null,
      "outputs": []
    }
  ]
}