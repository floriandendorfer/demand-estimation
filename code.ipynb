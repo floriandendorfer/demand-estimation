{
  "nbformat": 4,
  "nbformat_minor": 0,
  "metadata": {
    "colab": {
      "provenance": [],
      "authorship_tag": "ABX9TyOSqAJqpcq5oQOYoOYiVxiu",
      "include_colab_link": true
    },
    "kernelspec": {
      "name": "python3",
      "display_name": "Python 3"
    },
    "language_info": {
      "name": "python"
    }
  },
  "cells": [
    {
      "cell_type": "markdown",
      "metadata": {
        "id": "view-in-github",
        "colab_type": "text"
      },
      "source": [
        "<a href=\"https://colab.research.google.com/github/floriandendorfer/demand-estimation/blob/main/code.ipynb\" target=\"_parent\"><img src=\"https://colab.research.google.com/assets/colab-badge.svg\" alt=\"Open In Colab\"/></a>"
      ]
    },
    {
      "cell_type": "markdown",
      "source": [
        "Load packages."
      ],
      "metadata": {
        "id": "msfD80wBuAIe"
      }
    },
    {
      "cell_type": "code",
      "source": [
        "import numpy as np\n",
        "import pandas as pd\n",
        "import statsmodels.api as sm"
      ],
      "metadata": {
        "id": "sXZtEQTSuBrD"
      },
      "execution_count": null,
      "outputs": []
    },
    {
      "cell_type": "code",
      "source": [
        "!git clone https://github.com/floriandendorfer/demand-estimation.git\n",
        "data = pd.read_csv('demand-estimation/data.csv',index_col=0)"
      ],
      "metadata": {
        "id": "svYXcpZSDiRe"
      },
      "execution_count": null,
      "outputs": []
    },
    {
      "cell_type": "markdown",
      "source": [
        "Load data."
      ],
      "metadata": {
        "id": "K734R5kpuLxd"
      }
    },
    {
      "cell_type": "code",
      "source": [
        "print(data.columns)"
      ],
      "metadata": {
        "id": "Fq0TQKv1uey_"
      },
      "execution_count": null,
      "outputs": []
    },
    {
      "cell_type": "markdown",
      "source": [
        "Define the market share of each firm (Ben & Jerry's, Hägen-Dazs) in each county based on the number of ice cream units sold."
      ],
      "metadata": {
        "id": "x80C_G25zHhB"
      }
    },
    {
      "cell_type": "code",
      "source": [
        "data['s'] = data['sales']/data['county size']"
      ],
      "metadata": {
        "id": "rP2oev-ozF37"
      },
      "execution_count": null,
      "outputs": []
    },
    {
      "cell_type": "markdown",
      "source": [
        "Define the 'outside good' market share for each county (here the 'outside good' is any ice cream sold other than Ben & Jerry's or Hägen-Dazs)."
      ],
      "metadata": {
        "id": "pGE36O7EzPFs"
      }
    },
    {
      "cell_type": "code",
      "source": [
        "data['s0'] = 1 - data.groupby(['county'])['s'].transform('sum')"
      ],
      "metadata": {
        "id": "XX7Feockz15o"
      },
      "execution_count": null,
      "outputs": []
    },
    {
      "cell_type": "markdown",
      "source": [
        "Transform the market shares to back out the **mean utilities**. The transformed market share is going to be the **dependent** variable in the OLS regression we run next."
      ],
      "metadata": {
        "id": "dOCgy2dk0R49"
      }
    },
    {
      "cell_type": "code",
      "source": [
        "Y = np.log(data['s']) - np.log(data['s0'])"
      ],
      "metadata": {
        "id": "QQAM_uIq1IfR"
      },
      "execution_count": null,
      "outputs": []
    },
    {
      "cell_type": "markdown",
      "source": [
        "In the OLS regression, the **independent** variables are going to be the price and the Häagen-Dazs dummy variable, plus a constant."
      ],
      "metadata": {
        "id": "pGnehPLN1ccw"
      }
    },
    {
      "cell_type": "code",
      "source": [
        "X=sm.add_constant(data[['price','Häagen-Dazs']])"
      ],
      "metadata": {
        "id": "a6MMCZ9p2Fs1"
      },
      "execution_count": null,
      "outputs": []
    },
    {
      "cell_type": "code",
      "source": [
        "ols = sm.OLS(Y,X)\n",
        "ols_result = ols.fit(cov_type='HC3')\n",
        "ols_result.summary()"
      ],
      "metadata": {
        "id": "1Q0pR190031w"
      },
      "execution_count": null,
      "outputs": []
    }
  ]
}