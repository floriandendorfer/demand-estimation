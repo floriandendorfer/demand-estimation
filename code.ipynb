{
  "nbformat": 4,
  "nbformat_minor": 0,
  "metadata": {
    "colab": {
      "provenance": [],
      "authorship_tag": "ABX9TyMof1i5ONvMOPBytgtbGk+9",
      "include_colab_link": true
    },
    "kernelspec": {
      "name": "python3",
      "display_name": "Python 3"
    },
    "language_info": {
      "name": "python"
    }
  },
  "cells": [
    {
      "cell_type": "markdown",
      "metadata": {
        "id": "view-in-github",
        "colab_type": "text"
      },
      "source": [
        "<a href=\"https://colab.research.google.com/github/floriandendorfer/demand-estimation/blob/main/code.ipynb\" target=\"_parent\"><img src=\"https://colab.research.google.com/assets/colab-badge.svg\" alt=\"Open In Colab\"/></a>"
      ]
    },
    {
      "cell_type": "markdown",
      "source": [
        "Load packages."
      ],
      "metadata": {
        "id": "msfD80wBuAIe"
      }
    },
    {
      "cell_type": "code",
      "source": [
        "import numpy as np\n",
        "import pandas as pd\n",
        "import statsmodels.api as sm"
      ],
      "metadata": {
        "id": "sXZtEQTSuBrD"
      },
      "execution_count": 7,
      "outputs": []
    },
    {
      "cell_type": "code",
      "source": [
        "!wget -O data.csv https://raw.githubusercontent.com/floriandendorfer/demand-estimation/main/data.csv?token=GHSAT0AAAAAACRKP3ZXRJSBTHSJ2NGVIUTAZTAZFTA"
      ],
      "metadata": {
        "colab": {
          "base_uri": "https://localhost:8080/"
        },
        "id": "svYXcpZSDiRe",
        "outputId": "f2ae5cb0-c70a-40a0-c793-cf161b5f361e"
      },
      "execution_count": 11,
      "outputs": [
        {
          "output_type": "stream",
          "name": "stdout",
          "text": [
            "--2024-06-05 20:23:13--  https://raw.githubusercontent.com/floriandendorfer/demand-estimation/main/data.csv?token=GHSAT0AAAAAACRKP3ZXRJSBTHSJ2NGVIUTAZTAZFTA\n",
            "Resolving raw.githubusercontent.com (raw.githubusercontent.com)... 185.199.111.133, 185.199.110.133, 185.199.109.133, ...\n",
            "Connecting to raw.githubusercontent.com (raw.githubusercontent.com)|185.199.111.133|:443... connected.\n",
            "HTTP request sent, awaiting response... 200 OK\n",
            "Length: 22876 (22K) [text/plain]\n",
            "Saving to: ‘data.csv’\n",
            "\n",
            "\rdata.csv              0%[                    ]       0  --.-KB/s               \rdata.csv            100%[===================>]  22.34K  --.-KB/s    in 0.002s  \n",
            "\n",
            "2024-06-05 20:23:13 (13.8 MB/s) - ‘data.csv’ saved [22876/22876]\n",
            "\n"
          ]
        }
      ]
    },
    {
      "cell_type": "markdown",
      "source": [
        "Load data."
      ],
      "metadata": {
        "id": "K734R5kpuLxd"
      }
    },
    {
      "cell_type": "code",
      "source": [
        "data = pd.read_csv('data.csv',index_col=0)"
      ],
      "metadata": {
        "id": "wB5MU8R3uZKs"
      },
      "execution_count": 12,
      "outputs": []
    },
    {
      "cell_type": "code",
      "source": [
        "print(data.columns)"
      ],
      "metadata": {
        "id": "Fq0TQKv1uey_",
        "colab": {
          "base_uri": "https://localhost:8080/"
        },
        "outputId": "03acdd70-62b9-4edd-bb86-63a7de6e0a9a"
      },
      "execution_count": 13,
      "outputs": [
        {
          "output_type": "stream",
          "name": "stdout",
          "text": [
            "Index(['county', 'Häagen-Dazs', 'price', 'fuel cost', 'sales', 'county size',\n",
            "       'top 10% income'],\n",
            "      dtype='object')\n"
          ]
        }
      ]
    },
    {
      "cell_type": "markdown",
      "source": [
        "Define the market share of each firm (Ben & Jerry's, Hägen-Dazs) in each county based on the number of ice cream units sold."
      ],
      "metadata": {
        "id": "x80C_G25zHhB"
      }
    },
    {
      "cell_type": "code",
      "source": [
        "data['s'] = data['sales']/data['county size']\n"
      ],
      "metadata": {
        "id": "rP2oev-ozF37"
      },
      "execution_count": 14,
      "outputs": []
    },
    {
      "cell_type": "markdown",
      "source": [
        "Define the 'outside good' market share for each county (here the 'outside good' is any ice cream sold other than Ben & Jerry's or Hägen-Dazs)."
      ],
      "metadata": {
        "id": "pGE36O7EzPFs"
      }
    },
    {
      "cell_type": "code",
      "source": [
        "data['s0'] = 1 - data.groupby(['county'])['s'].transform('sum')"
      ],
      "metadata": {
        "id": "XX7Feockz15o"
      },
      "execution_count": 15,
      "outputs": []
    },
    {
      "cell_type": "markdown",
      "source": [
        "Transform the market shares to back out the **mean utilities**. The transformed market share is going to be the **dependent** variable in the OLS regression we run next."
      ],
      "metadata": {
        "id": "dOCgy2dk0R49"
      }
    },
    {
      "cell_type": "code",
      "source": [
        "Y = np.log(data['s']) - np.log(data['s0'])"
      ],
      "metadata": {
        "id": "QQAM_uIq1IfR"
      },
      "execution_count": 16,
      "outputs": []
    },
    {
      "cell_type": "markdown",
      "source": [
        "In the OLS regression, the **independent** variables are going to be the price and the Häagen-Dazs dummy variable, plus a constant."
      ],
      "metadata": {
        "id": "pGnehPLN1ccw"
      }
    },
    {
      "cell_type": "code",
      "source": [
        "X=sm.add_constant(data[['price','Häagen-Dazs']])"
      ],
      "metadata": {
        "id": "a6MMCZ9p2Fs1"
      },
      "execution_count": 17,
      "outputs": []
    },
    {
      "cell_type": "code",
      "source": [
        "ols = sm.OLS(Y,X)\n",
        "ols_result = ols.fit(cov_type='HC3')\n",
        "ols_result.summary()"
      ],
      "metadata": {
        "colab": {
          "base_uri": "https://localhost:8080/",
          "height": 473
        },
        "id": "1Q0pR190031w",
        "outputId": "3a4154a3-fd9a-45dc-9ba8-f1bfa3aba718"
      },
      "execution_count": 18,
      "outputs": [
        {
          "output_type": "execute_result",
          "data": {
            "text/plain": [
              "<class 'statsmodels.iolib.summary.Summary'>\n",
              "\"\"\"\n",
              "                            OLS Regression Results                            \n",
              "==============================================================================\n",
              "Dep. Variable:                      y   R-squared:                       0.598\n",
              "Model:                            OLS   Adj. R-squared:                  0.596\n",
              "Method:                 Least Squares   F-statistic:                     296.3\n",
              "Date:                Wed, 05 Jun 2024   Prob (F-statistic):           1.84e-79\n",
              "Time:                        20:23:25   Log-Likelihood:                -228.34\n",
              "No. Observations:                 400   AIC:                             462.7\n",
              "Df Residuals:                     397   BIC:                             474.7\n",
              "Df Model:                           2                                         \n",
              "Covariance Type:                  HC3                                         \n",
              "===============================================================================\n",
              "                  coef    std err          z      P>|z|      [0.025      0.975]\n",
              "-------------------------------------------------------------------------------\n",
              "const          -1.6042      0.143    -11.190      0.000      -1.885      -1.323\n",
              "price          -0.1275      0.057     -2.256      0.024      -0.238      -0.017\n",
              "Häagen-Dazs    -1.0612      0.044    -24.270      0.000      -1.147      -0.975\n",
              "==============================================================================\n",
              "Omnibus:                       10.208   Durbin-Watson:                   2.024\n",
              "Prob(Omnibus):                  0.006   Jarque-Bera (JB):                9.458\n",
              "Skew:                          -0.323   Prob(JB):                      0.00884\n",
              "Kurtosis:                       2.612   Cond. No.                         20.0\n",
              "==============================================================================\n",
              "\n",
              "Notes:\n",
              "[1] Standard Errors are heteroscedasticity robust (HC3)\n",
              "\"\"\""
            ],
            "text/html": [
              "<table class=\"simpletable\">\n",
              "<caption>OLS Regression Results</caption>\n",
              "<tr>\n",
              "  <th>Dep. Variable:</th>            <td>y</td>        <th>  R-squared:         </th> <td>   0.598</td>\n",
              "</tr>\n",
              "<tr>\n",
              "  <th>Model:</th>                   <td>OLS</td>       <th>  Adj. R-squared:    </th> <td>   0.596</td>\n",
              "</tr>\n",
              "<tr>\n",
              "  <th>Method:</th>             <td>Least Squares</td>  <th>  F-statistic:       </th> <td>   296.3</td>\n",
              "</tr>\n",
              "<tr>\n",
              "  <th>Date:</th>             <td>Wed, 05 Jun 2024</td> <th>  Prob (F-statistic):</th> <td>1.84e-79</td>\n",
              "</tr>\n",
              "<tr>\n",
              "  <th>Time:</th>                 <td>20:23:25</td>     <th>  Log-Likelihood:    </th> <td> -228.34</td>\n",
              "</tr>\n",
              "<tr>\n",
              "  <th>No. Observations:</th>      <td>   400</td>      <th>  AIC:               </th> <td>   462.7</td>\n",
              "</tr>\n",
              "<tr>\n",
              "  <th>Df Residuals:</th>          <td>   397</td>      <th>  BIC:               </th> <td>   474.7</td>\n",
              "</tr>\n",
              "<tr>\n",
              "  <th>Df Model:</th>              <td>     2</td>      <th>                     </th>     <td> </td>   \n",
              "</tr>\n",
              "<tr>\n",
              "  <th>Covariance Type:</th>         <td>HC3</td>       <th>                     </th>     <td> </td>   \n",
              "</tr>\n",
              "</table>\n",
              "<table class=\"simpletable\">\n",
              "<tr>\n",
              "       <td></td>          <th>coef</th>     <th>std err</th>      <th>z</th>      <th>P>|z|</th>  <th>[0.025</th>    <th>0.975]</th>  \n",
              "</tr>\n",
              "<tr>\n",
              "  <th>const</th>       <td>   -1.6042</td> <td>    0.143</td> <td>  -11.190</td> <td> 0.000</td> <td>   -1.885</td> <td>   -1.323</td>\n",
              "</tr>\n",
              "<tr>\n",
              "  <th>price</th>       <td>   -0.1275</td> <td>    0.057</td> <td>   -2.256</td> <td> 0.024</td> <td>   -0.238</td> <td>   -0.017</td>\n",
              "</tr>\n",
              "<tr>\n",
              "  <th>Häagen-Dazs</th> <td>   -1.0612</td> <td>    0.044</td> <td>  -24.270</td> <td> 0.000</td> <td>   -1.147</td> <td>   -0.975</td>\n",
              "</tr>\n",
              "</table>\n",
              "<table class=\"simpletable\">\n",
              "<tr>\n",
              "  <th>Omnibus:</th>       <td>10.208</td> <th>  Durbin-Watson:     </th> <td>   2.024</td>\n",
              "</tr>\n",
              "<tr>\n",
              "  <th>Prob(Omnibus):</th> <td> 0.006</td> <th>  Jarque-Bera (JB):  </th> <td>   9.458</td>\n",
              "</tr>\n",
              "<tr>\n",
              "  <th>Skew:</th>          <td>-0.323</td> <th>  Prob(JB):          </th> <td> 0.00884</td>\n",
              "</tr>\n",
              "<tr>\n",
              "  <th>Kurtosis:</th>      <td> 2.612</td> <th>  Cond. No.          </th> <td>    20.0</td>\n",
              "</tr>\n",
              "</table><br/><br/>Notes:<br/>[1] Standard Errors are heteroscedasticity robust (HC3)"
            ],
            "text/latex": "\\begin{center}\n\\begin{tabular}{lclc}\n\\toprule\n\\textbf{Dep. Variable:}    &        y         & \\textbf{  R-squared:         } &     0.598   \\\\\n\\textbf{Model:}            &       OLS        & \\textbf{  Adj. R-squared:    } &     0.596   \\\\\n\\textbf{Method:}           &  Least Squares   & \\textbf{  F-statistic:       } &     296.3   \\\\\n\\textbf{Date:}             & Wed, 05 Jun 2024 & \\textbf{  Prob (F-statistic):} &  1.84e-79   \\\\\n\\textbf{Time:}             &     20:23:25     & \\textbf{  Log-Likelihood:    } &   -228.34   \\\\\n\\textbf{No. Observations:} &         400      & \\textbf{  AIC:               } &     462.7   \\\\\n\\textbf{Df Residuals:}     &         397      & \\textbf{  BIC:               } &     474.7   \\\\\n\\textbf{Df Model:}         &           2      & \\textbf{                     } &             \\\\\n\\textbf{Covariance Type:}  &       HC3        & \\textbf{                     } &             \\\\\n\\bottomrule\n\\end{tabular}\n\\begin{tabular}{lcccccc}\n                     & \\textbf{coef} & \\textbf{std err} & \\textbf{z} & \\textbf{P$> |$z$|$} & \\textbf{[0.025} & \\textbf{0.975]}  \\\\\n\\midrule\n\\textbf{const}       &      -1.6042  &        0.143     &   -11.190  &         0.000        &       -1.885    &       -1.323     \\\\\n\\textbf{price}       &      -0.1275  &        0.057     &    -2.256  &         0.024        &       -0.238    &       -0.017     \\\\\n\\textbf{Häagen-Dazs} &      -1.0612  &        0.044     &   -24.270  &         0.000        &       -1.147    &       -0.975     \\\\\n\\bottomrule\n\\end{tabular}\n\\begin{tabular}{lclc}\n\\textbf{Omnibus:}       & 10.208 & \\textbf{  Durbin-Watson:     } &    2.024  \\\\\n\\textbf{Prob(Omnibus):} &  0.006 & \\textbf{  Jarque-Bera (JB):  } &    9.458  \\\\\n\\textbf{Skew:}          & -0.323 & \\textbf{  Prob(JB):          } &  0.00884  \\\\\n\\textbf{Kurtosis:}      &  2.612 & \\textbf{  Cond. No.          } &     20.0  \\\\\n\\bottomrule\n\\end{tabular}\n%\\caption{OLS Regression Results}\n\\end{center}\n\nNotes: \\newline\n [1] Standard Errors are heteroscedasticity robust (HC3)"
          },
          "metadata": {},
          "execution_count": 18
        }
      ]
    }
  ]
}