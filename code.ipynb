{
  "nbformat": 4,
  "nbformat_minor": 0,
  "metadata": {
    "colab": {
      "provenance": [],
      "authorship_tag": "ABX9TyPt+Z2U29ml/s3hk7b2Uz6f",
      "include_colab_link": true
    },
    "kernelspec": {
      "name": "python3",
      "display_name": "Python 3"
    },
    "language_info": {
      "name": "python"
    }
  },
  "cells": [
    {
      "cell_type": "markdown",
      "metadata": {
        "id": "view-in-github",
        "colab_type": "text"
      },
      "source": [
        "<a href=\"https://colab.research.google.com/github/floriandendorfer/demand-estimation/blob/main/code.ipynb\" target=\"_parent\"><img src=\"https://colab.research.google.com/assets/colab-badge.svg\" alt=\"Open In Colab\"/></a>"
      ]
    },
    {
      "cell_type": "markdown",
      "source": [
        "## 1. PACKAGES"
      ],
      "metadata": {
        "id": "msfD80wBuAIe"
      }
    },
    {
      "cell_type": "code",
      "source": [
        "import numpy as np\n",
        "import pandas as pd\n",
        "import statsmodels.api as sm\n",
        "from statsmodels.sandbox.regression.gmm import IV2SLS\n",
        "import matplotlib.pyplot as plt\n",
        "from scipy import optimize"
      ],
      "metadata": {
        "id": "sXZtEQTSuBrD"
      },
      "execution_count": 2,
      "outputs": []
    },
    {
      "cell_type": "markdown",
      "source": [
        "\n",
        "\n",
        "---\n",
        "\n"
      ],
      "metadata": {
        "id": "F8UFDVgEyldC"
      }
    },
    {
      "cell_type": "markdown",
      "source": [
        "## 2. DATA"
      ],
      "metadata": {
        "id": "K734R5kpuLxd"
      }
    },
    {
      "cell_type": "code",
      "source": [
        "!git clone https://github.com/floriandendorfer/demand-estimation.git\n",
        "data = pd.read_csv('demand-estimation/data1.csv',index_col=0)"
      ],
      "metadata": {
        "id": "svYXcpZSDiRe",
        "colab": {
          "base_uri": "https://localhost:8080/"
        },
        "outputId": "065d8643-0cd9-40ab-9172-5be04ef6f070"
      },
      "execution_count": 3,
      "outputs": [
        {
          "output_type": "stream",
          "name": "stdout",
          "text": [
            "Cloning into 'demand-estimation'...\n",
            "remote: Enumerating objects: 73, done.\u001b[K\n",
            "remote: Counting objects: 100% (73/73), done.\u001b[K\n",
            "remote: Compressing objects: 100% (69/69), done.\u001b[K\n",
            "remote: Total 73 (delta 20), reused 14 (delta 2), pack-reused 0 (from 0)\u001b[K\n",
            "Receiving objects: 100% (73/73), 119.32 KiB | 2.77 MiB/s, done.\n",
            "Resolving deltas: 100% (20/20), done.\n"
          ]
        }
      ]
    },
    {
      "cell_type": "markdown",
      "source": [
        "\n",
        "\n",
        "---\n",
        "\n"
      ],
      "metadata": {
        "id": "083Gc7JTypQD"
      }
    },
    {
      "cell_type": "markdown",
      "source": [
        "## 3. FIRST LOOK AT THE DATA"
      ],
      "metadata": {
        "id": "EWBp3DYBp9fL"
      }
    },
    {
      "cell_type": "markdown",
      "source": [
        "### 3.1 VARIABLES"
      ],
      "metadata": {
        "id": "QflbNmqaYf0A"
      }
    },
    {
      "cell_type": "code",
      "source": [
        "print(data.columns)"
      ],
      "metadata": {
        "id": "Fq0TQKv1uey_",
        "colab": {
          "base_uri": "https://localhost:8080/"
        },
        "outputId": "614b89c7-00fe-4493-824a-921eebb7ae96"
      },
      "execution_count": 4,
      "outputs": [
        {
          "output_type": "stream",
          "name": "stdout",
          "text": [
            "Index(['county', 'Häagen-Dazs', 'price', 'gas price', 'sales', 'county size'], dtype='object')\n"
          ]
        }
      ]
    },
    {
      "cell_type": "markdown",
      "source": [
        "Each row contains sales information for an ice cream brand (i.e., Häagen-Dazs, Ben \\& Jerry's) and a geographic market (i.e., a county).\n",
        "\n",
        "*   `county` is the market identifier ($t$ in the slides).\n",
        "*   `Häagen-Dazs` is 1 if the ice cream brand is Häagen-Dazs and 0 if the ice cream brand is Ben \\& Jerry's.\n",
        "*   `price` is the dollar price an ice cream serving of that brand is sold at.\n",
        "*   `fuel cost` is the dollar cost of transporting an ice cream serving.\n",
        "*   `sales` is the number of ice cream servings of that brand sold per week.\n",
        "*   `county size` is the number of *total* ice cream servings sold per week.\n"
      ],
      "metadata": {
        "id": "jChVzz3iqGsj"
      }
    },
    {
      "cell_type": "markdown",
      "source": [
        "### 3.2 DATA DESCRIPTION"
      ],
      "metadata": {
        "id": "fHfY_KtvjSHv"
      }
    },
    {
      "cell_type": "markdown",
      "source": [
        "Let's have a brief look at the data."
      ],
      "metadata": {
        "id": "6K9orgN5zBRH"
      }
    },
    {
      "cell_type": "code",
      "source": [
        "print(data.head(20))"
      ],
      "metadata": {
        "id": "PxEr4vNtzBjA",
        "outputId": "2f2afc64-2d1f-43ce-b3eb-89698e946705",
        "colab": {
          "base_uri": "https://localhost:8080/"
        }
      },
      "execution_count": 5,
      "outputs": [
        {
          "output_type": "stream",
          "name": "stdout",
          "text": [
            "    county  Häagen-Dazs     price  gas price  sales  county size\n",
            "0        1            0  2.839616   0.396182     16          166\n",
            "1        1            1  2.135365   0.454604      5          166\n",
            "2        2            0  2.597912   0.415464     24          177\n",
            "3        2            1  2.077911   0.196161      3          177\n",
            "4        3            0  2.873978   0.747038     10          162\n",
            "5        3            1  2.189935   0.337978     10          162\n",
            "6        4            0  2.460719   0.332177     10          100\n",
            "7        4            1  2.051567   0.164830      8          100\n",
            "8        5            0  2.708437   0.542716     27          265\n",
            "9        5            1  2.248639   0.399133     14          265\n",
            "10       6            0  2.794366   0.655071     30          222\n",
            "11       6            1  2.431043   0.471622      5          222\n",
            "12       7            0  2.844791   0.684244     13          155\n",
            "13       7            1  2.144497   0.349678      6          155\n",
            "14       8            0  2.729443   0.509857     26          287\n",
            "15       8            1  1.987818   0.117123     17          287\n",
            "16       9            0  2.620903   0.533708      3          101\n",
            "17       9            1  2.134802   0.272206     10          101\n",
            "18      10            0  2.821468   0.468366     18          186\n",
            "19      10            1  2.289235   0.365412      5          186\n"
          ]
        }
      ]
    },
    {
      "cell_type": "markdown",
      "source": [
        "Pick your favorite county."
      ],
      "metadata": {
        "id": "b5qHdXxnfy_P"
      }
    },
    {
      "cell_type": "code",
      "source": [
        "t = 10"
      ],
      "metadata": {
        "id": "r7HXJKF-f3F6"
      },
      "execution_count": 6,
      "outputs": []
    },
    {
      "cell_type": "code",
      "source": [
        "print('In total,',data['county size'][t],'ice cream servings are sold in county',data['county'][t],'. As',data['sales'][t],' of them were ',np.where(data['Häagen-Dazs'][t] == 0, \"Ben & Jerry's\",\"Häagen-Dazs\"),\" ice cream, that brand's market share in this county is \",(100*data['sales'][t]/data['county size'][t]).round(2),'%. The price of a serving of', np.where(data['Häagen-Dazs'][t] == 0, \"Ben & Jerry's\",\"Häagen-Dazs\"),'ice cream in this county is $',data['price'][t].round(2),'.')"
      ],
      "metadata": {
        "colab": {
          "base_uri": "https://localhost:8080/"
        },
        "id": "ShhmwBXYd4pn",
        "outputId": "7de84dff-0e98-4a82-cdf1-25c3a458c3d8"
      },
      "execution_count": 7,
      "outputs": [
        {
          "output_type": "stream",
          "name": "stdout",
          "text": [
            "In total, 222 ice cream servings are sold in county 6 . As 30  of them were  Ben & Jerry's  ice cream, that brand's market share in this county is  13.51 %. The price of a serving of Ben & Jerry's ice cream in this county is $ 2.79 .\n"
          ]
        }
      ]
    },
    {
      "cell_type": "code",
      "source": [
        "data.describe()"
      ],
      "metadata": {
        "colab": {
          "base_uri": "https://localhost:8080/",
          "height": 337
        },
        "id": "anqr1Qijs2Zt",
        "outputId": "978787e6-3729-4dba-cb8a-15f697e16b55"
      },
      "execution_count": 8,
      "outputs": [
        {
          "output_type": "execute_result",
          "data": {
            "text/plain": [
              "           county  Häagen-Dazs       price   gas price      sales  county size\n",
              "count  400.000000   400.000000  400.000000  400.000000  400.00000   400.000000\n",
              "mean   100.500000     0.500000    2.459994    0.447849   14.25250   197.445000\n",
              "std     57.806609     0.500626    0.337065    0.206548    7.27813    56.970176\n",
              "min      1.000000     0.000000    1.795457   -0.122580    1.00000   100.000000\n",
              "25%     50.750000     0.000000    2.164963    0.297035    9.00000   154.000000\n",
              "50%    100.500000     0.500000    2.437846    0.442030   13.00000   196.000000\n",
              "75%    150.250000     1.000000    2.766210    0.601981   19.00000   242.500000\n",
              "max    200.000000     1.000000    3.127675    0.920242   37.00000   300.000000"
            ],
            "text/html": [
              "\n",
              "  <div id=\"df-dea414ed-f50b-4079-b39e-b52081b31f83\" class=\"colab-df-container\">\n",
              "    <div>\n",
              "<style scoped>\n",
              "    .dataframe tbody tr th:only-of-type {\n",
              "        vertical-align: middle;\n",
              "    }\n",
              "\n",
              "    .dataframe tbody tr th {\n",
              "        vertical-align: top;\n",
              "    }\n",
              "\n",
              "    .dataframe thead th {\n",
              "        text-align: right;\n",
              "    }\n",
              "</style>\n",
              "<table border=\"1\" class=\"dataframe\">\n",
              "  <thead>\n",
              "    <tr style=\"text-align: right;\">\n",
              "      <th></th>\n",
              "      <th>county</th>\n",
              "      <th>Häagen-Dazs</th>\n",
              "      <th>price</th>\n",
              "      <th>gas price</th>\n",
              "      <th>sales</th>\n",
              "      <th>county size</th>\n",
              "    </tr>\n",
              "  </thead>\n",
              "  <tbody>\n",
              "    <tr>\n",
              "      <th>count</th>\n",
              "      <td>400.000000</td>\n",
              "      <td>400.000000</td>\n",
              "      <td>400.000000</td>\n",
              "      <td>400.000000</td>\n",
              "      <td>400.00000</td>\n",
              "      <td>400.000000</td>\n",
              "    </tr>\n",
              "    <tr>\n",
              "      <th>mean</th>\n",
              "      <td>100.500000</td>\n",
              "      <td>0.500000</td>\n",
              "      <td>2.459994</td>\n",
              "      <td>0.447849</td>\n",
              "      <td>14.25250</td>\n",
              "      <td>197.445000</td>\n",
              "    </tr>\n",
              "    <tr>\n",
              "      <th>std</th>\n",
              "      <td>57.806609</td>\n",
              "      <td>0.500626</td>\n",
              "      <td>0.337065</td>\n",
              "      <td>0.206548</td>\n",
              "      <td>7.27813</td>\n",
              "      <td>56.970176</td>\n",
              "    </tr>\n",
              "    <tr>\n",
              "      <th>min</th>\n",
              "      <td>1.000000</td>\n",
              "      <td>0.000000</td>\n",
              "      <td>1.795457</td>\n",
              "      <td>-0.122580</td>\n",
              "      <td>1.00000</td>\n",
              "      <td>100.000000</td>\n",
              "    </tr>\n",
              "    <tr>\n",
              "      <th>25%</th>\n",
              "      <td>50.750000</td>\n",
              "      <td>0.000000</td>\n",
              "      <td>2.164963</td>\n",
              "      <td>0.297035</td>\n",
              "      <td>9.00000</td>\n",
              "      <td>154.000000</td>\n",
              "    </tr>\n",
              "    <tr>\n",
              "      <th>50%</th>\n",
              "      <td>100.500000</td>\n",
              "      <td>0.500000</td>\n",
              "      <td>2.437846</td>\n",
              "      <td>0.442030</td>\n",
              "      <td>13.00000</td>\n",
              "      <td>196.000000</td>\n",
              "    </tr>\n",
              "    <tr>\n",
              "      <th>75%</th>\n",
              "      <td>150.250000</td>\n",
              "      <td>1.000000</td>\n",
              "      <td>2.766210</td>\n",
              "      <td>0.601981</td>\n",
              "      <td>19.00000</td>\n",
              "      <td>242.500000</td>\n",
              "    </tr>\n",
              "    <tr>\n",
              "      <th>max</th>\n",
              "      <td>200.000000</td>\n",
              "      <td>1.000000</td>\n",
              "      <td>3.127675</td>\n",
              "      <td>0.920242</td>\n",
              "      <td>37.00000</td>\n",
              "      <td>300.000000</td>\n",
              "    </tr>\n",
              "  </tbody>\n",
              "</table>\n",
              "</div>\n",
              "    <div class=\"colab-df-buttons\">\n",
              "\n",
              "  <div class=\"colab-df-container\">\n",
              "    <button class=\"colab-df-convert\" onclick=\"convertToInteractive('df-dea414ed-f50b-4079-b39e-b52081b31f83')\"\n",
              "            title=\"Convert this dataframe to an interactive table.\"\n",
              "            style=\"display:none;\">\n",
              "\n",
              "  <svg xmlns=\"http://www.w3.org/2000/svg\" height=\"24px\" viewBox=\"0 -960 960 960\">\n",
              "    <path d=\"M120-120v-720h720v720H120Zm60-500h600v-160H180v160Zm220 220h160v-160H400v160Zm0 220h160v-160H400v160ZM180-400h160v-160H180v160Zm440 0h160v-160H620v160ZM180-180h160v-160H180v160Zm440 0h160v-160H620v160Z\"/>\n",
              "  </svg>\n",
              "    </button>\n",
              "\n",
              "  <style>\n",
              "    .colab-df-container {\n",
              "      display:flex;\n",
              "      gap: 12px;\n",
              "    }\n",
              "\n",
              "    .colab-df-convert {\n",
              "      background-color: #E8F0FE;\n",
              "      border: none;\n",
              "      border-radius: 50%;\n",
              "      cursor: pointer;\n",
              "      display: none;\n",
              "      fill: #1967D2;\n",
              "      height: 32px;\n",
              "      padding: 0 0 0 0;\n",
              "      width: 32px;\n",
              "    }\n",
              "\n",
              "    .colab-df-convert:hover {\n",
              "      background-color: #E2EBFA;\n",
              "      box-shadow: 0px 1px 2px rgba(60, 64, 67, 0.3), 0px 1px 3px 1px rgba(60, 64, 67, 0.15);\n",
              "      fill: #174EA6;\n",
              "    }\n",
              "\n",
              "    .colab-df-buttons div {\n",
              "      margin-bottom: 4px;\n",
              "    }\n",
              "\n",
              "    [theme=dark] .colab-df-convert {\n",
              "      background-color: #3B4455;\n",
              "      fill: #D2E3FC;\n",
              "    }\n",
              "\n",
              "    [theme=dark] .colab-df-convert:hover {\n",
              "      background-color: #434B5C;\n",
              "      box-shadow: 0px 1px 3px 1px rgba(0, 0, 0, 0.15);\n",
              "      filter: drop-shadow(0px 1px 2px rgba(0, 0, 0, 0.3));\n",
              "      fill: #FFFFFF;\n",
              "    }\n",
              "  </style>\n",
              "\n",
              "    <script>\n",
              "      const buttonEl =\n",
              "        document.querySelector('#df-dea414ed-f50b-4079-b39e-b52081b31f83 button.colab-df-convert');\n",
              "      buttonEl.style.display =\n",
              "        google.colab.kernel.accessAllowed ? 'block' : 'none';\n",
              "\n",
              "      async function convertToInteractive(key) {\n",
              "        const element = document.querySelector('#df-dea414ed-f50b-4079-b39e-b52081b31f83');\n",
              "        const dataTable =\n",
              "          await google.colab.kernel.invokeFunction('convertToInteractive',\n",
              "                                                    [key], {});\n",
              "        if (!dataTable) return;\n",
              "\n",
              "        const docLinkHtml = 'Like what you see? Visit the ' +\n",
              "          '<a target=\"_blank\" href=https://colab.research.google.com/notebooks/data_table.ipynb>data table notebook</a>'\n",
              "          + ' to learn more about interactive tables.';\n",
              "        element.innerHTML = '';\n",
              "        dataTable['output_type'] = 'display_data';\n",
              "        await google.colab.output.renderOutput(dataTable, element);\n",
              "        const docLink = document.createElement('div');\n",
              "        docLink.innerHTML = docLinkHtml;\n",
              "        element.appendChild(docLink);\n",
              "      }\n",
              "    </script>\n",
              "  </div>\n",
              "\n",
              "\n",
              "<div id=\"df-98412c9e-3bbd-46df-b5c7-1c9145972bfe\">\n",
              "  <button class=\"colab-df-quickchart\" onclick=\"quickchart('df-98412c9e-3bbd-46df-b5c7-1c9145972bfe')\"\n",
              "            title=\"Suggest charts\"\n",
              "            style=\"display:none;\">\n",
              "\n",
              "<svg xmlns=\"http://www.w3.org/2000/svg\" height=\"24px\"viewBox=\"0 0 24 24\"\n",
              "     width=\"24px\">\n",
              "    <g>\n",
              "        <path d=\"M19 3H5c-1.1 0-2 .9-2 2v14c0 1.1.9 2 2 2h14c1.1 0 2-.9 2-2V5c0-1.1-.9-2-2-2zM9 17H7v-7h2v7zm4 0h-2V7h2v10zm4 0h-2v-4h2v4z\"/>\n",
              "    </g>\n",
              "</svg>\n",
              "  </button>\n",
              "\n",
              "<style>\n",
              "  .colab-df-quickchart {\n",
              "      --bg-color: #E8F0FE;\n",
              "      --fill-color: #1967D2;\n",
              "      --hover-bg-color: #E2EBFA;\n",
              "      --hover-fill-color: #174EA6;\n",
              "      --disabled-fill-color: #AAA;\n",
              "      --disabled-bg-color: #DDD;\n",
              "  }\n",
              "\n",
              "  [theme=dark] .colab-df-quickchart {\n",
              "      --bg-color: #3B4455;\n",
              "      --fill-color: #D2E3FC;\n",
              "      --hover-bg-color: #434B5C;\n",
              "      --hover-fill-color: #FFFFFF;\n",
              "      --disabled-bg-color: #3B4455;\n",
              "      --disabled-fill-color: #666;\n",
              "  }\n",
              "\n",
              "  .colab-df-quickchart {\n",
              "    background-color: var(--bg-color);\n",
              "    border: none;\n",
              "    border-radius: 50%;\n",
              "    cursor: pointer;\n",
              "    display: none;\n",
              "    fill: var(--fill-color);\n",
              "    height: 32px;\n",
              "    padding: 0;\n",
              "    width: 32px;\n",
              "  }\n",
              "\n",
              "  .colab-df-quickchart:hover {\n",
              "    background-color: var(--hover-bg-color);\n",
              "    box-shadow: 0 1px 2px rgba(60, 64, 67, 0.3), 0 1px 3px 1px rgba(60, 64, 67, 0.15);\n",
              "    fill: var(--button-hover-fill-color);\n",
              "  }\n",
              "\n",
              "  .colab-df-quickchart-complete:disabled,\n",
              "  .colab-df-quickchart-complete:disabled:hover {\n",
              "    background-color: var(--disabled-bg-color);\n",
              "    fill: var(--disabled-fill-color);\n",
              "    box-shadow: none;\n",
              "  }\n",
              "\n",
              "  .colab-df-spinner {\n",
              "    border: 2px solid var(--fill-color);\n",
              "    border-color: transparent;\n",
              "    border-bottom-color: var(--fill-color);\n",
              "    animation:\n",
              "      spin 1s steps(1) infinite;\n",
              "  }\n",
              "\n",
              "  @keyframes spin {\n",
              "    0% {\n",
              "      border-color: transparent;\n",
              "      border-bottom-color: var(--fill-color);\n",
              "      border-left-color: var(--fill-color);\n",
              "    }\n",
              "    20% {\n",
              "      border-color: transparent;\n",
              "      border-left-color: var(--fill-color);\n",
              "      border-top-color: var(--fill-color);\n",
              "    }\n",
              "    30% {\n",
              "      border-color: transparent;\n",
              "      border-left-color: var(--fill-color);\n",
              "      border-top-color: var(--fill-color);\n",
              "      border-right-color: var(--fill-color);\n",
              "    }\n",
              "    40% {\n",
              "      border-color: transparent;\n",
              "      border-right-color: var(--fill-color);\n",
              "      border-top-color: var(--fill-color);\n",
              "    }\n",
              "    60% {\n",
              "      border-color: transparent;\n",
              "      border-right-color: var(--fill-color);\n",
              "    }\n",
              "    80% {\n",
              "      border-color: transparent;\n",
              "      border-right-color: var(--fill-color);\n",
              "      border-bottom-color: var(--fill-color);\n",
              "    }\n",
              "    90% {\n",
              "      border-color: transparent;\n",
              "      border-bottom-color: var(--fill-color);\n",
              "    }\n",
              "  }\n",
              "</style>\n",
              "\n",
              "  <script>\n",
              "    async function quickchart(key) {\n",
              "      const quickchartButtonEl =\n",
              "        document.querySelector('#' + key + ' button');\n",
              "      quickchartButtonEl.disabled = true;  // To prevent multiple clicks.\n",
              "      quickchartButtonEl.classList.add('colab-df-spinner');\n",
              "      try {\n",
              "        const charts = await google.colab.kernel.invokeFunction(\n",
              "            'suggestCharts', [key], {});\n",
              "      } catch (error) {\n",
              "        console.error('Error during call to suggestCharts:', error);\n",
              "      }\n",
              "      quickchartButtonEl.classList.remove('colab-df-spinner');\n",
              "      quickchartButtonEl.classList.add('colab-df-quickchart-complete');\n",
              "    }\n",
              "    (() => {\n",
              "      let quickchartButtonEl =\n",
              "        document.querySelector('#df-98412c9e-3bbd-46df-b5c7-1c9145972bfe button');\n",
              "      quickchartButtonEl.style.display =\n",
              "        google.colab.kernel.accessAllowed ? 'block' : 'none';\n",
              "    })();\n",
              "  </script>\n",
              "</div>\n",
              "\n",
              "    </div>\n",
              "  </div>\n"
            ],
            "application/vnd.google.colaboratory.intrinsic+json": {
              "type": "dataframe",
              "summary": "{\n  \"name\": \"data\",\n  \"rows\": 8,\n  \"fields\": [\n    {\n      \"column\": \"county\",\n      \"properties\": {\n        \"dtype\": \"number\",\n        \"std\": 124.22899154147336,\n        \"min\": 1.0,\n        \"max\": 400.0,\n        \"num_unique_values\": 7,\n        \"samples\": [\n          400.0,\n          100.5,\n          150.25\n        ],\n        \"semantic_type\": \"\",\n        \"description\": \"\"\n      }\n    },\n    {\n      \"column\": \"H\\u00e4agen-Dazs\",\n      \"properties\": {\n        \"dtype\": \"number\",\n        \"std\": 141.2450536232193,\n        \"min\": 0.0,\n        \"max\": 400.0,\n        \"num_unique_values\": 5,\n        \"samples\": [\n          0.5,\n          1.0,\n          0.5006261743217588\n        ],\n        \"semantic_type\": \"\",\n        \"description\": \"\"\n      }\n    },\n    {\n      \"column\": \"price\",\n      \"properties\": {\n        \"dtype\": \"number\",\n        \"std\": 140.66173803160493,\n        \"min\": 0.3370646556275345,\n        \"max\": 400.0,\n        \"num_unique_values\": 8,\n        \"samples\": [\n          2.459994162280452,\n          2.43784559330067,\n          400.0\n        ],\n        \"semantic_type\": \"\",\n        \"description\": \"\"\n      }\n    },\n    {\n      \"column\": \"gas price\",\n      \"properties\": {\n        \"dtype\": \"number\",\n        \"std\": 141.2806050207634,\n        \"min\": -0.1225797932887932,\n        \"max\": 400.0,\n        \"num_unique_values\": 8,\n        \"samples\": [\n          0.4478486833562957,\n          0.4420301305539769,\n          400.0\n        ],\n        \"semantic_type\": \"\",\n        \"description\": \"\"\n      }\n    },\n    {\n      \"column\": \"sales\",\n      \"properties\": {\n        \"dtype\": \"number\",\n        \"std\": 136.75877669490103,\n        \"min\": 1.0,\n        \"max\": 400.0,\n        \"num_unique_values\": 8,\n        \"samples\": [\n          14.2525,\n          13.0,\n          400.0\n        ],\n        \"semantic_type\": \"\",\n        \"description\": \"\"\n      }\n    },\n    {\n      \"column\": \"county size\",\n      \"properties\": {\n        \"dtype\": \"number\",\n        \"std\": 109.62740748190697,\n        \"min\": 56.97017621039634,\n        \"max\": 400.0,\n        \"num_unique_values\": 8,\n        \"samples\": [\n          197.445,\n          196.0,\n          400.0\n        ],\n        \"semantic_type\": \"\",\n        \"description\": \"\"\n      }\n    }\n  ]\n}"
            }
          },
          "metadata": {},
          "execution_count": 8
        }
      ]
    },
    {
      "cell_type": "markdown",
      "source": [
        "\n",
        "1.   How many counties are there?\n",
        "2.   What is the average price per serving?\n",
        "2.   What is the average market size in the sample? What is the largest market size?\n",
        "3.   What is the median number of ice cream servings sold per county?\n",
        "\n",
        "\n",
        "\n"
      ],
      "metadata": {
        "id": "DuQ-WY-Vth-n"
      }
    },
    {
      "cell_type": "markdown",
      "source": [
        "## 4. MARKET SHARES"
      ],
      "metadata": {
        "id": "pCUayJEMy8du"
      }
    },
    {
      "cell_type": "markdown",
      "source": [
        "### 4.1 COMPUTING MARKET SHARES"
      ],
      "metadata": {
        "id": "3fT8HqP2jc93"
      }
    },
    {
      "cell_type": "code",
      "source": [
        "data['s'] = data['sales']/data['county size']"
      ],
      "metadata": {
        "id": "rP2oev-ozF37"
      },
      "execution_count": 9,
      "outputs": []
    },
    {
      "cell_type": "markdown",
      "source": [
        "Calculate the market share of each firm (Häagen-Dazs, Ben & Jerry's) in each county based on the number of ice cream units sold.\n"
      ],
      "metadata": {
        "id": "x80C_G25zHhB"
      }
    },
    {
      "cell_type": "markdown",
      "source": [
        "### 4.2 COMPARING MARKET SHARES AND PRICES"
      ],
      "metadata": {
        "id": "_aIa7PcljihN"
      }
    },
    {
      "cell_type": "code",
      "source": [
        "data.groupby('Häagen-Dazs')[['price','s']].describe().loc[:, (slice(None), ['count', 'mean', 'std'])]"
      ],
      "metadata": {
        "colab": {
          "base_uri": "https://localhost:8080/",
          "height": 174
        },
        "id": "-E9-TnDovkq8",
        "outputId": "7a239413-2150-43f6-e748-910e1d8877e2"
      },
      "execution_count": 10,
      "outputs": [
        {
          "output_type": "execute_result",
          "data": {
            "text/plain": [
              "             price                          s                    \n",
              "             count      mean       std  count      mean       std\n",
              "Häagen-Dazs                                                      \n",
              "0            200.0  2.762927  0.147381  200.0  0.095517  0.023542\n",
              "1            200.0  2.157061  0.147024  200.0  0.049391  0.017383"
            ],
            "text/html": [
              "\n",
              "  <div id=\"df-91e8d0cf-c65c-4be9-adbd-af0ca900a05c\" class=\"colab-df-container\">\n",
              "    <div>\n",
              "<style scoped>\n",
              "    .dataframe tbody tr th:only-of-type {\n",
              "        vertical-align: middle;\n",
              "    }\n",
              "\n",
              "    .dataframe tbody tr th {\n",
              "        vertical-align: top;\n",
              "    }\n",
              "\n",
              "    .dataframe thead tr th {\n",
              "        text-align: left;\n",
              "    }\n",
              "\n",
              "    .dataframe thead tr:last-of-type th {\n",
              "        text-align: right;\n",
              "    }\n",
              "</style>\n",
              "<table border=\"1\" class=\"dataframe\">\n",
              "  <thead>\n",
              "    <tr>\n",
              "      <th></th>\n",
              "      <th colspan=\"3\" halign=\"left\">price</th>\n",
              "      <th colspan=\"3\" halign=\"left\">s</th>\n",
              "    </tr>\n",
              "    <tr>\n",
              "      <th></th>\n",
              "      <th>count</th>\n",
              "      <th>mean</th>\n",
              "      <th>std</th>\n",
              "      <th>count</th>\n",
              "      <th>mean</th>\n",
              "      <th>std</th>\n",
              "    </tr>\n",
              "    <tr>\n",
              "      <th>Häagen-Dazs</th>\n",
              "      <th></th>\n",
              "      <th></th>\n",
              "      <th></th>\n",
              "      <th></th>\n",
              "      <th></th>\n",
              "      <th></th>\n",
              "    </tr>\n",
              "  </thead>\n",
              "  <tbody>\n",
              "    <tr>\n",
              "      <th>0</th>\n",
              "      <td>200.0</td>\n",
              "      <td>2.762927</td>\n",
              "      <td>0.147381</td>\n",
              "      <td>200.0</td>\n",
              "      <td>0.095517</td>\n",
              "      <td>0.023542</td>\n",
              "    </tr>\n",
              "    <tr>\n",
              "      <th>1</th>\n",
              "      <td>200.0</td>\n",
              "      <td>2.157061</td>\n",
              "      <td>0.147024</td>\n",
              "      <td>200.0</td>\n",
              "      <td>0.049391</td>\n",
              "      <td>0.017383</td>\n",
              "    </tr>\n",
              "  </tbody>\n",
              "</table>\n",
              "</div>\n",
              "    <div class=\"colab-df-buttons\">\n",
              "\n",
              "  <div class=\"colab-df-container\">\n",
              "    <button class=\"colab-df-convert\" onclick=\"convertToInteractive('df-91e8d0cf-c65c-4be9-adbd-af0ca900a05c')\"\n",
              "            title=\"Convert this dataframe to an interactive table.\"\n",
              "            style=\"display:none;\">\n",
              "\n",
              "  <svg xmlns=\"http://www.w3.org/2000/svg\" height=\"24px\" viewBox=\"0 -960 960 960\">\n",
              "    <path d=\"M120-120v-720h720v720H120Zm60-500h600v-160H180v160Zm220 220h160v-160H400v160Zm0 220h160v-160H400v160ZM180-400h160v-160H180v160Zm440 0h160v-160H620v160ZM180-180h160v-160H180v160Zm440 0h160v-160H620v160Z\"/>\n",
              "  </svg>\n",
              "    </button>\n",
              "\n",
              "  <style>\n",
              "    .colab-df-container {\n",
              "      display:flex;\n",
              "      gap: 12px;\n",
              "    }\n",
              "\n",
              "    .colab-df-convert {\n",
              "      background-color: #E8F0FE;\n",
              "      border: none;\n",
              "      border-radius: 50%;\n",
              "      cursor: pointer;\n",
              "      display: none;\n",
              "      fill: #1967D2;\n",
              "      height: 32px;\n",
              "      padding: 0 0 0 0;\n",
              "      width: 32px;\n",
              "    }\n",
              "\n",
              "    .colab-df-convert:hover {\n",
              "      background-color: #E2EBFA;\n",
              "      box-shadow: 0px 1px 2px rgba(60, 64, 67, 0.3), 0px 1px 3px 1px rgba(60, 64, 67, 0.15);\n",
              "      fill: #174EA6;\n",
              "    }\n",
              "\n",
              "    .colab-df-buttons div {\n",
              "      margin-bottom: 4px;\n",
              "    }\n",
              "\n",
              "    [theme=dark] .colab-df-convert {\n",
              "      background-color: #3B4455;\n",
              "      fill: #D2E3FC;\n",
              "    }\n",
              "\n",
              "    [theme=dark] .colab-df-convert:hover {\n",
              "      background-color: #434B5C;\n",
              "      box-shadow: 0px 1px 3px 1px rgba(0, 0, 0, 0.15);\n",
              "      filter: drop-shadow(0px 1px 2px rgba(0, 0, 0, 0.3));\n",
              "      fill: #FFFFFF;\n",
              "    }\n",
              "  </style>\n",
              "\n",
              "    <script>\n",
              "      const buttonEl =\n",
              "        document.querySelector('#df-91e8d0cf-c65c-4be9-adbd-af0ca900a05c button.colab-df-convert');\n",
              "      buttonEl.style.display =\n",
              "        google.colab.kernel.accessAllowed ? 'block' : 'none';\n",
              "\n",
              "      async function convertToInteractive(key) {\n",
              "        const element = document.querySelector('#df-91e8d0cf-c65c-4be9-adbd-af0ca900a05c');\n",
              "        const dataTable =\n",
              "          await google.colab.kernel.invokeFunction('convertToInteractive',\n",
              "                                                    [key], {});\n",
              "        if (!dataTable) return;\n",
              "\n",
              "        const docLinkHtml = 'Like what you see? Visit the ' +\n",
              "          '<a target=\"_blank\" href=https://colab.research.google.com/notebooks/data_table.ipynb>data table notebook</a>'\n",
              "          + ' to learn more about interactive tables.';\n",
              "        element.innerHTML = '';\n",
              "        dataTable['output_type'] = 'display_data';\n",
              "        await google.colab.output.renderOutput(dataTable, element);\n",
              "        const docLink = document.createElement('div');\n",
              "        docLink.innerHTML = docLinkHtml;\n",
              "        element.appendChild(docLink);\n",
              "      }\n",
              "    </script>\n",
              "  </div>\n",
              "\n",
              "\n",
              "<div id=\"df-1c789e23-0f88-44a2-8b1d-e1d9e1c562c4\">\n",
              "  <button class=\"colab-df-quickchart\" onclick=\"quickchart('df-1c789e23-0f88-44a2-8b1d-e1d9e1c562c4')\"\n",
              "            title=\"Suggest charts\"\n",
              "            style=\"display:none;\">\n",
              "\n",
              "<svg xmlns=\"http://www.w3.org/2000/svg\" height=\"24px\"viewBox=\"0 0 24 24\"\n",
              "     width=\"24px\">\n",
              "    <g>\n",
              "        <path d=\"M19 3H5c-1.1 0-2 .9-2 2v14c0 1.1.9 2 2 2h14c1.1 0 2-.9 2-2V5c0-1.1-.9-2-2-2zM9 17H7v-7h2v7zm4 0h-2V7h2v10zm4 0h-2v-4h2v4z\"/>\n",
              "    </g>\n",
              "</svg>\n",
              "  </button>\n",
              "\n",
              "<style>\n",
              "  .colab-df-quickchart {\n",
              "      --bg-color: #E8F0FE;\n",
              "      --fill-color: #1967D2;\n",
              "      --hover-bg-color: #E2EBFA;\n",
              "      --hover-fill-color: #174EA6;\n",
              "      --disabled-fill-color: #AAA;\n",
              "      --disabled-bg-color: #DDD;\n",
              "  }\n",
              "\n",
              "  [theme=dark] .colab-df-quickchart {\n",
              "      --bg-color: #3B4455;\n",
              "      --fill-color: #D2E3FC;\n",
              "      --hover-bg-color: #434B5C;\n",
              "      --hover-fill-color: #FFFFFF;\n",
              "      --disabled-bg-color: #3B4455;\n",
              "      --disabled-fill-color: #666;\n",
              "  }\n",
              "\n",
              "  .colab-df-quickchart {\n",
              "    background-color: var(--bg-color);\n",
              "    border: none;\n",
              "    border-radius: 50%;\n",
              "    cursor: pointer;\n",
              "    display: none;\n",
              "    fill: var(--fill-color);\n",
              "    height: 32px;\n",
              "    padding: 0;\n",
              "    width: 32px;\n",
              "  }\n",
              "\n",
              "  .colab-df-quickchart:hover {\n",
              "    background-color: var(--hover-bg-color);\n",
              "    box-shadow: 0 1px 2px rgba(60, 64, 67, 0.3), 0 1px 3px 1px rgba(60, 64, 67, 0.15);\n",
              "    fill: var(--button-hover-fill-color);\n",
              "  }\n",
              "\n",
              "  .colab-df-quickchart-complete:disabled,\n",
              "  .colab-df-quickchart-complete:disabled:hover {\n",
              "    background-color: var(--disabled-bg-color);\n",
              "    fill: var(--disabled-fill-color);\n",
              "    box-shadow: none;\n",
              "  }\n",
              "\n",
              "  .colab-df-spinner {\n",
              "    border: 2px solid var(--fill-color);\n",
              "    border-color: transparent;\n",
              "    border-bottom-color: var(--fill-color);\n",
              "    animation:\n",
              "      spin 1s steps(1) infinite;\n",
              "  }\n",
              "\n",
              "  @keyframes spin {\n",
              "    0% {\n",
              "      border-color: transparent;\n",
              "      border-bottom-color: var(--fill-color);\n",
              "      border-left-color: var(--fill-color);\n",
              "    }\n",
              "    20% {\n",
              "      border-color: transparent;\n",
              "      border-left-color: var(--fill-color);\n",
              "      border-top-color: var(--fill-color);\n",
              "    }\n",
              "    30% {\n",
              "      border-color: transparent;\n",
              "      border-left-color: var(--fill-color);\n",
              "      border-top-color: var(--fill-color);\n",
              "      border-right-color: var(--fill-color);\n",
              "    }\n",
              "    40% {\n",
              "      border-color: transparent;\n",
              "      border-right-color: var(--fill-color);\n",
              "      border-top-color: var(--fill-color);\n",
              "    }\n",
              "    60% {\n",
              "      border-color: transparent;\n",
              "      border-right-color: var(--fill-color);\n",
              "    }\n",
              "    80% {\n",
              "      border-color: transparent;\n",
              "      border-right-color: var(--fill-color);\n",
              "      border-bottom-color: var(--fill-color);\n",
              "    }\n",
              "    90% {\n",
              "      border-color: transparent;\n",
              "      border-bottom-color: var(--fill-color);\n",
              "    }\n",
              "  }\n",
              "</style>\n",
              "\n",
              "  <script>\n",
              "    async function quickchart(key) {\n",
              "      const quickchartButtonEl =\n",
              "        document.querySelector('#' + key + ' button');\n",
              "      quickchartButtonEl.disabled = true;  // To prevent multiple clicks.\n",
              "      quickchartButtonEl.classList.add('colab-df-spinner');\n",
              "      try {\n",
              "        const charts = await google.colab.kernel.invokeFunction(\n",
              "            'suggestCharts', [key], {});\n",
              "      } catch (error) {\n",
              "        console.error('Error during call to suggestCharts:', error);\n",
              "      }\n",
              "      quickchartButtonEl.classList.remove('colab-df-spinner');\n",
              "      quickchartButtonEl.classList.add('colab-df-quickchart-complete');\n",
              "    }\n",
              "    (() => {\n",
              "      let quickchartButtonEl =\n",
              "        document.querySelector('#df-1c789e23-0f88-44a2-8b1d-e1d9e1c562c4 button');\n",
              "      quickchartButtonEl.style.display =\n",
              "        google.colab.kernel.accessAllowed ? 'block' : 'none';\n",
              "    })();\n",
              "  </script>\n",
              "</div>\n",
              "\n",
              "    </div>\n",
              "  </div>\n"
            ],
            "application/vnd.google.colaboratory.intrinsic+json": {
              "type": "dataframe",
              "summary": "{\n  \"name\": \"data\",\n  \"rows\": 2,\n  \"fields\": [\n    {\n      \"column\": [\n        \"H\\u00e4agen-Dazs\",\n        \"\"\n      ],\n      \"properties\": {\n        \"dtype\": \"number\",\n        \"std\": 0,\n        \"min\": 0,\n        \"max\": 1,\n        \"num_unique_values\": 2,\n        \"samples\": [\n          1,\n          0\n        ],\n        \"semantic_type\": \"\",\n        \"description\": \"\"\n      }\n    },\n    {\n      \"column\": [\n        \"price\",\n        \"count\"\n      ],\n      \"properties\": {\n        \"dtype\": \"number\",\n        \"std\": 0.0,\n        \"min\": 200.0,\n        \"max\": 200.0,\n        \"num_unique_values\": 1,\n        \"samples\": [\n          200.0\n        ],\n        \"semantic_type\": \"\",\n        \"description\": \"\"\n      }\n    },\n    {\n      \"column\": [\n        \"price\",\n        \"mean\"\n      ],\n      \"properties\": {\n        \"dtype\": \"number\",\n        \"std\": 0.4284117672048343,\n        \"min\": 2.1570612965498013,\n        \"max\": 2.762927028011103,\n        \"num_unique_values\": 2,\n        \"samples\": [\n          2.1570612965498013\n        ],\n        \"semantic_type\": \"\",\n        \"description\": \"\"\n      }\n    },\n    {\n      \"column\": [\n        \"price\",\n        \"std\"\n      ],\n      \"properties\": {\n        \"dtype\": \"number\",\n        \"std\": 0.00025256838127991974,\n        \"min\": 0.14702378639339783,\n        \"max\": 0.1473809720236305,\n        \"num_unique_values\": 2,\n        \"samples\": [\n          0.14702378639339783\n        ],\n        \"semantic_type\": \"\",\n        \"description\": \"\"\n      }\n    },\n    {\n      \"column\": [\n        \"s\",\n        \"count\"\n      ],\n      \"properties\": {\n        \"dtype\": \"number\",\n        \"std\": 0.0,\n        \"min\": 200.0,\n        \"max\": 200.0,\n        \"num_unique_values\": 1,\n        \"samples\": [\n          200.0\n        ],\n        \"semantic_type\": \"\",\n        \"description\": \"\"\n      }\n    },\n    {\n      \"column\": [\n        \"s\",\n        \"mean\"\n      ],\n      \"properties\": {\n        \"dtype\": \"number\",\n        \"std\": 0.03261571625252197,\n        \"min\": 0.049391448833017916,\n        \"max\": 0.09551703710384707,\n        \"num_unique_values\": 2,\n        \"samples\": [\n          0.049391448833017916\n        ],\n        \"semantic_type\": \"\",\n        \"description\": \"\"\n      }\n    },\n    {\n      \"column\": [\n        \"s\",\n        \"std\"\n      ],\n      \"properties\": {\n        \"dtype\": \"number\",\n        \"std\": 0.004354878042886265,\n        \"min\": 0.0173830614084007,\n        \"max\": 0.023541788999131258,\n        \"num_unique_values\": 2,\n        \"samples\": [\n          0.0173830614084007\n        ],\n        \"semantic_type\": \"\",\n        \"description\": \"\"\n      }\n    }\n  ]\n}"
            }
          },
          "metadata": {},
          "execution_count": 10
        }
      ]
    },
    {
      "cell_type": "markdown",
      "source": [
        "Compare Häagen-Dazs and Ben & Jerry's in terms of their market shares and prices across counties.\n",
        "\n",
        "1.   In how many counties is Häagen-Dazs ice cream sold? Ben \\& Jerry's?\n",
        "2.   Which ice cream brand is more expensive? Which one has the larger market share?\n",
        "3.   Which ice cream brand do you think consumers prefer?\n",
        "4.   For a given brand, do market shares vary across counties? If so, why do you think that is?\n",
        "\n",
        "\n",
        "---\n",
        "\n"
      ],
      "metadata": {
        "id": "z1L-PLU3wKSS"
      }
    },
    {
      "cell_type": "markdown",
      "source": [
        "### 4.3 EVALUATING MARKET CONCENTRATION"
      ],
      "metadata": {
        "id": "_DWTgnaiyZqj"
      }
    },
    {
      "cell_type": "markdown",
      "source": [
        "Häagen-Dazs and Ben \\& Jerry's are the only products in the market for 'super-premium' ice cream. Let's calculate the Hirschmann-Hifendahl Index (HHI) for county $t$:\n",
        "$$10000\\times\\sum_{j\\in\\{H,B\\}}s_{jt}^2$$\n"
      ],
      "metadata": {
        "id": "kbMq2NQP0RIB"
      }
    },
    {
      "cell_type": "code",
      "source": [
        "hhi = 10000*data.groupby('county')['s'].apply(lambda x: ((x/x.sum())**2).sum())"
      ],
      "metadata": {
        "id": "N4_nuMlalVMa"
      },
      "execution_count": 23,
      "outputs": []
    },
    {
      "cell_type": "code",
      "source": [
        "print('The average county-level HHI is',hhi.mean().astype(int),'.')"
      ],
      "metadata": {
        "colab": {
          "base_uri": "https://localhost:8080/"
        },
        "id": "R_zWYz0qmL9L",
        "outputId": "a444c0b1-15c3-4b7f-9b46-2cc5cb693a5a"
      },
      "execution_count": 25,
      "outputs": [
        {
          "output_type": "stream",
          "name": "stdout",
          "text": [
            "The average county-level HHI is 5722 .\n"
          ]
        }
      ]
    },
    {
      "cell_type": "markdown",
      "source": [
        "We could also report the HHI across counties:\n",
        "$$ 10000\\times \\frac{\\sum_{j\\in\\{H,B\\}}(\\sum_t \\text{sales}_{jt})^2}{(\\sum_{j\\in\\{H,B\\}}\\sum_t \\text{sales}_{jt})^2} $$"
      ],
      "metadata": {
        "id": "NmimY6xTarEP"
      }
    },
    {
      "cell_type": "code",
      "source": [
        "10000*(data[data['Häagen-Dazs'] == 1]['sales'].sum()**2 + data[data['Häagen-Dazs'] == 0]['sales'].sum()**2)/(data[data['Häagen-Dazs'] == 1]['sales'].sum() + data[data['Häagen-Dazs'] == 0]['sales'].sum())**2\n"
      ],
      "metadata": {
        "colab": {
          "base_uri": "https://localhost:8080/"
        },
        "id": "v0Bpe7wi0POS",
        "outputId": "558a90c7-80bb-40fd-9217-9b68b20ac54b"
      },
      "execution_count": 27,
      "outputs": [
        {
          "output_type": "execute_result",
          "data": {
            "text/plain": [
              "5501.213009248432"
            ]
          },
          "metadata": {},
          "execution_count": 27
        }
      ]
    },
    {
      "cell_type": "markdown",
      "source": [
        "Is the market for 'super-premium' ice cream highly concentrated, moderately concentrated or unconcentrated?"
      ],
      "metadata": {
        "id": "sUbYBFip3i1L"
      }
    },
    {
      "cell_type": "markdown",
      "source": [
        "### 4.4 COMPUTING THE 'OUTSIDE OPTION' MARKET SHARE"
      ],
      "metadata": {
        "id": "yz7Rqdryz0AC"
      }
    },
    {
      "cell_type": "code",
      "source": [
        "data['s0'] = 1 - data.groupby(['county'])['s'].transform('sum')"
      ],
      "metadata": {
        "id": "XX7Feockz15o"
      },
      "execution_count": null,
      "outputs": []
    },
    {
      "cell_type": "markdown",
      "source": [
        "Define the 'outside good' market share for each county. Here the 'outside good' is any ice cream sold other than Ben & Jerry's or Hägen-Dazs.\n",
        "\n",
        "\n",
        "---\n"
      ],
      "metadata": {
        "id": "pGE36O7EzPFs"
      }
    },
    {
      "cell_type": "markdown",
      "source": [
        "**Demand estimation (OLS)**"
      ],
      "metadata": {
        "id": "BjIzsRkmCZhX"
      }
    },
    {
      "cell_type": "markdown",
      "source": [
        "Transform the market shares to back out the **mean utilities**. The transformed market share is going to be the **dependent variable** in the OLS regression we run next."
      ],
      "metadata": {
        "id": "dOCgy2dk0R49"
      }
    },
    {
      "cell_type": "code",
      "source": [
        "Y = np.log(data['s']) - np.log(data['s0'])"
      ],
      "metadata": {
        "id": "QQAM_uIq1IfR"
      },
      "execution_count": null,
      "outputs": []
    },
    {
      "cell_type": "markdown",
      "source": [
        "In the OLS regression, the **independent variables** are going to be the price and the Häagen-Dazs dummy variable, plus a constant."
      ],
      "metadata": {
        "id": "pGnehPLN1ccw"
      }
    },
    {
      "cell_type": "code",
      "source": [
        "X=sm.add_constant(data[['price','Häagen-Dazs']])"
      ],
      "metadata": {
        "id": "a6MMCZ9p2Fs1"
      },
      "execution_count": null,
      "outputs": []
    },
    {
      "cell_type": "code",
      "source": [
        "ols = sm.OLS(Y,X)\n",
        "ols_result = ols.fit(cov_type='HC3')\n",
        "ols_result.summary()"
      ],
      "metadata": {
        "id": "1Q0pR190031w",
        "outputId": "3be2a0b0-11c3-46e9-e54e-d12547f9c84c",
        "colab": {
          "base_uri": "https://localhost:8080/",
          "height": 473
        }
      },
      "execution_count": null,
      "outputs": [
        {
          "output_type": "execute_result",
          "data": {
            "text/plain": [
              "<class 'statsmodels.iolib.summary.Summary'>\n",
              "\"\"\"\n",
              "                            OLS Regression Results                            \n",
              "==============================================================================\n",
              "Dep. Variable:                      y   R-squared:                       0.598\n",
              "Model:                            OLS   Adj. R-squared:                  0.596\n",
              "Method:                 Least Squares   F-statistic:                     296.3\n",
              "Date:                Fri, 19 Jul 2024   Prob (F-statistic):           1.84e-79\n",
              "Time:                        14:41:37   Log-Likelihood:                -228.34\n",
              "No. Observations:                 400   AIC:                             462.7\n",
              "Df Residuals:                     397   BIC:                             474.7\n",
              "Df Model:                           2                                         \n",
              "Covariance Type:                  HC3                                         \n",
              "===============================================================================\n",
              "                  coef    std err          z      P>|z|      [0.025      0.975]\n",
              "-------------------------------------------------------------------------------\n",
              "const          -1.6042      0.143    -11.190      0.000      -1.885      -1.323\n",
              "price          -0.1275      0.057     -2.256      0.024      -0.238      -0.017\n",
              "Häagen-Dazs    -1.0612      0.044    -24.270      0.000      -1.147      -0.975\n",
              "==============================================================================\n",
              "Omnibus:                       10.208   Durbin-Watson:                   2.024\n",
              "Prob(Omnibus):                  0.006   Jarque-Bera (JB):                9.458\n",
              "Skew:                          -0.323   Prob(JB):                      0.00884\n",
              "Kurtosis:                       2.612   Cond. No.                         20.0\n",
              "==============================================================================\n",
              "\n",
              "Notes:\n",
              "[1] Standard Errors are heteroscedasticity robust (HC3)\n",
              "\"\"\""
            ],
            "text/html": [
              "<table class=\"simpletable\">\n",
              "<caption>OLS Regression Results</caption>\n",
              "<tr>\n",
              "  <th>Dep. Variable:</th>            <td>y</td>        <th>  R-squared:         </th> <td>   0.598</td>\n",
              "</tr>\n",
              "<tr>\n",
              "  <th>Model:</th>                   <td>OLS</td>       <th>  Adj. R-squared:    </th> <td>   0.596</td>\n",
              "</tr>\n",
              "<tr>\n",
              "  <th>Method:</th>             <td>Least Squares</td>  <th>  F-statistic:       </th> <td>   296.3</td>\n",
              "</tr>\n",
              "<tr>\n",
              "  <th>Date:</th>             <td>Fri, 19 Jul 2024</td> <th>  Prob (F-statistic):</th> <td>1.84e-79</td>\n",
              "</tr>\n",
              "<tr>\n",
              "  <th>Time:</th>                 <td>14:41:37</td>     <th>  Log-Likelihood:    </th> <td> -228.34</td>\n",
              "</tr>\n",
              "<tr>\n",
              "  <th>No. Observations:</th>      <td>   400</td>      <th>  AIC:               </th> <td>   462.7</td>\n",
              "</tr>\n",
              "<tr>\n",
              "  <th>Df Residuals:</th>          <td>   397</td>      <th>  BIC:               </th> <td>   474.7</td>\n",
              "</tr>\n",
              "<tr>\n",
              "  <th>Df Model:</th>              <td>     2</td>      <th>                     </th>     <td> </td>   \n",
              "</tr>\n",
              "<tr>\n",
              "  <th>Covariance Type:</th>         <td>HC3</td>       <th>                     </th>     <td> </td>   \n",
              "</tr>\n",
              "</table>\n",
              "<table class=\"simpletable\">\n",
              "<tr>\n",
              "       <td></td>          <th>coef</th>     <th>std err</th>      <th>z</th>      <th>P>|z|</th>  <th>[0.025</th>    <th>0.975]</th>  \n",
              "</tr>\n",
              "<tr>\n",
              "  <th>const</th>       <td>   -1.6042</td> <td>    0.143</td> <td>  -11.190</td> <td> 0.000</td> <td>   -1.885</td> <td>   -1.323</td>\n",
              "</tr>\n",
              "<tr>\n",
              "  <th>price</th>       <td>   -0.1275</td> <td>    0.057</td> <td>   -2.256</td> <td> 0.024</td> <td>   -0.238</td> <td>   -0.017</td>\n",
              "</tr>\n",
              "<tr>\n",
              "  <th>Häagen-Dazs</th> <td>   -1.0612</td> <td>    0.044</td> <td>  -24.270</td> <td> 0.000</td> <td>   -1.147</td> <td>   -0.975</td>\n",
              "</tr>\n",
              "</table>\n",
              "<table class=\"simpletable\">\n",
              "<tr>\n",
              "  <th>Omnibus:</th>       <td>10.208</td> <th>  Durbin-Watson:     </th> <td>   2.024</td>\n",
              "</tr>\n",
              "<tr>\n",
              "  <th>Prob(Omnibus):</th> <td> 0.006</td> <th>  Jarque-Bera (JB):  </th> <td>   9.458</td>\n",
              "</tr>\n",
              "<tr>\n",
              "  <th>Skew:</th>          <td>-0.323</td> <th>  Prob(JB):          </th> <td> 0.00884</td>\n",
              "</tr>\n",
              "<tr>\n",
              "  <th>Kurtosis:</th>      <td> 2.612</td> <th>  Cond. No.          </th> <td>    20.0</td>\n",
              "</tr>\n",
              "</table><br/><br/>Notes:<br/>[1] Standard Errors are heteroscedasticity robust (HC3)"
            ],
            "text/latex": "\\begin{center}\n\\begin{tabular}{lclc}\n\\toprule\n\\textbf{Dep. Variable:}    &        y         & \\textbf{  R-squared:         } &     0.598   \\\\\n\\textbf{Model:}            &       OLS        & \\textbf{  Adj. R-squared:    } &     0.596   \\\\\n\\textbf{Method:}           &  Least Squares   & \\textbf{  F-statistic:       } &     296.3   \\\\\n\\textbf{Date:}             & Fri, 19 Jul 2024 & \\textbf{  Prob (F-statistic):} &  1.84e-79   \\\\\n\\textbf{Time:}             &     14:41:37     & \\textbf{  Log-Likelihood:    } &   -228.34   \\\\\n\\textbf{No. Observations:} &         400      & \\textbf{  AIC:               } &     462.7   \\\\\n\\textbf{Df Residuals:}     &         397      & \\textbf{  BIC:               } &     474.7   \\\\\n\\textbf{Df Model:}         &           2      & \\textbf{                     } &             \\\\\n\\textbf{Covariance Type:}  &       HC3        & \\textbf{                     } &             \\\\\n\\bottomrule\n\\end{tabular}\n\\begin{tabular}{lcccccc}\n                     & \\textbf{coef} & \\textbf{std err} & \\textbf{z} & \\textbf{P$> |$z$|$} & \\textbf{[0.025} & \\textbf{0.975]}  \\\\\n\\midrule\n\\textbf{const}       &      -1.6042  &        0.143     &   -11.190  &         0.000        &       -1.885    &       -1.323     \\\\\n\\textbf{price}       &      -0.1275  &        0.057     &    -2.256  &         0.024        &       -0.238    &       -0.017     \\\\\n\\textbf{Häagen-Dazs} &      -1.0612  &        0.044     &   -24.270  &         0.000        &       -1.147    &       -0.975     \\\\\n\\bottomrule\n\\end{tabular}\n\\begin{tabular}{lclc}\n\\textbf{Omnibus:}       & 10.208 & \\textbf{  Durbin-Watson:     } &    2.024  \\\\\n\\textbf{Prob(Omnibus):} &  0.006 & \\textbf{  Jarque-Bera (JB):  } &    9.458  \\\\\n\\textbf{Skew:}          & -0.323 & \\textbf{  Prob(JB):          } &  0.00884  \\\\\n\\textbf{Kurtosis:}      &  2.612 & \\textbf{  Cond. No.          } &     20.0  \\\\\n\\bottomrule\n\\end{tabular}\n%\\caption{OLS Regression Results}\n\\end{center}\n\nNotes: \\newline\n [1] Standard Errors are heteroscedasticity robust (HC3)"
          },
          "metadata": {},
          "execution_count": 53
        }
      ]
    },
    {
      "cell_type": "markdown",
      "source": [
        "Let's interpret the estimation results.\n",
        "\n",
        "1.   All else equal, how much lower is the mean utility of consuming a unit of ice cream if the unit price increases by \\$1?\n",
        "2.   On average, which ice cream brand do consumers prefer?\n",
        "3.   What is the meaning of the constant? It is negative. Why do you think that means?\n",
        "4. What is the mean utility of consuming a unit of Ben & Jerry's ice cream if it is sold for \\$3?"
      ],
      "metadata": {
        "id": "1TR1MkwIDn9K"
      }
    },
    {
      "cell_type": "markdown",
      "source": [
        "**Demand Estimation (2SLS)**"
      ],
      "metadata": {
        "id": "wJcoGAz3FZq8"
      }
    },
    {
      "cell_type": "markdown",
      "source": [
        "Our estimate of the price coefficient is likely biased. Why is that? Do you think the gas price is a good **instrumental variable** for the unit price?"
      ],
      "metadata": {
        "id": "VrOnWYz6Gu96"
      }
    },
    {
      "cell_type": "code",
      "source": [
        "first_stage = sm.OLS(data['price'],sm.add_constant(data[['fuel cost']]))\n",
        "first_stage_result = first_stage.fit(cov_type='HC3')\n",
        "first_stage_result.summary()"
      ],
      "metadata": {
        "id": "bOqe9iwLGNaC",
        "outputId": "6b3818a7-af5f-4df7-bdbd-2fba14967a09",
        "colab": {
          "base_uri": "https://localhost:8080/",
          "height": 452
        }
      },
      "execution_count": null,
      "outputs": [
        {
          "output_type": "execute_result",
          "data": {
            "text/plain": [
              "<class 'statsmodels.iolib.summary.Summary'>\n",
              "\"\"\"\n",
              "                            OLS Regression Results                            \n",
              "==============================================================================\n",
              "Dep. Variable:                  price   R-squared:                       0.168\n",
              "Model:                            OLS   Adj. R-squared:                  0.165\n",
              "Method:                 Least Squares   F-statistic:                     86.58\n",
              "Date:                Fri, 19 Jul 2024   Prob (F-statistic):           9.12e-19\n",
              "Time:                        14:41:40   Log-Likelihood:                -148.80\n",
              "No. Observations:                 400   AIC:                             301.6\n",
              "Df Residuals:                     398   BIC:                             309.6\n",
              "Df Model:                           1                                         \n",
              "Covariance Type:                  HC3                                         \n",
              "==============================================================================\n",
              "                 coef    std err          z      P>|z|      [0.025      0.975]\n",
              "------------------------------------------------------------------------------\n",
              "const          2.1691      0.038     57.191      0.000       2.095       2.243\n",
              "fuel cost      0.9065      0.097      9.305      0.000       0.716       1.097\n",
              "==============================================================================\n",
              "Omnibus:                      154.749   Durbin-Watson:                   1.302\n",
              "Prob(Omnibus):                  0.000   Jarque-Bera (JB):              442.745\n",
              "Skew:                           1.875   Prob(JB):                     7.23e-97\n",
              "Kurtosis:                       6.536   Cond. No.                         6.29\n",
              "==============================================================================\n",
              "\n",
              "Notes:\n",
              "[1] Standard Errors are heteroscedasticity robust (HC3)\n",
              "\"\"\""
            ],
            "text/html": [
              "<table class=\"simpletable\">\n",
              "<caption>OLS Regression Results</caption>\n",
              "<tr>\n",
              "  <th>Dep. Variable:</th>          <td>price</td>      <th>  R-squared:         </th> <td>   0.168</td>\n",
              "</tr>\n",
              "<tr>\n",
              "  <th>Model:</th>                   <td>OLS</td>       <th>  Adj. R-squared:    </th> <td>   0.165</td>\n",
              "</tr>\n",
              "<tr>\n",
              "  <th>Method:</th>             <td>Least Squares</td>  <th>  F-statistic:       </th> <td>   86.58</td>\n",
              "</tr>\n",
              "<tr>\n",
              "  <th>Date:</th>             <td>Fri, 19 Jul 2024</td> <th>  Prob (F-statistic):</th> <td>9.12e-19</td>\n",
              "</tr>\n",
              "<tr>\n",
              "  <th>Time:</th>                 <td>14:41:40</td>     <th>  Log-Likelihood:    </th> <td> -148.80</td>\n",
              "</tr>\n",
              "<tr>\n",
              "  <th>No. Observations:</th>      <td>   400</td>      <th>  AIC:               </th> <td>   301.6</td>\n",
              "</tr>\n",
              "<tr>\n",
              "  <th>Df Residuals:</th>          <td>   398</td>      <th>  BIC:               </th> <td>   309.6</td>\n",
              "</tr>\n",
              "<tr>\n",
              "  <th>Df Model:</th>              <td>     1</td>      <th>                     </th>     <td> </td>   \n",
              "</tr>\n",
              "<tr>\n",
              "  <th>Covariance Type:</th>         <td>HC3</td>       <th>                     </th>     <td> </td>   \n",
              "</tr>\n",
              "</table>\n",
              "<table class=\"simpletable\">\n",
              "<tr>\n",
              "      <td></td>         <th>coef</th>     <th>std err</th>      <th>z</th>      <th>P>|z|</th>  <th>[0.025</th>    <th>0.975]</th>  \n",
              "</tr>\n",
              "<tr>\n",
              "  <th>const</th>     <td>    2.1691</td> <td>    0.038</td> <td>   57.191</td> <td> 0.000</td> <td>    2.095</td> <td>    2.243</td>\n",
              "</tr>\n",
              "<tr>\n",
              "  <th>fuel cost</th> <td>    0.9065</td> <td>    0.097</td> <td>    9.305</td> <td> 0.000</td> <td>    0.716</td> <td>    1.097</td>\n",
              "</tr>\n",
              "</table>\n",
              "<table class=\"simpletable\">\n",
              "<tr>\n",
              "  <th>Omnibus:</th>       <td>154.749</td> <th>  Durbin-Watson:     </th> <td>   1.302</td>\n",
              "</tr>\n",
              "<tr>\n",
              "  <th>Prob(Omnibus):</th> <td> 0.000</td>  <th>  Jarque-Bera (JB):  </th> <td> 442.745</td>\n",
              "</tr>\n",
              "<tr>\n",
              "  <th>Skew:</th>          <td> 1.875</td>  <th>  Prob(JB):          </th> <td>7.23e-97</td>\n",
              "</tr>\n",
              "<tr>\n",
              "  <th>Kurtosis:</th>      <td> 6.536</td>  <th>  Cond. No.          </th> <td>    6.29</td>\n",
              "</tr>\n",
              "</table><br/><br/>Notes:<br/>[1] Standard Errors are heteroscedasticity robust (HC3)"
            ],
            "text/latex": "\\begin{center}\n\\begin{tabular}{lclc}\n\\toprule\n\\textbf{Dep. Variable:}    &      price       & \\textbf{  R-squared:         } &     0.168   \\\\\n\\textbf{Model:}            &       OLS        & \\textbf{  Adj. R-squared:    } &     0.165   \\\\\n\\textbf{Method:}           &  Least Squares   & \\textbf{  F-statistic:       } &     86.58   \\\\\n\\textbf{Date:}             & Fri, 19 Jul 2024 & \\textbf{  Prob (F-statistic):} &  9.12e-19   \\\\\n\\textbf{Time:}             &     14:41:40     & \\textbf{  Log-Likelihood:    } &   -148.80   \\\\\n\\textbf{No. Observations:} &         400      & \\textbf{  AIC:               } &     301.6   \\\\\n\\textbf{Df Residuals:}     &         398      & \\textbf{  BIC:               } &     309.6   \\\\\n\\textbf{Df Model:}         &           1      & \\textbf{                     } &             \\\\\n\\textbf{Covariance Type:}  &       HC3        & \\textbf{                     } &             \\\\\n\\bottomrule\n\\end{tabular}\n\\begin{tabular}{lcccccc}\n                   & \\textbf{coef} & \\textbf{std err} & \\textbf{z} & \\textbf{P$> |$z$|$} & \\textbf{[0.025} & \\textbf{0.975]}  \\\\\n\\midrule\n\\textbf{const}     &       2.1691  &        0.038     &    57.191  &         0.000        &        2.095    &        2.243     \\\\\n\\textbf{fuel cost} &       0.9065  &        0.097     &     9.305  &         0.000        &        0.716    &        1.097     \\\\\n\\bottomrule\n\\end{tabular}\n\\begin{tabular}{lclc}\n\\textbf{Omnibus:}       & 154.749 & \\textbf{  Durbin-Watson:     } &    1.302  \\\\\n\\textbf{Prob(Omnibus):} &   0.000 & \\textbf{  Jarque-Bera (JB):  } &  442.745  \\\\\n\\textbf{Skew:}          &   1.875 & \\textbf{  Prob(JB):          } & 7.23e-97  \\\\\n\\textbf{Kurtosis:}      &   6.536 & \\textbf{  Cond. No.          } &     6.29  \\\\\n\\bottomrule\n\\end{tabular}\n%\\caption{OLS Regression Results}\n\\end{center}\n\nNotes: \\newline\n [1] Standard Errors are heteroscedasticity robust (HC3)"
          },
          "metadata": {},
          "execution_count": 54
        }
      ]
    },
    {
      "cell_type": "markdown",
      "source": [
        "1. Are the estimates significantly different from zero in a statistical sense?\n",
        "2. According to our estimates, by how much does the unit price increase if the gas price increases by \\$1 (and everything else is unchanged)? Does this intuitively make sense?"
      ],
      "metadata": {
        "id": "IbAPQYZqHdlu"
      }
    },
    {
      "cell_type": "markdown",
      "source": [
        "We plot Häagen-Dazs market shares and unit prices and fit a line (left). We compare this to the results of a 2SLS regression with fuel price as the instrument (right)."
      ],
      "metadata": {
        "id": "f59Kto0TMK2Z"
      }
    },
    {
      "cell_type": "code",
      "source": [
        "figure, axis = plt.subplots(1, 2,sharex=True,sharey=True,figsize=(9,3))\n",
        "\n",
        "axis[0].scatter(data[data['Häagen-Dazs'] == 0]['price'],data[data['Häagen-Dazs'] == 0]['s']*100)\n",
        "b, a = np.polyfit(data[data['Häagen-Dazs'] == 0]['price'], data[data['Häagen-Dazs'] == 0]['s']*100, deg=1)\n",
        "axis[0].plot(np.linspace(data[data['Häagen-Dazs'] == 0]['price'].min(), data[data['Häagen-Dazs'] == 0]['price'].max(), num=80), a + b * np.linspace(data[data['Häagen-Dazs'] == 0]['price'].min(), data[data['Häagen-Dazs'] == 0]['price'].max(), num=80), color=\"red\", lw=2.5)\n",
        "axis[0].set_title('W/o instrument')\n",
        "\n",
        "axis[1].scatter(data[data['Häagen-Dazs'] == 0]['price'],data[data['Häagen-Dazs'] == 0]['s']*100)\n",
        "a,b = IV2SLS(data[data['Häagen-Dazs'] == 0]['s']*100, sm.add_constant(data[data['Häagen-Dazs'] == 0]['price']), instrument = sm.add_constant(data[data['Häagen-Dazs'] == 0]['fuel cost'])).fit().params\n",
        "axis[1].plot(np.linspace(data[data['Häagen-Dazs'] == 0]['price'].min(), data[data['Häagen-Dazs'] == 0]['price'].max(), num=80), a + b * np.linspace(data[data['Häagen-Dazs'] == 0]['price'].min(), data[data['Häagen-Dazs'] == 0]['price'].max(), num=80), color=\"red\", lw=2.5)\n",
        "axis[1].set_title('W/ instrument')\n",
        "\n",
        "figure.text(0.5, 0.04, 'price (in $)', ha='center')\n",
        "figure.text(0.04, 0.5, 'market share (in %)', va='center', rotation='vertical')\n",
        "plt.show()"
      ],
      "metadata": {
        "id": "GWIKLOzKFenx",
        "outputId": "fe16a4fa-8e09-4193-8c83-7e7fdff2e49b",
        "colab": {
          "base_uri": "https://localhost:8080/",
          "height": 314
        }
      },
      "execution_count": null,
      "outputs": [
        {
          "output_type": "display_data",
          "data": {
            "text/plain": [
              "<Figure size 900x300 with 2 Axes>"
            ],
            "image/png": "[encoded data removed]"
          },
          "metadata": {}
        }
      ]
    },
    {
      "cell_type": "markdown",
      "source": [
        "Can you explain why the line on the right is steeper?"
      ],
      "metadata": {
        "id": "TWj3XudcM_0K"
      }
    },
    {
      "cell_type": "markdown",
      "source": [
        "Next, we re-estimate demand using the price of fuel to instrument the price of ice cream."
      ],
      "metadata": {
        "id": "rNA_CXFBJa03"
      }
    },
    {
      "cell_type": "code",
      "source": [
        "twosls = IV2SLS(np.log(data['s']) - np.log(data['s0']), sm.add_constant(data[['price','Häagen-Dazs']]), instrument = sm.add_constant(data[['fuel cost','Häagen-Dazs']]))\n",
        "twosls_result = twosls.fit()\n",
        "const, alpha, beta = twosls_result.params.round(2)\n",
        "twosls_result.summary()"
      ],
      "metadata": {
        "id": "p0GFjqbYGigV",
        "outputId": "b1042e7d-a5b1-48a6-f6cd-7e47eba9685d",
        "colab": {
          "base_uri": "https://localhost:8080/",
          "height": 404
        }
      },
      "execution_count": null,
      "outputs": [
        {
          "output_type": "execute_result",
          "data": {
            "text/plain": [
              "<class 'statsmodels.iolib.summary.Summary'>\n",
              "\"\"\"\n",
              "                          IV2SLS Regression Results                           \n",
              "==============================================================================\n",
              "Dep. Variable:                      y   R-squared:                       0.462\n",
              "Model:                         IV2SLS   Adj. R-squared:                  0.459\n",
              "Method:                     Two Stage   F-statistic:                     231.0\n",
              "                        Least Squares   Prob (F-statistic):           2.90e-67\n",
              "Date:                Fri, 19 Jul 2024                                         \n",
              "Time:                        14:41:59                                         \n",
              "No. Observations:                 400                                         \n",
              "Df Residuals:                     397                                         \n",
              "Df Model:                           2                                         \n",
              "===============================================================================\n",
              "                  coef    std err          t      P>|t|      [0.025      0.975]\n",
              "-------------------------------------------------------------------------------\n",
              "const           0.0684      0.405      0.169      0.866      -0.727       0.864\n",
              "price          -0.7899      0.160     -4.946      0.000      -1.104      -0.476\n",
              "Häagen-Dazs    -1.1724      0.056    -20.757      0.000      -1.283      -1.061\n",
              "==============================================================================\n",
              "Omnibus:                        2.045   Durbin-Watson:                   1.780\n",
              "Prob(Omnibus):                  0.360   Jarque-Bera (JB):                1.858\n",
              "Skew:                           0.162   Prob(JB):                        0.395\n",
              "Kurtosis:                       3.083   Cond. No.                         20.0\n",
              "==============================================================================\n",
              "\"\"\""
            ],
            "text/html": [
              "<table class=\"simpletable\">\n",
              "<caption>IV2SLS Regression Results</caption>\n",
              "<tr>\n",
              "  <th>Dep. Variable:</th>            <td>y</td>        <th>  R-squared:         </th> <td>   0.462</td>\n",
              "</tr>\n",
              "<tr>\n",
              "  <th>Model:</th>                 <td>IV2SLS</td>      <th>  Adj. R-squared:    </th> <td>   0.459</td>\n",
              "</tr>\n",
              "<tr>\n",
              "  <th>Method:</th>               <td>Two Stage</td>    <th>  F-statistic:       </th> <td>   231.0</td>\n",
              "</tr>\n",
              "<tr>\n",
              "  <th></th>                    <td>Least Squares</td>  <th>  Prob (F-statistic):</th> <td>2.90e-67</td>\n",
              "</tr>\n",
              "<tr>\n",
              "  <th>Date:</th>             <td>Fri, 19 Jul 2024</td> <th>                     </th>     <td> </td>   \n",
              "</tr>\n",
              "<tr>\n",
              "  <th>Time:</th>                 <td>14:41:59</td>     <th>                     </th>     <td> </td>   \n",
              "</tr>\n",
              "<tr>\n",
              "  <th>No. Observations:</th>      <td>   400</td>      <th>                     </th>     <td> </td>   \n",
              "</tr>\n",
              "<tr>\n",
              "  <th>Df Residuals:</th>          <td>   397</td>      <th>                     </th>     <td> </td>   \n",
              "</tr>\n",
              "<tr>\n",
              "  <th>Df Model:</th>              <td>     2</td>      <th>                     </th>     <td> </td>   \n",
              "</tr>\n",
              "</table>\n",
              "<table class=\"simpletable\">\n",
              "<tr>\n",
              "       <td></td>          <th>coef</th>     <th>std err</th>      <th>t</th>      <th>P>|t|</th>  <th>[0.025</th>    <th>0.975]</th>  \n",
              "</tr>\n",
              "<tr>\n",
              "  <th>const</th>       <td>    0.0684</td> <td>    0.405</td> <td>    0.169</td> <td> 0.866</td> <td>   -0.727</td> <td>    0.864</td>\n",
              "</tr>\n",
              "<tr>\n",
              "  <th>price</th>       <td>   -0.7899</td> <td>    0.160</td> <td>   -4.946</td> <td> 0.000</td> <td>   -1.104</td> <td>   -0.476</td>\n",
              "</tr>\n",
              "<tr>\n",
              "  <th>Häagen-Dazs</th> <td>   -1.1724</td> <td>    0.056</td> <td>  -20.757</td> <td> 0.000</td> <td>   -1.283</td> <td>   -1.061</td>\n",
              "</tr>\n",
              "</table>\n",
              "<table class=\"simpletable\">\n",
              "<tr>\n",
              "  <th>Omnibus:</th>       <td> 2.045</td> <th>  Durbin-Watson:     </th> <td>   1.780</td>\n",
              "</tr>\n",
              "<tr>\n",
              "  <th>Prob(Omnibus):</th> <td> 0.360</td> <th>  Jarque-Bera (JB):  </th> <td>   1.858</td>\n",
              "</tr>\n",
              "<tr>\n",
              "  <th>Skew:</th>          <td> 0.162</td> <th>  Prob(JB):          </th> <td>   0.395</td>\n",
              "</tr>\n",
              "<tr>\n",
              "  <th>Kurtosis:</th>      <td> 3.083</td> <th>  Cond. No.          </th> <td>    20.0</td>\n",
              "</tr>\n",
              "</table>"
            ],
            "text/latex": "\\begin{center}\n\\begin{tabular}{lclc}\n\\toprule\n\\textbf{Dep. Variable:}    &        y         & \\textbf{  R-squared:         } &     0.462   \\\\\n\\textbf{Model:}            &      IV2SLS      & \\textbf{  Adj. R-squared:    } &     0.459   \\\\\n\\textbf{Method:}           &    Two Stage     & \\textbf{  F-statistic:       } &     231.0   \\\\\n\\textbf{}                  &  Least Squares   & \\textbf{  Prob (F-statistic):} &  2.90e-67   \\\\\n\\textbf{Date:}             & Fri, 19 Jul 2024 & \\textbf{                     } &             \\\\\n\\textbf{Time:}             &     14:41:59     & \\textbf{                     } &             \\\\\n\\textbf{No. Observations:} &         400      & \\textbf{                     } &             \\\\\n\\textbf{Df Residuals:}     &         397      & \\textbf{                     } &             \\\\\n\\textbf{Df Model:}         &           2      & \\textbf{                     } &             \\\\\n\\bottomrule\n\\end{tabular}\n\\begin{tabular}{lcccccc}\n                     & \\textbf{coef} & \\textbf{std err} & \\textbf{t} & \\textbf{P$> |$t$|$} & \\textbf{[0.025} & \\textbf{0.975]}  \\\\\n\\midrule\n\\textbf{const}       &       0.0684  &        0.405     &     0.169  &         0.866        &       -0.727    &        0.864     \\\\\n\\textbf{price}       &      -0.7899  &        0.160     &    -4.946  &         0.000        &       -1.104    &       -0.476     \\\\\n\\textbf{Häagen-Dazs} &      -1.1724  &        0.056     &   -20.757  &         0.000        &       -1.283    &       -1.061     \\\\\n\\bottomrule\n\\end{tabular}\n\\begin{tabular}{lclc}\n\\textbf{Omnibus:}       &  2.045 & \\textbf{  Durbin-Watson:     } &    1.780  \\\\\n\\textbf{Prob(Omnibus):} &  0.360 & \\textbf{  Jarque-Bera (JB):  } &    1.858  \\\\\n\\textbf{Skew:}          &  0.162 & \\textbf{  Prob(JB):          } &    0.395  \\\\\n\\textbf{Kurtosis:}      &  3.083 & \\textbf{  Cond. No.          } &     20.0  \\\\\n\\bottomrule\n\\end{tabular}\n%\\caption{IV2SLS Regression Results}\n\\end{center}"
          },
          "metadata": {},
          "execution_count": 56
        }
      ]
    },
    {
      "cell_type": "markdown",
      "source": [
        "Compare the OLS and 2SLS price coefficients. Which one has a larger magnitude?\n",
        "\n",
        "----"
      ],
      "metadata": {
        "id": "hQukDz7BOLV8"
      }
    },
    {
      "cell_type": "markdown",
      "source": [
        "**Estimated Marginal Costs**"
      ],
      "metadata": {
        "id": "5zJrHOD3hCeT"
      }
    },
    {
      "cell_type": "markdown",
      "source": [
        "Based on our estimates, we can back out the marginal costs of Häagen-Dazs' and Ben \\& Jerry's using the FOCs of their profit maximization problems."
      ],
      "metadata": {
        "id": "nfwHDydyhHXK"
      }
    },
    {
      "cell_type": "code",
      "source": [
        "C_hat = (data.groupby(['Häagen-Dazs'])['price'].mean() + 1/(alpha*(1-data.groupby(['Häagen-Dazs'])['s'].mean()))).to_numpy()\n",
        "print('The cost of supplying one unit of Häagen-Dazs ice-cream is', C_hat[0].round(2),'$.')\n",
        "print('The cost of supplying one unit of Ben & Jerry\\'s ice-cream is', C_hat[1].round(2),'$.')"
      ],
      "metadata": {
        "colab": {
          "base_uri": "https://localhost:8080/"
        },
        "id": "7mNY8doQhfMm",
        "outputId": "b21dbbb8-223d-48df-be68-723a5e673732"
      },
      "execution_count": null,
      "outputs": [
        {
          "output_type": "stream",
          "name": "stdout",
          "text": [
            "The cost of supplying one unit of Häagen-Dazs ice-cream is 1.08 $.\n",
            "The cost of supplying one unit of Ben & Jerry's ice-cream is 1.03 $.\n"
          ]
        }
      ]
    },
    {
      "cell_type": "markdown",
      "source": [],
      "metadata": {
        "id": "vYTmTUkyn08B"
      }
    },
    {
      "cell_type": "markdown",
      "source": [
        "**Counterfactual Equilibrium Computation**"
      ],
      "metadata": {
        "id": "oJONSer8cWQ8"
      }
    },
    {
      "cell_type": "markdown",
      "source": [
        "Suppose we want to find out how much Häagen-Dazs's profit would change if sold ice cream as good as Ben \\& Jerry's (i.e., if the Häagen-Dazs coefficient was zero) assuming its marginal cost did not change."
      ],
      "metadata": {
        "id": "thkRHwxkcgSD"
      }
    },
    {
      "cell_type": "markdown",
      "source": [
        "First, we calculate the variable profit using the data."
      ],
      "metadata": {
        "id": "tqdeIu3YqhJW"
      }
    },
    {
      "cell_type": "code",
      "source": [
        "pi_0 = ((data[data['Häagen-Dazs'] == 1]['sales'])*(data[data['Häagen-Dazs'] == 1]['price'] - C_hat[0])).sum()\n",
        "print('Häagen-Dazs\\'s variable profit in the current equilibrium are $',pi_0.astype(int),'.')"
      ],
      "metadata": {
        "colab": {
          "base_uri": "https://localhost:8080/"
        },
        "id": "8lr3jJ2hhBle",
        "outputId": "37cc6c82-15b4-4c17-c4bd-b5a680658376"
      },
      "execution_count": null,
      "outputs": [
        {
          "output_type": "stream",
          "name": "stdout",
          "text": [
            "Häagen-Dazs's variable profit in the current equilibrium are $ 2351 .\n"
          ]
        }
      ]
    },
    {
      "cell_type": "markdown",
      "source": [
        "To find the new prices (and market shares) we need to find the new Nash equilibrium. That is, we need to find the set of prices that satisfy firms' FOCs."
      ],
      "metadata": {
        "id": "i0LSogN8sILb"
      }
    },
    {
      "cell_type": "code",
      "source": [
        "def foc(P,C,params):\n",
        "    const,alpha,beta = params\n",
        "    return alpha*s(P,params)*(1-s(P,params))*(P-C) + s(P,params)"
      ],
      "metadata": {
        "id": "KeB1q_U3sTe5"
      },
      "execution_count": null,
      "outputs": []
    },
    {
      "cell_type": "markdown",
      "source": [
        "\n",
        "To calculate `foc` we have to write functions that calculate market shares (`s`) which in turn depend on the mean utilities (`V`).\n",
        "\n"
      ],
      "metadata": {
        "id": "DCNEJdT8tNRu"
      }
    },
    {
      "cell_type": "code",
      "source": [
        "def s(P,params):\n",
        "    return np.exp(V(P,params))/(1 + np.exp(V(P,params)))\n",
        "\n",
        "def V(P,params):\n",
        "    const,alpha,beta = params\n",
        "    return const + alpha*np.array(P) + beta*np.array([0,1])"
      ],
      "metadata": {
        "id": "S-SF9Baftx5e"
      },
      "execution_count": null,
      "outputs": []
    },
    {
      "cell_type": "markdown",
      "source": [
        "Let's use our 2SLS estimates (except that we set the Häagen-Dazs coefficient to zero) and the marginal costs that we have calculated to calculate the new prices `P_new`."
      ],
      "metadata": {
        "id": "nAwBw3QDuGW-"
      }
    },
    {
      "cell_type": "code",
      "source": [
        "res = optimize.root(foc,[0,0],args=(C_hat,[const,alpha,0]))\n",
        "print('Root found?',res.success)\n",
        "P_new = res.x\n",
        "s_new = s(P_new,[const,alpha,0])\n",
        "print('The new Häagen-Dazs unit price is $',round(P_new[0],2),', and the new Ben & Jerry\\'s unit price is $',round(P_new[1],2),'.')\n",
        "print('The new Häagen-Dazs market share is',round(100*s_new[0],0),'%. Ben & Jerry\\'s market share is',100*round(s_new[1],2),'%.')"
      ],
      "metadata": {
        "colab": {
          "base_uri": "https://localhost:8080/"
        },
        "id": "5bOAo0FOutQ3",
        "outputId": "7f6cdcdf-98d6-47a2-c697-53c4d60cd943"
      },
      "execution_count": null,
      "outputs": [
        {
          "output_type": "stream",
          "name": "stdout",
          "text": [
            "Root found? True\n",
            "The new Häagen-Dazs unit price is $ 2.53 , and the new Ben & Jerry's unit price is $ 2.49 .\n",
            "The new Häagen-Dazs market share is 13.0 %. Ben & Jerry's market share is 13.0 %.\n"
          ]
        }
      ]
    },
    {
      "cell_type": "markdown",
      "source": [
        "We find that the prices and market shares of Häagen-Dazs and Ben & Jerry's are roughly the same. Can you explain why?"
      ],
      "metadata": {
        "id": "qAakhg65wi_2"
      }
    },
    {
      "cell_type": "markdown",
      "source": [
        "Next, we calculate Häagen-Dazs new (variable) profit."
      ],
      "metadata": {
        "id": "yfi_MdW-xzr2"
      }
    },
    {
      "cell_type": "code",
      "source": [
        "pi_1 = (data[data['Häagen-Dazs'] == 1]['county size']*s_new[0]*(P_new[0] - C_hat[0])).sum()\n",
        "print('Häagen-Dazs\\'s variable profit in the new equilibrium are $',pi_1.astype(int),'.')\n",
        "print('Häagen-Dazs would benefit by $',(pi_1-pi_0).astype(int),' if its ice cream was as good as Ben \\& Jerry\\'s.')\n"
      ],
      "metadata": {
        "colab": {
          "base_uri": "https://localhost:8080/"
        },
        "id": "OvHT-xoUv1em",
        "outputId": "0e65d5d8-c999-43e9-8f8c-10d70a3eba7d"
      },
      "execution_count": null,
      "outputs": [
        {
          "output_type": "stream",
          "name": "stdout",
          "text": [
            "Häagen-Dazs's variable profit in the new equilibrium are $ 7321 .\n",
            "Häagen-Dazs would benefit by $ 4969  if its ice cream was as good as Ben \\& Jerry's.\n"
          ]
        }
      ]
    }
  ]
}