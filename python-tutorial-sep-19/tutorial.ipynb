{
  "cells": [
    {
      "cell_type": "markdown",
      "metadata": {
        "colab_type": "text",
        "id": "view-in-github"
      },
      "source": [
        "<a href=\"https://colab.research.google.com/github/floriandendorfer/demand-estimation/blob/main/python%20tutorial%20sep%2019/tutorial.ipynb\" target=\"_parent\"><img src=\"https://colab.research.google.com/assets/colab-badge.svg\" alt=\"Open In Colab\"/></a>"
      ]
    },
    {
      "cell_type": "markdown",
      "metadata": {
        "id": "KMwHr70IdY5V"
      },
      "source": [
        "### OUTLINE of Python tutorial for ECO 380:\n",
        "- We will start with a brief introduction of arithmetic operations and data structures\n",
        "- We will import the data set for Graded Problem Set 1 using the pandas library\n",
        "- We will do some simple data manipulation (e.g. calculate some means, standard deviations, basic OLS) so that you have the tools you need for your Graded Problem Sets.\n",
        "If you have any questions about the Graded Problem Set or the contents of this tutorial, I am here to help you during my office hours on Tuesdays, 10-11 am in GE 076."
      ]
    },
    {
      "cell_type": "markdown",
      "metadata": {
        "id": "uejRGGw5dY5X"
      },
      "source": [
        "### SECTION 1: INTRO TO PYTHON"
      ]
    },
    {
      "cell_type": "markdown",
      "metadata": {
        "id": "oRrbcheHdY5Y"
      },
      "source": [
        "#### BASIC ARITHMETIC OPERATIONS"
      ]
    },
    {
      "cell_type": "code",
      "execution_count": 1,
      "metadata": {
        "id": "0_cVPfKIdY5Y"
      },
      "outputs": [
        {
          "name": "stdout",
          "output_type": "stream",
          "text": [
            "The sum of a and b is 14\n",
            "The product of a and b is 24\n",
            "a to the power of b is 144\n",
            "a divided by b is 6.0\n"
          ]
        }
      ],
      "source": [
        "# Declare variables (Python is an object-based programming language)\n",
        "a = 12\n",
        "b = 2\n",
        "\n",
        "# print output\n",
        "print(\"The sum of a and b is\", a + b)\n",
        "print(\"The product of a and b is\", a*b)\n",
        "print(\"a to the power of b is\", a**b) # exponentiation represented by double * symbol: **\n",
        "print(\"a divided by b is\", a/b)"
      ]
    },
    {
      "cell_type": "markdown",
      "metadata": {
        "id": "ac1LOiyZdY5a"
      },
      "source": [
        "#### DATA STRUCTURES:\n",
        "- **Lists** are ordered, mutable (modifiable) collections. You might create a list when you need a collection of items where the order matters but you might want to update some values in the list.\n",
        "- **Tuples** are ordered but immutable (unmodifiable) collections. You should use tuples when you want to ensure the data cannot be modified after creation (e.g. useful for vector/matrix operations)\n",
        "- **Dictionaries**, which we will not have time to cover in this tutorial, but these are useful when you want to map names to numbers, or when you want to store information that can be looked up using an identifier key."
      ]
    },
    {
      "cell_type": "markdown",
      "metadata": {
        "id": "uQ1sl9gkdY5a"
      },
      "source": [
        "#### 1. LISTS"
      ]
    },
    {
      "cell_type": "code",
      "execution_count": 2,
      "metadata": {
        "id": "kFWdHBwidY5a"
      },
      "outputs": [
        {
          "name": "stdout",
          "output_type": "stream",
          "text": [
            "Original list: [1, 2, 3, 4, 5]\n",
            "Extract first element of list: 1\n",
            "Updated list after appending a 6th element: [1, 2, 3, 4, 5, 6]\n"
          ]
        }
      ],
      "source": [
        "list = [1, 2, 3, 4, 5]\n",
        "\n",
        "# Print original list\n",
        "print(\"Original list:\", list)\n",
        "\n",
        "# Access elements in the list using index. Note: python indices begin at 0!\n",
        "print(\"Extract first element of list:\", list[0])\n",
        "\n",
        "# Add element to list to show how lists are mutable\n",
        "list.append(6)\n",
        "print(\"Updated list after appending a 6th element:\", list)"
      ]
    },
    {
      "cell_type": "code",
      "execution_count": null,
      "metadata": {
        "id": "WQcQV6ehdY5a"
      },
      "outputs": [],
      "source": [
        "# Remove element from list by value\n",
        "list.remove(3)\n",
        "print(\"Remove element with value 3 from list:\", list)\n",
        "\n",
        "# pop vs. del:\n",
        "del list[2] # remember: third position is indexed using a 2 because indexing starts at 0 in python\n",
        "print(\"Remove element in third position using del:\", list)\n",
        "\n",
        "popped_value = list.pop(2)\n",
        "print(\"Remove element in third position using pop:\", list)\n",
        "print(\"Popped element, which is currently stored in the variable popped_value:\", popped_value)"
      ]
    },
    {
      "cell_type": "markdown",
      "metadata": {
        "id": "qn-XW8dIdY5a"
      },
      "source": [
        "#### 2. TUPLES (+ introducing for loops)"
      ]
    },
    {
      "cell_type": "code",
      "execution_count": null,
      "metadata": {
        "id": "YnHIFRHrdY5b"
      },
      "outputs": [],
      "source": [
        "tuple1 = (1, 2, 3)\n",
        "tuple2 = (4, 5, 6)\n",
        "tuple3 = (7, 8, 9)\n",
        "\n",
        "# Idea: I want to pull the first element of each tuple, but since I have 3 of them, it will be easier for me to print\n",
        "# by iterating through a list of my tuples\n",
        "\n",
        "tuples = [tuple1, tuple2, tuple3] # creates a list of tuples\n",
        "\n",
        "for i, t in enumerate(tuples): # i is the index number of the tuple we are currently operating on, while t is a placeholder for the variable name `tuplex`\n",
        "    print(f\"First element of tuple{i+1}: {t[0]}\") # Issue print statement using an `f-string`, which just allows us to make print statements in a more dynamic way\n"
      ]
    },
    {
      "cell_type": "markdown",
      "metadata": {
        "id": "Db0f790vdY5b"
      },
      "source": [
        "##### Detailed breakdown of the for loop:\n",
        "\n",
        "1. **`enumerate(tuples)`**:\n",
        "    * `enumerate()` is a built-in Python function that allows you to loop over an iterable (in this case, the list `tuples`), while keeping track of the index of each item.\n",
        "    * `tuples` is a list containing `tuple1` `tuple2` and `tuple3`. The `enumerate()` function will return pairs of an index and the tuple at that index.\n",
        "    * For example, in the first iteration, `i = 0` and `t = tuple1`, and in the second iteration, `i = 1` and `t = tuple2`.\n",
        "\n",
        "2. **`i, t`**:\n",
        "    * `i` is the index of the current item in the list `tuples`. It starts at `0` for the first item, `1` for the second, and so on.\n",
        "    * `t` is the current tuple itself from the list `tuples` (e.g., `tuple1` in the first iteration, `tuple2` in the second).\n",
        "\n",
        "3. **`f\"First element of tuple{i+1}: {t[0]}\"`**:\n",
        "    * This is an **f-string**, which allows you to embed expressions inside curly braces `{}` and have them evaluated within the string.\n",
        "    * `i+1`: Since `i` starts from `0`, we add `1` to display the tuple number starting from `1` (so it prints \"tuple1\", \"tuple2\", etc.).\n",
        "    * `t[0]`: This accesses the first element of the current tuple `t`. For example, `t[0]` would be `10` for `tuple1` and `40` for `tuple2`.\n",
        "\n",
        "* **First iteration:**\n",
        "    * `i = 0`, `t = tuple1 = (1, 2, 3)`\n",
        "    * `print(f\"First element of tuple1: {t[0]}\")` → `\"First element of tuple1: 10\"`\n",
        "\n",
        "* **Second iteration:**\n",
        "    * `i = 1`, `t = tuple2 = (4, 5, 6)`\n",
        "    * `print(f\"First element of tuple2: {t[0]}\")` → `\"First element of tuple2: 4\"`\n",
        "\n",
        "... and so on."
      ]
    },
    {
      "cell_type": "markdown",
      "metadata": {
        "id": "eRuBn473dY5c"
      },
      "source": [
        "#### VECTOR AND MATRIX OPERATIONS"
      ]
    },
    {
      "cell_type": "markdown",
      "metadata": {
        "id": "au7AM4nTdY5c"
      },
      "source": [
        "Easiest way to perform more complicated mathematical operations is using a library such as `numpy` with built-in methods designed for this purpose."
      ]
    },
    {
      "cell_type": "code",
      "execution_count": 5,
      "metadata": {
        "id": "IJAzmIPNdY5c"
      },
      "outputs": [],
      "source": [
        "# Load numpy library\n",
        "import numpy as np # usually libraries are loaded as the first line of a script"
      ]
    },
    {
      "cell_type": "markdown",
      "metadata": {
        "id": "xej-kaOSdY5c"
      },
      "source": [
        "Below are some examples of vector and matrix operations using python:"
      ]
    },
    {
      "cell_type": "code",
      "execution_count": null,
      "metadata": {
        "id": "xDnj2EXpdY5c"
      },
      "outputs": [],
      "source": [
        "# Element-by-element addition\n",
        "# convert tuples to numpy array:\n",
        "vec1 = np.array(tuple1)\n",
        "vec2 = np.array(tuple2)\n",
        "vec3 = np.array(tuple3)\n",
        "vec_sum = np.add(vec1, vec2)\n",
        "\n",
        "print(\"Element-by-element addition of [1, 2, 3] and [4, 5, 6] is:\", vec_sum)"
      ]
    },
    {
      "cell_type": "code",
      "execution_count": null,
      "metadata": {
        "id": "raidE6U-dY5c"
      },
      "outputs": [],
      "source": [
        "# Element-by-element multiplication\n",
        "vec_hadamard = vec1 * vec2\n",
        "print(\"Element-by-element multiplication of [1, 2, 3] and [4, 5, 6] is:\", vec_hadamard)\n",
        "\n",
        "# Dot product\n",
        "vec_dot = np.dot(vec1, vec2)\n",
        "print(\"Dot product is:\", vec_dot)"
      ]
    },
    {
      "cell_type": "markdown",
      "metadata": {
        "id": "F9Url33kdY5d"
      },
      "source": [
        "Creating matrices from vectors:"
      ]
    },
    {
      "cell_type": "code",
      "execution_count": null,
      "metadata": {
        "id": "hw1N3ksmdY5d"
      },
      "outputs": [],
      "source": [
        "# Create matrix by binding row vectors together\n",
        "matrix = np.array([vec1, vec2, vec3])\n",
        "print(\"3x3 matrix of row-bound vectors\")\n",
        "print(matrix)\n",
        "\n",
        "# Create a matrix by stacking the row vectors and then transpose (column bind)\n",
        "matrix2 = np.array([vec1, vec2, vec3]).T\n",
        "print(\"3x3 matrix of column-bound vectors using transpose operation\")\n",
        "print(matrix2)\n",
        "\n",
        "# Another way to column bind:\n",
        "matrix3 = np.column_stack((vec1, vec2, vec3))\n",
        "print(\"3x3 matrix of row-bound vectors using column stack method in numpy\")\n",
        "print(matrix3)"
      ]
    },
    {
      "cell_type": "markdown",
      "metadata": {
        "id": "Btp0DZMkdY5d"
      },
      "source": [
        "Example of matrix multiplication using `@` operator"
      ]
    },
    {
      "cell_type": "code",
      "execution_count": null,
      "metadata": {
        "id": "WCK90KQxdY5d"
      },
      "outputs": [],
      "source": [
        "# Multiply 3x3 matrix with 3x1 vector should return 3x1 vector\n",
        "matx = matrix @ vec1\n",
        "print(\"Row-bound matrix multiplied with vec1:\", matx)\n",
        "\n",
        "# Multiply two 3x3 matrices to get a 3x3 matrix\n",
        "matx2 = matrix @ matrix2\n",
        "print(\"Row-bound matrix multiplied with column-bound matrix:\")\n",
        "print(matx2)"
      ]
    },
    {
      "cell_type": "markdown",
      "metadata": {
        "id": "vwLxArUZdY5d"
      },
      "source": [
        "### SECTION 2: DATA ANALYSIS\n",
        "\n",
        "To import a CSV file in a Jupyter Notebook using Python, you can use the `pandas` library, which provides a convenient way to read CSV files into a DataFrame."
      ]
    },
    {
      "cell_type": "code",
      "execution_count": 3,
      "metadata": {
        "id": "3Qly1ge6dY5d"
      },
      "outputs": [],
      "source": [
        "# Load pandas library\n",
        "import pandas as pd\n",
        "\n",
        "# alternatively, uncomment the next line to use the `numpy` library instead\n",
        "# import numpy as np"
      ]
    },
    {
      "cell_type": "code",
      "execution_count": 4,
      "metadata": {
        "id": "25r7urpwdY5e"
      },
      "outputs": [
        {
          "name": "stdout",
          "output_type": "stream",
          "text": [
            "Cloning into 'demand-estimation-clone'...\n",
            "remote: Enumerating objects: 96, done.\u001b[K\n",
            "remote: Counting objects: 100% (96/96), done.\u001b[K\n",
            "remote: Compressing objects: 100% (88/88), done.\u001b[K\n",
            "remote: Total 96 (delta 31), reused 29 (delta 5), pack-reused 0 (from 0)\u001b[K\n",
            "Receiving objects: 100% (96/96), 125.29 KiB | 833.00 KiB/s, done.\n",
            "Resolving deltas: 100% (31/31), done.\n"
          ]
        }
      ],
      "source": [
        "# Import GPS1_data.csv for GPS question 4\n",
        "!git clone https://github.com/floriandendorfer/demand-estimation.git demand-estimation-clone"
      ]
    },
    {
      "cell_type": "code",
      "execution_count": 5,
      "metadata": {},
      "outputs": [
        {
          "data": {
            "text/html": [
              "<div>\n",
              "<style scoped>\n",
              "    .dataframe tbody tr th:only-of-type {\n",
              "        vertical-align: middle;\n",
              "    }\n",
              "\n",
              "    .dataframe tbody tr th {\n",
              "        vertical-align: top;\n",
              "    }\n",
              "\n",
              "    .dataframe thead th {\n",
              "        text-align: right;\n",
              "    }\n",
              "</style>\n",
              "<table border=\"1\" class=\"dataframe\">\n",
              "  <thead>\n",
              "    <tr style=\"text-align: right;\">\n",
              "      <th></th>\n",
              "      <th>month</th>\n",
              "      <th>product</th>\n",
              "      <th>price</th>\n",
              "      <th>sales</th>\n",
              "    </tr>\n",
              "  </thead>\n",
              "  <tbody>\n",
              "    <tr>\n",
              "      <th>0</th>\n",
              "      <td>1</td>\n",
              "      <td>1</td>\n",
              "      <td>5.51</td>\n",
              "      <td>32</td>\n",
              "    </tr>\n",
              "    <tr>\n",
              "      <th>1</th>\n",
              "      <td>1</td>\n",
              "      <td>2</td>\n",
              "      <td>6.48</td>\n",
              "      <td>36</td>\n",
              "    </tr>\n",
              "    <tr>\n",
              "      <th>2</th>\n",
              "      <td>2</td>\n",
              "      <td>1</td>\n",
              "      <td>8.83</td>\n",
              "      <td>26</td>\n",
              "    </tr>\n",
              "    <tr>\n",
              "      <th>3</th>\n",
              "      <td>2</td>\n",
              "      <td>2</td>\n",
              "      <td>7.66</td>\n",
              "      <td>38</td>\n",
              "    </tr>\n",
              "    <tr>\n",
              "      <th>4</th>\n",
              "      <td>3</td>\n",
              "      <td>1</td>\n",
              "      <td>5.90</td>\n",
              "      <td>33</td>\n",
              "    </tr>\n",
              "    <tr>\n",
              "      <th>5</th>\n",
              "      <td>3</td>\n",
              "      <td>2</td>\n",
              "      <td>4.70</td>\n",
              "      <td>44</td>\n",
              "    </tr>\n",
              "    <tr>\n",
              "      <th>6</th>\n",
              "      <td>4</td>\n",
              "      <td>1</td>\n",
              "      <td>8.33</td>\n",
              "      <td>18</td>\n",
              "    </tr>\n",
              "    <tr>\n",
              "      <th>7</th>\n",
              "      <td>4</td>\n",
              "      <td>2</td>\n",
              "      <td>8.53</td>\n",
              "      <td>34</td>\n",
              "    </tr>\n",
              "    <tr>\n",
              "      <th>8</th>\n",
              "      <td>5</td>\n",
              "      <td>1</td>\n",
              "      <td>7.24</td>\n",
              "      <td>43</td>\n",
              "    </tr>\n",
              "    <tr>\n",
              "      <th>9</th>\n",
              "      <td>5</td>\n",
              "      <td>2</td>\n",
              "      <td>9.28</td>\n",
              "      <td>22</td>\n",
              "    </tr>\n",
              "  </tbody>\n",
              "</table>\n",
              "</div>"
            ],
            "text/plain": [
              "   month  product  price  sales\n",
              "0      1        1   5.51     32\n",
              "1      1        2   6.48     36\n",
              "2      2        1   8.83     26\n",
              "3      2        2   7.66     38\n",
              "4      3        1   5.90     33\n",
              "5      3        2   4.70     44\n",
              "6      4        1   8.33     18\n",
              "7      4        2   8.53     34\n",
              "8      5        1   7.24     43\n",
              "9      5        2   9.28     22"
            ]
          },
          "execution_count": 5,
          "metadata": {},
          "output_type": "execute_result"
        }
      ],
      "source": [
        "mktdata = pd.read_csv('demand-estimation-clone/python-tutorial-sep-19/GPS1_data.csv',index_col=0) # load csv file from github repo\n",
        "mktdata.head(10) # preview first 10 lines of the dataset"
      ]
    },
    {
      "cell_type": "markdown",
      "metadata": {
        "id": "4CWn2RBddY5e"
      },
      "source": [
        "The `help()` function can be used to get detailed information about functions, methods, classes and modules. You can pass any Python object to the help() function to get documentation."
      ]
    },
    {
      "cell_type": "code",
      "execution_count": 6,
      "metadata": {
        "id": "QyEyWQOMdY5e"
      },
      "outputs": [
        {
          "name": "stdout",
          "output_type": "stream",
          "text": [
            "Help on method head in module pandas.core.generic:\n",
            "\n",
            "head(n: 'int' = 5) -> 'Self' method of pandas.core.frame.DataFrame instance\n",
            "    Return the first `n` rows.\n",
            "    \n",
            "    This function returns the first `n` rows for the object based\n",
            "    on position. It is useful for quickly testing if your object\n",
            "    has the right type of data in it.\n",
            "    \n",
            "    For negative values of `n`, this function returns all rows except\n",
            "    the last `|n|` rows, equivalent to ``df[:n]``.\n",
            "    \n",
            "    If n is larger than the number of rows, this function returns all rows.\n",
            "    \n",
            "    Parameters\n",
            "    ----------\n",
            "    n : int, default 5\n",
            "        Number of rows to select.\n",
            "    \n",
            "    Returns\n",
            "    -------\n",
            "    same type as caller\n",
            "        The first `n` rows of the caller object.\n",
            "    \n",
            "    See Also\n",
            "    --------\n",
            "    DataFrame.tail: Returns the last `n` rows.\n",
            "    \n",
            "    Examples\n",
            "    --------\n",
            "    >>> df = pd.DataFrame({'animal': ['alligator', 'bee', 'falcon', 'lion',\n",
            "    ...                    'monkey', 'parrot', 'shark', 'whale', 'zebra']})\n",
            "    >>> df\n",
            "          animal\n",
            "    0  alligator\n",
            "    1        bee\n",
            "    2     falcon\n",
            "    3       lion\n",
            "    4     monkey\n",
            "    5     parrot\n",
            "    6      shark\n",
            "    7      whale\n",
            "    8      zebra\n",
            "    \n",
            "    Viewing the first 5 lines\n",
            "    \n",
            "    >>> df.head()\n",
            "          animal\n",
            "    0  alligator\n",
            "    1        bee\n",
            "    2     falcon\n",
            "    3       lion\n",
            "    4     monkey\n",
            "    \n",
            "    Viewing the first `n` lines (three in this case)\n",
            "    \n",
            "    >>> df.head(3)\n",
            "          animal\n",
            "    0  alligator\n",
            "    1        bee\n",
            "    2     falcon\n",
            "    \n",
            "    For negative values of `n`\n",
            "    \n",
            "    >>> df.head(-3)\n",
            "          animal\n",
            "    0  alligator\n",
            "    1        bee\n",
            "    2     falcon\n",
            "    3       lion\n",
            "    4     monkey\n",
            "    5     parrot\n",
            "\n"
          ]
        }
      ],
      "source": [
        "# Call `help` function\n",
        "help(mktdata.head)"
      ]
    },
    {
      "cell_type": "markdown",
      "metadata": {
        "id": "G51zPnoudY5e"
      },
      "source": [
        "Let's calculate some basic summary statistics for each of the columns in our dataframe. The easiest way is to use the `.describe()` method from the `pandas` library to quickly summarize the distribution of each of the variables in our dataframe:"
      ]
    },
    {
      "cell_type": "code",
      "execution_count": null,
      "metadata": {
        "id": "jq6qxICsdY5e"
      },
      "outputs": [],
      "source": [
        "# Summarize data using describe() method\n",
        "summary_mktdata = mktdata.describe()\n",
        "print(\"\\nSummary statistics:\")\n",
        "print(summary_mktdata)"
      ]
    },
    {
      "cell_type": "markdown",
      "metadata": {
        "id": "5TM4X4NRdY5e"
      },
      "source": [
        "But if you want you can also compute summary statistics manually:"
      ]
    },
    {
      "cell_type": "code",
      "execution_count": 7,
      "metadata": {
        "id": "dWlwmqlKdY5f"
      },
      "outputs": [
        {
          "name": "stdout",
          "output_type": "stream",
          "text": [
            "Mean price is: 7.38\n",
            "Standard deviation of price is: 1.511\n",
            "Median price is: 7.25\n"
          ]
        }
      ],
      "source": [
        "# Compute mean price\n",
        "mean_price = mktdata['price'].mean()\n",
        "print(\"Mean price is:\", round(mean_price, 3))\n",
        "# print(\"Mean price is:\", mean_price.round(3) )\n",
        "\n",
        "# Compute standard deviation of price\n",
        "std_price = mktdata['price'].std()\n",
        "print(\"Standard deviation of price is:\", round(std_price,3))\n",
        "\n",
        "# Compute median (50%)\n",
        "med_price = mktdata['price'].median()\n",
        "print(\"Median price is:\", med_price.round(3))"
      ]
    },
    {
      "cell_type": "code",
      "execution_count": null,
      "metadata": {
        "id": "YNnW7h47dY5f"
      },
      "outputs": [],
      "source": [
        "# Is this the same as what we found before?\n",
        "\n",
        "issame_mean = summary_mktdata.loc['mean','price'].round(3) == mean_price.round(3)\n",
        "print(\"The means that we found using both methods are the same:\", issame_mean)\n",
        "\n",
        "issame_std = summary_mktdata.loc['std','price'].round(3) == std_price.round(3)\n",
        "print(\"The standard deviations that we calculated are the same:\", issame_std)\n",
        "\n",
        "issame_med = summary_mktdata.loc['50%','price'].round(3) == med_price.round(3)\n",
        "print(\"The medians that we calculated are the same:\", issame_med)\n"
      ]
    },
    {
      "cell_type": "markdown",
      "metadata": {
        "id": "a4r0dEhqdY5f"
      },
      "source": [
        "Let's learn to run a regression in python. To do this, you will need a statistical modelling package like `statsmodels.api`.\n",
        "If you don't already have statsmodels.api installed, you can create a new cell in your Jupyter Notebook and use the `%` operator to run the shell command `%pip install statsmodels` directly from your notebook (alternatively, you can open a terminal window and run `pip install statsmodels` without the `%`)."
      ]
    },
    {
      "cell_type": "code",
      "execution_count": null,
      "metadata": {
        "id": "6QhJJttXdY5f"
      },
      "outputs": [],
      "source": [
        "%pip install statsmodels"
      ]
    },
    {
      "cell_type": "code",
      "execution_count": 18,
      "metadata": {
        "id": "Qq9-sS8idY5f"
      },
      "outputs": [],
      "source": [
        "# Load statsmodels library\n",
        "import statsmodels.api as sm"
      ]
    },
    {
      "cell_type": "code",
      "execution_count": null,
      "metadata": {
        "id": "qv1uFnBWdY5g"
      },
      "outputs": [],
      "source": [
        "X = mktdata['price'] # Independent variable\n",
        "y = mktdata['sales'] # Dependent variable\n",
        "\n",
        "X = sm.add_constant(X) # Add constant to the regression model (intercept)\n",
        "\n",
        "model = sm.OLS(y, X).fit() # Fit the regression model\n",
        "\n",
        "# Print model summary\n",
        "print(model.summary())\n",
        "\n"
      ]
    },
    {
      "cell_type": "markdown",
      "metadata": {
        "id": "pGJbROdtdY5g"
      },
      "source": [
        "You may want to export this table as LaTeX code that you can copy and paste into your LaTeX editor when delivering your solutions for the problem set:"
      ]
    },
    {
      "cell_type": "code",
      "execution_count": null,
      "metadata": {
        "id": "BQd4IE9rdY5g"
      },
      "outputs": [],
      "source": [
        "# Generate LaTeX code from the summary of the regression\n",
        "output = model.summary2().as_latex()\n",
        "\n",
        "print(output)"
      ]
    }
  ],
  "metadata": {
    "colab": {
      "include_colab_link": true,
      "provenance": []
    },
    "kernelspec": {
      "display_name": "Python 3",
      "language": "python",
      "name": "python3"
    },
    "language_info": {
      "codemirror_mode": {
        "name": "ipython",
        "version": 3
      },
      "file_extension": ".py",
      "mimetype": "text/x-python",
      "name": "python",
      "nbconvert_exporter": "python",
      "pygments_lexer": "ipython3",
      "version": "3.11.7"
    }
  },
  "nbformat": 4,
  "nbformat_minor": 0
}
