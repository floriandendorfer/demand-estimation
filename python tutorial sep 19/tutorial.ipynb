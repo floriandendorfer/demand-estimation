{
 "cells": [
  {
   "cell_type": "markdown",
   "metadata": {},
   "source": [
    "### OUTLINE of Python tutorial for ECO 380: \n",
    "- We will start with a brief introduction of arithmetic operations and data structures\n",
    "- We will import the data set for Graded Problem Set 1 using the pandas library\n",
    "- We will do some simple data manipulation (e.g. calculate some means, standard deviations, basic OLS) so that you have the tools you need for your Graded Problem Sets. \n",
    "If you have any questions about the Graded Problem Set or the contents of this tutorial, I am here to help you during my office hours on Tuesdays, 10-11 am in GE 076. "
   ]
  },
  {
   "cell_type": "markdown",
   "metadata": {},
   "source": [
    "### SECTION 1: INTRO TO PYTHON"
   ]
  },
  {
   "cell_type": "markdown",
   "metadata": {},
   "source": [
    "#### BASIC ARITHMETIC OPERATIONS"
   ]
  },
  {
   "cell_type": "code",
   "execution_count": 13,
   "metadata": {},
   "outputs": [
    {
     "name": "stdout",
     "output_type": "stream",
     "text": [
      "The sum of a and b is 14\n",
      "The product of a and b is 24\n",
      "a to the power of b is 144\n",
      "a divided by b is 6.0\n"
     ]
    }
   ],
   "source": [
    "# Declare variables (Python is an object-based programming language)\n",
    "a = 12\n",
    "b = 2\n",
    "\n",
    "# print output\n",
    "print(\"The sum of a and b is\", a + b)\n",
    "print(\"The product of a and b is\", a*b) \n",
    "print(\"a to the power of b is\", a**b) # exponentiation represented by double * symbol: **\n",
    "print(\"a divided by b is\", a/b)"
   ]
  },
  {
   "cell_type": "markdown",
   "metadata": {},
   "source": [
    "#### DATA STRUCTURES: \n",
    "- **Lists** are ordered, mutable (modifiable) collections. You might create a list when you need a collection of items where the order matters but you might want to update some values in the list. \n",
    "- **Tuples** are ordered but immutable (unmodifiable) collections. You should use tuples when you want to ensure the data cannot be modified after creation (e.g. useful for vector/matrix operations)\n",
    "- **Dictionaries**, which we will not have time to cover in this tutorial, but these are useful when you want to map names to numbers, or when you want to store information that can be looked up using an identifier key. "
   ]
  },
  {
   "cell_type": "markdown",
   "metadata": {},
   "source": [
    "#### 1. LISTS "
   ]
  },
  {
   "cell_type": "code",
   "execution_count": 24,
   "metadata": {},
   "outputs": [
    {
     "name": "stdout",
     "output_type": "stream",
     "text": [
      "Original list: [1, 2, 3, 4, 5]\n",
      "Extract first element of list: 1\n",
      "Updated list after appending a 6th element: [1, 2, 3, 4, 5, 6]\n"
     ]
    }
   ],
   "source": [
    "list = [1, 2, 3, 4, 5]\n",
    "\n",
    "# Print original list\n",
    "print(\"Original list:\", list)\n",
    "\n",
    "# Access elements in the list using index. Note: python indices begin at 0!\n",
    "print(\"Extract first element of list:\", list[0]) \n",
    "\n",
    "# Add element to list to show how lists are mutable\n",
    "list.append(6)\n",
    "print(\"Updated list after appending a 6th element:\", list)"
   ]
  },
  {
   "cell_type": "code",
   "execution_count": 25,
   "metadata": {},
   "outputs": [
    {
     "name": "stdout",
     "output_type": "stream",
     "text": [
      "Remove element with value 3 from list: [1, 2, 4, 5, 6]\n",
      "Remove element in third position using del: [1, 2, 5, 6]\n",
      "Remove element in third position using pop: [1, 2, 6]\n",
      "Popped element, which is currently stored in the variable popped_value: 5\n"
     ]
    }
   ],
   "source": [
    "# Remove element from list by value\n",
    "list.remove(3)\n",
    "print(\"Remove element with value 3 from list:\", list)\n",
    "\n",
    "# pop vs. del: \n",
    "del list[2] # remember: third position is indexed using a 2 because indexing starts at 0 in python\n",
    "print(\"Remove element in third position using del:\", list)\n",
    "\n",
    "popped_value = list.pop(2)\n",
    "print(\"Remove element in third position using pop:\", list)\n",
    "print(\"Popped element, which is currently stored in the variable popped_value:\", popped_value)"
   ]
  },
  {
   "cell_type": "markdown",
   "metadata": {},
   "source": [
    "#### 2. TUPLES (+ introducing for loops)"
   ]
  },
  {
   "cell_type": "code",
   "execution_count": 27,
   "metadata": {},
   "outputs": [
    {
     "name": "stdout",
     "output_type": "stream",
     "text": [
      "First element of tuple1: 1\n",
      "First element of tuple2: 4\n",
      "First element of tuple3: 7\n"
     ]
    }
   ],
   "source": [
    "tuple1 = (1, 2, 3)\n",
    "tuple2 = (4, 5, 6)\n",
    "tuple3 = (7, 8, 9)\n",
    "\n",
    "# Idea: I want to pull the first element of each tuple, but since I have 3 of them, it will be easier for me to print\n",
    "# by iterating through a list of my tuples\n",
    "\n",
    "tuples = [tuple1, tuple2, tuple3] # creates a list of tuples\n",
    "\n",
    "for i, t in enumerate(tuples): # i is the index number of the tuple we are currently operating on, while t is a placeholder for the variable name `tuplex`\n",
    "    print(f\"First element of tuple{i+1}: {t[0]}\") # Issue print statement using an `f-string`, which just allows us to make print statements in a more dynamic way\n",
    "     "
   ]
  },
  {
   "cell_type": "markdown",
   "metadata": {},
   "source": [
    "##### Detailed breakdown of the for loop:\n",
    "\n",
    "1. **`enumerate(tuples)`**:\n",
    "    * `enumerate()` is a built-in Python function that allows you to loop over an iterable (in this case, the list `tuples`), while keeping track of the index of each item.\n",
    "    * `tuples` is a list containing `tuple1` and `tuple2`. The `enumerate()` function will return pairs of an index and the tuple at that index.\n",
    "    * For example, in the first iteration, `i = 0` and `t = tuple1`, and in the second iteration, `i = 1` and `t = tuple2`.\n",
    "\n",
    "2. **`i, t`**:\n",
    "    * `i` is the index of the current item in the list `tuples`. It starts at `0` for the first item, `1` for the second, and so on.\n",
    "    * `t` is the current tuple itself from the list `tuples` (e.g., `tuple1` in the first iteration, `tuple2` in the second).\n",
    "\n",
    "3. **`f\"First element of tuple{i+1}: {t[0]}\"`**:\n",
    "    * This is an **f-string**, which allows you to embed expressions inside curly braces `{}` and have them evaluated within the string.\n",
    "    * `i+1`: Since `i` starts from `0`, we add `1` to display the tuple number starting from `1` (so it prints \"tuple1\", \"tuple2\", etc.).\n",
    "    * `t[0]`: This accesses the first element of the current tuple `t`. For example, `t[0]` would be `10` for `tuple1` and `40` for `tuple2`.\n",
    "\n",
    "* **First iteration:**\n",
    "    * `i = 0`, `t = tuple1 = (1, 2, 3)`\n",
    "    * `print(f\"First element of tuple1: {t[0]}\")` → `\"First element of tuple1: 10\"`\n",
    "\n",
    "* **Second iteration:**\n",
    "    * `i = 1`, `t = tuple2 = (4, 5, 6)`\n",
    "    * `print(f\"First element of tuple2: {t[0]}\")` → `\"First element of tuple2: 4\"`\n",
    "\n",
    "... and so on."
   ]
  },
  {
   "cell_type": "markdown",
   "metadata": {},
   "source": [
    "#### VECTOR AND MATRIX OPERATIONS"
   ]
  },
  {
   "cell_type": "markdown",
   "metadata": {},
   "source": [
    "Easiest way to perform more complicated mathematical operations is using a library such as `numpy` with built-in methods designed for this purpose. "
   ]
  },
  {
   "cell_type": "code",
   "execution_count": 29,
   "metadata": {},
   "outputs": [],
   "source": [
    "# Load numpy library\n",
    "import numpy as np # usually libraries are loaded as the first line of a script"
   ]
  },
  {
   "cell_type": "markdown",
   "metadata": {},
   "source": [
    "Below are some examples of vector and matrix operations using python:"
   ]
  },
  {
   "cell_type": "code",
   "execution_count": 36,
   "metadata": {},
   "outputs": [
    {
     "name": "stdout",
     "output_type": "stream",
     "text": [
      "Element-by-element addition of [1, 2, 3] and [4, 5, 6] is: [5 7 9]\n"
     ]
    }
   ],
   "source": [
    "# Element-by-element addition\n",
    "# convert tuples to numpy array:\n",
    "vec1 = np.array(tuple1)\n",
    "vec2 = np.array(tuple2)\n",
    "vec3 = np.array(tuple3)\n",
    "vec_sum = np.add(vec1, vec2)\n",
    "\n",
    "print(\"Element-by-element addition of [1, 2, 3] and [4, 5, 6] is:\", vec_sum)"
   ]
  },
  {
   "cell_type": "code",
   "execution_count": 38,
   "metadata": {},
   "outputs": [
    {
     "name": "stdout",
     "output_type": "stream",
     "text": [
      "Element-by-element multiplication of [1, 2, 3] and [4, 5, 6] is: [ 4 10 18]\n",
      "Dot product is: 32\n"
     ]
    }
   ],
   "source": [
    "# Element-by-element multiplication \n",
    "vec_hadamard = vec1 * vec2\n",
    "print(\"Element-by-element multiplication of [1, 2, 3] and [4, 5, 6] is:\", vec_hadamard)\n",
    "\n",
    "# Dot product \n",
    "vec_dot = np.dot(vec1, vec2)\n",
    "print(\"Dot product is:\", vec_dot)"
   ]
  },
  {
   "cell_type": "markdown",
   "metadata": {},
   "source": [
    "Creating matrices from vectors:"
   ]
  },
  {
   "cell_type": "code",
   "execution_count": 40,
   "metadata": {},
   "outputs": [
    {
     "name": "stdout",
     "output_type": "stream",
     "text": [
      "3x3 matrix of row-bound vectors\n",
      "[[1 2 3]\n",
      " [4 5 6]\n",
      " [7 8 9]]\n",
      "3x3 matrix of column-bound vectors using transpose operation\n",
      "[[1 4 7]\n",
      " [2 5 8]\n",
      " [3 6 9]]\n",
      "3x3 matrix of row-bound vectors using column stack method in numpy\n",
      "[[1 4 7]\n",
      " [2 5 8]\n",
      " [3 6 9]]\n"
     ]
    }
   ],
   "source": [
    "# Create matrix by binding row vectors together\n",
    "matrix = np.array([vec1, vec2, vec3])\n",
    "print(\"3x3 matrix of row-bound vectors\")\n",
    "print(matrix)\n",
    "\n",
    "# Create a matrix by stacking the row vectors and then transpose (column bind)\n",
    "matrix2 = np.array([vec1, vec2, vec3]).T\n",
    "print(\"3x3 matrix of column-bound vectors using transpose operation\")\n",
    "print(matrix2)\n",
    "\n",
    "# Another way to column bind: \n",
    "matrix3 = np.column_stack((vec1, vec2, vec3))\n",
    "print(\"3x3 matrix of row-bound vectors using column stack method in numpy\")\n",
    "print(matrix3)"
   ]
  },
  {
   "cell_type": "markdown",
   "metadata": {},
   "source": [
    "Example of matrix multiplication using `@` operator"
   ]
  },
  {
   "cell_type": "code",
   "execution_count": 43,
   "metadata": {},
   "outputs": [
    {
     "name": "stdout",
     "output_type": "stream",
     "text": [
      "Row-bound matrix multiplied with vec1: [14 32 50]\n",
      "Row-bound matrix multiplied with column-bound matrix:\n",
      "[[ 14  32  50]\n",
      " [ 32  77 122]\n",
      " [ 50 122 194]]\n"
     ]
    }
   ],
   "source": [
    "# Multiply 3x3 matrix with 3x1 vector should return 3x1 vector\n",
    "matx = matrix @ vec1\n",
    "print(\"Row-bound matrix multiplied with vec1:\", matx)\n",
    "\n",
    "# Multiply two 3x3 matrices to get a 3x3 matrix\n",
    "matx2 = matrix @ matrix2\n",
    "print(\"Row-bound matrix multiplied with column-bound matrix:\")\n",
    "print(matx2)"
   ]
  },
  {
   "cell_type": "markdown",
   "metadata": {},
   "source": [
    "### SECTION 2: DATA ANALYSIS\n",
    "\n",
    "To import a CSV file in a Jupyter Notebook using Python, you can use the `pandas` library, which provides a convenient way to read CSV files into a DataFrame. "
   ]
  },
  {
   "cell_type": "code",
   "execution_count": null,
   "metadata": {},
   "outputs": [],
   "source": [
    "# Load pandas library\n",
    "import pandas as pd\n",
    "\n",
    "# alternatively, uncomment the next line to use the `numpy` library instead\n",
    "# import numpy as np"
   ]
  },
  {
   "cell_type": "code",
   "execution_count": 44,
   "metadata": {},
   "outputs": [
    {
     "data": {
      "text/html": [
       "<div>\n",
       "<style scoped>\n",
       "    .dataframe tbody tr th:only-of-type {\n",
       "        vertical-align: middle;\n",
       "    }\n",
       "\n",
       "    .dataframe tbody tr th {\n",
       "        vertical-align: top;\n",
       "    }\n",
       "\n",
       "    .dataframe thead th {\n",
       "        text-align: right;\n",
       "    }\n",
       "</style>\n",
       "<table border=\"1\" class=\"dataframe\">\n",
       "  <thead>\n",
       "    <tr style=\"text-align: right;\">\n",
       "      <th></th>\n",
       "      <th>Unnamed: 0</th>\n",
       "      <th>month</th>\n",
       "      <th>product</th>\n",
       "      <th>price</th>\n",
       "      <th>sales</th>\n",
       "      <th>market share</th>\n",
       "      <th>s</th>\n",
       "      <th>s0</th>\n",
       "    </tr>\n",
       "  </thead>\n",
       "  <tbody>\n",
       "    <tr>\n",
       "      <th>0</th>\n",
       "      <td>0</td>\n",
       "      <td>1</td>\n",
       "      <td>1.0</td>\n",
       "      <td>6.234700</td>\n",
       "      <td>18.384380</td>\n",
       "      <td>0.510277</td>\n",
       "      <td>0.183844</td>\n",
       "      <td>0.639717</td>\n",
       "    </tr>\n",
       "    <tr>\n",
       "      <th>1</th>\n",
       "      <td>1</td>\n",
       "      <td>1</td>\n",
       "      <td>2.0</td>\n",
       "      <td>5.940261</td>\n",
       "      <td>17.643883</td>\n",
       "      <td>0.489723</td>\n",
       "      <td>0.176439</td>\n",
       "      <td>0.639717</td>\n",
       "    </tr>\n",
       "    <tr>\n",
       "      <th>2</th>\n",
       "      <td>2</td>\n",
       "      <td>2</td>\n",
       "      <td>1.0</td>\n",
       "      <td>6.061581</td>\n",
       "      <td>18.958083</td>\n",
       "      <td>0.522593</td>\n",
       "      <td>0.189581</td>\n",
       "      <td>0.637231</td>\n",
       "    </tr>\n",
       "    <tr>\n",
       "      <th>3</th>\n",
       "      <td>3</td>\n",
       "      <td>2</td>\n",
       "      <td>2.0</td>\n",
       "      <td>6.013753</td>\n",
       "      <td>17.318857</td>\n",
       "      <td>0.477407</td>\n",
       "      <td>0.173189</td>\n",
       "      <td>0.637231</td>\n",
       "    </tr>\n",
       "    <tr>\n",
       "      <th>4</th>\n",
       "      <td>4</td>\n",
       "      <td>3</td>\n",
       "      <td>1.0</td>\n",
       "      <td>5.954426</td>\n",
       "      <td>19.352801</td>\n",
       "      <td>0.532703</td>\n",
       "      <td>0.193528</td>\n",
       "      <td>0.636706</td>\n",
       "    </tr>\n",
       "    <tr>\n",
       "      <th>5</th>\n",
       "      <td>5</td>\n",
       "      <td>3</td>\n",
       "      <td>2.0</td>\n",
       "      <td>6.109423</td>\n",
       "      <td>16.976633</td>\n",
       "      <td>0.467297</td>\n",
       "      <td>0.169766</td>\n",
       "      <td>0.636706</td>\n",
       "    </tr>\n",
       "    <tr>\n",
       "      <th>6</th>\n",
       "      <td>6</td>\n",
       "      <td>4</td>\n",
       "      <td>1.0</td>\n",
       "      <td>6.135976</td>\n",
       "      <td>18.675881</td>\n",
       "      <td>0.514707</td>\n",
       "      <td>0.186759</td>\n",
       "      <td>0.637155</td>\n",
       "    </tr>\n",
       "    <tr>\n",
       "      <th>7</th>\n",
       "      <td>7</td>\n",
       "      <td>4</td>\n",
       "      <td>2.0</td>\n",
       "      <td>5.930201</td>\n",
       "      <td>17.608606</td>\n",
       "      <td>0.485293</td>\n",
       "      <td>0.176086</td>\n",
       "      <td>0.637155</td>\n",
       "    </tr>\n",
       "    <tr>\n",
       "      <th>8</th>\n",
       "      <td>8</td>\n",
       "      <td>5</td>\n",
       "      <td>1.0</td>\n",
       "      <td>6.141834</td>\n",
       "      <td>18.740894</td>\n",
       "      <td>0.520758</td>\n",
       "      <td>0.187409</td>\n",
       "      <td>0.640123</td>\n",
       "    </tr>\n",
       "    <tr>\n",
       "      <th>9</th>\n",
       "      <td>9</td>\n",
       "      <td>5</td>\n",
       "      <td>2.0</td>\n",
       "      <td>6.057230</td>\n",
       "      <td>17.246837</td>\n",
       "      <td>0.479242</td>\n",
       "      <td>0.172468</td>\n",
       "      <td>0.640123</td>\n",
       "    </tr>\n",
       "  </tbody>\n",
       "</table>\n",
       "</div>"
      ],
      "text/plain": [
       "   Unnamed: 0  month  product     price      sales  market share         s  \\\n",
       "0           0      1      1.0  6.234700  18.384380      0.510277  0.183844   \n",
       "1           1      1      2.0  5.940261  17.643883      0.489723  0.176439   \n",
       "2           2      2      1.0  6.061581  18.958083      0.522593  0.189581   \n",
       "3           3      2      2.0  6.013753  17.318857      0.477407  0.173189   \n",
       "4           4      3      1.0  5.954426  19.352801      0.532703  0.193528   \n",
       "5           5      3      2.0  6.109423  16.976633      0.467297  0.169766   \n",
       "6           6      4      1.0  6.135976  18.675881      0.514707  0.186759   \n",
       "7           7      4      2.0  5.930201  17.608606      0.485293  0.176086   \n",
       "8           8      5      1.0  6.141834  18.740894      0.520758  0.187409   \n",
       "9           9      5      2.0  6.057230  17.246837      0.479242  0.172468   \n",
       "\n",
       "         s0  \n",
       "0  0.639717  \n",
       "1  0.639717  \n",
       "2  0.637231  \n",
       "3  0.637231  \n",
       "4  0.636706  \n",
       "5  0.636706  \n",
       "6  0.637155  \n",
       "7  0.637155  \n",
       "8  0.640123  \n",
       "9  0.640123  "
      ]
     },
     "execution_count": 44,
     "metadata": {},
     "output_type": "execute_result"
    }
   ],
   "source": [
    "# Import GPS1_data.csv for GPS question 4\n",
    "mktdata = pd.read_csv('GPS1_data.csv')\n",
    "mktdata.head(10) # preview first 10 lines of the dataset\n"
   ]
  },
  {
   "cell_type": "markdown",
   "metadata": {},
   "source": [
    "The `help()` function can be used to get detailed information about functions, methods, classes and modules. You can pass any Python object to the help() function to get documentation."
   ]
  },
  {
   "cell_type": "code",
   "execution_count": null,
   "metadata": {},
   "outputs": [],
   "source": [
    "# Call `help` function\n",
    "help(mktdata.head)"
   ]
  },
  {
   "cell_type": "markdown",
   "metadata": {},
   "source": [
    "Let's calculate some basic summary statistics for each of the columns in our dataframe. The easiest way is to use the `.describe()` method from the `pandas` library to quickly summarize the distribution of each of the variables in our dataframe: "
   ]
  },
  {
   "cell_type": "code",
   "execution_count": 46,
   "metadata": {},
   "outputs": [
    {
     "name": "stdout",
     "output_type": "stream",
     "text": [
      "\n",
      "Summary statistics:\n",
      "       Unnamed: 0       month     product       price       sales  \\\n",
      "count  104.000000  104.000000  104.000000  104.000000  104.000000   \n",
      "mean    51.500000   26.500000    1.500000    6.097447   17.999482   \n",
      "std     30.166206   15.081011    0.502421    0.148531    0.790692   \n",
      "min      0.000000    1.000000    1.000000    5.606402   16.391871   \n",
      "25%     25.750000   13.750000    1.000000    6.014579   17.310008   \n",
      "50%     51.500000   26.500000    1.500000    6.100690   17.949316   \n",
      "75%     77.250000   39.250000    2.000000    6.173355   18.703793   \n",
      "max    103.000000   52.000000    2.000000    6.488639   19.607887   \n",
      "\n",
      "       market share           s          s0  \n",
      "count    104.000000  104.000000  104.000000  \n",
      "mean       0.500000    0.179995    0.640010  \n",
      "std        0.021072    0.007907    0.004456  \n",
      "min        0.455333    0.163919    0.630717  \n",
      "25%        0.481558    0.173100    0.637197  \n",
      "50%        0.500000    0.179493    0.639650  \n",
      "75%        0.518442    0.187038    0.642322  \n",
      "max        0.544667    0.196079    0.652743  \n"
     ]
    }
   ],
   "source": [
    "# Summarize data using describe() method\n",
    "summary_mktdata = mktdata.describe()\n",
    "print(\"\\nSummary statistics:\")\n",
    "print(summary_mktdata)"
   ]
  },
  {
   "cell_type": "markdown",
   "metadata": {},
   "source": [
    "But if you want you can also compute summary statistics manually: "
   ]
  },
  {
   "cell_type": "code",
   "execution_count": 55,
   "metadata": {},
   "outputs": [
    {
     "name": "stdout",
     "output_type": "stream",
     "text": [
      "Mean price is: 6.097\n",
      "Standard deviation of price is: 0.149\n",
      "Median price is: 6.101\n"
     ]
    }
   ],
   "source": [
    "# Compute mean price\n",
    "mean_price = mktdata['price'].mean()\n",
    "print(\"Mean price is:\", round(mean_price, 3))\n",
    "# print(\"Mean price is:\", mean_price.round(3) )\n",
    "\n",
    "# Compute standard deviation of price\n",
    "std_price = mktdata['price'].std()\n",
    "print(\"Standard deviation of price is:\", round(std_price,3))\n",
    "\n",
    "# Compute median (50%)\n",
    "med_price = mktdata['price'].median()\n",
    "print(\"Median price is:\", med_price.round(3))"
   ]
  },
  {
   "cell_type": "code",
   "execution_count": 68,
   "metadata": {},
   "outputs": [
    {
     "name": "stdout",
     "output_type": "stream",
     "text": [
      "The means that we found using both methods are the same: True\n",
      "The standard deviations that we calculated are the same: True\n",
      "The medians that we calculated are the same: True\n"
     ]
    }
   ],
   "source": [
    "# Is this the same as what we found before? \n",
    "\n",
    "issame_mean = summary_mktdata.loc['mean','price'].round(3) == mean_price.round(3)\n",
    "print(\"The means that we found using both methods are the same:\", issame_mean)\n",
    "\n",
    "issame_std = summary_mktdata.loc['std','price'].round(3) == std_price.round(3)\n",
    "print(\"The standard deviations that we calculated are the same:\", issame_std)\n",
    "\n",
    "issame_med = summary_mktdata.loc['50%','price'].round(3) == med_price.round(3)\n",
    "print(\"The medians that we calculated are the same:\", issame_med)\n"
   ]
  },
  {
   "cell_type": "markdown",
   "metadata": {},
   "source": [
    "Let's learn to run a regression in python. To do this, you will need a statistical modelling package like `statsmodels.api`. \n",
    "If you don't already have statsmodels.api installed, you can create a new cell in your Jupyter Notebook and use the `%` operator to run the shell command `%pip install statsmodels` directly from your notebook (alternatively, you can open a terminal window and run `pip install statsmodels` without the `%`). "
   ]
  },
  {
   "cell_type": "code",
   "execution_count": 73,
   "metadata": {},
   "outputs": [
    {
     "name": "stderr",
     "output_type": "stream",
     "text": [
      "6292.48s - pydevd: Sending message related to process being replaced timed-out after 5 seconds\n"
     ]
    },
    {
     "name": "stdout",
     "output_type": "stream",
     "text": [
      "Requirement already satisfied: statsmodels in /opt/homebrew/lib/python3.11/site-packages (0.14.2)\n",
      "Requirement already satisfied: numpy>=1.22.3 in /opt/homebrew/lib/python3.11/site-packages (from statsmodels) (1.26.0)\n",
      "Requirement already satisfied: scipy!=1.9.2,>=1.8 in /opt/homebrew/lib/python3.11/site-packages (from statsmodels) (1.14.1)\n",
      "Requirement already satisfied: pandas!=2.1.0,>=1.4 in /opt/homebrew/lib/python3.11/site-packages (from statsmodels) (2.1.1)\n",
      "Requirement already satisfied: patsy>=0.5.6 in /opt/homebrew/lib/python3.11/site-packages (from statsmodels) (0.5.6)\n",
      "Requirement already satisfied: packaging>=21.3 in /opt/homebrew/lib/python3.11/site-packages (from statsmodels) (23.2)\n",
      "Requirement already satisfied: python-dateutil>=2.8.2 in /opt/homebrew/lib/python3.11/site-packages (from pandas!=2.1.0,>=1.4->statsmodels) (2.8.2)\n",
      "Requirement already satisfied: pytz>=2020.1 in /opt/homebrew/lib/python3.11/site-packages (from pandas!=2.1.0,>=1.4->statsmodels) (2023.3.post1)\n",
      "Requirement already satisfied: tzdata>=2022.1 in /opt/homebrew/lib/python3.11/site-packages (from pandas!=2.1.0,>=1.4->statsmodels) (2023.3)\n",
      "Requirement already satisfied: six in /opt/homebrew/lib/python3.11/site-packages (from patsy>=0.5.6->statsmodels) (1.16.0)\n",
      "Note: you may need to restart the kernel to use updated packages.\n"
     ]
    }
   ],
   "source": [
    "%pip install statsmodels"
   ]
  },
  {
   "cell_type": "code",
   "execution_count": 72,
   "metadata": {},
   "outputs": [],
   "source": [
    "# Load statsmodels library\n",
    "import statsmodels.api as sm"
   ]
  },
  {
   "cell_type": "code",
   "execution_count": 76,
   "metadata": {},
   "outputs": [
    {
     "name": "stdout",
     "output_type": "stream",
     "text": [
      "                            OLS Regression Results                            \n",
      "==============================================================================\n",
      "Dep. Variable:                  sales   R-squared:                       0.009\n",
      "Model:                            OLS   Adj. R-squared:                 -0.001\n",
      "Method:                 Least Squares   F-statistic:                    0.8908\n",
      "Date:                Tue, 10 Sep 2024   Prob (F-statistic):              0.347\n",
      "Time:                        11:57:38   Log-Likelihood:                -122.19\n",
      "No. Observations:                 104   AIC:                             248.4\n",
      "Df Residuals:                     102   BIC:                             253.7\n",
      "Df Model:                           1                                         \n",
      "Covariance Type:            nonrobust                                         \n",
      "==============================================================================\n",
      "                 coef    std err          t      P>|t|      [0.025      0.975]\n",
      "------------------------------------------------------------------------------\n",
      "const         21.0198      3.201      6.567      0.000      14.671      27.369\n",
      "price         -0.4953      0.525     -0.944      0.347      -1.536       0.546\n",
      "==============================================================================\n",
      "Omnibus:                      113.414   Durbin-Watson:                   3.707\n",
      "Prob(Omnibus):                  0.000   Jarque-Bera (JB):                8.616\n",
      "Skew:                           0.006   Prob(JB):                       0.0135\n",
      "Kurtosis:                       1.590   Cond. No.                         258.\n",
      "==============================================================================\n",
      "\n",
      "Notes:\n",
      "[1] Standard Errors assume that the covariance matrix of the errors is correctly specified.\n"
     ]
    }
   ],
   "source": [
    "X = mktdata['price'] # Independent variable\n",
    "y = mktdata['sales'] # Dependent variable\n",
    "\n",
    "X = sm.add_constant(X) # Add constant to the regression model (intercept)\n",
    "\n",
    "model = sm.OLS(y, X).fit() # Fit the regression model\n",
    "\n",
    "# Print model summary\n",
    "print(model.summary())\n",
    "\n"
   ]
  },
  {
   "cell_type": "markdown",
   "metadata": {},
   "source": [
    "You may want to export this table as LaTeX code that you can copy and paste into your LaTeX editor when delivering your solutions for the problem set:"
   ]
  },
  {
   "cell_type": "code",
   "execution_count": 77,
   "metadata": {},
   "outputs": [
    {
     "name": "stdout",
     "output_type": "stream",
     "text": [
      "\\begin{table}\n",
      "\\caption{Results: Ordinary least squares}\n",
      "\\label{}\n",
      "\\begin{center}\n",
      "\\begin{tabular}{llll}\n",
      "\\hline\n",
      "Model:              & OLS              & Adj. R-squared:     & -0.001    \\\\\n",
      "Dependent Variable: & sales            & AIC:                & 248.3818  \\\\\n",
      "Date:               & 2024-09-10 11:58 & BIC:                & 253.6706  \\\\\n",
      "No. Observations:   & 104              & Log-Likelihood:     & -122.19   \\\\\n",
      "Df Model:           & 1                & F-statistic:        & 0.8908    \\\\\n",
      "Df Residuals:       & 102              & Prob (F-statistic): & 0.347     \\\\\n",
      "R-squared:          & 0.009            & Scale:              & 0.62586   \\\\\n",
      "\\hline\n",
      "\\end{tabular}\n",
      "\\end{center}\n",
      "\n",
      "\\begin{center}\n",
      "\\begin{tabular}{lrrrrrr}\n",
      "\\hline\n",
      "      &   Coef. & Std.Err. &       t & P$> |$t$|$ &  [0.025 &  0.975]  \\\\\n",
      "\\hline\n",
      "const & 21.0198 &   3.2009 &  6.5667 &      0.0000 & 14.6707 & 27.3688  \\\\\n",
      "price & -0.4953 &   0.5248 & -0.9438 &      0.3475 & -1.5363 &  0.5456  \\\\\n",
      "\\hline\n",
      "\\end{tabular}\n",
      "\\end{center}\n",
      "\n",
      "\\begin{center}\n",
      "\\begin{tabular}{llll}\n",
      "\\hline\n",
      "Omnibus:       & 113.414 & Durbin-Watson:    & 3.707  \\\\\n",
      "Prob(Omnibus): & 0.000   & Jarque-Bera (JB): & 8.616  \\\\\n",
      "Skew:          & 0.006   & Prob(JB):         & 0.013  \\\\\n",
      "Kurtosis:      & 1.590   & Condition No.:    & 258    \\\\\n",
      "\\hline\n",
      "\\end{tabular}\n",
      "\\end{center}\n",
      "\\end{table}\n",
      "\\bigskip\n",
      "Notes: \\newline \n",
      "[1] Standard Errors assume that the covariance matrix of the errors is correctly specified.\n"
     ]
    }
   ],
   "source": [
    "# Generate LaTeX code from the summary of the regression\n",
    "output = model.summary2().as_latex()\n",
    "\n",
    "print(output)"
   ]
  }
 ],
 "metadata": {
  "kernelspec": {
   "display_name": "Python 3",
   "language": "python",
   "name": "python3"
  },
  "language_info": {
   "codemirror_mode": {
    "name": "ipython",
    "version": 3
   },
   "file_extension": ".py",
   "mimetype": "text/x-python",
   "name": "python",
   "nbconvert_exporter": "python",
   "pygments_lexer": "ipython3",
   "version": "3.11.7"
  }
 },
 "nbformat": 4,
 "nbformat_minor": 2
}
