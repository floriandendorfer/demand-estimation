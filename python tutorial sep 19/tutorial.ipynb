{
  "cells": [
    {
      "cell_type": "markdown",
      "metadata": {
        "colab_type": "text",
        "id": "view-in-github"
      },
      "source": [
        "<a href=\"https://colab.research.google.com/github/floriandendorfer/demand-estimation/blob/main/python%20tutorial%20sep%2019/tutorial.ipynb\" target=\"_parent\"><img src=\"https://colab.research.google.com/assets/colab-badge.svg\" alt=\"Open In Colab\"/></a>"
      ]
    },
    {
      "cell_type": "markdown",
      "metadata": {
        "id": "KMwHr70IdY5V"
      },
      "source": [
        "### OUTLINE of Python tutorial for ECO 380:\n",
        "- We will start with a brief introduction of arithmetic operations and data structures\n",
        "- We will import the data set for Graded Problem Set 1 using the pandas library\n",
        "- We will do some simple data manipulation (e.g. calculate some means, standard deviations, basic OLS) so that you have the tools you need for your Graded Problem Sets.\n",
        "If you have any questions about the Graded Problem Set or the contents of this tutorial, I am here to help you during my office hours on Tuesdays, 10-11 am in GE 076."
      ]
    },
    {
      "cell_type": "markdown",
      "metadata": {
        "id": "uejRGGw5dY5X"
      },
      "source": [
        "### SECTION 1: INTRO TO PYTHON"
      ]
    },
    {
      "cell_type": "markdown",
      "metadata": {
        "id": "oRrbcheHdY5Y"
      },
      "source": [
        "#### BASIC ARITHMETIC OPERATIONS"
      ]
    },
    {
      "cell_type": "code",
      "execution_count": null,
      "metadata": {
        "id": "0_cVPfKIdY5Y"
      },
      "outputs": [],
      "source": [
        "# Declare variables (Python is an object-based programming language)\n",
        "a = 12\n",
        "b = 2\n",
        "\n",
        "# print output\n",
        "print(\"The sum of a and b is\", a + b)\n",
        "print(\"The product of a and b is\", a*b)\n",
        "print(\"a to the power of b is\", a**b) # exponentiation represented by double * symbol: **\n",
        "print(\"a divided by b is\", a/b)"
      ]
    },
    {
      "cell_type": "markdown",
      "metadata": {
        "id": "ac1LOiyZdY5a"
      },
      "source": [
        "#### DATA STRUCTURES:\n",
        "- **Lists** are ordered, mutable (modifiable) collections. You might create a list when you need a collection of items where the order matters but you might want to update some values in the list.\n",
        "- **Tuples** are ordered but immutable (unmodifiable) collections. You should use tuples when you want to ensure the data cannot be modified after creation (e.g. useful for vector/matrix operations)\n",
        "- **Dictionaries**, which we will not have time to cover in this tutorial, but these are useful when you want to map names to numbers, or when you want to store information that can be looked up using an identifier key."
      ]
    },
    {
      "cell_type": "markdown",
      "metadata": {
        "id": "uQ1sl9gkdY5a"
      },
      "source": [
        "#### 1. LISTS"
      ]
    },
    {
      "cell_type": "code",
      "execution_count": null,
      "metadata": {
        "id": "kFWdHBwidY5a"
      },
      "outputs": [],
      "source": [
        "list = [1, 2, 3, 4, 5]\n",
        "\n",
        "# Print original list\n",
        "print(\"Original list:\", list)\n",
        "\n",
        "# Access elements in the list using index. Note: python indices begin at 0!\n",
        "print(\"Extract first element of list:\", list[0])\n",
        "\n",
        "# Add element to list to show how lists are mutable\n",
        "list.append(6)\n",
        "print(\"Updated list after appending a 6th element:\", list)"
      ]
    },
    {
      "cell_type": "code",
      "execution_count": null,
      "metadata": {
        "id": "WQcQV6ehdY5a"
      },
      "outputs": [],
      "source": [
        "# Remove element from list by value\n",
        "list.remove(3)\n",
        "print(\"Remove element with value 3 from list:\", list)\n",
        "\n",
        "# pop vs. del:\n",
        "del list[2] # remember: third position is indexed using a 2 because indexing starts at 0 in python\n",
        "print(\"Remove element in third position using del:\", list)\n",
        "\n",
        "popped_value = list.pop(2)\n",
        "print(\"Remove element in third position using pop:\", list)\n",
        "print(\"Popped element, which is currently stored in the variable popped_value:\", popped_value)"
      ]
    },
    {
      "cell_type": "markdown",
      "metadata": {
        "id": "qn-XW8dIdY5a"
      },
      "source": [
        "#### 2. TUPLES (+ introducing for loops)"
      ]
    },
    {
      "cell_type": "code",
      "execution_count": null,
      "metadata": {
        "id": "YnHIFRHrdY5b"
      },
      "outputs": [],
      "source": [
        "tuple1 = (1, 2, 3)\n",
        "tuple2 = (4, 5, 6)\n",
        "tuple3 = (7, 8, 9)\n",
        "\n",
        "# Idea: I want to pull the first element of each tuple, but since I have 3 of them, it will be easier for me to print\n",
        "# by iterating through a list of my tuples\n",
        "\n",
        "tuples = [tuple1, tuple2, tuple3] # creates a list of tuples\n",
        "\n",
        "for i, t in enumerate(tuples): # i is the index number of the tuple we are currently operating on, while t is a placeholder for the variable name `tuplex`\n",
        "    print(f\"First element of tuple{i+1}: {t[0]}\") # Issue print statement using an `f-string`, which just allows us to make print statements in a more dynamic way\n"
      ]
    },
    {
      "cell_type": "markdown",
      "metadata": {
        "id": "Db0f790vdY5b"
      },
      "source": [
        "##### Detailed breakdown of the for loop:\n",
        "\n",
        "1. **`enumerate(tuples)`**:\n",
        "    * `enumerate()` is a built-in Python function that allows you to loop over an iterable (in this case, the list `tuples`), while keeping track of the index of each item.\n",
        "    * `tuples` is a list containing `tuple1` `tuple2` and `tuple3`. The `enumerate()` function will return pairs of an index and the tuple at that index.\n",
        "    * For example, in the first iteration, `i = 0` and `t = tuple1`, and in the second iteration, `i = 1` and `t = tuple2`.\n",
        "\n",
        "2. **`i, t`**:\n",
        "    * `i` is the index of the current item in the list `tuples`. It starts at `0` for the first item, `1` for the second, and so on.\n",
        "    * `t` is the current tuple itself from the list `tuples` (e.g., `tuple1` in the first iteration, `tuple2` in the second).\n",
        "\n",
        "3. **`f\"First element of tuple{i+1}: {t[0]}\"`**:\n",
        "    * This is an **f-string**, which allows you to embed expressions inside curly braces `{}` and have them evaluated within the string.\n",
        "    * `i+1`: Since `i` starts from `0`, we add `1` to display the tuple number starting from `1` (so it prints \"tuple1\", \"tuple2\", etc.).\n",
        "    * `t[0]`: This accesses the first element of the current tuple `t`. For example, `t[0]` would be `10` for `tuple1` and `40` for `tuple2`.\n",
        "\n",
        "* **First iteration:**\n",
        "    * `i = 0`, `t = tuple1 = (1, 2, 3)`\n",
        "    * `print(f\"First element of tuple1: {t[0]}\")` → `\"First element of tuple1: 10\"`\n",
        "\n",
        "* **Second iteration:**\n",
        "    * `i = 1`, `t = tuple2 = (4, 5, 6)`\n",
        "    * `print(f\"First element of tuple2: {t[0]}\")` → `\"First element of tuple2: 4\"`\n",
        "\n",
        "... and so on."
      ]
    },
    {
      "cell_type": "markdown",
      "metadata": {
        "id": "eRuBn473dY5c"
      },
      "source": [
        "#### VECTOR AND MATRIX OPERATIONS"
      ]
    },
    {
      "cell_type": "markdown",
      "metadata": {
        "id": "au7AM4nTdY5c"
      },
      "source": [
        "Easiest way to perform more complicated mathematical operations is using a library such as `numpy` with built-in methods designed for this purpose."
      ]
    },
    {
      "cell_type": "code",
      "execution_count": 5,
      "metadata": {
        "id": "IJAzmIPNdY5c"
      },
      "outputs": [],
      "source": [
        "# Load numpy library\n",
        "import numpy as np # usually libraries are loaded as the first line of a script"
      ]
    },
    {
      "cell_type": "markdown",
      "metadata": {
        "id": "xej-kaOSdY5c"
      },
      "source": [
        "Below are some examples of vector and matrix operations using python:"
      ]
    },
    {
      "cell_type": "code",
      "execution_count": null,
      "metadata": {
        "id": "xDnj2EXpdY5c"
      },
      "outputs": [],
      "source": [
        "# Element-by-element addition\n",
        "# convert tuples to numpy array:\n",
        "vec1 = np.array(tuple1)\n",
        "vec2 = np.array(tuple2)\n",
        "vec3 = np.array(tuple3)\n",
        "vec_sum = np.add(vec1, vec2)\n",
        "\n",
        "print(\"Element-by-element addition of [1, 2, 3] and [4, 5, 6] is:\", vec_sum)"
      ]
    },
    {
      "cell_type": "code",
      "execution_count": null,
      "metadata": {
        "id": "raidE6U-dY5c"
      },
      "outputs": [],
      "source": [
        "# Element-by-element multiplication\n",
        "vec_hadamard = vec1 * vec2\n",
        "print(\"Element-by-element multiplication of [1, 2, 3] and [4, 5, 6] is:\", vec_hadamard)\n",
        "\n",
        "# Dot product\n",
        "vec_dot = np.dot(vec1, vec2)\n",
        "print(\"Dot product is:\", vec_dot)"
      ]
    },
    {
      "cell_type": "markdown",
      "metadata": {
        "id": "F9Url33kdY5d"
      },
      "source": [
        "Creating matrices from vectors:"
      ]
    },
    {
      "cell_type": "code",
      "execution_count": null,
      "metadata": {
        "id": "hw1N3ksmdY5d"
      },
      "outputs": [],
      "source": [
        "# Create matrix by binding row vectors together\n",
        "matrix = np.array([vec1, vec2, vec3])\n",
        "print(\"3x3 matrix of row-bound vectors\")\n",
        "print(matrix)\n",
        "\n",
        "# Create a matrix by stacking the row vectors and then transpose (column bind)\n",
        "matrix2 = np.array([vec1, vec2, vec3]).T\n",
        "print(\"3x3 matrix of column-bound vectors using transpose operation\")\n",
        "print(matrix2)\n",
        "\n",
        "# Another way to column bind:\n",
        "matrix3 = np.column_stack((vec1, vec2, vec3))\n",
        "print(\"3x3 matrix of row-bound vectors using column stack method in numpy\")\n",
        "print(matrix3)"
      ]
    },
    {
      "cell_type": "markdown",
      "metadata": {
        "id": "Btp0DZMkdY5d"
      },
      "source": [
        "Example of matrix multiplication using `@` operator"
      ]
    },
    {
      "cell_type": "code",
      "execution_count": null,
      "metadata": {
        "id": "WCK90KQxdY5d"
      },
      "outputs": [],
      "source": [
        "# Multiply 3x3 matrix with 3x1 vector should return 3x1 vector\n",
        "matx = matrix @ vec1\n",
        "print(\"Row-bound matrix multiplied with vec1:\", matx)\n",
        "\n",
        "# Multiply two 3x3 matrices to get a 3x3 matrix\n",
        "matx2 = matrix @ matrix2\n",
        "print(\"Row-bound matrix multiplied with column-bound matrix:\")\n",
        "print(matx2)"
      ]
    },
    {
      "cell_type": "markdown",
      "metadata": {
        "id": "vwLxArUZdY5d"
      },
      "source": [
        "### SECTION 2: DATA ANALYSIS\n",
        "\n",
        "To import a CSV file in a Jupyter Notebook using Python, you can use the `pandas` library, which provides a convenient way to read CSV files into a DataFrame."
      ]
    },
    {
      "cell_type": "code",
      "execution_count": 10,
      "metadata": {
        "id": "3Qly1ge6dY5d"
      },
      "outputs": [],
      "source": [
        "# Load pandas library\n",
        "import pandas as pd\n",
        "\n",
        "# alternatively, uncomment the next line to use the `numpy` library instead\n",
        "# import numpy as np"
      ]
    },
    {
      "cell_type": "code",
      "execution_count": null,
      "metadata": {
        "id": "25r7urpwdY5e"
      },
      "outputs": [],
      "source": [
        "# Import GPS1_data.csv for GPS question 4\n",
        "!git clone https://github.com/floriandendorfer/demand-estimation.git demand-estimation-clone"
      ]
    },
    {
      "cell_type": "code",
      "execution_count": null,
      "metadata": {},
      "outputs": [],
      "source": [
        "mktdata = pd.read_csv('demand-estimation-clone/python-tutorial-sep-19/GPS1_data.csv',index_col=0) # load csv file from github repo\n",
        "mktdata.head(10) # preview first 10 lines of the dataset"
      ]
    },
    {
      "cell_type": "markdown",
      "metadata": {
        "id": "4CWn2RBddY5e"
      },
      "source": [
        "The `help()` function can be used to get detailed information about functions, methods, classes and modules. You can pass any Python object to the help() function to get documentation."
      ]
    },
    {
      "cell_type": "code",
      "execution_count": null,
      "metadata": {
        "id": "QyEyWQOMdY5e"
      },
      "outputs": [],
      "source": [
        "# Call `help` function\n",
        "help(mktdata.head)"
      ]
    },
    {
      "cell_type": "markdown",
      "metadata": {
        "id": "G51zPnoudY5e"
      },
      "source": [
        "Let's calculate some basic summary statistics for each of the columns in our dataframe. The easiest way is to use the `.describe()` method from the `pandas` library to quickly summarize the distribution of each of the variables in our dataframe:"
      ]
    },
    {
      "cell_type": "code",
      "execution_count": null,
      "metadata": {
        "id": "jq6qxICsdY5e"
      },
      "outputs": [],
      "source": [
        "# Summarize data using describe() method\n",
        "summary_mktdata = mktdata.describe()\n",
        "print(\"\\nSummary statistics:\")\n",
        "print(summary_mktdata)"
      ]
    },
    {
      "cell_type": "markdown",
      "metadata": {
        "id": "5TM4X4NRdY5e"
      },
      "source": [
        "But if you want you can also compute summary statistics manually:"
      ]
    },
    {
      "cell_type": "code",
      "execution_count": null,
      "metadata": {
        "id": "dWlwmqlKdY5f"
      },
      "outputs": [],
      "source": [
        "# Compute mean price\n",
        "mean_price = mktdata['price'].mean()\n",
        "print(\"Mean price is:\", round(mean_price, 3))\n",
        "# print(\"Mean price is:\", mean_price.round(3) )\n",
        "\n",
        "# Compute standard deviation of price\n",
        "std_price = mktdata['price'].std()\n",
        "print(\"Standard deviation of price is:\", round(std_price,3))\n",
        "\n",
        "# Compute median (50%)\n",
        "med_price = mktdata['price'].median()\n",
        "print(\"Median price is:\", med_price.round(3))"
      ]
    },
    {
      "cell_type": "code",
      "execution_count": null,
      "metadata": {
        "id": "YNnW7h47dY5f"
      },
      "outputs": [],
      "source": [
        "# Is this the same as what we found before?\n",
        "\n",
        "issame_mean = summary_mktdata.loc['mean','price'].round(3) == mean_price.round(3)\n",
        "print(\"The means that we found using both methods are the same:\", issame_mean)\n",
        "\n",
        "issame_std = summary_mktdata.loc['std','price'].round(3) == std_price.round(3)\n",
        "print(\"The standard deviations that we calculated are the same:\", issame_std)\n",
        "\n",
        "issame_med = summary_mktdata.loc['50%','price'].round(3) == med_price.round(3)\n",
        "print(\"The medians that we calculated are the same:\", issame_med)\n"
      ]
    },
    {
      "cell_type": "markdown",
      "metadata": {
        "id": "a4r0dEhqdY5f"
      },
      "source": [
        "Let's learn to run a regression in python. To do this, you will need a statistical modelling package like `statsmodels.api`.\n",
        "If you don't already have statsmodels.api installed, you can create a new cell in your Jupyter Notebook and use the `%` operator to run the shell command `%pip install statsmodels` directly from your notebook (alternatively, you can open a terminal window and run `pip install statsmodels` without the `%`)."
      ]
    },
    {
      "cell_type": "code",
      "execution_count": null,
      "metadata": {
        "id": "6QhJJttXdY5f"
      },
      "outputs": [],
      "source": [
        "%pip install statsmodels"
      ]
    },
    {
      "cell_type": "code",
      "execution_count": 18,
      "metadata": {
        "id": "Qq9-sS8idY5f"
      },
      "outputs": [],
      "source": [
        "# Load statsmodels library\n",
        "import statsmodels.api as sm"
      ]
    },
    {
      "cell_type": "code",
      "execution_count": null,
      "metadata": {
        "id": "qv1uFnBWdY5g"
      },
      "outputs": [],
      "source": [
        "X = mktdata['price'] # Independent variable\n",
        "y = mktdata['sales'] # Dependent variable\n",
        "\n",
        "X = sm.add_constant(X) # Add constant to the regression model (intercept)\n",
        "\n",
        "model = sm.OLS(y, X).fit() # Fit the regression model\n",
        "\n",
        "# Print model summary\n",
        "print(model.summary())\n",
        "\n"
      ]
    },
    {
      "cell_type": "markdown",
      "metadata": {
        "id": "pGJbROdtdY5g"
      },
      "source": [
        "You may want to export this table as LaTeX code that you can copy and paste into your LaTeX editor when delivering your solutions for the problem set:"
      ]
    },
    {
      "cell_type": "code",
      "execution_count": null,
      "metadata": {
        "id": "BQd4IE9rdY5g"
      },
      "outputs": [],
      "source": [
        "# Generate LaTeX code from the summary of the regression\n",
        "output = model.summary2().as_latex()\n",
        "\n",
        "print(output)"
      ]
    }
  ],
  "metadata": {
    "colab": {
      "include_colab_link": true,
      "provenance": []
    },
    "kernelspec": {
      "display_name": "Python 3",
      "language": "python",
      "name": "python3"
    },
    "language_info": {
      "codemirror_mode": {
        "name": "ipython",
        "version": 3
      },
      "file_extension": ".py",
      "mimetype": "text/x-python",
      "name": "python",
      "nbconvert_exporter": "python",
      "pygments_lexer": "ipython3",
      "version": "3.11.7"
    }
  },
  "nbformat": 4,
  "nbformat_minor": 0
}
