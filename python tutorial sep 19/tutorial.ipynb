{
  "cells": [
    {
      "cell_type": "markdown",
      "metadata": {
        "id": "view-in-github",
        "colab_type": "text"
      },
      "source": [
        "<a href=\"https://colab.research.google.com/github/floriandendorfer/demand-estimation/blob/main/python%20tutorial%20sep%2019/tutorial.ipynb\" target=\"_parent\"><img src=\"https://colab.research.google.com/assets/colab-badge.svg\" alt=\"Open In Colab\"/></a>"
      ]
    },
    {
      "cell_type": "markdown",
      "metadata": {
        "id": "KMwHr70IdY5V"
      },
      "source": [
        "### OUTLINE of Python tutorial for ECO 380:\n",
        "- We will start with a brief introduction of arithmetic operations and data structures\n",
        "- We will import the data set for Graded Problem Set 1 using the pandas library\n",
        "- We will do some simple data manipulation (e.g. calculate some means, standard deviations, basic OLS) so that you have the tools you need for your Graded Problem Sets.\n",
        "If you have any questions about the Graded Problem Set or the contents of this tutorial, I am here to help you during my office hours on Tuesdays, 10-11 am in GE 076."
      ]
    },
    {
      "cell_type": "markdown",
      "metadata": {
        "id": "uejRGGw5dY5X"
      },
      "source": [
        "### SECTION 1: INTRO TO PYTHON"
      ]
    },
    {
      "cell_type": "markdown",
      "metadata": {
        "id": "oRrbcheHdY5Y"
      },
      "source": [
        "#### BASIC ARITHMETIC OPERATIONS"
      ]
    },
    {
      "cell_type": "code",
      "execution_count": 10,
      "metadata": {
        "id": "0_cVPfKIdY5Y",
        "outputId": "7d42031e-f38b-4340-8c61-c24ab48017b2",
        "colab": {
          "base_uri": "https://localhost:8080/"
        }
      },
      "outputs": [
        {
          "output_type": "stream",
          "name": "stdout",
          "text": [
            "The sum of a and b is 14\n",
            "The product of a and b is 24\n",
            "a to the power of b is 144\n",
            "a divided by b is 6.0\n"
          ]
        }
      ],
      "source": [
        "# Declare variables (Python is an object-based programming language)\n",
        "a = 12\n",
        "b = 2\n",
        "\n",
        "# print output\n",
        "print(\"The sum of a and b is\", a + b)\n",
        "print(\"The product of a and b is\", a*b)\n",
        "print(\"a to the power of b is\", a**b) # exponentiation represented by double * symbol: **\n",
        "print(\"a divided by b is\", a/b)"
      ]
    },
    {
      "cell_type": "markdown",
      "metadata": {
        "id": "ac1LOiyZdY5a"
      },
      "source": [
        "#### DATA STRUCTURES:\n",
        "- **Lists** are ordered, mutable (modifiable) collections. You might create a list when you need a collection of items where the order matters but you might want to update some values in the list.\n",
        "- **Tuples** are ordered but immutable (unmodifiable) collections. You should use tuples when you want to ensure the data cannot be modified after creation (e.g. useful for vector/matrix operations)\n",
        "- **Dictionaries**, which we will not have time to cover in this tutorial, but these are useful when you want to map names to numbers, or when you want to store information that can be looked up using an identifier key."
      ]
    },
    {
      "cell_type": "markdown",
      "metadata": {
        "id": "uQ1sl9gkdY5a"
      },
      "source": [
        "#### 1. LISTS"
      ]
    },
    {
      "cell_type": "code",
      "execution_count": 15,
      "metadata": {
        "id": "kFWdHBwidY5a",
        "outputId": "4a9b2fae-b623-433c-a676-098d5772303c",
        "colab": {
          "base_uri": "https://localhost:8080/"
        }
      },
      "outputs": [
        {
          "output_type": "stream",
          "name": "stdout",
          "text": [
            "Original list: [1, 2, 3, 4, 5]\n",
            "Extract first element of list: 1\n",
            "Updated list after appending a 6th element: [1, 2, 3, 4, 5, 6]\n"
          ]
        }
      ],
      "source": [
        "list = [1, 2, 3, 4, 5]\n",
        "\n",
        "# Print original list\n",
        "print(\"Original list:\", list)\n",
        "\n",
        "# Access elements in the list using index. Note: python indices begin at 0!\n",
        "print(\"Extract first element of list:\", list[0])\n",
        "\n",
        "# Add element to list to show how lists are mutable\n",
        "list.append(6)\n",
        "print(\"Updated list after appending a 6th element:\", list)"
      ]
    },
    {
      "cell_type": "code",
      "execution_count": 16,
      "metadata": {
        "id": "WQcQV6ehdY5a",
        "outputId": "c9915465-b6cc-4592-adff-4fc31e4e86b6",
        "colab": {
          "base_uri": "https://localhost:8080/"
        }
      },
      "outputs": [
        {
          "output_type": "stream",
          "name": "stdout",
          "text": [
            "Remove element with value 3 from list: [1, 2, 4, 5, 6]\n",
            "Remove element in third position using del: [1, 2, 5, 6]\n",
            "Remove element in third position using pop: [1, 2, 6]\n",
            "Popped element, which is currently stored in the variable popped_value: 5\n"
          ]
        }
      ],
      "source": [
        "# Remove element from list by value\n",
        "list.remove(3)\n",
        "print(\"Remove element with value 3 from list:\", list)\n",
        "\n",
        "# pop vs. del:\n",
        "del list[2] # remember: third position is indexed using a 2 because indexing starts at 0 in python\n",
        "print(\"Remove element in third position using del:\", list)\n",
        "\n",
        "popped_value = list.pop(2)\n",
        "print(\"Remove element in third position using pop:\", list)\n",
        "print(\"Popped element, which is currently stored in the variable popped_value:\", popped_value)"
      ]
    },
    {
      "cell_type": "markdown",
      "metadata": {
        "id": "qn-XW8dIdY5a"
      },
      "source": [
        "#### 2. TUPLES (+ introducing for loops)"
      ]
    },
    {
      "cell_type": "code",
      "execution_count": 17,
      "metadata": {
        "id": "YnHIFRHrdY5b",
        "outputId": "6dbf6790-1781-44cc-a7f3-0935e388654e",
        "colab": {
          "base_uri": "https://localhost:8080/"
        }
      },
      "outputs": [
        {
          "output_type": "stream",
          "name": "stdout",
          "text": [
            "First element of tuple1: 1\n",
            "First element of tuple2: 4\n",
            "First element of tuple3: 7\n"
          ]
        }
      ],
      "source": [
        "tuple1 = (1, 2, 3)\n",
        "tuple2 = (4, 5, 6)\n",
        "tuple3 = (7, 8, 9)\n",
        "\n",
        "# Idea: I want to pull the first element of each tuple, but since I have 3 of them, it will be easier for me to print\n",
        "# by iterating through a list of my tuples\n",
        "\n",
        "tuples = [tuple1, tuple2, tuple3] # creates a list of tuples\n",
        "\n",
        "for i, t in enumerate(tuples): # i is the index number of the tuple we are currently operating on, while t is a placeholder for the variable name `tuplex`\n",
        "    print(f\"First element of tuple{i+1}: {t[0]}\") # Issue print statement using an `f-string`, which just allows us to make print statements in a more dynamic way\n",
        ""
      ]
    },
    {
      "cell_type": "markdown",
      "metadata": {
        "id": "Db0f790vdY5b"
      },
      "source": [
        "##### Detailed breakdown of the for loop:\n",
        "\n",
        "1. **`enumerate(tuples)`**:\n",
        "    * `enumerate()` is a built-in Python function that allows you to loop over an iterable (in this case, the list `tuples`), while keeping track of the index of each item.\n",
        "    * `tuples` is a list containing `tuple1` `tuple2` and `tuple3`. The `enumerate()` function will return pairs of an index and the tuple at that index.\n",
        "    * For example, in the first iteration, `i = 0` and `t = tuple1`, and in the second iteration, `i = 1` and `t = tuple2`.\n",
        "\n",
        "2. **`i, t`**:\n",
        "    * `i` is the index of the current item in the list `tuples`. It starts at `0` for the first item, `1` for the second, and so on.\n",
        "    * `t` is the current tuple itself from the list `tuples` (e.g., `tuple1` in the first iteration, `tuple2` in the second).\n",
        "\n",
        "3. **`f\"First element of tuple{i+1}: {t[0]}\"`**:\n",
        "    * This is an **f-string**, which allows you to embed expressions inside curly braces `{}` and have them evaluated within the string.\n",
        "    * `i+1`: Since `i` starts from `0`, we add `1` to display the tuple number starting from `1` (so it prints \"tuple1\", \"tuple2\", etc.).\n",
        "    * `t[0]`: This accesses the first element of the current tuple `t`. For example, `t[0]` would be `10` for `tuple1` and `40` for `tuple2`.\n",
        "\n",
        "* **First iteration:**\n",
        "    * `i = 0`, `t = tuple1 = (1, 2, 3)`\n",
        "    * `print(f\"First element of tuple1: {t[0]}\")` → `\"First element of tuple1: 10\"`\n",
        "\n",
        "* **Second iteration:**\n",
        "    * `i = 1`, `t = tuple2 = (4, 5, 6)`\n",
        "    * `print(f\"First element of tuple2: {t[0]}\")` → `\"First element of tuple2: 4\"`\n",
        "\n",
        "... and so on."
      ]
    },
    {
      "cell_type": "markdown",
      "metadata": {
        "id": "eRuBn473dY5c"
      },
      "source": [
        "#### VECTOR AND MATRIX OPERATIONS"
      ]
    },
    {
      "cell_type": "markdown",
      "metadata": {
        "id": "au7AM4nTdY5c"
      },
      "source": [
        "Easiest way to perform more complicated mathematical operations is using a library such as `numpy` with built-in methods designed for this purpose."
      ]
    },
    {
      "cell_type": "code",
      "execution_count": 20,
      "metadata": {
        "id": "IJAzmIPNdY5c"
      },
      "outputs": [],
      "source": [
        "# Load numpy library\n",
        "import numpy as np # usually libraries are loaded as the first line of a script"
      ]
    },
    {
      "cell_type": "markdown",
      "metadata": {
        "id": "xej-kaOSdY5c"
      },
      "source": [
        "Below are some examples of vector and matrix operations using python:"
      ]
    },
    {
      "cell_type": "code",
      "execution_count": 21,
      "metadata": {
        "id": "xDnj2EXpdY5c",
        "outputId": "27c5e8f1-7265-4431-8f96-8e2c595a79d2",
        "colab": {
          "base_uri": "https://localhost:8080/"
        }
      },
      "outputs": [
        {
          "output_type": "stream",
          "name": "stdout",
          "text": [
            "Element-by-element addition of [1, 2, 3] and [4, 5, 6] is: [5 7 9]\n"
          ]
        }
      ],
      "source": [
        "# Element-by-element addition\n",
        "# convert tuples to numpy array:\n",
        "vec1 = np.array(tuple1)\n",
        "vec2 = np.array(tuple2)\n",
        "vec3 = np.array(tuple3)\n",
        "vec_sum = np.add(vec1, vec2)\n",
        "\n",
        "print(\"Element-by-element addition of [1, 2, 3] and [4, 5, 6] is:\", vec_sum)"
      ]
    },
    {
      "cell_type": "code",
      "execution_count": 22,
      "metadata": {
        "id": "raidE6U-dY5c",
        "outputId": "b6b95e1f-f85a-493b-b547-8c7b2fc4202c",
        "colab": {
          "base_uri": "https://localhost:8080/"
        }
      },
      "outputs": [
        {
          "output_type": "stream",
          "name": "stdout",
          "text": [
            "Element-by-element multiplication of [1, 2, 3] and [4, 5, 6] is: [ 4 10 18]\n",
            "Dot product is: 32\n"
          ]
        }
      ],
      "source": [
        "# Element-by-element multiplication\n",
        "vec_hadamard = vec1 * vec2\n",
        "print(\"Element-by-element multiplication of [1, 2, 3] and [4, 5, 6] is:\", vec_hadamard)\n",
        "\n",
        "# Dot product\n",
        "vec_dot = np.dot(vec1, vec2)\n",
        "print(\"Dot product is:\", vec_dot)"
      ]
    },
    {
      "cell_type": "markdown",
      "metadata": {
        "id": "F9Url33kdY5d"
      },
      "source": [
        "Creating matrices from vectors:"
      ]
    },
    {
      "cell_type": "code",
      "execution_count": 23,
      "metadata": {
        "id": "hw1N3ksmdY5d",
        "outputId": "7a9ed9c7-c04f-4f60-8793-c19c9b44254b",
        "colab": {
          "base_uri": "https://localhost:8080/"
        }
      },
      "outputs": [
        {
          "output_type": "stream",
          "name": "stdout",
          "text": [
            "3x3 matrix of row-bound vectors\n",
            "[[1 2 3]\n",
            " [4 5 6]\n",
            " [7 8 9]]\n",
            "3x3 matrix of column-bound vectors using transpose operation\n",
            "[[1 4 7]\n",
            " [2 5 8]\n",
            " [3 6 9]]\n",
            "3x3 matrix of row-bound vectors using column stack method in numpy\n",
            "[[1 4 7]\n",
            " [2 5 8]\n",
            " [3 6 9]]\n"
          ]
        }
      ],
      "source": [
        "# Create matrix by binding row vectors together\n",
        "matrix = np.array([vec1, vec2, vec3])\n",
        "print(\"3x3 matrix of row-bound vectors\")\n",
        "print(matrix)\n",
        "\n",
        "# Create a matrix by stacking the row vectors and then transpose (column bind)\n",
        "matrix2 = np.array([vec1, vec2, vec3]).T\n",
        "print(\"3x3 matrix of column-bound vectors using transpose operation\")\n",
        "print(matrix2)\n",
        "\n",
        "# Another way to column bind:\n",
        "matrix3 = np.column_stack((vec1, vec2, vec3))\n",
        "print(\"3x3 matrix of row-bound vectors using column stack method in numpy\")\n",
        "print(matrix3)"
      ]
    },
    {
      "cell_type": "markdown",
      "metadata": {
        "id": "Btp0DZMkdY5d"
      },
      "source": [
        "Example of matrix multiplication using `@` operator"
      ]
    },
    {
      "cell_type": "code",
      "execution_count": 24,
      "metadata": {
        "id": "WCK90KQxdY5d",
        "outputId": "22352b81-8827-45f5-de08-96b2535c3688",
        "colab": {
          "base_uri": "https://localhost:8080/"
        }
      },
      "outputs": [
        {
          "output_type": "stream",
          "name": "stdout",
          "text": [
            "Row-bound matrix multiplied with vec1: [14 32 50]\n",
            "Row-bound matrix multiplied with column-bound matrix:\n",
            "[[ 14  32  50]\n",
            " [ 32  77 122]\n",
            " [ 50 122 194]]\n"
          ]
        }
      ],
      "source": [
        "# Multiply 3x3 matrix with 3x1 vector should return 3x1 vector\n",
        "matx = matrix @ vec1\n",
        "print(\"Row-bound matrix multiplied with vec1:\", matx)\n",
        "\n",
        "# Multiply two 3x3 matrices to get a 3x3 matrix\n",
        "matx2 = matrix @ matrix2\n",
        "print(\"Row-bound matrix multiplied with column-bound matrix:\")\n",
        "print(matx2)"
      ]
    },
    {
      "cell_type": "markdown",
      "metadata": {
        "id": "vwLxArUZdY5d"
      },
      "source": [
        "### SECTION 2: DATA ANALYSIS\n",
        "\n",
        "To import a CSV file in a Jupyter Notebook using Python, you can use the `pandas` library, which provides a convenient way to read CSV files into a DataFrame."
      ]
    },
    {
      "cell_type": "code",
      "execution_count": 25,
      "metadata": {
        "id": "3Qly1ge6dY5d"
      },
      "outputs": [],
      "source": [
        "# Load pandas library\n",
        "import pandas as pd\n",
        "\n",
        "# alternatively, uncomment the next line to use the `numpy` library instead\n",
        "# import numpy as np"
      ]
    },
    {
      "cell_type": "code",
      "execution_count": 33,
      "metadata": {
        "id": "25r7urpwdY5e",
        "outputId": "f8d8a06a-824d-41f1-ee65-7410b07226a9",
        "colab": {
          "base_uri": "https://localhost:8080/",
          "height": 488
        }
      },
      "outputs": [
        {
          "output_type": "stream",
          "name": "stdout",
          "text": [
            "Cloning into 'demand-estimation-clone'...\n",
            "remote: Enumerating objects: 56, done.\u001b[K\n",
            "remote: Counting objects: 100% (56/56), done.\u001b[K\n",
            "remote: Compressing objects: 100% (53/53), done.\u001b[K\n",
            "remote: Total 56 (delta 12), reused 12 (delta 1), pack-reused 0 (from 0)\u001b[K\n",
            "Receiving objects: 100% (56/56), 95.24 KiB | 1.30 MiB/s, done.\n",
            "Resolving deltas: 100% (12/12), done.\n"
          ]
        },
        {
          "output_type": "execute_result",
          "data": {
            "text/plain": [
              "   month  product     price      sales  market share         s        s0\n",
              "0      1      1.0  6.234700  18.384380      0.510277  0.183844  0.639717\n",
              "1      1      2.0  5.940261  17.643883      0.489723  0.176439  0.639717\n",
              "2      2      1.0  6.061581  18.958083      0.522593  0.189581  0.637231\n",
              "3      2      2.0  6.013753  17.318857      0.477407  0.173189  0.637231\n",
              "4      3      1.0  5.954426  19.352801      0.532703  0.193528  0.636706\n",
              "5      3      2.0  6.109423  16.976633      0.467297  0.169766  0.636706\n",
              "6      4      1.0  6.135976  18.675881      0.514707  0.186759  0.637155\n",
              "7      4      2.0  5.930201  17.608606      0.485293  0.176086  0.637155\n",
              "8      5      1.0  6.141834  18.740894      0.520758  0.187409  0.640123\n",
              "9      5      2.0  6.057230  17.246837      0.479242  0.172468  0.640123"
            ],
            "text/html": [
              "\n",
              "  <div id=\"df-58a99d42-48f5-42cb-80f0-c977511efb7e\" class=\"colab-df-container\">\n",
              "    <div>\n",
              "<style scoped>\n",
              "    .dataframe tbody tr th:only-of-type {\n",
              "        vertical-align: middle;\n",
              "    }\n",
              "\n",
              "    .dataframe tbody tr th {\n",
              "        vertical-align: top;\n",
              "    }\n",
              "\n",
              "    .dataframe thead th {\n",
              "        text-align: right;\n",
              "    }\n",
              "</style>\n",
              "<table border=\"1\" class=\"dataframe\">\n",
              "  <thead>\n",
              "    <tr style=\"text-align: right;\">\n",
              "      <th></th>\n",
              "      <th>month</th>\n",
              "      <th>product</th>\n",
              "      <th>price</th>\n",
              "      <th>sales</th>\n",
              "      <th>market share</th>\n",
              "      <th>s</th>\n",
              "      <th>s0</th>\n",
              "    </tr>\n",
              "  </thead>\n",
              "  <tbody>\n",
              "    <tr>\n",
              "      <th>0</th>\n",
              "      <td>1</td>\n",
              "      <td>1.0</td>\n",
              "      <td>6.234700</td>\n",
              "      <td>18.384380</td>\n",
              "      <td>0.510277</td>\n",
              "      <td>0.183844</td>\n",
              "      <td>0.639717</td>\n",
              "    </tr>\n",
              "    <tr>\n",
              "      <th>1</th>\n",
              "      <td>1</td>\n",
              "      <td>2.0</td>\n",
              "      <td>5.940261</td>\n",
              "      <td>17.643883</td>\n",
              "      <td>0.489723</td>\n",
              "      <td>0.176439</td>\n",
              "      <td>0.639717</td>\n",
              "    </tr>\n",
              "    <tr>\n",
              "      <th>2</th>\n",
              "      <td>2</td>\n",
              "      <td>1.0</td>\n",
              "      <td>6.061581</td>\n",
              "      <td>18.958083</td>\n",
              "      <td>0.522593</td>\n",
              "      <td>0.189581</td>\n",
              "      <td>0.637231</td>\n",
              "    </tr>\n",
              "    <tr>\n",
              "      <th>3</th>\n",
              "      <td>2</td>\n",
              "      <td>2.0</td>\n",
              "      <td>6.013753</td>\n",
              "      <td>17.318857</td>\n",
              "      <td>0.477407</td>\n",
              "      <td>0.173189</td>\n",
              "      <td>0.637231</td>\n",
              "    </tr>\n",
              "    <tr>\n",
              "      <th>4</th>\n",
              "      <td>3</td>\n",
              "      <td>1.0</td>\n",
              "      <td>5.954426</td>\n",
              "      <td>19.352801</td>\n",
              "      <td>0.532703</td>\n",
              "      <td>0.193528</td>\n",
              "      <td>0.636706</td>\n",
              "    </tr>\n",
              "    <tr>\n",
              "      <th>5</th>\n",
              "      <td>3</td>\n",
              "      <td>2.0</td>\n",
              "      <td>6.109423</td>\n",
              "      <td>16.976633</td>\n",
              "      <td>0.467297</td>\n",
              "      <td>0.169766</td>\n",
              "      <td>0.636706</td>\n",
              "    </tr>\n",
              "    <tr>\n",
              "      <th>6</th>\n",
              "      <td>4</td>\n",
              "      <td>1.0</td>\n",
              "      <td>6.135976</td>\n",
              "      <td>18.675881</td>\n",
              "      <td>0.514707</td>\n",
              "      <td>0.186759</td>\n",
              "      <td>0.637155</td>\n",
              "    </tr>\n",
              "    <tr>\n",
              "      <th>7</th>\n",
              "      <td>4</td>\n",
              "      <td>2.0</td>\n",
              "      <td>5.930201</td>\n",
              "      <td>17.608606</td>\n",
              "      <td>0.485293</td>\n",
              "      <td>0.176086</td>\n",
              "      <td>0.637155</td>\n",
              "    </tr>\n",
              "    <tr>\n",
              "      <th>8</th>\n",
              "      <td>5</td>\n",
              "      <td>1.0</td>\n",
              "      <td>6.141834</td>\n",
              "      <td>18.740894</td>\n",
              "      <td>0.520758</td>\n",
              "      <td>0.187409</td>\n",
              "      <td>0.640123</td>\n",
              "    </tr>\n",
              "    <tr>\n",
              "      <th>9</th>\n",
              "      <td>5</td>\n",
              "      <td>2.0</td>\n",
              "      <td>6.057230</td>\n",
              "      <td>17.246837</td>\n",
              "      <td>0.479242</td>\n",
              "      <td>0.172468</td>\n",
              "      <td>0.640123</td>\n",
              "    </tr>\n",
              "  </tbody>\n",
              "</table>\n",
              "</div>\n",
              "    <div class=\"colab-df-buttons\">\n",
              "\n",
              "  <div class=\"colab-df-container\">\n",
              "    <button class=\"colab-df-convert\" onclick=\"convertToInteractive('df-58a99d42-48f5-42cb-80f0-c977511efb7e')\"\n",
              "            title=\"Convert this dataframe to an interactive table.\"\n",
              "            style=\"display:none;\">\n",
              "\n",
              "  <svg xmlns=\"http://www.w3.org/2000/svg\" height=\"24px\" viewBox=\"0 -960 960 960\">\n",
              "    <path d=\"M120-120v-720h720v720H120Zm60-500h600v-160H180v160Zm220 220h160v-160H400v160Zm0 220h160v-160H400v160ZM180-400h160v-160H180v160Zm440 0h160v-160H620v160ZM180-180h160v-160H180v160Zm440 0h160v-160H620v160Z\"/>\n",
              "  </svg>\n",
              "    </button>\n",
              "\n",
              "  <style>\n",
              "    .colab-df-container {\n",
              "      display:flex;\n",
              "      gap: 12px;\n",
              "    }\n",
              "\n",
              "    .colab-df-convert {\n",
              "      background-color: #E8F0FE;\n",
              "      border: none;\n",
              "      border-radius: 50%;\n",
              "      cursor: pointer;\n",
              "      display: none;\n",
              "      fill: #1967D2;\n",
              "      height: 32px;\n",
              "      padding: 0 0 0 0;\n",
              "      width: 32px;\n",
              "    }\n",
              "\n",
              "    .colab-df-convert:hover {\n",
              "      background-color: #E2EBFA;\n",
              "      box-shadow: 0px 1px 2px rgba(60, 64, 67, 0.3), 0px 1px 3px 1px rgba(60, 64, 67, 0.15);\n",
              "      fill: #174EA6;\n",
              "    }\n",
              "\n",
              "    .colab-df-buttons div {\n",
              "      margin-bottom: 4px;\n",
              "    }\n",
              "\n",
              "    [theme=dark] .colab-df-convert {\n",
              "      background-color: #3B4455;\n",
              "      fill: #D2E3FC;\n",
              "    }\n",
              "\n",
              "    [theme=dark] .colab-df-convert:hover {\n",
              "      background-color: #434B5C;\n",
              "      box-shadow: 0px 1px 3px 1px rgba(0, 0, 0, 0.15);\n",
              "      filter: drop-shadow(0px 1px 2px rgba(0, 0, 0, 0.3));\n",
              "      fill: #FFFFFF;\n",
              "    }\n",
              "  </style>\n",
              "\n",
              "    <script>\n",
              "      const buttonEl =\n",
              "        document.querySelector('#df-58a99d42-48f5-42cb-80f0-c977511efb7e button.colab-df-convert');\n",
              "      buttonEl.style.display =\n",
              "        google.colab.kernel.accessAllowed ? 'block' : 'none';\n",
              "\n",
              "      async function convertToInteractive(key) {\n",
              "        const element = document.querySelector('#df-58a99d42-48f5-42cb-80f0-c977511efb7e');\n",
              "        const dataTable =\n",
              "          await google.colab.kernel.invokeFunction('convertToInteractive',\n",
              "                                                    [key], {});\n",
              "        if (!dataTable) return;\n",
              "\n",
              "        const docLinkHtml = 'Like what you see? Visit the ' +\n",
              "          '<a target=\"_blank\" href=https://colab.research.google.com/notebooks/data_table.ipynb>data table notebook</a>'\n",
              "          + ' to learn more about interactive tables.';\n",
              "        element.innerHTML = '';\n",
              "        dataTable['output_type'] = 'display_data';\n",
              "        await google.colab.output.renderOutput(dataTable, element);\n",
              "        const docLink = document.createElement('div');\n",
              "        docLink.innerHTML = docLinkHtml;\n",
              "        element.appendChild(docLink);\n",
              "      }\n",
              "    </script>\n",
              "  </div>\n",
              "\n",
              "\n",
              "<div id=\"df-d4990804-1e9e-40ea-830c-b300c50cd081\">\n",
              "  <button class=\"colab-df-quickchart\" onclick=\"quickchart('df-d4990804-1e9e-40ea-830c-b300c50cd081')\"\n",
              "            title=\"Suggest charts\"\n",
              "            style=\"display:none;\">\n",
              "\n",
              "<svg xmlns=\"http://www.w3.org/2000/svg\" height=\"24px\"viewBox=\"0 0 24 24\"\n",
              "     width=\"24px\">\n",
              "    <g>\n",
              "        <path d=\"M19 3H5c-1.1 0-2 .9-2 2v14c0 1.1.9 2 2 2h14c1.1 0 2-.9 2-2V5c0-1.1-.9-2-2-2zM9 17H7v-7h2v7zm4 0h-2V7h2v10zm4 0h-2v-4h2v4z\"/>\n",
              "    </g>\n",
              "</svg>\n",
              "  </button>\n",
              "\n",
              "<style>\n",
              "  .colab-df-quickchart {\n",
              "      --bg-color: #E8F0FE;\n",
              "      --fill-color: #1967D2;\n",
              "      --hover-bg-color: #E2EBFA;\n",
              "      --hover-fill-color: #174EA6;\n",
              "      --disabled-fill-color: #AAA;\n",
              "      --disabled-bg-color: #DDD;\n",
              "  }\n",
              "\n",
              "  [theme=dark] .colab-df-quickchart {\n",
              "      --bg-color: #3B4455;\n",
              "      --fill-color: #D2E3FC;\n",
              "      --hover-bg-color: #434B5C;\n",
              "      --hover-fill-color: #FFFFFF;\n",
              "      --disabled-bg-color: #3B4455;\n",
              "      --disabled-fill-color: #666;\n",
              "  }\n",
              "\n",
              "  .colab-df-quickchart {\n",
              "    background-color: var(--bg-color);\n",
              "    border: none;\n",
              "    border-radius: 50%;\n",
              "    cursor: pointer;\n",
              "    display: none;\n",
              "    fill: var(--fill-color);\n",
              "    height: 32px;\n",
              "    padding: 0;\n",
              "    width: 32px;\n",
              "  }\n",
              "\n",
              "  .colab-df-quickchart:hover {\n",
              "    background-color: var(--hover-bg-color);\n",
              "    box-shadow: 0 1px 2px rgba(60, 64, 67, 0.3), 0 1px 3px 1px rgba(60, 64, 67, 0.15);\n",
              "    fill: var(--button-hover-fill-color);\n",
              "  }\n",
              "\n",
              "  .colab-df-quickchart-complete:disabled,\n",
              "  .colab-df-quickchart-complete:disabled:hover {\n",
              "    background-color: var(--disabled-bg-color);\n",
              "    fill: var(--disabled-fill-color);\n",
              "    box-shadow: none;\n",
              "  }\n",
              "\n",
              "  .colab-df-spinner {\n",
              "    border: 2px solid var(--fill-color);\n",
              "    border-color: transparent;\n",
              "    border-bottom-color: var(--fill-color);\n",
              "    animation:\n",
              "      spin 1s steps(1) infinite;\n",
              "  }\n",
              "\n",
              "  @keyframes spin {\n",
              "    0% {\n",
              "      border-color: transparent;\n",
              "      border-bottom-color: var(--fill-color);\n",
              "      border-left-color: var(--fill-color);\n",
              "    }\n",
              "    20% {\n",
              "      border-color: transparent;\n",
              "      border-left-color: var(--fill-color);\n",
              "      border-top-color: var(--fill-color);\n",
              "    }\n",
              "    30% {\n",
              "      border-color: transparent;\n",
              "      border-left-color: var(--fill-color);\n",
              "      border-top-color: var(--fill-color);\n",
              "      border-right-color: var(--fill-color);\n",
              "    }\n",
              "    40% {\n",
              "      border-color: transparent;\n",
              "      border-right-color: var(--fill-color);\n",
              "      border-top-color: var(--fill-color);\n",
              "    }\n",
              "    60% {\n",
              "      border-color: transparent;\n",
              "      border-right-color: var(--fill-color);\n",
              "    }\n",
              "    80% {\n",
              "      border-color: transparent;\n",
              "      border-right-color: var(--fill-color);\n",
              "      border-bottom-color: var(--fill-color);\n",
              "    }\n",
              "    90% {\n",
              "      border-color: transparent;\n",
              "      border-bottom-color: var(--fill-color);\n",
              "    }\n",
              "  }\n",
              "</style>\n",
              "\n",
              "  <script>\n",
              "    async function quickchart(key) {\n",
              "      const quickchartButtonEl =\n",
              "        document.querySelector('#' + key + ' button');\n",
              "      quickchartButtonEl.disabled = true;  // To prevent multiple clicks.\n",
              "      quickchartButtonEl.classList.add('colab-df-spinner');\n",
              "      try {\n",
              "        const charts = await google.colab.kernel.invokeFunction(\n",
              "            'suggestCharts', [key], {});\n",
              "      } catch (error) {\n",
              "        console.error('Error during call to suggestCharts:', error);\n",
              "      }\n",
              "      quickchartButtonEl.classList.remove('colab-df-spinner');\n",
              "      quickchartButtonEl.classList.add('colab-df-quickchart-complete');\n",
              "    }\n",
              "    (() => {\n",
              "      let quickchartButtonEl =\n",
              "        document.querySelector('#df-d4990804-1e9e-40ea-830c-b300c50cd081 button');\n",
              "      quickchartButtonEl.style.display =\n",
              "        google.colab.kernel.accessAllowed ? 'block' : 'none';\n",
              "    })();\n",
              "  </script>\n",
              "</div>\n",
              "\n",
              "    </div>\n",
              "  </div>\n"
            ],
            "application/vnd.google.colaboratory.intrinsic+json": {
              "type": "dataframe",
              "variable_name": "mktdata",
              "summary": "{\n  \"name\": \"mktdata\",\n  \"rows\": 104,\n  \"fields\": [\n    {\n      \"column\": \"month\",\n      \"properties\": {\n        \"dtype\": \"number\",\n        \"std\": 15,\n        \"min\": 1,\n        \"max\": 52,\n        \"num_unique_values\": 52,\n        \"samples\": [\n          20,\n          42,\n          48\n        ],\n        \"semantic_type\": \"\",\n        \"description\": \"\"\n      }\n    },\n    {\n      \"column\": \"product\",\n      \"properties\": {\n        \"dtype\": \"number\",\n        \"std\": 0.5024213216674024,\n        \"min\": 1.0,\n        \"max\": 2.0,\n        \"num_unique_values\": 2,\n        \"samples\": [\n          2.0,\n          1.0\n        ],\n        \"semantic_type\": \"\",\n        \"description\": \"\"\n      }\n    },\n    {\n      \"column\": \"price\",\n      \"properties\": {\n        \"dtype\": \"number\",\n        \"std\": 0.14853054728212012,\n        \"min\": 5.60640152561465,\n        \"max\": 6.4886388134776976,\n        \"num_unique_values\": 104,\n        \"samples\": [\n          6.212026446073106,\n          6.179928254797572\n        ],\n        \"semantic_type\": \"\",\n        \"description\": \"\"\n      }\n    },\n    {\n      \"column\": \"sales\",\n      \"properties\": {\n        \"dtype\": \"number\",\n        \"std\": 0.7906917709837374,\n        \"min\": 16.391870615929488,\n        \"max\": 19.607886711982616,\n        \"num_unique_values\": 104,\n        \"samples\": [\n          18.555628808482822,\n          16.861916964735848\n        ],\n        \"semantic_type\": \"\",\n        \"description\": \"\"\n      }\n    },\n    {\n      \"column\": \"market share\",\n      \"properties\": {\n        \"dtype\": \"number\",\n        \"std\": 0.021071922359607066,\n        \"min\": 0.4553328086803571,\n        \"max\": 0.5446671913196428,\n        \"num_unique_values\": 104,\n        \"samples\": [\n          0.5194089994398735,\n          0.4701942578675165\n        ],\n        \"semantic_type\": \"\",\n        \"description\": \"\"\n      }\n    },\n    {\n      \"column\": \"s\",\n      \"properties\": {\n        \"dtype\": \"number\",\n        \"std\": 0.007906917709837376,\n        \"min\": 0.1639187061592948,\n        \"max\": 0.1960788671198261,\n        \"num_unique_values\": 104,\n        \"samples\": [\n          0.1855562880848282,\n          0.1686191696473584\n        ],\n        \"semantic_type\": \"\",\n        \"description\": \"\"\n      }\n    },\n    {\n      \"column\": \"s0\",\n      \"properties\": {\n        \"dtype\": \"number\",\n        \"std\": 0.004455830350026006,\n        \"min\": 0.6307166302140983,\n        \"max\": 0.6527426027624765,\n        \"num_unique_values\": 52,\n        \"samples\": [\n          0.643114800538693,\n          0.6410676075503676\n        ],\n        \"semantic_type\": \"\",\n        \"description\": \"\"\n      }\n    }\n  ]\n}"
            }
          },
          "metadata": {},
          "execution_count": 33
        }
      ],
      "source": [
        "# Import GPS1_data.csv for GPS question 4\n",
        "!git clone https://github.com/floriandendorfer/demand-estimation.git demand-estimation-clone\n",
        "mktdata = pd.read_csv('demand-estimation/python tutorial sep 19/GPS1_data.csv',index_col=0)\n",
        "mktdata.head(10) # preview first 10 lines of the dataset"
      ]
    },
    {
      "cell_type": "markdown",
      "metadata": {
        "id": "4CWn2RBddY5e"
      },
      "source": [
        "The `help()` function can be used to get detailed information about functions, methods, classes and modules. You can pass any Python object to the help() function to get documentation."
      ]
    },
    {
      "cell_type": "code",
      "execution_count": 34,
      "metadata": {
        "id": "QyEyWQOMdY5e",
        "outputId": "18fa7530-3162-4e80-c0a4-06ffae3aabde",
        "colab": {
          "base_uri": "https://localhost:8080/"
        }
      },
      "outputs": [
        {
          "output_type": "stream",
          "name": "stdout",
          "text": [
            "Help on method head in module pandas.core.generic:\n",
            "\n",
            "head(n: 'int' = 5) -> 'Self' method of pandas.core.frame.DataFrame instance\n",
            "    Return the first `n` rows.\n",
            "    \n",
            "    This function returns the first `n` rows for the object based\n",
            "    on position. It is useful for quickly testing if your object\n",
            "    has the right type of data in it.\n",
            "    \n",
            "    For negative values of `n`, this function returns all rows except\n",
            "    the last `|n|` rows, equivalent to ``df[:n]``.\n",
            "    \n",
            "    If n is larger than the number of rows, this function returns all rows.\n",
            "    \n",
            "    Parameters\n",
            "    ----------\n",
            "    n : int, default 5\n",
            "        Number of rows to select.\n",
            "    \n",
            "    Returns\n",
            "    -------\n",
            "    same type as caller\n",
            "        The first `n` rows of the caller object.\n",
            "    \n",
            "    See Also\n",
            "    --------\n",
            "    DataFrame.tail: Returns the last `n` rows.\n",
            "    \n",
            "    Examples\n",
            "    --------\n",
            "    >>> df = pd.DataFrame({'animal': ['alligator', 'bee', 'falcon', 'lion',\n",
            "    ...                    'monkey', 'parrot', 'shark', 'whale', 'zebra']})\n",
            "    >>> df\n",
            "          animal\n",
            "    0  alligator\n",
            "    1        bee\n",
            "    2     falcon\n",
            "    3       lion\n",
            "    4     monkey\n",
            "    5     parrot\n",
            "    6      shark\n",
            "    7      whale\n",
            "    8      zebra\n",
            "    \n",
            "    Viewing the first 5 lines\n",
            "    \n",
            "    >>> df.head()\n",
            "          animal\n",
            "    0  alligator\n",
            "    1        bee\n",
            "    2     falcon\n",
            "    3       lion\n",
            "    4     monkey\n",
            "    \n",
            "    Viewing the first `n` lines (three in this case)\n",
            "    \n",
            "    >>> df.head(3)\n",
            "          animal\n",
            "    0  alligator\n",
            "    1        bee\n",
            "    2     falcon\n",
            "    \n",
            "    For negative values of `n`\n",
            "    \n",
            "    >>> df.head(-3)\n",
            "          animal\n",
            "    0  alligator\n",
            "    1        bee\n",
            "    2     falcon\n",
            "    3       lion\n",
            "    4     monkey\n",
            "    5     parrot\n",
            "\n"
          ]
        }
      ],
      "source": [
        "# Call `help` function\n",
        "help(mktdata.head)"
      ]
    },
    {
      "cell_type": "markdown",
      "metadata": {
        "id": "G51zPnoudY5e"
      },
      "source": [
        "Let's calculate some basic summary statistics for each of the columns in our dataframe. The easiest way is to use the `.describe()` method from the `pandas` library to quickly summarize the distribution of each of the variables in our dataframe:"
      ]
    },
    {
      "cell_type": "code",
      "execution_count": 35,
      "metadata": {
        "id": "jq6qxICsdY5e",
        "outputId": "edf19315-d77a-4a33-e673-4042aa1e8864",
        "colab": {
          "base_uri": "https://localhost:8080/"
        }
      },
      "outputs": [
        {
          "output_type": "stream",
          "name": "stdout",
          "text": [
            "\n",
            "Summary statistics:\n",
            "            month     product       price       sales  market share  \\\n",
            "count  104.000000  104.000000  104.000000  104.000000    104.000000   \n",
            "mean    26.500000    1.500000    6.097447   17.999482      0.500000   \n",
            "std     15.081011    0.502421    0.148531    0.790692      0.021072   \n",
            "min      1.000000    1.000000    5.606402   16.391871      0.455333   \n",
            "25%     13.750000    1.000000    6.014579   17.310008      0.481558   \n",
            "50%     26.500000    1.500000    6.100690   17.949316      0.500000   \n",
            "75%     39.250000    2.000000    6.173355   18.703793      0.518442   \n",
            "max     52.000000    2.000000    6.488639   19.607887      0.544667   \n",
            "\n",
            "                s          s0  \n",
            "count  104.000000  104.000000  \n",
            "mean     0.179995    0.640010  \n",
            "std      0.007907    0.004456  \n",
            "min      0.163919    0.630717  \n",
            "25%      0.173100    0.637197  \n",
            "50%      0.179493    0.639650  \n",
            "75%      0.187038    0.642322  \n",
            "max      0.196079    0.652743  \n"
          ]
        }
      ],
      "source": [
        "# Summarize data using describe() method\n",
        "summary_mktdata = mktdata.describe()\n",
        "print(\"\\nSummary statistics:\")\n",
        "print(summary_mktdata)"
      ]
    },
    {
      "cell_type": "markdown",
      "metadata": {
        "id": "5TM4X4NRdY5e"
      },
      "source": [
        "But if you want you can also compute summary statistics manually:"
      ]
    },
    {
      "cell_type": "code",
      "execution_count": 36,
      "metadata": {
        "id": "dWlwmqlKdY5f",
        "outputId": "4c857964-b443-404d-a31a-93472b91eda2",
        "colab": {
          "base_uri": "https://localhost:8080/"
        }
      },
      "outputs": [
        {
          "output_type": "stream",
          "name": "stdout",
          "text": [
            "Mean price is: 6.097\n",
            "Standard deviation of price is: 0.149\n",
            "Median price is: 6.101\n"
          ]
        }
      ],
      "source": [
        "# Compute mean price\n",
        "mean_price = mktdata['price'].mean()\n",
        "print(\"Mean price is:\", round(mean_price, 3))\n",
        "# print(\"Mean price is:\", mean_price.round(3) )\n",
        "\n",
        "# Compute standard deviation of price\n",
        "std_price = mktdata['price'].std()\n",
        "print(\"Standard deviation of price is:\", round(std_price,3))\n",
        "\n",
        "# Compute median (50%)\n",
        "med_price = mktdata['price'].median()\n",
        "print(\"Median price is:\", med_price.round(3))"
      ]
    },
    {
      "cell_type": "code",
      "execution_count": 37,
      "metadata": {
        "id": "YNnW7h47dY5f",
        "outputId": "642baebd-f713-4887-d9ef-8ea9824b9941",
        "colab": {
          "base_uri": "https://localhost:8080/"
        }
      },
      "outputs": [
        {
          "output_type": "stream",
          "name": "stdout",
          "text": [
            "The means that we found using both methods are the same: True\n",
            "The standard deviations that we calculated are the same: True\n",
            "The medians that we calculated are the same: True\n"
          ]
        }
      ],
      "source": [
        "# Is this the same as what we found before?\n",
        "\n",
        "issame_mean = summary_mktdata.loc['mean','price'].round(3) == mean_price.round(3)\n",
        "print(\"The means that we found using both methods are the same:\", issame_mean)\n",
        "\n",
        "issame_std = summary_mktdata.loc['std','price'].round(3) == std_price.round(3)\n",
        "print(\"The standard deviations that we calculated are the same:\", issame_std)\n",
        "\n",
        "issame_med = summary_mktdata.loc['50%','price'].round(3) == med_price.round(3)\n",
        "print(\"The medians that we calculated are the same:\", issame_med)\n"
      ]
    },
    {
      "cell_type": "markdown",
      "metadata": {
        "id": "a4r0dEhqdY5f"
      },
      "source": [
        "Let's learn to run a regression in python. To do this, you will need a statistical modelling package like `statsmodels.api`.\n",
        "If you don't already have statsmodels.api installed, you can create a new cell in your Jupyter Notebook and use the `%` operator to run the shell command `%pip install statsmodels` directly from your notebook (alternatively, you can open a terminal window and run `pip install statsmodels` without the `%`)."
      ]
    },
    {
      "cell_type": "code",
      "execution_count": 38,
      "metadata": {
        "id": "6QhJJttXdY5f",
        "outputId": "bed6a663-45b3-4716-fc52-4e83b514d5b0",
        "colab": {
          "base_uri": "https://localhost:8080/"
        }
      },
      "outputs": [
        {
          "output_type": "stream",
          "name": "stdout",
          "text": [
            "Requirement already satisfied: statsmodels in /usr/local/lib/python3.10/dist-packages (0.14.2)\n",
            "Requirement already satisfied: numpy>=1.22.3 in /usr/local/lib/python3.10/dist-packages (from statsmodels) (1.26.4)\n",
            "Requirement already satisfied: scipy!=1.9.2,>=1.8 in /usr/local/lib/python3.10/dist-packages (from statsmodels) (1.13.1)\n",
            "Requirement already satisfied: pandas!=2.1.0,>=1.4 in /usr/local/lib/python3.10/dist-packages (from statsmodels) (2.1.4)\n",
            "Requirement already satisfied: patsy>=0.5.6 in /usr/local/lib/python3.10/dist-packages (from statsmodels) (0.5.6)\n",
            "Requirement already satisfied: packaging>=21.3 in /usr/local/lib/python3.10/dist-packages (from statsmodels) (24.1)\n",
            "Requirement already satisfied: python-dateutil>=2.8.2 in /usr/local/lib/python3.10/dist-packages (from pandas!=2.1.0,>=1.4->statsmodels) (2.8.2)\n",
            "Requirement already satisfied: pytz>=2020.1 in /usr/local/lib/python3.10/dist-packages (from pandas!=2.1.0,>=1.4->statsmodels) (2024.1)\n",
            "Requirement already satisfied: tzdata>=2022.1 in /usr/local/lib/python3.10/dist-packages (from pandas!=2.1.0,>=1.4->statsmodels) (2024.1)\n",
            "Requirement already satisfied: six in /usr/local/lib/python3.10/dist-packages (from patsy>=0.5.6->statsmodels) (1.16.0)\n"
          ]
        }
      ],
      "source": [
        "%pip install statsmodels"
      ]
    },
    {
      "cell_type": "code",
      "execution_count": 39,
      "metadata": {
        "id": "Qq9-sS8idY5f"
      },
      "outputs": [],
      "source": [
        "# Load statsmodels library\n",
        "import statsmodels.api as sm"
      ]
    },
    {
      "cell_type": "code",
      "execution_count": 40,
      "metadata": {
        "id": "qv1uFnBWdY5g",
        "outputId": "a6ac540a-f2e8-4236-e9c1-4b020b679d57",
        "colab": {
          "base_uri": "https://localhost:8080/"
        }
      },
      "outputs": [
        {
          "output_type": "stream",
          "name": "stdout",
          "text": [
            "                            OLS Regression Results                            \n",
            "==============================================================================\n",
            "Dep. Variable:                  sales   R-squared:                       0.009\n",
            "Model:                            OLS   Adj. R-squared:                 -0.001\n",
            "Method:                 Least Squares   F-statistic:                    0.8908\n",
            "Date:                Thu, 12 Sep 2024   Prob (F-statistic):              0.347\n",
            "Time:                        13:48:22   Log-Likelihood:                -122.19\n",
            "No. Observations:                 104   AIC:                             248.4\n",
            "Df Residuals:                     102   BIC:                             253.7\n",
            "Df Model:                           1                                         \n",
            "Covariance Type:            nonrobust                                         \n",
            "==============================================================================\n",
            "                 coef    std err          t      P>|t|      [0.025      0.975]\n",
            "------------------------------------------------------------------------------\n",
            "const         21.0198      3.201      6.567      0.000      14.671      27.369\n",
            "price         -0.4953      0.525     -0.944      0.347      -1.536       0.546\n",
            "==============================================================================\n",
            "Omnibus:                      113.414   Durbin-Watson:                   3.707\n",
            "Prob(Omnibus):                  0.000   Jarque-Bera (JB):                8.616\n",
            "Skew:                           0.006   Prob(JB):                       0.0135\n",
            "Kurtosis:                       1.590   Cond. No.                         258.\n",
            "==============================================================================\n",
            "\n",
            "Notes:\n",
            "[1] Standard Errors assume that the covariance matrix of the errors is correctly specified.\n"
          ]
        }
      ],
      "source": [
        "X = mktdata['price'] # Independent variable\n",
        "y = mktdata['sales'] # Dependent variable\n",
        "\n",
        "X = sm.add_constant(X) # Add constant to the regression model (intercept)\n",
        "\n",
        "model = sm.OLS(y, X).fit() # Fit the regression model\n",
        "\n",
        "# Print model summary\n",
        "print(model.summary())\n",
        "\n"
      ]
    },
    {
      "cell_type": "markdown",
      "metadata": {
        "id": "pGJbROdtdY5g"
      },
      "source": [
        "You may want to export this table as LaTeX code that you can copy and paste into your LaTeX editor when delivering your solutions for the problem set:"
      ]
    },
    {
      "cell_type": "code",
      "execution_count": 41,
      "metadata": {
        "id": "BQd4IE9rdY5g",
        "outputId": "476a54a0-65c4-4256-f84d-54f349ecd295",
        "colab": {
          "base_uri": "https://localhost:8080/"
        }
      },
      "outputs": [
        {
          "output_type": "stream",
          "name": "stdout",
          "text": [
            "\\begin{table}\n",
            "\\caption{Results: Ordinary least squares}\n",
            "\\label{}\n",
            "\\begin{center}\n",
            "\\begin{tabular}{llll}\n",
            "\\hline\n",
            "Model:              & OLS              & Adj. R-squared:     & -0.001    \\\\\n",
            "Dependent Variable: & sales            & AIC:                & 248.3818  \\\\\n",
            "Date:               & 2024-09-12 13:48 & BIC:                & 253.6706  \\\\\n",
            "No. Observations:   & 104              & Log-Likelihood:     & -122.19   \\\\\n",
            "Df Model:           & 1                & F-statistic:        & 0.8908    \\\\\n",
            "Df Residuals:       & 102              & Prob (F-statistic): & 0.347     \\\\\n",
            "R-squared:          & 0.009            & Scale:              & 0.62586   \\\\\n",
            "\\hline\n",
            "\\end{tabular}\n",
            "\\end{center}\n",
            "\n",
            "\\begin{center}\n",
            "\\begin{tabular}{lrrrrrr}\n",
            "\\hline\n",
            "      &   Coef. & Std.Err. &       t & P$> |$t$|$ &  [0.025 &  0.975]  \\\\\n",
            "\\hline\n",
            "const & 21.0198 &   3.2009 &  6.5667 &      0.0000 & 14.6707 & 27.3688  \\\\\n",
            "price & -0.4953 &   0.5248 & -0.9438 &      0.3475 & -1.5363 &  0.5456  \\\\\n",
            "\\hline\n",
            "\\end{tabular}\n",
            "\\end{center}\n",
            "\n",
            "\\begin{center}\n",
            "\\begin{tabular}{llll}\n",
            "\\hline\n",
            "Omnibus:       & 113.414 & Durbin-Watson:    & 3.707  \\\\\n",
            "Prob(Omnibus): & 0.000   & Jarque-Bera (JB): & 8.616  \\\\\n",
            "Skew:          & 0.006   & Prob(JB):         & 0.013  \\\\\n",
            "Kurtosis:      & 1.590   & Condition No.:    & 258    \\\\\n",
            "\\hline\n",
            "\\end{tabular}\n",
            "\\end{center}\n",
            "\\end{table}\n",
            "\\bigskip\n",
            "Notes: \\newline \n",
            "[1] Standard Errors assume that the covariance matrix of the errors is correctly specified.\n"
          ]
        }
      ],
      "source": [
        "# Generate LaTeX code from the summary of the regression\n",
        "output = model.summary2().as_latex()\n",
        "\n",
        "print(output)"
      ]
    }
  ],
  "metadata": {
    "kernelspec": {
      "display_name": "Python 3",
      "language": "python",
      "name": "python3"
    },
    "language_info": {
      "codemirror_mode": {
        "name": "ipython",
        "version": 3
      },
      "file_extension": ".py",
      "mimetype": "text/x-python",
      "name": "python",
      "nbconvert_exporter": "python",
      "pygments_lexer": "ipython3",
      "version": "3.11.7"
    },
    "colab": {
      "provenance": [],
      "include_colab_link": true
    }
  },
  "nbformat": 4,
  "nbformat_minor": 0
}